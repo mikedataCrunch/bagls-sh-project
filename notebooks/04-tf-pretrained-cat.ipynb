{
 "cells": [
  {
   "cell_type": "markdown",
   "id": "0dfd5593",
   "metadata": {},
   "source": [
    "# `tensorflow.keras` transfer learning from pretrained weights\n",
    "\n",
    "\n",
    "This notebook demonstrates the use of (1) a well-known CNN architecture and (2) pretrained weights on `RadImageNet` in a multiclassification task.\n",
    "\n",
    "References:\n",
    "\n",
    "* The pretrained weights published by [Mei et al (2022)](https://pubs.rsna.org/doi/10.1148/ryai.210315) in their github [link](https://github.com/BMEII-AI/RadImageNet).\n",
    "\n",
    "* The github repository form the BAGLS team contained in this github [link](https://github.com/anki-xyz/bagls/blob/master/Utils/DataGenerator.py#L109)\n"
   ]
  },
  {
   "cell_type": "code",
   "execution_count": 1,
   "id": "760317d5",
   "metadata": {
    "ExecuteTime": {
     "end_time": "2022-11-29T09:09:42.582886Z",
     "start_time": "2022-11-29T09:09:42.557220Z"
    }
   },
   "outputs": [],
   "source": [
    "# dev convenience\n",
    "%load_ext autoreload\n",
    "%autoreload 2"
   ]
  },
  {
   "cell_type": "code",
   "execution_count": 2,
   "id": "18a72fdd",
   "metadata": {
    "ExecuteTime": {
     "end_time": "2022-11-29T09:09:42.895204Z",
     "start_time": "2022-11-29T09:09:42.662019Z"
    }
   },
   "outputs": [],
   "source": [
    "import sys\n",
    "sys.path.append(\"..\")\n",
    "import PATHS\n",
    "\n",
    "import os\n",
    "import numpy as np\n",
    "\n",
    "os.environ[\"CUDA_VISIBLE_DEVICES\"] = \"1\"\n",
    "os.environ[\"WANDB_SILENT\"] = \"True\"\n",
    "os.environ[\"WANDB_NOTEBOOK_NAME\"] = \"04-tf-pretrained-cat.ipynb\"\n",
    "PROJECT_NAME = 'bagls-sh-test'\n",
    "RUN_NAME = 'pretrained_from_radimagenet'\n",
    "METRICS_TABLE_NAME = 'metrics_table'\n",
    "GRADCAM_LAYER_NAME = \"conv5_block3_out\""
   ]
  },
  {
   "cell_type": "code",
   "execution_count": 3,
   "id": "3a8373ac",
   "metadata": {
    "ExecuteTime": {
     "end_time": "2022-11-29T09:09:46.425023Z",
     "start_time": "2022-11-29T09:09:43.157191Z"
    }
   },
   "outputs": [
    {
     "name": "stdout",
     "output_type": "stream",
     "text": [
      "W&B:  0.13.5\n"
     ]
    },
    {
     "name": "stderr",
     "output_type": "stream",
     "text": [
      "\u001b[34m\u001b[1mwandb\u001b[0m: Currently logged in as: \u001b[33mmiked\u001b[0m. Use \u001b[1m`wandb login --relogin`\u001b[0m to force relogin\n"
     ]
    },
    {
     "data": {
      "text/plain": [
       "True"
      ]
     },
     "execution_count": 3,
     "metadata": {},
     "output_type": "execute_result"
    }
   ],
   "source": [
    "import wandb\n",
    "print(\"W&B: \", wandb.__version__)\n",
    "wandb.login()\n",
    "\n",
    "# # manage logs\n",
    "# import logging\n",
    "\n",
    "# logger = logging.getLogger(\"wandb\")\n",
    "# logger.setLevel(logging.ERROR)\n",
    "\n",
    "# logging.getLogger('tensorflow').disabled = True"
   ]
  },
  {
   "cell_type": "code",
   "execution_count": 4,
   "id": "5c55ee0f",
   "metadata": {
    "ExecuteTime": {
     "end_time": "2022-11-29T09:09:49.904527Z",
     "start_time": "2022-11-29T09:09:46.433188Z"
    }
   },
   "outputs": [],
   "source": [
    "# tf loader\n",
    "import tensorflow as tf\n",
    "from tensorflow.keras.models import load_model\n",
    "from tensorflow import keras"
   ]
  },
  {
   "cell_type": "code",
   "execution_count": 5,
   "id": "8d5fa101",
   "metadata": {
    "ExecuteTime": {
     "end_time": "2022-11-29T09:09:50.984329Z",
     "start_time": "2022-11-29T09:09:49.908545Z"
    }
   },
   "outputs": [
    {
     "name": "stdout",
     "output_type": "stream",
     "text": [
      "[name: \"/device:CPU:0\"\n",
      "device_type: \"CPU\"\n",
      "memory_limit: 268435456\n",
      "locality {\n",
      "}\n",
      "incarnation: 6283408773424208427\n",
      ", name: \"/device:GPU:0\"\n",
      "device_type: \"GPU\"\n",
      "memory_limit: 10925703168\n",
      "locality {\n",
      "  bus_id: 1\n",
      "  links {\n",
      "  }\n",
      "}\n",
      "incarnation: 2115178917808443360\n",
      "physical_device_desc: \"device: 0, name: NVIDIA GeForce GTX 1080 Ti, pci bus id: 0000:05:00.0, compute capability: 6.1\"\n",
      "]\n"
     ]
    },
    {
     "name": "stderr",
     "output_type": "stream",
     "text": [
      "2022-11-29 09:09:49.967660: I tensorflow/core/platform/cpu_feature_guard.cc:142] This TensorFlow binary is optimized with oneAPI Deep Neural Network Library (oneDNN) to use the following CPU instructions in performance-critical operations:  AVX2 FMA\n",
      "To enable them in other operations, rebuild TensorFlow with the appropriate compiler flags.\n",
      "2022-11-29 09:09:50.976638: I tensorflow/core/common_runtime/gpu/gpu_device.cc:1510] Created device /device:GPU:0 with 10419 MB memory:  -> device: 0, name: NVIDIA GeForce GTX 1080 Ti, pci bus id: 0000:05:00.0, compute capability: 6.1\n"
     ]
    }
   ],
   "source": [
    "from tensorflow.python.client import device_lib\n",
    "\n",
    "print(device_lib.list_local_devices())"
   ]
  },
  {
   "cell_type": "code",
   "execution_count": 6,
   "id": "a3bc7747",
   "metadata": {
    "ExecuteTime": {
     "end_time": "2022-11-29T09:09:58.910370Z",
     "start_time": "2022-11-29T09:09:58.861560Z"
    }
   },
   "outputs": [],
   "source": [
    "import config\n",
    "configs = config.nb_configs"
   ]
  },
  {
   "cell_type": "code",
   "execution_count": 7,
   "id": "1013d50b",
   "metadata": {
    "ExecuteTime": {
     "end_time": "2022-11-29T09:09:59.234351Z",
     "start_time": "2022-11-29T09:09:59.174233Z"
    }
   },
   "outputs": [],
   "source": [
    "from tensorflow.keras.preprocessing.image import ImageDataGenerator\n",
    "from tensorflow.keras.applications.imagenet_utils import preprocess_input\n",
    "\n",
    "# initialize data generator\n",
    "train_datagen = ImageDataGenerator(\n",
    "    preprocessing_function=preprocess_input,\n",
    "    validation_split=configs[\"validation_split\"],\n",
    "    rescale=configs[\"rescale\"],\n",
    "    width_shift_range=configs[\"width_shift_range\"],\n",
    "    height_shift_range=configs[\"height_shift_range\"],\n",
    "    shear_range=configs[\"shear_range\"],\n",
    "    zoom_range=configs[\"zoom_range\"],\n",
    "    fill_mode=configs[\"fill_mode\"],\n",
    "    horizontal_flip=configs[\"horizontal_flip\"],\n",
    "    rotation_range=configs[\"rotation_range\"],\n",
    ")\n",
    "\n",
    "test_datagen = ImageDataGenerator(\n",
    "    preprocessing_function=preprocess_input, \n",
    "    rescale=configs[\"rescale\"],\n",
    ")"
   ]
  },
  {
   "cell_type": "code",
   "execution_count": 8,
   "id": "abe53015",
   "metadata": {
    "ExecuteTime": {
     "end_time": "2022-11-29T09:10:00.009502Z",
     "start_time": "2022-11-29T09:09:59.879340Z"
    }
   },
   "outputs": [
    {
     "name": "stdout",
     "output_type": "stream",
     "text": [
      "Found 526 images belonging to 2 classes.\n",
      "Found 26 images belonging to 2 classes.\n",
      "Found 33 images belonging to 2 classes.\n"
     ]
    }
   ],
   "source": [
    "train_dir = configs[\"train_dir\"]\n",
    "test_dir = configs[\"test_dir\"]\n",
    "\n",
    "batch_size = configs[\"batch_size\"]\n",
    "class_names = configs[\"class_names\"]\n",
    "interpol = configs[\"interpol\"]\n",
    "cmap = configs[\"cmap\"]\n",
    "label_mode = configs[\"label_mode\"]\n",
    "labels = configs[\"labels\"]\n",
    "image_size = configs[\"image_size\"]\n",
    "\n",
    "\n",
    "train_dataset = train_datagen.flow_from_directory(\n",
    "    directory=train_dir,\n",
    "    target_size=image_size,\n",
    "    color_mode=cmap,\n",
    "    classes=class_names,\n",
    "    class_mode=label_mode,\n",
    "    batch_size=batch_size,\n",
    "    interpolation=interpol,\n",
    "    subset=\"training\",\n",
    ")\n",
    "\n",
    "val_dataset = train_datagen.flow_from_directory(\n",
    "    directory=train_dir,\n",
    "    target_size=image_size,\n",
    "    color_mode=cmap,\n",
    "    classes=class_names,\n",
    "    class_mode=label_mode,\n",
    "    batch_size=batch_size,\n",
    "    interpolation=interpol,\n",
    "    subset=\"validation\",\n",
    ")\n",
    "\n",
    "test_dataset = test_datagen.flow_from_directory(\n",
    "    directory=test_dir,\n",
    "    target_size=image_size,\n",
    "    color_mode=cmap,\n",
    "    classes=class_names,\n",
    "    class_mode=label_mode,\n",
    "    batch_size=batch_size,\n",
    "    interpolation=interpol,\n",
    "    shuffle=False, # do not shuffle for later evaluation, alphanum sort\n",
    ")\n",
    "\n",
    "configs.update({\"val_steps\": val_dataset.samples // configs[\"batch_size\"]})"
   ]
  },
  {
   "cell_type": "code",
   "execution_count": 9,
   "id": "f7fb3ead",
   "metadata": {
    "ExecuteTime": {
     "end_time": "2022-11-29T09:10:00.895647Z",
     "start_time": "2022-11-29T09:10:00.845254Z"
    },
    "scrolled": true
   },
   "outputs": [],
   "source": [
    "dropout_rate = 0.2\n",
    "def define_model(pretrained):\n",
    "    conv_base = pretrained(\n",
    "        include_top=False,\n",
    "        weights=PATHS.resnet50_weights,\n",
    "        input_shape=(*image_size, 3),\n",
    "        pooling='avg',\n",
    "    )\n",
    "    print(\"Num trainable at load:\", len(conv_base.trainable_weights)) \n",
    "    conv_base.trainable = False\n",
    "    print(\"Num trainable:\", len(conv_base.trainable_weights)) \n",
    "    \n",
    "    x = conv_base.output\n",
    "    \n",
    "    # layers at this stage are arbitrary\n",
    "    # can be subjected to hyperparam tuning\n",
    "    x = keras.layers.Flatten()(x)\n",
    "    x = keras.layers.Dense(units=512, activation='relu')(x)\n",
    "    x = keras.layers.Dropout(configs[\"dropout_rate\"])(x)\n",
    "    outputs = keras.layers.Dense(units=2, activation=\"softmax\")(x)\n",
    "    model = keras.Model(inputs=conv_base.input, outputs=outputs)\n",
    "    return model"
   ]
  },
  {
   "cell_type": "code",
   "execution_count": 10,
   "id": "efb0824e",
   "metadata": {
    "ExecuteTime": {
     "end_time": "2022-11-29T09:10:04.109410Z",
     "start_time": "2022-11-29T09:10:02.147272Z"
    }
   },
   "outputs": [
    {
     "name": "stderr",
     "output_type": "stream",
     "text": [
      "2022-11-29 09:10:02.278385: I tensorflow/core/common_runtime/gpu/gpu_device.cc:1510] Created device /job:localhost/replica:0/task:0/device:GPU:0 with 10419 MB memory:  -> device: 0, name: NVIDIA GeForce GTX 1080 Ti, pci bus id: 0000:05:00.0, compute capability: 6.1\n"
     ]
    },
    {
     "name": "stdout",
     "output_type": "stream",
     "text": [
      "Num trainable at load: 212\n",
      "Num trainable: 0\n"
     ]
    }
   ],
   "source": [
    "pretrained = keras.applications.ResNet50\n",
    "tf.keras.backend.clear_session()\n",
    "model = define_model(pretrained)"
   ]
  },
  {
   "cell_type": "code",
   "execution_count": 11,
   "id": "019baf4f",
   "metadata": {
    "ExecuteTime": {
     "end_time": "2022-11-29T09:10:06.614094Z",
     "start_time": "2022-11-29T09:10:06.506766Z"
    }
   },
   "outputs": [],
   "source": [
    "from tensorflow.keras import metrics\n",
    "thresh = configs[\"thresh\"]\n",
    "metrics_dict = {\n",
    "    \"ACC\":  metrics.BinaryAccuracy(name=\"ACC\", threshold=thresh),\n",
    "    \"AUC-ROC\": metrics.AUC(name='ROC', curve='ROC'),\n",
    "    \"AUC-PR\": metrics.AUC(name='PR', curve='PR'),\n",
    "    \"TP\": metrics.TruePositives(name=\"TP\", thresholds=thresh),\n",
    "    \"TN\": metrics.TrueNegatives(name=\"TN\", thresholds=thresh),\n",
    "    \"FP\": metrics.FalsePositives(name=\"FP\", thresholds=thresh),\n",
    "    \"FN\": metrics.FalseNegatives(name=\"FN\", thresholds=thresh),\n",
    "}"
   ]
  },
  {
   "cell_type": "code",
   "execution_count": 16,
   "id": "3fc52a4f",
   "metadata": {
    "ExecuteTime": {
     "end_time": "2022-11-29T07:29:57.706940Z",
     "start_time": "2022-11-29T07:29:57.641395Z"
    }
   },
   "outputs": [],
   "source": [
    "from tensorflow.keras import optimizers\n",
    "from tensorflow.keras import losses\n",
    "\n",
    "# opt = optimizers.Adam(learning_rate=1e-06)\n",
    "opt = optimizers.Adam()\n",
    "met = list(metrics_dict.values())\n",
    "\n",
    "model.compile(\n",
    "    loss=losses.CategoricalCrossentropy(),\n",
    "    optimizer=opt,\n",
    "    metrics=met,\n",
    ")"
   ]
  },
  {
   "cell_type": "code",
   "execution_count": 17,
   "id": "ce3ba6d7",
   "metadata": {
    "ExecuteTime": {
     "end_time": "2022-11-29T07:30:03.301593Z",
     "start_time": "2022-11-29T07:29:59.223377Z"
    }
   },
   "outputs": [
    {
     "name": "stderr",
     "output_type": "stream",
     "text": [
      "2022-11-29 07:30:00.000557: I tensorflow/compiler/mlir/mlir_graph_optimization_pass.cc:185] None of the MLIR Optimization Passes are enabled (registered 2)\n",
      "2022-11-29 07:30:02.283001: I tensorflow/stream_executor/cuda/cuda_dnn.cc:369] Loaded cuDNN version 8400\n"
     ]
    },
    {
     "data": {
      "text/plain": [
       "array([[0.5667606 , 0.43323943],\n",
       "       [0.5627947 , 0.43720528],\n",
       "       [0.5443049 , 0.4556951 ],\n",
       "       [0.56893605, 0.43106392],\n",
       "       [0.55799603, 0.4420039 ],\n",
       "       [0.5635557 , 0.43644425],\n",
       "       [0.56881726, 0.43118274],\n",
       "       [0.5747061 , 0.42529386],\n",
       "       [0.5447857 , 0.45521435],\n",
       "       [0.5688906 , 0.43110946],\n",
       "       [0.5668231 , 0.43317688],\n",
       "       [0.53785646, 0.46214354],\n",
       "       [0.54906595, 0.45093405],\n",
       "       [0.56130916, 0.4386908 ],\n",
       "       [0.5762923 , 0.42370775],\n",
       "       [0.5654131 , 0.43458688],\n",
       "       [0.56985587, 0.43014416],\n",
       "       [0.5654189 , 0.43458113],\n",
       "       [0.5607474 , 0.43925261],\n",
       "       [0.5582796 , 0.44172043],\n",
       "       [0.5663099 , 0.43369007],\n",
       "       [0.5763818 , 0.42361823],\n",
       "       [0.57434136, 0.4256586 ],\n",
       "       [0.5477032 , 0.4522968 ],\n",
       "       [0.5291214 , 0.47087863],\n",
       "       [0.57713753, 0.42286247],\n",
       "       [0.5820543 , 0.41794568],\n",
       "       [0.5181084 , 0.4818915 ],\n",
       "       [0.57246435, 0.42753565],\n",
       "       [0.59290725, 0.40709272],\n",
       "       [0.5718984 , 0.42810157],\n",
       "       [0.58388734, 0.4161127 ],\n",
       "       [0.5810018 , 0.41899815]], dtype=float32)"
      ]
     },
     "execution_count": 17,
     "metadata": {},
     "output_type": "execute_result"
    }
   ],
   "source": [
    "# verify arch\n",
    "# base predictions with untrained classif head\n",
    "base_preds = model.predict(test_dataset)\n",
    "base_preds"
   ]
  },
  {
   "cell_type": "code",
   "execution_count": 18,
   "id": "6124b283",
   "metadata": {
    "ExecuteTime": {
     "end_time": "2022-11-29T07:30:19.190831Z",
     "start_time": "2022-11-29T07:30:09.726735Z"
    },
    "scrolled": true
   },
   "outputs": [
    {
     "data": {
      "text/html": [
       "Tracking run with wandb version 0.13.5"
      ],
      "text/plain": [
       "<IPython.core.display.HTML object>"
      ]
     },
     "metadata": {},
     "output_type": "display_data"
    },
    {
     "data": {
      "text/html": [
       "Run data is saved locally in <code>/home/mdorosan/2022/bagls-sh-project/notebooks/wandb/run-20221129_073010-2eh4nu83</code>"
      ],
      "text/plain": [
       "<IPython.core.display.HTML object>"
      ]
     },
     "metadata": {},
     "output_type": "display_data"
    },
    {
     "data": {
      "text/html": [
       "Syncing run <strong><a href=\"https://wandb.ai/miked/bagls-sh-test/runs/2eh4nu83\" target=\"_blank\">pretrained_from_radimagenet</a></strong> to <a href=\"https://wandb.ai/miked/bagls-sh-test\" target=\"_blank\">Weights & Biases</a> (<a href=\"https://wandb.me/run\" target=\"_blank\">docs</a>)<br/>"
      ],
      "text/plain": [
       "<IPython.core.display.HTML object>"
      ]
     },
     "metadata": {},
     "output_type": "display_data"
    },
    {
     "name": "stderr",
     "output_type": "stream",
     "text": [
      "\u001b[34m\u001b[1mwandb\u001b[0m: \u001b[33mWARNING\u001b[0m The save_model argument by default saves the model in the HDF5 format that cannot save custom objects like subclassed models and custom layers. This behavior will be deprecated in a future release in favor of the SavedModel format. Meanwhile, the HDF5 model is saved as W&B files and the SavedModel as W&B Artifacts.\n"
     ]
    }
   ],
   "source": [
    "from interpretation import ValLog, GRADCamLogger\n",
    "\n",
    "# initialize run\n",
    "run = wandb.init(\n",
    "    project=PROJECT_NAME, \n",
    "    name=RUN_NAME,\n",
    "    config=configs, \n",
    "    job_type='train',\n",
    ")\n",
    "\n",
    "wandb_callback = wandb.keras.WandbCallback(\n",
    "    monitor=\"val_ROC\",\n",
    "    mode=\"max\",\n",
    "    save_model=True,\n",
    "    save_graph=True,\n",
    "    compute_flops=True,\n",
    ")\n",
    "\n",
    "callbacks = [\n",
    "    wandb_callback,\n",
    "    ValLog(generator=val_dataset, num_log_batches=1),\n",
    "    GRADCamLogger(generator=test_dataset, \n",
    "                  layer_name=GRADCAM_LAYER_NAME, num_log_batches=1)\n",
    "    \n",
    "]"
   ]
  },
  {
   "cell_type": "code",
   "execution_count": 19,
   "id": "54745d98",
   "metadata": {
    "ExecuteTime": {
     "end_time": "2022-11-29T07:34:27.819836Z",
     "start_time": "2022-11-29T07:30:41.292640Z"
    }
   },
   "outputs": [
    {
     "name": "stderr",
     "output_type": "stream",
     "text": [
      "2022-11-29 07:30:43.903195: I tensorflow/core/grappler/devices.cc:66] Number of eligible GPUs (core count >= 8, compute capability >= 0.0): 1\n",
      "2022-11-29 07:30:43.903529: I tensorflow/core/grappler/clusters/single_machine.cc:357] Starting new session\n",
      "2022-11-29 07:30:43.908363: I tensorflow/core/common_runtime/gpu/gpu_device.cc:1510] Created device /job:localhost/replica:0/task:0/device:GPU:0 with 10419 MB memory:  -> device: 0, name: NVIDIA GeForce GTX 1080 Ti, pci bus id: 0000:05:00.0, compute capability: 6.1\n",
      "2022-11-29 07:30:43.927382: I tensorflow/core/grappler/optimizers/meta_optimizer.cc:1137] Optimization results for grappler item: graph_to_optimize\n",
      "  function_optimizer: function_optimizer did nothing. time = 0.019ms.\n",
      "  function_optimizer: function_optimizer did nothing. time = 0.003ms.\n",
      "\n"
     ]
    },
    {
     "name": "stdout",
     "output_type": "stream",
     "text": [
      "WARNING:tensorflow:From /home/mdorosan/.conda-envs/msds2022-ml3/lib/python3.9/site-packages/tensorflow/python/ops/nn_ops.py:5063: tensor_shape_from_node_def_name (from tensorflow.python.framework.graph_util_impl) is deprecated and will be removed in a future version.\n",
      "Instructions for updating:\n",
      "Use `tf.compat.v1.graph_util.tensor_shape_from_node_def_name`\n",
      "Epoch 1/5\n",
      "9/9 [==============================] - 18s 1s/step - loss: 0.7050 - ACC: 0.5589 - ROC: 0.5865 - PR: 0.5791 - TP: 294.0000 - TN: 294.0000 - FP: 232.0000 - FN: 232.0000 - val_loss: 0.5855 - val_ACC: 0.6923 - val_ROC: 0.7456 - val_PR: 0.7010 - val_TP: 18.0000 - val_TN: 18.0000 - val_FP: 8.0000 - val_FN: 8.0000\n"
     ]
    },
    {
     "name": "stderr",
     "output_type": "stream",
     "text": [
      "/home/mdorosan/.conda-envs/msds2022-ml3/lib/python3.9/site-packages/keras/utils/generic_utils.py:494: CustomMaskWarning: Custom mask layers require a config and must override get_config. When loading, the custom mask layer must be passed to the custom_objects argument.\n",
      "  warnings.warn('Custom mask layers require a config and must override '\n",
      "2022-11-29 07:31:17.064354: W tensorflow/python/util/util.cc:348] Sets are not currently considered sequences, but this may change in the future, so consider avoiding using them.\n"
     ]
    },
    {
     "name": "stdout",
     "output_type": "stream",
     "text": [
      "INFO:tensorflow:Assets written to: /home/mdorosan/2022/bagls-sh-project/notebooks/wandb/run-20221129_073010-2eh4nu83/files/model-best/assets\n"
     ]
    },
    {
     "name": "stderr",
     "output_type": "stream",
     "text": [
      "/home/mdorosan/.conda-envs/msds2022-ml3/lib/python3.9/site-packages/keras/utils/generic_utils.py:494: CustomMaskWarning: Custom mask layers require a config and must override get_config. When loading, the custom mask layer must be passed to the custom_objects argument.\n",
      "  warnings.warn('Custom mask layers require a config and must override '\n",
      "\u001b[34m\u001b[1mwandb\u001b[0m: Adding directory to artifact (/home/mdorosan/2022/bagls-sh-project/notebooks/wandb/run-20221129_073010-2eh4nu83/files/model-best)... Done. 0.7s\n"
     ]
    },
    {
     "name": "stdout",
     "output_type": "stream",
     "text": [
      "Epoch 2/5\n",
      "9/9 [==============================] - 10s 1s/step - loss: 0.6098 - ACC: 0.6844 - ROC: 0.7249 - PR: 0.7160 - TP: 360.0000 - TN: 360.0000 - FP: 166.0000 - FN: 166.0000 - val_loss: 0.5972 - val_ACC: 0.7308 - val_ROC: 0.7707 - val_PR: 0.7733 - val_TP: 19.0000 - val_TN: 19.0000 - val_FP: 7.0000 - val_FN: 7.0000\n",
      "INFO:tensorflow:Assets written to: /home/mdorosan/2022/bagls-sh-project/notebooks/wandb/run-20221129_073010-2eh4nu83/files/model-best/assets\n"
     ]
    },
    {
     "name": "stderr",
     "output_type": "stream",
     "text": [
      "/home/mdorosan/.conda-envs/msds2022-ml3/lib/python3.9/site-packages/keras/utils/generic_utils.py:494: CustomMaskWarning: Custom mask layers require a config and must override get_config. When loading, the custom mask layer must be passed to the custom_objects argument.\n",
      "  warnings.warn('Custom mask layers require a config and must override '\n",
      "\u001b[34m\u001b[1mwandb\u001b[0m: Adding directory to artifact (/home/mdorosan/2022/bagls-sh-project/notebooks/wandb/run-20221129_073010-2eh4nu83/files/model-best)... Done. 0.7s\n"
     ]
    },
    {
     "name": "stdout",
     "output_type": "stream",
     "text": [
      "Epoch 3/5\n",
      "9/9 [==============================] - 10s 1s/step - loss: 0.5924 - ACC: 0.6977 - ROC: 0.7532 - PR: 0.7449 - TP: 367.0000 - TN: 367.0000 - FP: 159.0000 - FN: 159.0000 - val_loss: 0.5820 - val_ACC: 0.7692 - val_ROC: 0.7426 - val_PR: 0.6902 - val_TP: 20.0000 - val_TN: 20.0000 - val_FP: 6.0000 - val_FN: 6.0000\n",
      "Epoch 4/5\n",
      "9/9 [==============================] - 10s 1s/step - loss: 0.5916 - ACC: 0.7053 - ROC: 0.7464 - PR: 0.7304 - TP: 371.0000 - TN: 371.0000 - FP: 155.0000 - FN: 155.0000 - val_loss: 0.5707 - val_ACC: 0.6923 - val_ROC: 0.7840 - val_PR: 0.7541 - val_TP: 18.0000 - val_TN: 18.0000 - val_FP: 8.0000 - val_FN: 8.0000\n",
      "INFO:tensorflow:Assets written to: /home/mdorosan/2022/bagls-sh-project/notebooks/wandb/run-20221129_073010-2eh4nu83/files/model-best/assets\n"
     ]
    },
    {
     "name": "stderr",
     "output_type": "stream",
     "text": [
      "/home/mdorosan/.conda-envs/msds2022-ml3/lib/python3.9/site-packages/keras/utils/generic_utils.py:494: CustomMaskWarning: Custom mask layers require a config and must override get_config. When loading, the custom mask layer must be passed to the custom_objects argument.\n",
      "  warnings.warn('Custom mask layers require a config and must override '\n",
      "\u001b[34m\u001b[1mwandb\u001b[0m: Adding directory to artifact (/home/mdorosan/2022/bagls-sh-project/notebooks/wandb/run-20221129_073010-2eh4nu83/files/model-best)... Done. 0.7s\n"
     ]
    },
    {
     "name": "stdout",
     "output_type": "stream",
     "text": [
      "Epoch 5/5\n",
      "9/9 [==============================] - 10s 1s/step - loss: 0.5586 - ACC: 0.7224 - ROC: 0.7824 - PR: 0.7756 - TP: 380.0000 - TN: 380.0000 - FP: 146.0000 - FN: 146.0000 - val_loss: 0.5706 - val_ACC: 0.7308 - val_ROC: 0.7722 - val_PR: 0.7382 - val_TP: 19.0000 - val_TN: 19.0000 - val_FP: 7.0000 - val_FN: 7.0000\n"
     ]
    },
    {
     "data": {
      "text/html": [
       "Waiting for W&B process to finish... <strong style=\"color:green\">(success).</strong>"
      ],
      "text/plain": [
       "<IPython.core.display.HTML object>"
      ]
     },
     "metadata": {},
     "output_type": "display_data"
    },
    {
     "data": {
      "text/html": [
       "<style>\n",
       "    table.wandb td:nth-child(1) { padding: 0 10px; text-align: left ; width: auto;} td:nth-child(2) {text-align: left ; width: 100%}\n",
       "    .wandb-row { display: flex; flex-direction: row; flex-wrap: wrap; justify-content: flex-start; width: 100% }\n",
       "    .wandb-col { display: flex; flex-direction: column; flex-basis: 100%; flex: 1; padding: 10px; }\n",
       "    </style>\n",
       "<div class=\"wandb-row\"><div class=\"wandb-col\"><h3>Run history:</h3><br/><table class=\"wandb\"><tr><td>ACC</td><td>▁▆▇▇█</td></tr><tr><td>FN</td><td>█▃▂▂▁</td></tr><tr><td>FP</td><td>█▃▂▂▁</td></tr><tr><td>PR</td><td>▁▆▇▆█</td></tr><tr><td>ROC</td><td>▁▆▇▇█</td></tr><tr><td>TN</td><td>▁▆▇▇█</td></tr><tr><td>TP</td><td>▁▆▇▇█</td></tr><tr><td>epoch</td><td>▁▃▅▆█</td></tr><tr><td>loss</td><td>█▃▃▃▁</td></tr><tr><td>val_ACC</td><td>▁▄█▁▄</td></tr><tr><td>val_FN</td><td>█▅▁█▅</td></tr><tr><td>val_FP</td><td>█▅▁█▅</td></tr><tr><td>val_PR</td><td>▂█▁▆▅</td></tr><tr><td>val_ROC</td><td>▂▆▁█▆</td></tr><tr><td>val_TN</td><td>▁▅█▁▅</td></tr><tr><td>val_TP</td><td>▁▅█▁▅</td></tr><tr><td>val_loss</td><td>▅█▄▁▁</td></tr></table><br/></div><div class=\"wandb-col\"><h3>Run summary:</h3><br/><table class=\"wandb\"><tr><td>ACC</td><td>0.72243</td></tr><tr><td>FN</td><td>146.0</td></tr><tr><td>FP</td><td>146.0</td></tr><tr><td>GFLOPs</td><td>3.86322</td></tr><tr><td>PR</td><td>0.77562</td></tr><tr><td>ROC</td><td>0.78237</td></tr><tr><td>TN</td><td>380.0</td></tr><tr><td>TP</td><td>380.0</td></tr><tr><td>best_epoch</td><td>3</td></tr><tr><td>best_val_ROC</td><td>0.78402</td></tr><tr><td>epoch</td><td>4</td></tr><tr><td>loss</td><td>0.55859</td></tr><tr><td>val_ACC</td><td>0.73077</td></tr><tr><td>val_FN</td><td>7.0</td></tr><tr><td>val_FP</td><td>7.0</td></tr><tr><td>val_PR</td><td>0.73819</td></tr><tr><td>val_ROC</td><td>0.77219</td></tr><tr><td>val_TN</td><td>19.0</td></tr><tr><td>val_TP</td><td>19.0</td></tr><tr><td>val_loss</td><td>0.57055</td></tr></table><br/></div></div>"
      ],
      "text/plain": [
       "<IPython.core.display.HTML object>"
      ]
     },
     "metadata": {},
     "output_type": "display_data"
    },
    {
     "data": {
      "text/html": [
       "Synced <strong style=\"color:#cdcd00\">pretrained_from_radimagenet</strong>: <a href=\"https://wandb.ai/miked/bagls-sh-test/runs/2eh4nu83\" target=\"_blank\">https://wandb.ai/miked/bagls-sh-test/runs/2eh4nu83</a><br/>Synced 7 W&B file(s), 11 media file(s), 232 artifact file(s) and 2 other file(s)"
      ],
      "text/plain": [
       "<IPython.core.display.HTML object>"
      ]
     },
     "metadata": {},
     "output_type": "display_data"
    },
    {
     "data": {
      "text/html": [
       "Find logs at: <code>./wandb/run-20221129_073010-2eh4nu83/logs</code>"
      ],
      "text/plain": [
       "<IPython.core.display.HTML object>"
      ]
     },
     "metadata": {},
     "output_type": "display_data"
    }
   ],
   "source": [
    "history = model.fit(\n",
    "    train_dataset,\n",
    "    validation_data=val_dataset,\n",
    "    epochs=configs[\"epochs\"], \n",
    "    shuffle=True,\n",
    "    callbacks=callbacks,\n",
    ")\n",
    "run.finish()"
   ]
  },
  {
   "cell_type": "code",
   "execution_count": 20,
   "id": "aca55c81",
   "metadata": {
    "ExecuteTime": {
     "end_time": "2022-11-29T07:36:17.318421Z",
     "start_time": "2022-11-29T07:35:56.084953Z"
    }
   },
   "outputs": [
    {
     "data": {
      "text/html": [
       "Tracking run with wandb version 0.13.5"
      ],
      "text/plain": [
       "<IPython.core.display.HTML object>"
      ]
     },
     "metadata": {},
     "output_type": "display_data"
    },
    {
     "data": {
      "text/html": [
       "Run data is saved locally in <code>/home/mdorosan/2022/bagls-sh-project/notebooks/wandb/run-20221129_073556-njpd4v9z</code>"
      ],
      "text/plain": [
       "<IPython.core.display.HTML object>"
      ]
     },
     "metadata": {},
     "output_type": "display_data"
    },
    {
     "data": {
      "text/html": [
       "Syncing run <strong><a href=\"https://wandb.ai/miked/bagls-sh-test/runs/njpd4v9z\" target=\"_blank\">pretrained_from_radimagenet</a></strong> to <a href=\"https://wandb.ai/miked/bagls-sh-test\" target=\"_blank\">Weights & Biases</a> (<a href=\"https://wandb.me/run\" target=\"_blank\">docs</a>)<br/>"
      ],
      "text/plain": [
       "<IPython.core.display.HTML object>"
      ]
     },
     "metadata": {},
     "output_type": "display_data"
    },
    {
     "name": "stderr",
     "output_type": "stream",
     "text": [
      "\u001b[34m\u001b[1mwandb\u001b[0m: Downloading large artifact model-pretrained_from_radimagenet:latest, 106.02MB. 4 files... \n",
      "\u001b[34m\u001b[1mwandb\u001b[0m:   4 of 4 files downloaded.  \n",
      "Done. 0:0:0.3\n"
     ]
    },
    {
     "name": "stdout",
     "output_type": "stream",
     "text": [
      "model:  ./artifacts/model-pretrained_from_radimagenet:v2\n"
     ]
    }
   ],
   "source": [
    "run = wandb.init(project=PROJECT_NAME, job_type=\"inference\", name=RUN_NAME)\n",
    "model_at = run.use_artifact(\"model-\" + RUN_NAME + \":latest\")\n",
    "model_dir = model_at.download()\n",
    "print(\"model: \", model_dir)\n",
    "best_model = keras.models.load_model(model_dir)"
   ]
  },
  {
   "cell_type": "code",
   "execution_count": 21,
   "id": "d0ba486f",
   "metadata": {
    "ExecuteTime": {
     "end_time": "2022-11-29T07:36:32.688399Z",
     "start_time": "2022-11-29T07:36:17.321406Z"
    }
   },
   "outputs": [
    {
     "name": "stdout",
     "output_type": "stream",
     "text": [
      "1/1 [==============================] - 3s 3s/step - loss: 0.3641 - ACC: 0.9394 - ROC: 0.9871 - PR: 0.9877 - TP: 31.0000 - TN: 31.0000 - FP: 2.0000 - FN: 2.0000\n",
      "Metrics: \n",
      " {'loss': 0.3640812635421753, 'ACC': 0.939393937587738, 'AUC-ROC': 0.9871441721916199, 'AUC-PR': 0.9876718521118164, 'TP': 31.0, 'TN': 31.0, 'FP': 2.0, 'FN': 2.0, 'SENSITIVITY': 0.9393939393939394, 'SPECIFICTY': 0.9393939393939394, 'PPV': 0.9393939393939394, 'NPV': 0.9393939393939394, 'F1': 0.9393939393939394}\n"
     ]
    },
    {
     "data": {
      "text/html": [
       "Waiting for W&B process to finish... <strong style=\"color:green\">(success).</strong>"
      ],
      "text/plain": [
       "<IPython.core.display.HTML object>"
      ]
     },
     "metadata": {},
     "output_type": "display_data"
    },
    {
     "data": {
      "text/html": [
       "Synced <strong style=\"color:#cdcd00\">pretrained_from_radimagenet</strong>: <a href=\"https://wandb.ai/miked/bagls-sh-test/runs/njpd4v9z\" target=\"_blank\">https://wandb.ai/miked/bagls-sh-test/runs/njpd4v9z</a><br/>Synced 7 W&B file(s), 1 media file(s), 3 artifact file(s) and 1 other file(s)"
      ],
      "text/plain": [
       "<IPython.core.display.HTML object>"
      ]
     },
     "metadata": {},
     "output_type": "display_data"
    },
    {
     "data": {
      "text/html": [
       "Find logs at: <code>./wandb/run-20221129_073556-njpd4v9z/logs</code>"
      ],
      "text/plain": [
       "<IPython.core.display.HTML object>"
      ]
     },
     "metadata": {},
     "output_type": "display_data"
    }
   ],
   "source": [
    "# test metrics\n",
    "import utils\n",
    "\n",
    "metrics_results = best_model.evaluate(test_dataset)\n",
    "metrics_results = dict(zip([\"loss\"] + list(metrics_dict.keys()), \n",
    "                           metrics_results))\n",
    "tp, fp, tn, fn = (metrics_results[\"TP\"], metrics_results[\"FP\"], \n",
    "                  metrics_results[\"TN\"], metrics_results[\"FN\"])\n",
    "\n",
    "add_metrics = {\n",
    "    \"SENSITIVITY\": utils.get_sensitivity(tp, fp, tn, fn),\n",
    "    \"SPECIFICTY\": utils.get_specificity(tp, fp, tn, fn),\n",
    "    \"PPV\": utils.get_ppv(tp, fp, tn, fn),\n",
    "    \"NPV\": utils.get_npv(tp, fp, tn, fn),\n",
    "    \"F1\" : utils.get_fbeta(tp, fp, tn, fn, beta=1),\n",
    "}\n",
    "metrics_results.update(add_metrics)\n",
    "\n",
    "print(f\"Metrics: \\n\", metrics_results)\n",
    "\n",
    "columns = list(metrics_results.keys())\n",
    "metrics_table = wandb.Table(columns=columns)\n",
    "metrics_table.add_data(*metrics_results.values())\n",
    "wandb.run.log({METRICS_TABLE_NAME : metrics_table})\n",
    "\n",
    "# add logging of confusion matrix image from matplotlib\n",
    "           \n",
    "# get preds\n",
    "trained_preds = best_model.predict(test_dataset)\n",
    "run.finish()"
   ]
  },
  {
   "cell_type": "markdown",
   "id": "90b21018",
   "metadata": {},
   "source": [
    "## End"
   ]
  }
 ],
 "metadata": {
  "hide_input": false,
  "kernelspec": {
   "display_name": "Python [conda env:msds2022-ml3]",
   "language": "python",
   "name": "conda-env-msds2022-ml3-py"
  },
  "language_info": {
   "codemirror_mode": {
    "name": "ipython",
    "version": 3
   },
   "file_extension": ".py",
   "mimetype": "text/x-python",
   "name": "python",
   "nbconvert_exporter": "python",
   "pygments_lexer": "ipython3",
   "version": "3.9.6"
  },
  "toc": {
   "base_numbering": 1,
   "nav_menu": {},
   "number_sections": true,
   "sideBar": true,
   "skip_h1_title": false,
   "title_cell": "Table of Contents",
   "title_sidebar": "Contents",
   "toc_cell": false,
   "toc_position": {},
   "toc_section_display": true,
   "toc_window_display": false
  }
 },
 "nbformat": 4,
 "nbformat_minor": 5
}
