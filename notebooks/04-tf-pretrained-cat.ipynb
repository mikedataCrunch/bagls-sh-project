{
 "cells": [
  {
   "cell_type": "markdown",
   "id": "0dfd5593",
   "metadata": {},
   "source": [
    "# `tensorflow.keras` transfer learning from pretrained weights\n",
    "\n",
    "\n",
    "This notebook demonstrates the use of (1) a well-known CNN architecture and (2) pretrained weights on `RadImageNet` in a multiclassification task.\n",
    "\n",
    "References:\n",
    "\n",
    "* The pretrained weights published by [Mei et al (2022)](https://pubs.rsna.org/doi/10.1148/ryai.210315) in their github [link](https://github.com/BMEII-AI/RadImageNet).\n",
    "\n",
    "* The github repository form the BAGLS team contained in this github [link](https://github.com/anki-xyz/bagls/blob/master/Utils/DataGenerator.py#L109)\n"
   ]
  },
  {
   "cell_type": "code",
   "execution_count": 1,
   "id": "760317d5",
   "metadata": {
    "ExecuteTime": {
     "end_time": "2022-11-29T14:03:01.976784Z",
     "start_time": "2022-11-29T14:03:01.939399Z"
    }
   },
   "outputs": [],
   "source": [
    "# dev convenience\n",
    "%load_ext autoreload\n",
    "%autoreload 2"
   ]
  },
  {
   "cell_type": "code",
   "execution_count": 2,
   "id": "18a72fdd",
   "metadata": {
    "ExecuteTime": {
     "end_time": "2022-11-29T14:03:02.407991Z",
     "start_time": "2022-11-29T14:03:02.153543Z"
    }
   },
   "outputs": [],
   "source": [
    "import sys\n",
    "sys.path.append(\"..\")\n",
    "import PATHS\n",
    "\n",
    "import os\n",
    "import numpy as np\n",
    "\n",
    "os.environ[\"CUDA_VISIBLE_DEVICES\"] = \"1\"\n",
    "os.environ[\"WANDB_SILENT\"] = \"True\"\n",
    "os.environ[\"WANDB_NOTEBOOK_NAME\"] = \"04-tf-pretrained-cat.ipynb\"\n",
    "\n",
    "PROJECT_NAME = 'bagls-sh-project'\n",
    "RUN_NAME = 'pretrained_from_radimagenet'\n",
    "METRICS_TABLE_NAME = 'metrics_table'\n",
    "GRADCAM_LAYER_NAME = \"conv5_block3_out\""
   ]
  },
  {
   "cell_type": "code",
   "execution_count": 3,
   "id": "4b229bb7",
   "metadata": {
    "ExecuteTime": {
     "end_time": "2022-11-29T14:03:05.637380Z",
     "start_time": "2022-11-29T14:03:02.518116Z"
    }
   },
   "outputs": [
    {
     "name": "stdout",
     "output_type": "stream",
     "text": [
      "W&B:  0.13.5\n"
     ]
    },
    {
     "data": {
      "text/plain": [
       "True"
      ]
     },
     "execution_count": 3,
     "metadata": {},
     "output_type": "execute_result"
    }
   ],
   "source": [
    "import wandb\n",
    "print(\"W&B: \", wandb.__version__)\n",
    "wandb.login()\n",
    "\n",
    "# # manage logs\n",
    "# import logging\n",
    "\n",
    "# logger = logging.getLogger(\"wandb\")\n",
    "# logger.setLevel(logging.ERROR)\n",
    "\n",
    "# logging.getLogger('tensorflow').disabled = True"
   ]
  },
  {
   "cell_type": "code",
   "execution_count": 4,
   "id": "5c55ee0f",
   "metadata": {
    "ExecuteTime": {
     "end_time": "2022-11-29T14:03:08.090848Z",
     "start_time": "2022-11-29T14:03:05.645466Z"
    }
   },
   "outputs": [],
   "source": [
    "# tf loader\n",
    "import tensorflow as tf\n",
    "from tensorflow.keras.models import load_model\n",
    "from tensorflow import keras"
   ]
  },
  {
   "cell_type": "code",
   "execution_count": 5,
   "id": "8d5fa101",
   "metadata": {
    "ExecuteTime": {
     "end_time": "2022-11-29T14:03:09.219195Z",
     "start_time": "2022-11-29T14:03:08.094001Z"
    }
   },
   "outputs": [
    {
     "name": "stdout",
     "output_type": "stream",
     "text": [
      "[name: \"/device:CPU:0\"\n",
      "device_type: \"CPU\"\n",
      "memory_limit: 268435456\n",
      "locality {\n",
      "}\n",
      "incarnation: 1465012877303074205\n",
      ", name: \"/device:GPU:0\"\n",
      "device_type: \"GPU\"\n",
      "memory_limit: 10925703168\n",
      "locality {\n",
      "  bus_id: 2\n",
      "  numa_node: 1\n",
      "  links {\n",
      "  }\n",
      "}\n",
      "incarnation: 15693390111703385598\n",
      "physical_device_desc: \"device: 0, name: NVIDIA GeForce GTX 1080 Ti, pci bus id: 0000:84:00.0, compute capability: 6.1\"\n",
      "]\n"
     ]
    },
    {
     "name": "stderr",
     "output_type": "stream",
     "text": [
      "2022-11-29 14:03:08.156058: I tensorflow/core/platform/cpu_feature_guard.cc:142] This TensorFlow binary is optimized with oneAPI Deep Neural Network Library (oneDNN) to use the following CPU instructions in performance-critical operations:  AVX2 FMA\n",
      "To enable them in other operations, rebuild TensorFlow with the appropriate compiler flags.\n",
      "2022-11-29 14:03:09.210239: I tensorflow/core/common_runtime/gpu/gpu_device.cc:1510] Created device /device:GPU:0 with 10419 MB memory:  -> device: 0, name: NVIDIA GeForce GTX 1080 Ti, pci bus id: 0000:84:00.0, compute capability: 6.1\n"
     ]
    }
   ],
   "source": [
    "from tensorflow.python.client import device_lib\n",
    "\n",
    "print(device_lib.list_local_devices())"
   ]
  },
  {
   "cell_type": "code",
   "execution_count": 6,
   "id": "772d5e7d",
   "metadata": {
    "ExecuteTime": {
     "end_time": "2022-11-29T14:03:09.295320Z",
     "start_time": "2022-11-29T14:03:09.224056Z"
    }
   },
   "outputs": [],
   "source": [
    "import config\n",
    "configs = config.nb_configs"
   ]
  },
  {
   "cell_type": "code",
   "execution_count": 7,
   "id": "1013d50b",
   "metadata": {
    "ExecuteTime": {
     "end_time": "2022-11-29T14:03:09.349853Z",
     "start_time": "2022-11-29T14:03:09.297783Z"
    }
   },
   "outputs": [],
   "source": [
    "from tensorflow.keras.preprocessing.image import ImageDataGenerator\n",
    "from tensorflow.keras.applications.imagenet_utils import preprocess_input\n",
    "\n",
    "# initialize data generator\n",
    "train_datagen = ImageDataGenerator(\n",
    "    preprocessing_function=preprocess_input,\n",
    "    validation_split=configs[\"validation_split\"],\n",
    "    rescale=configs[\"rescale\"],\n",
    "    width_shift_range=configs[\"width_shift_range\"],\n",
    "    height_shift_range=configs[\"height_shift_range\"],\n",
    "    shear_range=configs[\"shear_range\"],\n",
    "    zoom_range=configs[\"zoom_range\"],\n",
    "    fill_mode=configs[\"fill_mode\"],\n",
    "    horizontal_flip=configs[\"horizontal_flip\"],\n",
    "    rotation_range=configs[\"rotation_range\"],\n",
    ")\n",
    "\n",
    "test_datagen = ImageDataGenerator(\n",
    "    preprocessing_function=preprocess_input, \n",
    "    rescale=configs[\"rescale\"],\n",
    ")"
   ]
  },
  {
   "cell_type": "code",
   "execution_count": 8,
   "id": "abe53015",
   "metadata": {
    "ExecuteTime": {
     "end_time": "2022-11-29T14:03:11.733147Z",
     "start_time": "2022-11-29T14:03:09.352698Z"
    }
   },
   "outputs": [
    {
     "name": "stdout",
     "output_type": "stream",
     "text": [
      "Found 52393 images belonging to 2 classes.\n",
      "Found 2757 images belonging to 2 classes.\n",
      "Found 3300 images belonging to 2 classes.\n"
     ]
    }
   ],
   "source": [
    "train_dir = configs[\"train_dir\"]\n",
    "test_dir = configs[\"test_dir\"]\n",
    "\n",
    "batch_size = configs[\"batch_size\"]\n",
    "class_names = configs[\"class_names\"]\n",
    "interpol = configs[\"interpol\"]\n",
    "cmap = configs[\"cmap\"]\n",
    "label_mode = configs[\"label_mode\"]\n",
    "labels = configs[\"labels\"]\n",
    "image_size = configs[\"image_size\"]\n",
    "\n",
    "\n",
    "train_dataset = train_datagen.flow_from_directory(\n",
    "    directory=train_dir,\n",
    "    target_size=image_size,\n",
    "    color_mode=cmap,\n",
    "    classes=class_names,\n",
    "    class_mode=label_mode,\n",
    "    batch_size=batch_size,\n",
    "    interpolation=interpol,\n",
    "    subset=\"training\",\n",
    ")\n",
    "\n",
    "val_dataset = train_datagen.flow_from_directory(\n",
    "    directory=train_dir,\n",
    "    target_size=image_size,\n",
    "    color_mode=cmap,\n",
    "    classes=class_names,\n",
    "    class_mode=label_mode,\n",
    "    batch_size=batch_size,\n",
    "    interpolation=interpol,\n",
    "    subset=\"validation\",\n",
    ")\n",
    "\n",
    "test_dataset = test_datagen.flow_from_directory(\n",
    "    directory=test_dir,\n",
    "    target_size=image_size,\n",
    "    color_mode=cmap,\n",
    "    classes=class_names,\n",
    "    class_mode=label_mode,\n",
    "    batch_size=batch_size,\n",
    "    interpolation=interpol,\n",
    "    shuffle=False, # do not shuffle for later evaluation, alphanum sort\n",
    ")\n",
    "\n",
    "configs.update({\"val_steps\": val_dataset.samples // configs[\"batch_size\"]})"
   ]
  },
  {
   "cell_type": "code",
   "execution_count": 9,
   "id": "f7fb3ead",
   "metadata": {
    "ExecuteTime": {
     "end_time": "2022-11-29T14:03:11.823871Z",
     "start_time": "2022-11-29T14:03:11.738781Z"
    },
    "scrolled": true
   },
   "outputs": [],
   "source": [
    "dropout_rate = 0.2\n",
    "def define_model(pretrained):\n",
    "    conv_base = pretrained(\n",
    "        include_top=False,\n",
    "        weights=PATHS.resnet50_weights,\n",
    "        input_shape=(*image_size, 3),\n",
    "        pooling='avg',\n",
    "    )\n",
    "    print(\"Num trainable at load:\", len(conv_base.trainable_weights)) \n",
    "    conv_base.trainable = False\n",
    "    print(\"Num trainable:\", len(conv_base.trainable_weights)) \n",
    "    \n",
    "    x = conv_base.output\n",
    "    \n",
    "    # layers at this stage are arbitrary\n",
    "    # can be subjected to hyperparam tuning\n",
    "    x = keras.layers.Flatten()(x)\n",
    "    x = keras.layers.Dense(units=512, activation='relu')(x)\n",
    "    x = keras.layers.Dropout(configs[\"dropout_rate\"])(x)\n",
    "    outputs = keras.layers.Dense(units=2, activation=\"softmax\")(x)\n",
    "    model = keras.Model(inputs=conv_base.input, outputs=outputs)\n",
    "    return model"
   ]
  },
  {
   "cell_type": "code",
   "execution_count": 10,
   "id": "efb0824e",
   "metadata": {
    "ExecuteTime": {
     "end_time": "2022-11-29T14:03:13.824980Z",
     "start_time": "2022-11-29T14:03:11.826598Z"
    }
   },
   "outputs": [
    {
     "name": "stderr",
     "output_type": "stream",
     "text": [
      "2022-11-29 14:03:11.917915: I tensorflow/core/common_runtime/gpu/gpu_device.cc:1510] Created device /job:localhost/replica:0/task:0/device:GPU:0 with 10419 MB memory:  -> device: 0, name: NVIDIA GeForce GTX 1080 Ti, pci bus id: 0000:84:00.0, compute capability: 6.1\n"
     ]
    },
    {
     "name": "stdout",
     "output_type": "stream",
     "text": [
      "Num trainable at load: 212\n",
      "Num trainable: 0\n"
     ]
    }
   ],
   "source": [
    "pretrained = keras.applications.ResNet50\n",
    "tf.keras.backend.clear_session()\n",
    "model = define_model(pretrained)"
   ]
  },
  {
   "cell_type": "code",
   "execution_count": 11,
   "id": "019baf4f",
   "metadata": {
    "ExecuteTime": {
     "end_time": "2022-11-29T14:03:13.895836Z",
     "start_time": "2022-11-29T14:03:13.827474Z"
    }
   },
   "outputs": [],
   "source": [
    "from tensorflow.keras import metrics\n",
    "thresh = configs[\"thresh\"]\n",
    "metrics_dict = {\n",
    "    \"ACC\":  metrics.CategoricalAccuracy(name=\"ACC\"),\n",
    "    \"AUC-ROC\": metrics.AUC(name='ROC', curve='ROC'),\n",
    "    \"AUC-PR\": metrics.AUC(name='PR', curve='PR'),\n",
    "    \"TP\": metrics.TruePositives(name=\"TP\", thresholds=thresh),\n",
    "    \"TN\": metrics.TrueNegatives(name=\"TN\", thresholds=thresh),\n",
    "    \"FP\": metrics.FalsePositives(name=\"FP\", thresholds=thresh),\n",
    "    \"FN\": metrics.FalseNegatives(name=\"FN\", thresholds=thresh),\n",
    "}"
   ]
  },
  {
   "cell_type": "code",
   "execution_count": 12,
   "id": "3fc52a4f",
   "metadata": {
    "ExecuteTime": {
     "end_time": "2022-11-29T14:03:14.026619Z",
     "start_time": "2022-11-29T14:03:13.901714Z"
    }
   },
   "outputs": [],
   "source": [
    "from tensorflow.keras import optimizers\n",
    "from tensorflow.keras import losses\n",
    "\n",
    "# opt = optimizers.Adam(learning_rate=1e-06)\n",
    "opt = optimizers.Adam()\n",
    "met = list(metrics_dict.values())\n",
    "\n",
    "model.compile(\n",
    "    loss=losses.CategoricalCrossentropy(),\n",
    "    optimizer=opt,\n",
    "    metrics=met,\n",
    ")"
   ]
  },
  {
   "cell_type": "code",
   "execution_count": 13,
   "id": "ce3ba6d7",
   "metadata": {
    "ExecuteTime": {
     "end_time": "2022-11-29T14:03:42.346763Z",
     "start_time": "2022-11-29T14:03:14.029053Z"
    }
   },
   "outputs": [
    {
     "name": "stderr",
     "output_type": "stream",
     "text": [
      "2022-11-29 14:03:15.506292: I tensorflow/compiler/mlir/mlir_graph_optimization_pass.cc:185] None of the MLIR Optimization Passes are enabled (registered 2)\n",
      "2022-11-29 14:03:18.593649: I tensorflow/stream_executor/cuda/cuda_dnn.cc:369] Loaded cuDNN version 8400\n"
     ]
    },
    {
     "data": {
      "text/plain": [
       "array([[0.56711364, 0.43288636],\n",
       "       [0.5589048 , 0.44109514],\n",
       "       [0.6036478 , 0.39635214],\n",
       "       ...,\n",
       "       [0.5314221 , 0.46857795],\n",
       "       [0.49138957, 0.5086105 ],\n",
       "       [0.50592834, 0.49407163]], dtype=float32)"
      ]
     },
     "execution_count": 13,
     "metadata": {},
     "output_type": "execute_result"
    }
   ],
   "source": [
    "# verify arch\n",
    "# base predictions with untrained classif head\n",
    "base_preds = model.predict(test_dataset)\n",
    "base_preds"
   ]
  },
  {
   "cell_type": "code",
   "execution_count": 14,
   "id": "6124b283",
   "metadata": {
    "ExecuteTime": {
     "end_time": "2022-11-29T14:03:52.316927Z",
     "start_time": "2022-11-29T14:03:42.351214Z"
    },
    "scrolled": true
   },
   "outputs": [],
   "source": [
    "from interpretation import ValLog, GRADCamLogger\n",
    "\n",
    "# initialize run\n",
    "run = wandb.init(\n",
    "    project=PROJECT_NAME, \n",
    "    name=RUN_NAME,\n",
    "    config=configs, \n",
    "    job_type='train',\n",
    ")\n",
    "\n",
    "wandb_callback = wandb.keras.WandbCallback(\n",
    "    monitor=\"val_ROC\",\n",
    "    mode=\"max\",\n",
    "    save_model=True,\n",
    "    save_graph=True,\n",
    "    compute_flops=True,\n",
    ")\n",
    "\n",
    "callbacks = [\n",
    "    wandb_callback,\n",
    "    ValLog(generator=val_dataset, num_log_batches=1),\n",
    "    GRADCamLogger(generator=test_dataset, \n",
    "                  layer_name=GRADCAM_LAYER_NAME, num_log_batches=1)\n",
    "    \n",
    "]"
   ]
  },
  {
   "cell_type": "code",
   "execution_count": 15,
   "id": "54745d98",
   "metadata": {
    "ExecuteTime": {
     "end_time": "2022-11-29T17:04:20.488818Z",
     "start_time": "2022-11-29T14:03:52.320832Z"
    }
   },
   "outputs": [
    {
     "name": "stderr",
     "output_type": "stream",
     "text": [
      "2022-11-29 14:03:56.254981: I tensorflow/core/grappler/devices.cc:66] Number of eligible GPUs (core count >= 8, compute capability >= 0.0): 1\n",
      "2022-11-29 14:03:56.255348: I tensorflow/core/grappler/clusters/single_machine.cc:357] Starting new session\n",
      "2022-11-29 14:03:56.257815: I tensorflow/core/common_runtime/gpu/gpu_device.cc:1510] Created device /job:localhost/replica:0/task:0/device:GPU:0 with 10419 MB memory:  -> device: 0, name: NVIDIA GeForce GTX 1080 Ti, pci bus id: 0000:84:00.0, compute capability: 6.1\n",
      "2022-11-29 14:03:56.274094: I tensorflow/core/grappler/optimizers/meta_optimizer.cc:1137] Optimization results for grappler item: graph_to_optimize\n",
      "  function_optimizer: function_optimizer did nothing. time = 0.023ms.\n",
      "  function_optimizer: function_optimizer did nothing. time = 0.002ms.\n",
      "\n"
     ]
    },
    {
     "name": "stdout",
     "output_type": "stream",
     "text": [
      "WARNING:tensorflow:From /home/mdorosan/.conda-envs/msds2022-ml3/lib/python3.9/site-packages/tensorflow/python/ops/nn_ops.py:5063: tensor_shape_from_node_def_name (from tensorflow.python.framework.graph_util_impl) is deprecated and will be removed in a future version.\n",
      "Instructions for updating:\n",
      "Use `tf.compat.v1.graph_util.tensor_shape_from_node_def_name`\n",
      "Epoch 1/10\n",
      "410/410 [==============================] - 1031s 3s/step - loss: 0.5224 - ACC: 0.0000e+00 - ROC: 0.8154 - PR: 0.8154 - TP: 38610.0000 - TN: 38610.0000 - FP: 13783.0000 - FN: 13783.0000 - val_loss: 0.4330 - val_ACC: 1.8136e-04 - val_ROC: 0.8813 - val_PR: 0.8840 - val_TP: 2196.0000 - val_TN: 2196.0000 - val_FP: 561.0000 - val_FN: 561.0000\n"
     ]
    },
    {
     "name": "stderr",
     "output_type": "stream",
     "text": [
      "/home/mdorosan/.conda-envs/msds2022-ml3/lib/python3.9/site-packages/keras/utils/generic_utils.py:494: CustomMaskWarning: Custom mask layers require a config and must override get_config. When loading, the custom mask layer must be passed to the custom_objects argument.\n",
      "  warnings.warn('Custom mask layers require a config and must override '\n",
      "2022-11-29 14:21:23.070085: W tensorflow/python/util/util.cc:348] Sets are not currently considered sequences, but this may change in the future, so consider avoiding using them.\n"
     ]
    },
    {
     "name": "stdout",
     "output_type": "stream",
     "text": [
      "INFO:tensorflow:Assets written to: /home/mdorosan/2022/bagls-sh-project/notebooks/wandb/run-20221129_140342-1af38hqf/files/model-best/assets\n"
     ]
    },
    {
     "name": "stderr",
     "output_type": "stream",
     "text": [
      "/home/mdorosan/.conda-envs/msds2022-ml3/lib/python3.9/site-packages/keras/utils/generic_utils.py:494: CustomMaskWarning: Custom mask layers require a config and must override get_config. When loading, the custom mask layer must be passed to the custom_objects argument.\n",
      "  warnings.warn('Custom mask layers require a config and must override '\n"
     ]
    },
    {
     "name": "stdout",
     "output_type": "stream",
     "text": [
      "Epoch 2/10\n",
      "410/410 [==============================] - 1007s 2s/step - loss: 0.4064 - ACC: 5.1534e-04 - ROC: 0.8966 - PR: 0.8988 - TP: 42443.0000 - TN: 42443.0000 - FP: 9950.0000 - FN: 9950.0000 - val_loss: 0.3478 - val_ACC: 5.4407e-04 - val_ROC: 0.9334 - val_PR: 0.9359 - val_TP: 2328.0000 - val_TN: 2328.0000 - val_FP: 429.0000 - val_FN: 429.0000\n",
      "INFO:tensorflow:Assets written to: /home/mdorosan/2022/bagls-sh-project/notebooks/wandb/run-20221129_140342-1af38hqf/files/model-best/assets\n"
     ]
    },
    {
     "name": "stderr",
     "output_type": "stream",
     "text": [
      "/home/mdorosan/.conda-envs/msds2022-ml3/lib/python3.9/site-packages/keras/utils/generic_utils.py:494: CustomMaskWarning: Custom mask layers require a config and must override get_config. When loading, the custom mask layer must be passed to the custom_objects argument.\n",
      "  warnings.warn('Custom mask layers require a config and must override '\n"
     ]
    },
    {
     "name": "stdout",
     "output_type": "stream",
     "text": [
      "Epoch 3/10\n",
      "410/410 [==============================] - 1014s 2s/step - loss: 0.3264 - ACC: 0.0013 - ROC: 0.9365 - PR: 0.9382 - TP: 44799.0000 - TN: 44799.0000 - FP: 7594.0000 - FN: 7594.0000 - val_loss: 0.2737 - val_ACC: 0.0013 - val_ROC: 0.9604 - val_PR: 0.9614 - val_TP: 2470.0000 - val_TN: 2470.0000 - val_FP: 287.0000 - val_FN: 287.0000\n",
      "INFO:tensorflow:Assets written to: /home/mdorosan/2022/bagls-sh-project/notebooks/wandb/run-20221129_140342-1af38hqf/files/model-best/assets\n"
     ]
    },
    {
     "name": "stderr",
     "output_type": "stream",
     "text": [
      "/home/mdorosan/.conda-envs/msds2022-ml3/lib/python3.9/site-packages/keras/utils/generic_utils.py:494: CustomMaskWarning: Custom mask layers require a config and must override get_config. When loading, the custom mask layer must be passed to the custom_objects argument.\n",
      "  warnings.warn('Custom mask layers require a config and must override '\n"
     ]
    },
    {
     "name": "stdout",
     "output_type": "stream",
     "text": [
      "Epoch 4/10\n",
      "410/410 [==============================] - 1016s 2s/step - loss: 0.2686 - ACC: 0.0020 - ROC: 0.9584 - PR: 0.9595 - TP: 46459.0000 - TN: 46459.0000 - FP: 5934.0000 - FN: 5934.0000 - val_loss: 0.2347 - val_ACC: 0.0029 - val_ROC: 0.9685 - val_PR: 0.9688 - val_TP: 2492.0000 - val_TN: 2492.0000 - val_FP: 265.0000 - val_FN: 265.0000\n",
      "INFO:tensorflow:Assets written to: /home/mdorosan/2022/bagls-sh-project/notebooks/wandb/run-20221129_140342-1af38hqf/files/model-best/assets\n"
     ]
    },
    {
     "name": "stderr",
     "output_type": "stream",
     "text": [
      "/home/mdorosan/.conda-envs/msds2022-ml3/lib/python3.9/site-packages/keras/utils/generic_utils.py:494: CustomMaskWarning: Custom mask layers require a config and must override get_config. When loading, the custom mask layer must be passed to the custom_objects argument.\n",
      "  warnings.warn('Custom mask layers require a config and must override '\n"
     ]
    },
    {
     "name": "stdout",
     "output_type": "stream",
     "text": [
      "Epoch 5/10\n",
      "410/410 [==============================] - 1027s 3s/step - loss: 0.2253 - ACC: 0.0029 - ROC: 0.9714 - PR: 0.9722 - TP: 47609.0000 - TN: 47609.0000 - FP: 4784.0000 - FN: 4784.0000 - val_loss: 0.1992 - val_ACC: 0.0047 - val_ROC: 0.9782 - val_PR: 0.9788 - val_TP: 2538.0000 - val_TN: 2538.0000 - val_FP: 219.0000 - val_FN: 219.0000\n",
      "INFO:tensorflow:Assets written to: /home/mdorosan/2022/bagls-sh-project/notebooks/wandb/run-20221129_140342-1af38hqf/files/model-best/assets\n"
     ]
    },
    {
     "name": "stderr",
     "output_type": "stream",
     "text": [
      "/home/mdorosan/.conda-envs/msds2022-ml3/lib/python3.9/site-packages/keras/utils/generic_utils.py:494: CustomMaskWarning: Custom mask layers require a config and must override get_config. When loading, the custom mask layer must be passed to the custom_objects argument.\n",
      "  warnings.warn('Custom mask layers require a config and must override '\n"
     ]
    },
    {
     "name": "stdout",
     "output_type": "stream",
     "text": [
      "Epoch 6/10\n",
      "410/410 [==============================] - 1028s 3s/step - loss: 0.1960 - ACC: 0.0044 - ROC: 0.9784 - PR: 0.9790 - TP: 48307.0000 - TN: 48307.0000 - FP: 4086.0000 - FN: 4086.0000 - val_loss: 0.1618 - val_ACC: 0.0083 - val_ROC: 0.9871 - val_PR: 0.9871 - val_TP: 2595.0000 - val_TN: 2595.0000 - val_FP: 162.0000 - val_FN: 162.0000\n",
      "INFO:tensorflow:Assets written to: /home/mdorosan/2022/bagls-sh-project/notebooks/wandb/run-20221129_140342-1af38hqf/files/model-best/assets\n"
     ]
    },
    {
     "name": "stderr",
     "output_type": "stream",
     "text": [
      "/home/mdorosan/.conda-envs/msds2022-ml3/lib/python3.9/site-packages/keras/utils/generic_utils.py:494: CustomMaskWarning: Custom mask layers require a config and must override get_config. When loading, the custom mask layer must be passed to the custom_objects argument.\n",
      "  warnings.warn('Custom mask layers require a config and must override '\n"
     ]
    },
    {
     "name": "stdout",
     "output_type": "stream",
     "text": [
      "Epoch 7/10\n",
      "410/410 [==============================] - 1025s 2s/step - loss: 0.1678 - ACC: 0.0057 - ROC: 0.9844 - PR: 0.9846 - TP: 49022.0000 - TN: 49022.0000 - FP: 3371.0000 - FN: 3371.0000 - val_loss: 0.1522 - val_ACC: 0.0033 - val_ROC: 0.9871 - val_PR: 0.9875 - val_TP: 2588.0000 - val_TN: 2588.0000 - val_FP: 169.0000 - val_FN: 169.0000\n",
      "Epoch 8/10\n",
      "410/410 [==============================] - 1002s 2s/step - loss: 0.1452 - ACC: 0.0073 - ROC: 0.9886 - PR: 0.9889 - TP: 49535.0000 - TN: 49535.0000 - FP: 2858.0000 - FN: 2858.0000 - val_loss: 0.1207 - val_ACC: 0.0049 - val_ROC: 0.9920 - val_PR: 0.9923 - val_TP: 2624.0000 - val_TN: 2624.0000 - val_FP: 133.0000 - val_FN: 133.0000\n",
      "INFO:tensorflow:Assets written to: /home/mdorosan/2022/bagls-sh-project/notebooks/wandb/run-20221129_140342-1af38hqf/files/model-best/assets\n"
     ]
    },
    {
     "name": "stderr",
     "output_type": "stream",
     "text": [
      "/home/mdorosan/.conda-envs/msds2022-ml3/lib/python3.9/site-packages/keras/utils/generic_utils.py:494: CustomMaskWarning: Custom mask layers require a config and must override get_config. When loading, the custom mask layer must be passed to the custom_objects argument.\n",
      "  warnings.warn('Custom mask layers require a config and must override '\n"
     ]
    },
    {
     "name": "stdout",
     "output_type": "stream",
     "text": [
      "Epoch 9/10\n",
      "410/410 [==============================] - 990s 2s/step - loss: 0.1324 - ACC: 0.0083 - ROC: 0.9904 - PR: 0.9906 - TP: 49749.0000 - TN: 49749.0000 - FP: 2644.0000 - FN: 2644.0000 - val_loss: 0.1005 - val_ACC: 0.0085 - val_ROC: 0.9949 - val_PR: 0.9950 - val_TP: 2663.0000 - val_TN: 2663.0000 - val_FP: 94.0000 - val_FN: 94.0000\n",
      "INFO:tensorflow:Assets written to: /home/mdorosan/2022/bagls-sh-project/notebooks/wandb/run-20221129_140342-1af38hqf/files/model-best/assets\n"
     ]
    },
    {
     "name": "stderr",
     "output_type": "stream",
     "text": [
      "/home/mdorosan/.conda-envs/msds2022-ml3/lib/python3.9/site-packages/keras/utils/generic_utils.py:494: CustomMaskWarning: Custom mask layers require a config and must override get_config. When loading, the custom mask layer must be passed to the custom_objects argument.\n",
      "  warnings.warn('Custom mask layers require a config and must override '\n"
     ]
    },
    {
     "name": "stdout",
     "output_type": "stream",
     "text": [
      "Epoch 10/10\n",
      "410/410 [==============================] - 987s 2s/step - loss: 0.1201 - ACC: 0.0117 - ROC: 0.9919 - PR: 0.9921 - TP: 50061.0000 - TN: 50061.0000 - FP: 2332.0000 - FN: 2332.0000 - val_loss: 0.0987 - val_ACC: 0.0156 - val_ROC: 0.9954 - val_PR: 0.9955 - val_TP: 2670.0000 - val_TN: 2670.0000 - val_FP: 87.0000 - val_FN: 87.0000\n",
      "INFO:tensorflow:Assets written to: /home/mdorosan/2022/bagls-sh-project/notebooks/wandb/run-20221129_140342-1af38hqf/files/model-best/assets\n"
     ]
    },
    {
     "name": "stderr",
     "output_type": "stream",
     "text": [
      "/home/mdorosan/.conda-envs/msds2022-ml3/lib/python3.9/site-packages/keras/utils/generic_utils.py:494: CustomMaskWarning: Custom mask layers require a config and must override get_config. When loading, the custom mask layer must be passed to the custom_objects argument.\n",
      "  warnings.warn('Custom mask layers require a config and must override '\n"
     ]
    }
   ],
   "source": [
    "history = model.fit(\n",
    "    train_dataset,\n",
    "    validation_data=val_dataset,\n",
    "    epochs=configs[\"epochs\"], \n",
    "    shuffle=True,\n",
    "    callbacks=callbacks,\n",
    ")\n",
    "run.finish()"
   ]
  },
  {
   "cell_type": "code",
   "execution_count": 16,
   "id": "04a5f242",
   "metadata": {
    "ExecuteTime": {
     "end_time": "2022-11-29T17:04:41.910280Z",
     "start_time": "2022-11-29T17:04:20.493784Z"
    }
   },
   "outputs": [
    {
     "name": "stderr",
     "output_type": "stream",
     "text": [
      "wandb: ERROR Failed to sample metric: GPU is lost\n"
     ]
    },
    {
     "name": "stdout",
     "output_type": "stream",
     "text": [
      "model:  ./artifacts/model-pretrained_from_radimagenet:v8\n"
     ]
    }
   ],
   "source": [
    "run = wandb.init(project=PROJECT_NAME, job_type=\"inference\", name=RUN_NAME)\n",
    "model_at = run.use_artifact(\"model-\" + RUN_NAME + \":latest\")\n",
    "model_dir = model_at.download()\n",
    "print(\"model: \", model_dir)\n",
    "best_model = keras.models.load_model(model_dir)"
   ]
  },
  {
   "cell_type": "code",
   "execution_count": 17,
   "id": "a616b526",
   "metadata": {
    "ExecuteTime": {
     "end_time": "2022-11-29T17:05:41.104746Z",
     "start_time": "2022-11-29T17:04:41.912915Z"
    }
   },
   "outputs": [
    {
     "name": "stderr",
     "output_type": "stream",
     "text": [
      "wandb: ERROR Failed to serialize metric: division by zero\n"
     ]
    },
    {
     "name": "stdout",
     "output_type": "stream",
     "text": [
      "26/26 [==============================] - 25s 875ms/step - loss: 0.6612 - ACC: 0.0879 - ROC: 0.8897 - PR: 0.8700 - TP: 2779.0000 - TN: 2779.0000 - FP: 521.0000 - FN: 521.0000\n",
      "Metrics: \n",
      " {'loss': 0.6612285375595093, 'ACC': 0.08787878602743149, 'AUC-ROC': 0.8897387385368347, 'AUC-PR': 0.8699610829353333, 'TP': 2779.0, 'TN': 2779.0, 'FP': 521.0, 'FN': 521.0, 'SENSITIVITY': 0.8421212121212122, 'SPECIFICTY': 0.8421212121212122, 'PPV': 0.8421212121212122, 'NPV': 0.8421212121212122, 'F1': 0.8421212121212122}\n"
     ]
    }
   ],
   "source": [
    "# test metrics\n",
    "import utils\n",
    "\n",
    "metrics_results = best_model.evaluate(test_dataset)\n",
    "metrics_results = dict(zip([\"loss\"] + list(metrics_dict.keys()), \n",
    "                           metrics_results))\n",
    "tp, fp, tn, fn = (metrics_results[\"TP\"], metrics_results[\"FP\"], \n",
    "                  metrics_results[\"TN\"], metrics_results[\"FN\"])\n",
    "\n",
    "add_metrics = {\n",
    "    \"SENSITIVITY\": utils.get_sensitivity(tp, fp, tn, fn),\n",
    "    \"SPECIFICTY\": utils.get_specificity(tp, fp, tn, fn),\n",
    "    \"PPV\": utils.get_ppv(tp, fp, tn, fn),\n",
    "    \"NPV\": utils.get_npv(tp, fp, tn, fn),\n",
    "    \"F1\" : utils.get_fbeta(tp, fp, tn, fn, beta=1),\n",
    "}\n",
    "metrics_results.update(add_metrics)\n",
    "\n",
    "print(f\"Metrics: \\n\", metrics_results)\n",
    "\n",
    "columns = list(metrics_results.keys())\n",
    "metrics_table = wandb.Table(columns=columns)\n",
    "metrics_table.add_data(*metrics_results.values())\n",
    "wandb.run.log({METRICS_TABLE_NAME : metrics_table})\n",
    "\n",
    "# add logging of confusion matrix image from matplotlib\n",
    "           \n",
    "# get preds\n",
    "trained_preds = best_model.predict(test_dataset)\n",
    "run.finish()"
   ]
  },
  {
   "cell_type": "markdown",
   "id": "90b21018",
   "metadata": {},
   "source": [
    "## End"
   ]
  }
 ],
 "metadata": {
  "hide_input": false,
  "kernelspec": {
   "display_name": "Python [conda env:msds2022-ml3]",
   "language": "python",
   "name": "conda-env-msds2022-ml3-py"
  },
  "language_info": {
   "codemirror_mode": {
    "name": "ipython",
    "version": 3
   },
   "file_extension": ".py",
   "mimetype": "text/x-python",
   "name": "python",
   "nbconvert_exporter": "python",
   "pygments_lexer": "ipython3",
   "version": "3.9.6"
  },
  "toc": {
   "base_numbering": 1,
   "nav_menu": {},
   "number_sections": true,
   "sideBar": true,
   "skip_h1_title": false,
   "title_cell": "Table of Contents",
   "title_sidebar": "Contents",
   "toc_cell": false,
   "toc_position": {},
   "toc_section_display": true,
   "toc_window_display": false
  }
 },
 "nbformat": 4,
 "nbformat_minor": 5
}
