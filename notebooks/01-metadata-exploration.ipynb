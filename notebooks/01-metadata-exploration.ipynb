{
 "cells": [
  {
   "cell_type": "code",
   "execution_count": 1,
   "id": "17323283",
   "metadata": {
    "ExecuteTime": {
     "end_time": "2022-11-18T09:01:21.790149Z",
     "start_time": "2022-11-18T09:01:21.355616Z"
    }
   },
   "outputs": [],
   "source": [
    "import os\n",
    "import json\n",
    "import pandas as pd\n",
    "from glob import glob\n",
    "\n",
    "from tqdm import tqdm"
   ]
  },
  {
   "cell_type": "code",
   "execution_count": 3,
   "id": "05dde317",
   "metadata": {
    "ExecuteTime": {
     "end_time": "2022-11-18T09:02:34.517050Z",
     "start_time": "2022-11-18T09:02:34.508831Z"
    }
   },
   "outputs": [],
   "source": [
    "path = \"../metadata/data.json\"\n",
    "with open(path, 'r') as file:\n",
    "    data = json.load(file)"
   ]
  },
  {
   "cell_type": "code",
   "execution_count": 6,
   "id": "35932c42",
   "metadata": {
    "ExecuteTime": {
     "end_time": "2022-11-18T09:03:29.374368Z",
     "start_time": "2022-11-18T09:03:29.365034Z"
    }
   },
   "outputs": [
    {
     "data": {
      "text/plain": [
       "dict_keys(['@type', 'identifier', 'title', 'relatedPublications', 'repositories', 'assays', 'factors', 'studyCharacteristics', 'ontologySourceReferences', 'comments'])"
      ]
     },
     "execution_count": 6,
     "metadata": {},
     "output_type": "execute_result"
    }
   ],
   "source": [
    "data.keys()"
   ]
  },
  {
   "cell_type": "code",
   "execution_count": 12,
   "id": "d75a75ab",
   "metadata": {
    "ExecuteTime": {
     "end_time": "2022-11-18T09:06:36.781263Z",
     "start_time": "2022-11-18T09:06:36.757497Z"
    }
   },
   "outputs": [
    {
     "data": {
      "text/html": [
       "<div>\n",
       "<style scoped>\n",
       "    .dataframe tbody tr th:only-of-type {\n",
       "        vertical-align: middle;\n",
       "    }\n",
       "\n",
       "    .dataframe tbody tr th {\n",
       "        vertical-align: top;\n",
       "    }\n",
       "\n",
       "    .dataframe thead th {\n",
       "        text-align: right;\n",
       "    }\n",
       "</style>\n",
       "<table border=\"1\" class=\"dataframe\">\n",
       "  <thead>\n",
       "    <tr style=\"text-align: right;\">\n",
       "      <th></th>\n",
       "      <th>Measurement(s)</th>\n",
       "      <th>glottis • Image Segmentation</th>\n",
       "    </tr>\n",
       "  </thead>\n",
       "  <tbody>\n",
       "    <tr>\n",
       "      <th>0</th>\n",
       "      <td>Technology Type(s)</td>\n",
       "      <td>Endoscopic Procedure • neural network model</td>\n",
       "    </tr>\n",
       "    <tr>\n",
       "      <th>1</th>\n",
       "      <td>Factor Type(s)</td>\n",
       "      <td>age • sex • healthy versus disordered subjects...</td>\n",
       "    </tr>\n",
       "    <tr>\n",
       "      <th>2</th>\n",
       "      <td>Sample Characteristic - Organism</td>\n",
       "      <td>Homo sapiens</td>\n",
       "    </tr>\n",
       "  </tbody>\n",
       "</table>\n",
       "</div>"
      ],
      "text/plain": [
       "                     Measurement(s)  \\\n",
       "0                Technology Type(s)   \n",
       "1                    Factor Type(s)   \n",
       "2  Sample Characteristic - Organism   \n",
       "\n",
       "                        glottis • Image Segmentation  \n",
       "0        Endoscopic Procedure • neural network model  \n",
       "1  age • sex • healthy versus disordered subjects...  \n",
       "2                                       Homo sapiens  "
      ]
     },
     "execution_count": 12,
     "metadata": {},
     "output_type": "execute_result"
    }
   ],
   "source": [
    "path = \"../metadata/metadata_summary.csv\"\n",
    "df = pd.read_csv(path)\n",
    "df"
   ]
  }
 ],
 "metadata": {
  "hide_input": false,
  "kernelspec": {
   "display_name": "Python 3 (ipykernel)",
   "language": "python",
   "name": "python3"
  },
  "language_info": {
   "codemirror_mode": {
    "name": "ipython",
    "version": 3
   },
   "file_extension": ".py",
   "mimetype": "text/x-python",
   "name": "python",
   "nbconvert_exporter": "python",
   "pygments_lexer": "ipython3",
   "version": "3.9.13"
  },
  "toc": {
   "base_numbering": 1,
   "nav_menu": {},
   "number_sections": true,
   "sideBar": true,
   "skip_h1_title": false,
   "title_cell": "Table of Contents",
   "title_sidebar": "Contents",
   "toc_cell": false,
   "toc_position": {},
   "toc_section_display": true,
   "toc_window_display": false
  }
 },
 "nbformat": 4,
 "nbformat_minor": 5
}
