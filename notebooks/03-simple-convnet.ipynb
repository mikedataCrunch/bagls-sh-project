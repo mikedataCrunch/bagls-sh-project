{
 "cells": [
  {
   "cell_type": "markdown",
   "id": "0dfd5593",
   "metadata": {},
   "source": [
    "# `tensorflow.keras` convnet from scratch\n",
    "\n",
    "This notebook demonstrates the use of a simple convolutional network. On a 2-class classification task--that is, an ouput layer with two nodes activated via `softmax`. Accordingly, loss is calculated using the `categorical cross-entropy`.\n",
    "\n",
    "References:\n",
    "\n",
    "* The github repository from the BAGLS team contained in this [link](https://github.com/anki-xyz/bagls/blob/master/Utils/DataGenerator.py#L109)\n"
   ]
  },
  {
   "cell_type": "code",
   "execution_count": 1,
   "id": "760317d5",
   "metadata": {
    "ExecuteTime": {
     "end_time": "2022-11-30T11:34:12.977109Z",
     "start_time": "2022-11-30T11:34:12.941886Z"
    }
   },
   "outputs": [],
   "source": [
    "# dev convenience\n",
    "%load_ext autoreload\n",
    "%autoreload 2"
   ]
  },
  {
   "cell_type": "code",
   "execution_count": 2,
   "id": "99711749",
   "metadata": {
    "ExecuteTime": {
     "end_time": "2022-11-30T11:34:13.377817Z",
     "start_time": "2022-11-30T11:34:12.983979Z"
    }
   },
   "outputs": [],
   "source": [
    "import sys\n",
    "sys.path.append(\"..\")\n",
    "import PATHS\n",
    "\n",
    "import os\n",
    "import numpy as np\n",
    "\n",
    "os.environ[\"CUDA_VISIBLE_DEVICES\"] = \"0\" # use only this GPU device\n",
    "# os.environ[\"WANDB_SILENT\"] = \"True\"\n",
    "os.environ[\"WANDB_NOTEBOOK_NAME\"] = \"03-simple-convnet.ipynb\"\n",
    "\n",
    "PROJECT_NAME = 'bagls-sh-test'\n",
    "RUN_NAME = 'convnet_from_scratch'\n",
    "METRICS_TABLE_NAME = 'metrics_table'\n",
    "GRADCAM_LAYER_NAME = \"conv2d_3\""
   ]
  },
  {
   "cell_type": "code",
   "execution_count": 3,
   "id": "ae1d69b8",
   "metadata": {
    "ExecuteTime": {
     "end_time": "2022-11-30T11:34:16.764173Z",
     "start_time": "2022-11-30T11:34:13.380551Z"
    }
   },
   "outputs": [
    {
     "name": "stdout",
     "output_type": "stream",
     "text": [
      "W&B:  0.13.5\n"
     ]
    },
    {
     "name": "stderr",
     "output_type": "stream",
     "text": [
      "\u001b[34m\u001b[1mwandb\u001b[0m: Currently logged in as: \u001b[33mmiked\u001b[0m. Use \u001b[1m`wandb login --relogin`\u001b[0m to force relogin\n"
     ]
    }
   ],
   "source": [
    "import wandb\n",
    "print(\"W&B: \", wandb.__version__)\n",
    "wandb.login()\n",
    "\n",
    "# # manage logs\n",
    "import logging\n",
    "\n",
    "# logger = logging.getLogger(\"wandb\")\n",
    "# logger.setLevel(logging.ERROR)\n",
    "\n",
    "logging.getLogger('tensorflow').disabled = True"
   ]
  },
  {
   "cell_type": "code",
   "execution_count": 4,
   "id": "5c55ee0f",
   "metadata": {
    "ExecuteTime": {
     "end_time": "2022-11-30T11:34:21.060495Z",
     "start_time": "2022-11-30T11:34:16.772750Z"
    }
   },
   "outputs": [
    {
     "name": "stdout",
     "output_type": "stream",
     "text": [
      "[name: \"/device:CPU:0\"\n",
      "device_type: \"CPU\"\n",
      "memory_limit: 268435456\n",
      "locality {\n",
      "}\n",
      "incarnation: 975858170141486177\n",
      ", name: \"/device:GPU:0\"\n",
      "device_type: \"GPU\"\n",
      "memory_limit: 10925703168\n",
      "locality {\n",
      "  bus_id: 1\n",
      "  links {\n",
      "  }\n",
      "}\n",
      "incarnation: 1320403930953056154\n",
      "physical_device_desc: \"device: 0, name: NVIDIA GeForce GTX 1080 Ti, pci bus id: 0000:04:00.0, compute capability: 6.1\"\n",
      "]\n"
     ]
    },
    {
     "name": "stderr",
     "output_type": "stream",
     "text": [
      "2022-11-30 11:34:20.120767: I tensorflow/core/platform/cpu_feature_guard.cc:142] This TensorFlow binary is optimized with oneAPI Deep Neural Network Library (oneDNN) to use the following CPU instructions in performance-critical operations:  AVX2 FMA\n",
      "To enable them in other operations, rebuild TensorFlow with the appropriate compiler flags.\n",
      "2022-11-30 11:34:21.033966: I tensorflow/core/common_runtime/gpu/gpu_device.cc:1510] Created device /device:GPU:0 with 10419 MB memory:  -> device: 0, name: NVIDIA GeForce GTX 1080 Ti, pci bus id: 0000:04:00.0, compute capability: 6.1\n"
     ]
    }
   ],
   "source": [
    "# tf loader\n",
    "import tensorflow as tf\n",
    "from tensorflow.keras.models import load_model\n",
    "from tensorflow import keras\n",
    "from tensorflow.python.client import device_lib\n",
    "\n",
    "print(device_lib.list_local_devices())"
   ]
  },
  {
   "cell_type": "code",
   "execution_count": 5,
   "id": "86de1bf7",
   "metadata": {
    "ExecuteTime": {
     "end_time": "2022-11-30T11:34:21.103268Z",
     "start_time": "2022-11-30T11:34:21.063169Z"
    }
   },
   "outputs": [],
   "source": [
    "import config\n",
    "configs = config.nb_configs"
   ]
  },
  {
   "cell_type": "code",
   "execution_count": 6,
   "id": "1013d50b",
   "metadata": {
    "ExecuteTime": {
     "end_time": "2022-11-30T11:34:21.144185Z",
     "start_time": "2022-11-30T11:34:21.105457Z"
    }
   },
   "outputs": [],
   "source": [
    "from tensorflow.keras.preprocessing.image import ImageDataGenerator\n",
    "from tensorflow.keras.applications.imagenet_utils import preprocess_input\n",
    "\n",
    "# initialize data generator\n",
    "train_datagen = ImageDataGenerator(\n",
    "    preprocessing_function=preprocess_input,\n",
    "    validation_split=configs[\"validation_split\"],\n",
    "    rescale=configs[\"rescale\"],\n",
    "    width_shift_range=configs[\"width_shift_range\"],\n",
    "    height_shift_range=configs[\"height_shift_range\"],\n",
    "    shear_range=configs[\"shear_range\"],\n",
    "    zoom_range=configs[\"zoom_range\"],\n",
    "    fill_mode=configs[\"fill_mode\"],\n",
    "    horizontal_flip=configs[\"horizontal_flip\"],\n",
    "    rotation_range=configs[\"rotation_range\"],\n",
    ")\n",
    "\n",
    "test_datagen = ImageDataGenerator(\n",
    "    preprocessing_function=preprocess_input, \n",
    "    rescale=configs[\"rescale\"],\n",
    ")"
   ]
  },
  {
   "cell_type": "code",
   "execution_count": 7,
   "id": "abe53015",
   "metadata": {
    "ExecuteTime": {
     "end_time": "2022-11-30T11:34:21.233066Z",
     "start_time": "2022-11-30T11:34:21.146576Z"
    }
   },
   "outputs": [
    {
     "name": "stdout",
     "output_type": "stream",
     "text": [
      "Found 526 images belonging to 2 classes.\n",
      "Found 26 images belonging to 2 classes.\n",
      "Found 33 images belonging to 2 classes.\n"
     ]
    }
   ],
   "source": [
    "train_dir = configs[\"train_dir\"]\n",
    "test_dir = configs[\"test_dir\"]\n",
    "\n",
    "batch_size = configs[\"batch_size\"]\n",
    "class_names = configs[\"class_names\"]\n",
    "interpol = configs[\"interpol\"]\n",
    "cmap = configs[\"cmap\"]\n",
    "label_mode = configs[\"label_mode\"]\n",
    "labels = configs[\"labels\"]\n",
    "image_size = configs[\"image_size\"]\n",
    "\n",
    "\n",
    "train_dataset = train_datagen.flow_from_directory(\n",
    "    directory=train_dir,\n",
    "    target_size=image_size,\n",
    "    color_mode=cmap,\n",
    "    classes=class_names,\n",
    "    class_mode=label_mode,\n",
    "    batch_size=batch_size,\n",
    "    interpolation=interpol,\n",
    "    subset=\"training\",\n",
    ")\n",
    "\n",
    "val_dataset = train_datagen.flow_from_directory(\n",
    "    directory=train_dir,\n",
    "    target_size=image_size,\n",
    "    color_mode=cmap,\n",
    "    classes=class_names,\n",
    "    class_mode=label_mode,\n",
    "    batch_size=batch_size,\n",
    "    interpolation=interpol,\n",
    "    subset=\"validation\",\n",
    ")\n",
    "\n",
    "test_dataset = test_datagen.flow_from_directory(\n",
    "    directory=test_dir,\n",
    "    target_size=image_size,\n",
    "    color_mode=cmap,\n",
    "    classes=class_names,\n",
    "    class_mode=label_mode,\n",
    "    batch_size=batch_size,\n",
    "    interpolation=interpol,\n",
    "    shuffle=False, # do not shuffle for later evaluation, alphanum sort\n",
    ")\n",
    "\n",
    "configs.update({\"val_steps\": val_dataset.samples // configs[\"batch_size\"]})"
   ]
  },
  {
   "cell_type": "code",
   "execution_count": 8,
   "id": "f7fb3ead",
   "metadata": {
    "ExecuteTime": {
     "end_time": "2022-11-30T11:34:21.275814Z",
     "start_time": "2022-11-30T11:34:21.235253Z"
    },
    "scrolled": true
   },
   "outputs": [],
   "source": [
    "from tensorflow import keras\n",
    "from tensorflow.keras import layers\n",
    "\n",
    "def define_model():\n",
    "    inputs = keras.Input(shape=(*image_size, 3))\n",
    "    x = layers.Conv2D(filters=32, kernel_size=(3, 3), activation='relu')(inputs)\n",
    "    x = layers.MaxPooling2D(pool_size=(2, 2))(x)\n",
    "    x = layers.Conv2D(filters=64, kernel_size=(3, 3), activation='relu')(x)\n",
    "    x = layers.MaxPooling2D(pool_size=(2, 2))(x)\n",
    "    x = layers.Conv2D(filters=128, kernel_size=(3, 3), activation='relu')(x)\n",
    "    x = layers.MaxPooling2D(pool_size=(2, 2))(x)\n",
    "    x = layers.Conv2D(filters=128, kernel_size=(3, 3), activation='relu')(x)\n",
    "    x = layers.MaxPooling2D(pool_size=(2, 2))(x)\n",
    "    x = layers.Flatten()(x)\n",
    "    x = layers.Dense(units=512, activation='relu')(x)\n",
    "    x = keras.layers.Dropout(configs['dropout_rate'])(x)\n",
    "    outputs = layers.Dense(units=2, activation='softmax')(x)\n",
    "    model = keras.Model(inputs=inputs, outputs=outputs)\n",
    "    return model"
   ]
  },
  {
   "cell_type": "code",
   "execution_count": 9,
   "id": "058b5152",
   "metadata": {
    "ExecuteTime": {
     "end_time": "2022-11-30T11:34:21.605366Z",
     "start_time": "2022-11-30T11:34:21.278645Z"
    }
   },
   "outputs": [
    {
     "name": "stderr",
     "output_type": "stream",
     "text": [
      "2022-11-30 11:34:21.329196: I tensorflow/core/common_runtime/gpu/gpu_device.cc:1510] Created device /job:localhost/replica:0/task:0/device:GPU:0 with 10419 MB memory:  -> device: 0, name: NVIDIA GeForce GTX 1080 Ti, pci bus id: 0000:04:00.0, compute capability: 6.1\n"
     ]
    }
   ],
   "source": [
    "tf.keras.backend.clear_session()\n",
    "model = define_model()"
   ]
  },
  {
   "cell_type": "code",
   "execution_count": 10,
   "id": "c8af60e6",
   "metadata": {
    "ExecuteTime": {
     "end_time": "2022-11-30T11:34:25.306918Z",
     "start_time": "2022-11-30T11:34:25.229460Z"
    }
   },
   "outputs": [],
   "source": [
    "from tensorflow.keras import metrics\n",
    "thresh = configs[\"thresh\"]\n",
    "metrics_dict = {\n",
    "    \"ACC\":  metrics.CategoricalAccuracy(name=\"ACC\"),\n",
    "    \"AUC-ROC\": metrics.AUC(name='ROC', curve='ROC'),\n",
    "    \"AUC-PR\": metrics.AUC(name='PR', curve='PR'),\n",
    "    \"TP\": metrics.TruePositives(name=\"TP\", thresholds=thresh),\n",
    "    \"TN\": metrics.TrueNegatives(name=\"TN\", thresholds=thresh),\n",
    "    \"FP\": metrics.FalsePositives(name=\"FP\", thresholds=thresh),\n",
    "    \"FN\": metrics.FalseNegatives(name=\"FN\", thresholds=thresh),\n",
    "}"
   ]
  },
  {
   "cell_type": "code",
   "execution_count": 11,
   "id": "3fc52a4f",
   "metadata": {
    "ExecuteTime": {
     "end_time": "2022-11-30T11:34:26.471463Z",
     "start_time": "2022-11-30T11:34:26.399103Z"
    }
   },
   "outputs": [],
   "source": [
    "from tensorflow.keras import optimizers\n",
    "from tensorflow.keras import losses\n",
    "\n",
    "# opt = optimizers.Adam(learning_rate=1e-06)\n",
    "opt = optimizers.Adam()\n",
    "met = list(metrics_dict.values())\n",
    "\n",
    "model.compile(\n",
    "    loss=losses.CategoricalCrossentropy(),\n",
    "    optimizer=opt,\n",
    "    metrics=met,\n",
    ")"
   ]
  },
  {
   "cell_type": "code",
   "execution_count": 12,
   "id": "ce3ba6d7",
   "metadata": {
    "ExecuteTime": {
     "end_time": "2022-11-30T11:34:31.738365Z",
     "start_time": "2022-11-30T11:34:29.055063Z"
    }
   },
   "outputs": [
    {
     "name": "stderr",
     "output_type": "stream",
     "text": [
      "2022-11-30 11:34:29.687638: I tensorflow/compiler/mlir/mlir_graph_optimization_pass.cc:185] None of the MLIR Optimization Passes are enabled (registered 2)\n",
      "2022-11-30 11:34:31.008964: I tensorflow/stream_executor/cuda/cuda_dnn.cc:369] Loaded cuDNN version 8400\n"
     ]
    },
    {
     "data": {
      "text/plain": [
       "array([[0.49639297, 0.50360703],\n",
       "       [0.5001336 , 0.49986643],\n",
       "       [0.5003542 , 0.49964586],\n",
       "       [0.49822372, 0.5017762 ],\n",
       "       [0.495909  , 0.504091  ],\n",
       "       [0.49226582, 0.5077342 ],\n",
       "       [0.48783743, 0.51216257],\n",
       "       [0.48677975, 0.5132202 ],\n",
       "       [0.48987347, 0.51012653],\n",
       "       [0.48297465, 0.51702535],\n",
       "       [0.4887182 , 0.5112818 ],\n",
       "       [0.48798332, 0.5120167 ],\n",
       "       [0.487761  , 0.51223904],\n",
       "       [0.48332182, 0.51667815],\n",
       "       [0.48200056, 0.5179995 ],\n",
       "       [0.48334572, 0.51665425],\n",
       "       [0.48804355, 0.51195645],\n",
       "       [0.48216254, 0.51783746],\n",
       "       [0.4838706 , 0.51612943],\n",
       "       [0.48243693, 0.5175631 ],\n",
       "       [0.4853602 , 0.5146398 ],\n",
       "       [0.48073095, 0.51926905],\n",
       "       [0.48196772, 0.51803225],\n",
       "       [0.47921944, 0.5207806 ],\n",
       "       [0.49530894, 0.50469106],\n",
       "       [0.47898576, 0.5210142 ],\n",
       "       [0.48430455, 0.51569545],\n",
       "       [0.48169604, 0.518304  ],\n",
       "       [0.4905136 , 0.5094864 ],\n",
       "       [0.4899489 , 0.51005113],\n",
       "       [0.4792623 , 0.52073777],\n",
       "       [0.48715213, 0.51284784],\n",
       "       [0.472002  , 0.52799803]], dtype=float32)"
      ]
     },
     "execution_count": 12,
     "metadata": {},
     "output_type": "execute_result"
    }
   ],
   "source": [
    "# verify arch\n",
    "# base predictions with untrained classif head\n",
    "base_preds = model.predict(test_dataset)\n",
    "base_preds"
   ]
  },
  {
   "cell_type": "code",
   "execution_count": 13,
   "id": "6124b283",
   "metadata": {
    "ExecuteTime": {
     "end_time": "2022-11-30T11:34:51.578715Z",
     "start_time": "2022-11-30T11:34:40.613217Z"
    },
    "scrolled": true
   },
   "outputs": [
    {
     "data": {
      "text/html": [
       "Tracking run with wandb version 0.13.5"
      ],
      "text/plain": [
       "<IPython.core.display.HTML object>"
      ]
     },
     "metadata": {},
     "output_type": "display_data"
    },
    {
     "data": {
      "text/html": [
       "Run data is saved locally in <code>/home/mdorosan/2022/bagls-sh-project/notebooks/wandb/run-20221130_113440-djzb7dq0</code>"
      ],
      "text/plain": [
       "<IPython.core.display.HTML object>"
      ]
     },
     "metadata": {},
     "output_type": "display_data"
    },
    {
     "data": {
      "text/html": [
       "Syncing run <strong><a href=\"https://wandb.ai/miked/bagls-sh-test/runs/djzb7dq0\" target=\"_blank\">convnet_from_scratch</a></strong> to <a href=\"https://wandb.ai/miked/bagls-sh-test\" target=\"_blank\">Weights & Biases</a> (<a href=\"https://wandb.me/run\" target=\"_blank\">docs</a>)<br/>"
      ],
      "text/plain": [
       "<IPython.core.display.HTML object>"
      ]
     },
     "metadata": {},
     "output_type": "display_data"
    },
    {
     "name": "stderr",
     "output_type": "stream",
     "text": [
      "\u001b[34m\u001b[1mwandb\u001b[0m: \u001b[33mWARNING\u001b[0m The save_model argument by default saves the model in the HDF5 format that cannot save custom objects like subclassed models and custom layers. This behavior will be deprecated in a future release in favor of the SavedModel format. Meanwhile, the HDF5 model is saved as W&B files and the SavedModel as W&B Artifacts.\n"
     ]
    }
   ],
   "source": [
    "from interpretation import ValLog, GRADCamLogger\n",
    "# initialize run\n",
    "run = wandb.init(\n",
    "    project=PROJECT_NAME, \n",
    "    name=RUN_NAME,\n",
    "    config=configs, \n",
    "    job_type='train',\n",
    ")\n",
    "\n",
    "wandb_callback = wandb.keras.WandbCallback(\n",
    "    monitor=\"val_ROC\",\n",
    "    mode=\"max\",\n",
    "    save_model=True,\n",
    "    save_graph=True,\n",
    "    compute_flops=True,\n",
    ")\n",
    "\n",
    "callbacks = [\n",
    "    wandb_callback,\n",
    "    ValLog(generator=val_dataset, num_log_batches=1),\n",
    "    GRADCamLogger(generator=test_dataset, layer_name=GRADCAM_LAYER_NAME, num_log_batches=1)\n",
    "    \n",
    "]"
   ]
  },
  {
   "cell_type": "code",
   "execution_count": 14,
   "id": "080fea2f",
   "metadata": {
    "ExecuteTime": {
     "end_time": "2022-11-30T11:36:59.244698Z",
     "start_time": "2022-11-30T11:34:57.520981Z"
    }
   },
   "outputs": [
    {
     "name": "stderr",
     "output_type": "stream",
     "text": [
      "2022-11-30 11:35:00.152124: I tensorflow/core/grappler/devices.cc:66] Number of eligible GPUs (core count >= 8, compute capability >= 0.0): 1\n",
      "2022-11-30 11:35:00.152343: I tensorflow/core/grappler/clusters/single_machine.cc:357] Starting new session\n",
      "2022-11-30 11:35:00.154772: I tensorflow/core/common_runtime/gpu/gpu_device.cc:1510] Created device /job:localhost/replica:0/task:0/device:GPU:0 with 10419 MB memory:  -> device: 0, name: NVIDIA GeForce GTX 1080 Ti, pci bus id: 0000:04:00.0, compute capability: 6.1\n",
      "2022-11-30 11:35:00.158365: I tensorflow/core/grappler/optimizers/meta_optimizer.cc:1137] Optimization results for grappler item: graph_to_optimize\n",
      "  function_optimizer: function_optimizer did nothing. time = 0.007ms.\n",
      "  function_optimizer: function_optimizer did nothing. time = 0.001ms.\n",
      "\n"
     ]
    },
    {
     "name": "stdout",
     "output_type": "stream",
     "text": [
      "Epoch 1/5\n",
      "5/5 [==============================] - 12s 2s/step - loss: 0.9456 - ACC: 0.5190 - ROC: 0.5743 - PR: 0.5780 - TP: 273.0000 - TN: 273.0000 - FP: 253.0000 - FN: 253.0000 - val_loss: 0.7114 - val_ACC: 0.3846 - val_ROC: 0.2766 - val_PR: 0.3772 - val_TP: 10.0000 - val_TN: 10.0000 - val_FP: 16.0000 - val_FN: 16.0000\n"
     ]
    },
    {
     "name": "stderr",
     "output_type": "stream",
     "text": [
      "2022-11-30 11:35:13.717913: W tensorflow/python/util/util.cc:348] Sets are not currently considered sequences, but this may change in the future, so consider avoiding using them.\n",
      "\u001b[34m\u001b[1mwandb\u001b[0m: Adding directory to artifact (/home/mdorosan/2022/bagls-sh-project/notebooks/wandb/run-20221130_113440-djzb7dq0/files/model-best)... Done. 0.7s\n"
     ]
    },
    {
     "name": "stdout",
     "output_type": "stream",
     "text": [
      "Epoch 2/5\n",
      "5/5 [==============================] - 10s 2s/step - loss: 0.6974 - ACC: 0.5000 - ROC: 0.4547 - PR: 0.4590 - TP: 263.0000 - TN: 263.0000 - FP: 263.0000 - FN: 263.0000 - val_loss: 0.6871 - val_ACC: 0.6154 - val_ROC: 0.5976 - val_PR: 0.5626 - val_TP: 16.0000 - val_TN: 16.0000 - val_FP: 10.0000 - val_FN: 10.0000\n"
     ]
    },
    {
     "name": "stderr",
     "output_type": "stream",
     "text": [
      "\u001b[34m\u001b[1mwandb\u001b[0m: Adding directory to artifact (/home/mdorosan/2022/bagls-sh-project/notebooks/wandb/run-20221130_113440-djzb7dq0/files/model-best)... Done. 0.7s\n"
     ]
    },
    {
     "name": "stdout",
     "output_type": "stream",
     "text": [
      "Epoch 3/5\n",
      "5/5 [==============================] - 9s 2s/step - loss: 0.6728 - ACC: 0.6065 - ROC: 0.6330 - PR: 0.6139 - TP: 319.0000 - TN: 319.0000 - FP: 207.0000 - FN: 207.0000 - val_loss: 0.6603 - val_ACC: 0.6154 - val_ROC: 0.6982 - val_PR: 0.6429 - val_TP: 16.0000 - val_TN: 16.0000 - val_FP: 10.0000 - val_FN: 10.0000\n"
     ]
    },
    {
     "name": "stderr",
     "output_type": "stream",
     "text": [
      "\u001b[34m\u001b[1mwandb\u001b[0m: Adding directory to artifact (/home/mdorosan/2022/bagls-sh-project/notebooks/wandb/run-20221130_113440-djzb7dq0/files/model-best)... Done. 0.9s\n"
     ]
    },
    {
     "name": "stdout",
     "output_type": "stream",
     "text": [
      "Epoch 4/5\n",
      "5/5 [==============================] - 9s 2s/step - loss: 0.6719 - ACC: 0.6065 - ROC: 0.6381 - PR: 0.6190 - TP: 319.0000 - TN: 319.0000 - FP: 207.0000 - FN: 207.0000 - val_loss: 0.6532 - val_ACC: 0.6154 - val_ROC: 0.6775 - val_PR: 0.6252 - val_TP: 16.0000 - val_TN: 16.0000 - val_FP: 10.0000 - val_FN: 10.0000\n",
      "Epoch 5/5\n",
      "5/5 [==============================] - 9s 2s/step - loss: 0.6588 - ACC: 0.6084 - ROC: 0.6458 - PR: 0.6272 - TP: 320.0000 - TN: 320.0000 - FP: 206.0000 - FN: 206.0000 - val_loss: 0.6343 - val_ACC: 0.6154 - val_ROC: 0.6953 - val_PR: 0.6774 - val_TP: 16.0000 - val_TN: 16.0000 - val_FP: 10.0000 - val_FN: 10.0000\n"
     ]
    },
    {
     "data": {
      "text/html": [
       "Waiting for W&B process to finish... <strong style=\"color:green\">(success).</strong>"
      ],
      "text/plain": [
       "<IPython.core.display.HTML object>"
      ]
     },
     "metadata": {},
     "output_type": "display_data"
    },
    {
     "data": {
      "text/html": [
       "<style>\n",
       "    table.wandb td:nth-child(1) { padding: 0 10px; text-align: left ; width: auto;} td:nth-child(2) {text-align: left ; width: 100%}\n",
       "    .wandb-row { display: flex; flex-direction: row; flex-wrap: wrap; justify-content: flex-start; width: 100% }\n",
       "    .wandb-col { display: flex; flex-direction: column; flex-basis: 100%; flex: 1; padding: 10px; }\n",
       "    </style>\n",
       "<div class=\"wandb-row\"><div class=\"wandb-col\"><h3>Run history:</h3><br/><table class=\"wandb\"><tr><td>ACC</td><td>▂▁███</td></tr><tr><td>FN</td><td>▇█▁▁▁</td></tr><tr><td>FP</td><td>▇█▁▁▁</td></tr><tr><td>PR</td><td>▆▁▇██</td></tr><tr><td>ROC</td><td>▅▁███</td></tr><tr><td>TN</td><td>▂▁███</td></tr><tr><td>TP</td><td>▂▁███</td></tr><tr><td>epoch</td><td>▁▃▅▆█</td></tr><tr><td>loss</td><td>█▂▁▁▁</td></tr><tr><td>val_ACC</td><td>▁████</td></tr><tr><td>val_FN</td><td>█▁▁▁▁</td></tr><tr><td>val_FP</td><td>█▁▁▁▁</td></tr><tr><td>val_PR</td><td>▁▅▇▇█</td></tr><tr><td>val_ROC</td><td>▁▆███</td></tr><tr><td>val_TN</td><td>▁████</td></tr><tr><td>val_TP</td><td>▁████</td></tr><tr><td>val_loss</td><td>█▆▃▃▁</td></tr></table><br/></div><div class=\"wandb-col\"><h3>Run summary:</h3><br/><table class=\"wandb\"><tr><td>ACC</td><td>0.60836</td></tr><tr><td>FN</td><td>206.0</td></tr><tr><td>FP</td><td>206.0</td></tr><tr><td>GFLOPs</td><td>0.55806</td></tr><tr><td>PR</td><td>0.62721</td></tr><tr><td>ROC</td><td>0.64576</td></tr><tr><td>TN</td><td>320.0</td></tr><tr><td>TP</td><td>320.0</td></tr><tr><td>best_epoch</td><td>2</td></tr><tr><td>best_val_ROC</td><td>0.69822</td></tr><tr><td>epoch</td><td>4</td></tr><tr><td>loss</td><td>0.65881</td></tr><tr><td>val_ACC</td><td>0.61538</td></tr><tr><td>val_FN</td><td>10.0</td></tr><tr><td>val_FP</td><td>10.0</td></tr><tr><td>val_PR</td><td>0.67743</td></tr><tr><td>val_ROC</td><td>0.69527</td></tr><tr><td>val_TN</td><td>16.0</td></tr><tr><td>val_TP</td><td>16.0</td></tr><tr><td>val_loss</td><td>0.6343</td></tr></table><br/></div></div>"
      ],
      "text/plain": [
       "<IPython.core.display.HTML object>"
      ]
     },
     "metadata": {},
     "output_type": "display_data"
    },
    {
     "data": {
      "text/html": [
       "Synced <strong style=\"color:#cdcd00\">convnet_from_scratch</strong>: <a href=\"https://wandb.ai/miked/bagls-sh-test/runs/djzb7dq0\" target=\"_blank\">https://wandb.ai/miked/bagls-sh-test/runs/djzb7dq0</a><br/>Synced 7 W&B file(s), 11 media file(s), 351 artifact file(s) and 2 other file(s)"
      ],
      "text/plain": [
       "<IPython.core.display.HTML object>"
      ]
     },
     "metadata": {},
     "output_type": "display_data"
    },
    {
     "data": {
      "text/html": [
       "Find logs at: <code>./wandb/run-20221130_113440-djzb7dq0/logs</code>"
      ],
      "text/plain": [
       "<IPython.core.display.HTML object>"
      ]
     },
     "metadata": {},
     "output_type": "display_data"
    }
   ],
   "source": [
    "history = model.fit(\n",
    "    train_dataset,\n",
    "    validation_data=val_dataset,\n",
    "    epochs=configs[\"epochs\"], \n",
    "    shuffle=True,\n",
    "    callbacks=callbacks,\n",
    ")\n",
    "run.finish()"
   ]
  },
  {
   "cell_type": "code",
   "execution_count": null,
   "id": "54745d98",
   "metadata": {
    "ExecuteTime": {
     "end_time": "2022-11-30T11:29:38.797685Z",
     "start_time": "2022-11-30T11:29:38.797669Z"
    }
   },
   "outputs": [],
   "source": [
    "run = wandb.init(project=PROJECT_NAME, job_type=\"inference\", name=RUN_NAME)\n",
    "model_at = run.use_artifact(\"model-\" + RUN_NAME + \":latest\")\n",
    "model_dir = model_at.download()\n",
    "print(\"model: \", model_dir)\n",
    "best_model = keras.models.load_model(model_dir)"
   ]
  },
  {
   "cell_type": "code",
   "execution_count": null,
   "id": "7a0829ae",
   "metadata": {
    "ExecuteTime": {
     "end_time": "2022-11-30T11:29:38.799074Z",
     "start_time": "2022-11-30T11:29:38.799059Z"
    }
   },
   "outputs": [],
   "source": [
    "# test metrics\n",
    "import utils\n",
    "\n",
    "metrics_results = best_model.evaluate(test_dataset)\n",
    "metrics_results = dict(zip([\"loss\"] + list(metrics_dict.keys()), \n",
    "                           metrics_results))\n",
    "tp, fp, tn, fn = (metrics_results[\"TP\"], metrics_results[\"FP\"], \n",
    "                  metrics_results[\"TN\"], metrics_results[\"FN\"])\n",
    "\n",
    "add_metrics = {\n",
    "    \"SENSITIVITY\": utils.get_sensitivity(tp, fp, tn, fn),\n",
    "    \"SPECIFICTY\": utils.get_specificity(tp, fp, tn, fn),\n",
    "    \"PPV\": utils.get_ppv(tp, fp, tn, fn),\n",
    "    \"NPV\": utils.get_npv(tp, fp, tn, fn),\n",
    "    \"F1\" : utils.get_fbeta(tp, fp, tn, fn, beta=1),\n",
    "}\n",
    "metrics_results.update(add_metrics)\n",
    "\n",
    "print(f\"Metrics: \\n\", metrics_results)\n",
    "\n",
    "columns = list(metrics_results.keys())\n",
    "metrics_table = wandb.Table(columns=columns)\n",
    "metrics_table.add_data(*metrics_results.values())\n",
    "wandb.run.log({METRICS_TABLE_NAME : metrics_table})\n",
    "\n",
    "# add logging of confusion matrix image from matplotlib\n",
    "           \n",
    "# get preds\n",
    "trained_preds = best_model.predict(test_dataset)\n",
    "run.finish()"
   ]
  },
  {
   "cell_type": "markdown",
   "id": "90b21018",
   "metadata": {},
   "source": [
    "## End"
   ]
  }
 ],
 "metadata": {
  "hide_input": false,
  "kernelspec": {
   "display_name": "Python [conda env:msds2022-ml3]",
   "language": "python",
   "name": "conda-env-msds2022-ml3-py"
  },
  "language_info": {
   "codemirror_mode": {
    "name": "ipython",
    "version": 3
   },
   "file_extension": ".py",
   "mimetype": "text/x-python",
   "name": "python",
   "nbconvert_exporter": "python",
   "pygments_lexer": "ipython3",
   "version": "3.9.6"
  },
  "toc": {
   "base_numbering": 1,
   "nav_menu": {},
   "number_sections": true,
   "sideBar": true,
   "skip_h1_title": false,
   "title_cell": "Table of Contents",
   "title_sidebar": "Contents",
   "toc_cell": false,
   "toc_position": {},
   "toc_section_display": true,
   "toc_window_display": false
  }
 },
 "nbformat": 4,
 "nbformat_minor": 5
}
