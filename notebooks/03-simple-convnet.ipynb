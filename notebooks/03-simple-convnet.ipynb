{
 "cells": [
  {
   "cell_type": "markdown",
   "id": "0dfd5593",
   "metadata": {},
   "source": [
    "# `tensorflow.keras` convnet from scratch\n",
    "\n",
    "This notebook demonstrates the use of a simple convolutional network. On a 2-class classification task--that is, an ouput layer with two nodes activated via `softmax`. Accordingly, loss is calculated using the `categorical cross-entropy`.\n",
    "\n",
    "References:\n",
    "\n",
    "* The github repository from the BAGLS team contained in this [link](https://github.com/anki-xyz/bagls/blob/master/Utils/DataGenerator.py#L109)\n"
   ]
  },
  {
   "cell_type": "code",
   "execution_count": 1,
   "id": "760317d5",
   "metadata": {
    "ExecuteTime": {
     "end_time": "2022-11-29T13:20:31.566278Z",
     "start_time": "2022-11-29T13:20:31.535694Z"
    }
   },
   "outputs": [],
   "source": [
    "# dev convenience\n",
    "%load_ext autoreload\n",
    "%autoreload 2"
   ]
  },
  {
   "cell_type": "code",
   "execution_count": 2,
   "id": "8c31335d",
   "metadata": {
    "ExecuteTime": {
     "end_time": "2022-11-29T13:20:32.508385Z",
     "start_time": "2022-11-29T13:20:32.259684Z"
    }
   },
   "outputs": [],
   "source": [
    "import sys\n",
    "sys.path.append(\"..\")\n",
    "import PATHS\n",
    "\n",
    "import os\n",
    "import numpy as np\n",
    "\n",
    "os.environ[\"CUDA_VISIBLE_DEVICES\"] = \"0,2\"\n",
    "os.environ[\"WANDB_SILENT\"] = \"True\"\n",
    "os.environ[\"WANDB_NOTEBOOK_NAME\"] = \"03-simple-convnet.ipynb\"\n",
    "\n",
    "PROJECT_NAME = 'bagls-sh-test'\n",
    "RUN_NAME = 'convnet_from_scratch'\n",
    "METRICS_TABLE_NAME = 'metrics_table'\n",
    "GRADCAM_LAYER_NAME = \"conv2d_3\""
   ]
  },
  {
   "cell_type": "code",
   "execution_count": 3,
   "id": "52fdd202",
   "metadata": {
    "ExecuteTime": {
     "end_time": "2022-11-29T13:20:36.449293Z",
     "start_time": "2022-11-29T13:20:33.090139Z"
    }
   },
   "outputs": [
    {
     "name": "stdout",
     "output_type": "stream",
     "text": [
      "W&B:  0.13.5\n"
     ]
    },
    {
     "data": {
      "text/plain": [
       "True"
      ]
     },
     "execution_count": 3,
     "metadata": {},
     "output_type": "execute_result"
    }
   ],
   "source": [
    "import wandb\n",
    "print(\"W&B: \", wandb.__version__)\n",
    "wandb.login()\n",
    "\n",
    "# # manage logs\n",
    "# import logging\n",
    "\n",
    "# logger = logging.getLogger(\"wandb\")\n",
    "# logger.setLevel(logging.ERROR)\n",
    "\n",
    "# logging.getLogger('tensorflow').disabled = True"
   ]
  },
  {
   "cell_type": "code",
   "execution_count": 4,
   "id": "5c55ee0f",
   "metadata": {
    "ExecuteTime": {
     "end_time": "2022-11-29T13:20:39.401284Z",
     "start_time": "2022-11-29T13:20:36.455598Z"
    }
   },
   "outputs": [],
   "source": [
    "# tf loader\n",
    "import tensorflow as tf\n",
    "from tensorflow.keras.models import load_model\n",
    "from tensorflow import keras"
   ]
  },
  {
   "cell_type": "code",
   "execution_count": 5,
   "id": "8d5fa101",
   "metadata": {
    "ExecuteTime": {
     "end_time": "2022-11-29T13:20:39.457245Z",
     "start_time": "2022-11-29T13:20:39.403733Z"
    }
   },
   "outputs": [
    {
     "name": "stdout",
     "output_type": "stream",
     "text": [
      "[name: \"/device:CPU:0\"\n",
      "device_type: \"CPU\"\n",
      "memory_limit: 268435456\n",
      "locality {\n",
      "}\n",
      "incarnation: 5834541230411947289\n",
      "]\n"
     ]
    },
    {
     "name": "stderr",
     "output_type": "stream",
     "text": [
      "2022-11-29 13:20:39.444974: I tensorflow/core/platform/cpu_feature_guard.cc:142] This TensorFlow binary is optimized with oneAPI Deep Neural Network Library (oneDNN) to use the following CPU instructions in performance-critical operations:  AVX2 FMA\n",
      "To enable them in other operations, rebuild TensorFlow with the appropriate compiler flags.\n",
      "2022-11-29 13:20:39.452540: E tensorflow/stream_executor/cuda/cuda_driver.cc:271] failed call to cuInit: CUDA_ERROR_NO_DEVICE: no CUDA-capable device is detected\n",
      "2022-11-29 13:20:39.452599: I tensorflow/stream_executor/cuda/cuda_diagnostics.cc:169] retrieving CUDA diagnostic information for host: jupyter-mdorosan\n",
      "2022-11-29 13:20:39.452610: I tensorflow/stream_executor/cuda/cuda_diagnostics.cc:176] hostname: jupyter-mdorosan\n",
      "2022-11-29 13:20:39.452731: I tensorflow/stream_executor/cuda/cuda_diagnostics.cc:200] libcuda reported version is: 515.65.1\n",
      "2022-11-29 13:20:39.452762: I tensorflow/stream_executor/cuda/cuda_diagnostics.cc:204] kernel reported version is: 515.65.1\n",
      "2022-11-29 13:20:39.452773: I tensorflow/stream_executor/cuda/cuda_diagnostics.cc:310] kernel version seems to match DSO: 515.65.1\n"
     ]
    }
   ],
   "source": [
    "from tensorflow.python.client import device_lib\n",
    "\n",
    "print(device_lib.list_local_devices())"
   ]
  },
  {
   "cell_type": "code",
   "execution_count": 7,
   "id": "cbdba5ed",
   "metadata": {
    "ExecuteTime": {
     "end_time": "2022-11-28T16:21:11.776855Z",
     "start_time": "2022-11-28T16:21:11.714490Z"
    }
   },
   "outputs": [],
   "source": [
    "import config\n",
    "configs = config.nb_configs"
   ]
  },
  {
   "cell_type": "code",
   "execution_count": 8,
   "id": "1013d50b",
   "metadata": {
    "ExecuteTime": {
     "end_time": "2022-11-28T16:21:11.831750Z",
     "start_time": "2022-11-28T16:21:11.780291Z"
    }
   },
   "outputs": [],
   "source": [
    "from tensorflow.keras.preprocessing.image import ImageDataGenerator\n",
    "from tensorflow.keras.applications.imagenet_utils import preprocess_input\n",
    "\n",
    "# initialize data generator\n",
    "train_datagen = ImageDataGenerator(\n",
    "    preprocessing_function=preprocess_input,\n",
    "    validation_split=configs[\"validation_split\"],\n",
    "    rescale=configs[\"rescale\"],\n",
    "    width_shift_range=configs[\"width_shift_range\"],\n",
    "    height_shift_range=configs[\"height_shift_range\"],\n",
    "    shear_range=configs[\"shear_range\"],\n",
    "    zoom_range=configs[\"zoom_range\"],\n",
    "    fill_mode=configs[\"fill_mode\"],\n",
    "    horizontal_flip=configs[\"horizontal_flip\"],\n",
    "    rotation_range=configs[\"rotation_range\"],\n",
    ")\n",
    "\n",
    "test_datagen = ImageDataGenerator(\n",
    "    preprocessing_function=preprocess_input, \n",
    "    rescale=configs[\"rescale\"],\n",
    ")"
   ]
  },
  {
   "cell_type": "code",
   "execution_count": 9,
   "id": "abe53015",
   "metadata": {
    "ExecuteTime": {
     "end_time": "2022-11-28T16:21:11.936035Z",
     "start_time": "2022-11-28T16:21:11.834794Z"
    }
   },
   "outputs": [
    {
     "name": "stdout",
     "output_type": "stream",
     "text": [
      "Found 526 images belonging to 2 classes.\n",
      "Found 26 images belonging to 2 classes.\n",
      "Found 33 images belonging to 2 classes.\n"
     ]
    }
   ],
   "source": [
    "train_dir = configs[\"train_dir\"]\n",
    "test_dir = configs[\"test_dir\"]\n",
    "\n",
    "batch_size = configs[\"batch_size\"]\n",
    "class_names = configs[\"class_names\"]\n",
    "interpol = configs[\"interpol\"]\n",
    "cmap = configs[\"cmap\"]\n",
    "label_mode = configs[\"label_mode\"]\n",
    "labels = configs[\"labels\"]\n",
    "image_size = configs[\"image_size\"]\n",
    "\n",
    "\n",
    "train_dataset = train_datagen.flow_from_directory(\n",
    "    directory=train_dir,\n",
    "    target_size=image_size,\n",
    "    color_mode=cmap,\n",
    "    classes=class_names,\n",
    "    class_mode=label_mode,\n",
    "    batch_size=batch_size,\n",
    "    interpolation=interpol,\n",
    "    subset=\"training\",\n",
    ")\n",
    "\n",
    "val_dataset = train_datagen.flow_from_directory(\n",
    "    directory=train_dir,\n",
    "    target_size=image_size,\n",
    "    color_mode=cmap,\n",
    "    classes=class_names,\n",
    "    class_mode=label_mode,\n",
    "    batch_size=batch_size,\n",
    "    interpolation=interpol,\n",
    "    subset=\"validation\",\n",
    ")\n",
    "\n",
    "test_dataset = test_datagen.flow_from_directory(\n",
    "    directory=test_dir,\n",
    "    target_size=image_size,\n",
    "    color_mode=cmap,\n",
    "    classes=class_names,\n",
    "    class_mode=label_mode,\n",
    "    batch_size=batch_size,\n",
    "    interpolation=interpol,\n",
    "    shuffle=False, # do not shuffle for later evaluation, alphanum sort\n",
    ")\n",
    "\n",
    "configs.update({\"val_steps\": val_dataset.samples // configs[\"batch_size\"]})"
   ]
  },
  {
   "cell_type": "code",
   "execution_count": 10,
   "id": "f7fb3ead",
   "metadata": {
    "ExecuteTime": {
     "end_time": "2022-11-28T16:21:11.989387Z",
     "start_time": "2022-11-28T16:21:11.939684Z"
    },
    "scrolled": true
   },
   "outputs": [],
   "source": [
    "from tensorflow import keras\n",
    "from tensorflow.keras import layers\n",
    "\n",
    "def define_model():\n",
    "    inputs = keras.Input(shape=(*image_size, 3))\n",
    "    x = layers.Conv2D(filters=32, kernel_size=(3, 3), activation='relu')(inputs)\n",
    "    x = layers.MaxPooling2D(pool_size=(2, 2))(x)\n",
    "    x = layers.Conv2D(filters=64, kernel_size=(3, 3), activation='relu')(x)\n",
    "    x = layers.MaxPooling2D(pool_size=(2, 2))(x)\n",
    "    x = layers.Conv2D(filters=128, kernel_size=(3, 3), activation='relu')(x)\n",
    "    x = layers.MaxPooling2D(pool_size=(2, 2))(x)\n",
    "    x = layers.Conv2D(filters=128, kernel_size=(3, 3), activation='relu')(x)\n",
    "    x = layers.MaxPooling2D(pool_size=(2, 2))(x)\n",
    "    x = layers.Flatten()(x)\n",
    "    x = layers.Dense(units=512, activation='relu')(x)\n",
    "    x = keras.layers.Dropout(configs['dropout_rate'])(x)\n",
    "    outputs = layers.Dense(units=2, activation='softmax')(x)\n",
    "    model = keras.Model(inputs=inputs, outputs=outputs)\n",
    "    return model"
   ]
  },
  {
   "cell_type": "code",
   "execution_count": 11,
   "id": "058b5152",
   "metadata": {
    "ExecuteTime": {
     "end_time": "2022-11-28T16:21:12.368792Z",
     "start_time": "2022-11-28T16:21:11.992149Z"
    }
   },
   "outputs": [
    {
     "name": "stderr",
     "output_type": "stream",
     "text": [
      "2022-11-28 16:21:12.052050: I tensorflow/core/common_runtime/gpu/gpu_device.cc:1510] Created device /job:localhost/replica:0/task:0/device:GPU:0 with 10419 MB memory:  -> device: 0, name: NVIDIA GeForce GTX 1080 Ti, pci bus id: 0000:04:00.0, compute capability: 6.1\n"
     ]
    }
   ],
   "source": [
    "tf.keras.backend.clear_session()\n",
    "model = define_model()"
   ]
  },
  {
   "cell_type": "code",
   "execution_count": 12,
   "id": "c8af60e6",
   "metadata": {
    "ExecuteTime": {
     "end_time": "2022-11-28T16:21:12.436333Z",
     "start_time": "2022-11-28T16:21:12.371462Z"
    }
   },
   "outputs": [],
   "source": [
    "from tensorflow.keras import metrics\n",
    "thresh = configs[\"thresh\"]\n",
    "metrics_dict = {\n",
    "    \"ACC\":  metrics.BinaryAccuracy(name=\"ACC\", threshold=thresh),\n",
    "    \"AUC-ROC\": metrics.AUC(name='ROC', curve='ROC'),\n",
    "    \"AUC-PR\": metrics.AUC(name='PR', curve='PR'),\n",
    "    \"TP\": metrics.TruePositives(name=\"TP\", thresholds=thresh),\n",
    "    \"TN\": metrics.TrueNegatives(name=\"TN\", thresholds=thresh),\n",
    "    \"FP\": metrics.FalsePositives(name=\"FP\", thresholds=thresh),\n",
    "    \"FN\": metrics.FalseNegatives(name=\"FN\", thresholds=thresh),\n",
    "}"
   ]
  },
  {
   "cell_type": "code",
   "execution_count": 13,
   "id": "3fc52a4f",
   "metadata": {
    "ExecuteTime": {
     "end_time": "2022-11-28T16:21:12.498814Z",
     "start_time": "2022-11-28T16:21:12.438717Z"
    }
   },
   "outputs": [],
   "source": [
    "from tensorflow.keras import optimizers\n",
    "from tensorflow.keras import losses\n",
    "\n",
    "# opt = optimizers.Adam(learning_rate=1e-06)\n",
    "opt = optimizers.Adam()\n",
    "met = list(metrics_dict.values())\n",
    "\n",
    "model.compile(\n",
    "    loss=losses.CategoricalCrossentropy(),\n",
    "    optimizer=opt,\n",
    "    metrics=met,\n",
    ")"
   ]
  },
  {
   "cell_type": "code",
   "execution_count": 14,
   "id": "ce3ba6d7",
   "metadata": {
    "ExecuteTime": {
     "end_time": "2022-11-28T16:21:15.330593Z",
     "start_time": "2022-11-28T16:21:12.501868Z"
    }
   },
   "outputs": [
    {
     "name": "stderr",
     "output_type": "stream",
     "text": [
      "2022-11-28 16:21:13.161400: I tensorflow/compiler/mlir/mlir_graph_optimization_pass.cc:185] None of the MLIR Optimization Passes are enabled (registered 2)\n",
      "2022-11-28 16:21:14.525161: I tensorflow/stream_executor/cuda/cuda_dnn.cc:369] Loaded cuDNN version 8400\n"
     ]
    },
    {
     "data": {
      "text/plain": [
       "array([[0.4947047 , 0.50529534],\n",
       "       [0.4928894 , 0.5071106 ],\n",
       "       [0.49209926, 0.5079007 ],\n",
       "       [0.5010365 , 0.49896345],\n",
       "       [0.49397966, 0.50602037],\n",
       "       [0.49059653, 0.50940347],\n",
       "       [0.4948586 , 0.50514144],\n",
       "       [0.4933839 , 0.5066161 ],\n",
       "       [0.49469635, 0.5053037 ],\n",
       "       [0.4935302 , 0.50646985],\n",
       "       [0.49260017, 0.50739986],\n",
       "       [0.49810368, 0.5018963 ],\n",
       "       [0.48776394, 0.51223606],\n",
       "       [0.49051067, 0.5094893 ],\n",
       "       [0.49354976, 0.5064502 ],\n",
       "       [0.4975986 , 0.5024014 ],\n",
       "       [0.49231964, 0.50768036],\n",
       "       [0.49403486, 0.5059651 ],\n",
       "       [0.49445748, 0.5055425 ],\n",
       "       [0.49248135, 0.50751865],\n",
       "       [0.49917343, 0.5008266 ],\n",
       "       [0.4907841 , 0.50921583],\n",
       "       [0.4952608 , 0.5047392 ],\n",
       "       [0.49545157, 0.50454843],\n",
       "       [0.4994172 , 0.5005828 ],\n",
       "       [0.48993823, 0.5100618 ],\n",
       "       [0.48913926, 0.51086074],\n",
       "       [0.49550295, 0.5044971 ],\n",
       "       [0.48889464, 0.51110536],\n",
       "       [0.48411545, 0.5158846 ],\n",
       "       [0.48725057, 0.5127495 ],\n",
       "       [0.49474728, 0.5052527 ],\n",
       "       [0.4949805 , 0.5050195 ]], dtype=float32)"
      ]
     },
     "execution_count": 14,
     "metadata": {},
     "output_type": "execute_result"
    }
   ],
   "source": [
    "# verify arch\n",
    "# base predictions with untrained classif head\n",
    "base_preds = model.predict(test_dataset)\n",
    "base_preds"
   ]
  },
  {
   "cell_type": "code",
   "execution_count": 16,
   "id": "6124b283",
   "metadata": {
    "ExecuteTime": {
     "end_time": "2022-11-28T16:21:23.903419Z",
     "start_time": "2022-11-28T16:21:15.409980Z"
    },
    "scrolled": true
   },
   "outputs": [
    {
     "data": {
      "text/html": [
       "Tracking run with wandb version 0.13.5"
      ],
      "text/plain": [
       "<IPython.core.display.HTML object>"
      ]
     },
     "metadata": {},
     "output_type": "display_data"
    },
    {
     "data": {
      "text/html": [
       "Run data is saved locally in <code>/home/mdorosan/2022/bagls-sh-project/notebooks/wandb/run-20221128_162115-1kz9kxz7</code>"
      ],
      "text/plain": [
       "<IPython.core.display.HTML object>"
      ]
     },
     "metadata": {},
     "output_type": "display_data"
    },
    {
     "data": {
      "text/html": [
       "Syncing run <strong><a href=\"https://wandb.ai/miked/bagls-sh-test/runs/1kz9kxz7\" target=\"_blank\">convnet_from_scratch</a></strong> to <a href=\"https://wandb.ai/miked/bagls-sh-test\" target=\"_blank\">Weights & Biases</a> (<a href=\"https://wandb.me/run\" target=\"_blank\">docs</a>)<br/>"
      ],
      "text/plain": [
       "<IPython.core.display.HTML object>"
      ]
     },
     "metadata": {},
     "output_type": "display_data"
    },
    {
     "name": "stderr",
     "output_type": "stream",
     "text": [
      "\u001b[34m\u001b[1mwandb\u001b[0m: \u001b[33mWARNING\u001b[0m The save_model argument by default saves the model in the HDF5 format that cannot save custom objects like subclassed models and custom layers. This behavior will be deprecated in a future release in favor of the SavedModel format. Meanwhile, the HDF5 model is saved as W&B files and the SavedModel as W&B Artifacts.\n"
     ]
    }
   ],
   "source": [
    "from interpretation import ValLog, GRADCamLogger\n",
    "\n",
    "# initialize run\n",
    "run = wandb.init(\n",
    "    project=PROJECT_NAME, \n",
    "    name=RUN_NAME,\n",
    "    config=configs, \n",
    "    job_type='train',\n",
    ")\n",
    "\n",
    "wandb_callback = wandb.keras.WandbCallback(\n",
    "    monitor=\"val_ROC\",\n",
    "    mode=\"max\",\n",
    "    save_model=True,\n",
    "    save_graph=True,\n",
    "    compute_flops=True,\n",
    ")\n",
    "\n",
    "callbacks = [\n",
    "    wandb_callback,\n",
    "    ValLog(generator=val_dataset, num_log_batches=1),\n",
    "    GRADCamLogger(generator=test_dataset, layer_name=GRADCAM_LAYER_NAME, num_log_batches=1)\n",
    "    \n",
    "]"
   ]
  },
  {
   "cell_type": "code",
   "execution_count": 17,
   "id": "2e9a137c",
   "metadata": {
    "ExecuteTime": {
     "end_time": "2022-11-28T16:23:28.646594Z",
     "start_time": "2022-11-28T16:21:23.907971Z"
    }
   },
   "outputs": [
    {
     "name": "stderr",
     "output_type": "stream",
     "text": [
      "2022-11-28 16:21:25.660987: I tensorflow/core/grappler/devices.cc:66] Number of eligible GPUs (core count >= 8, compute capability >= 0.0): 1\n",
      "2022-11-28 16:21:25.661240: I tensorflow/core/grappler/clusters/single_machine.cc:357] Starting new session\n",
      "2022-11-28 16:21:25.664270: I tensorflow/core/common_runtime/gpu/gpu_device.cc:1510] Created device /job:localhost/replica:0/task:0/device:GPU:0 with 10419 MB memory:  -> device: 0, name: NVIDIA GeForce GTX 1080 Ti, pci bus id: 0000:04:00.0, compute capability: 6.1\n",
      "2022-11-28 16:21:25.667943: I tensorflow/core/grappler/optimizers/meta_optimizer.cc:1137] Optimization results for grappler item: graph_to_optimize\n",
      "  function_optimizer: function_optimizer did nothing. time = 0.012ms.\n",
      "  function_optimizer: function_optimizer did nothing. time = 0.002ms.\n",
      "\n"
     ]
    },
    {
     "name": "stdout",
     "output_type": "stream",
     "text": [
      "WARNING:tensorflow:From /home/mdorosan/.conda-envs/msds2022-ml3/lib/python3.9/site-packages/tensorflow/python/ops/nn_ops.py:5063: tensor_shape_from_node_def_name (from tensorflow.python.framework.graph_util_impl) is deprecated and will be removed in a future version.\n",
      "Instructions for updating:\n",
      "Use `tf.compat.v1.graph_util.tensor_shape_from_node_def_name`\n",
      "Epoch 1/5\n",
      "9/9 [==============================] - 13s 1s/step - loss: 0.7178 - ACC: 0.5722 - ROC: 0.5932 - PR: 0.5772 - TP: 301.0000 - TN: 301.0000 - FP: 225.0000 - FN: 225.0000 - val_loss: 0.6560 - val_ACC: 0.6154 - val_ROC: 0.6879 - val_PR: 0.6571 - val_TP: 16.0000 - val_TN: 16.0000 - val_FP: 10.0000 - val_FN: 10.0000\n"
     ]
    },
    {
     "name": "stderr",
     "output_type": "stream",
     "text": [
      "2022-11-28 16:21:41.382516: W tensorflow/python/util/util.cc:348] Sets are not currently considered sequences, but this may change in the future, so consider avoiding using them.\n"
     ]
    },
    {
     "name": "stdout",
     "output_type": "stream",
     "text": [
      "INFO:tensorflow:Assets written to: /home/mdorosan/2022/bagls-sh-project/notebooks/wandb/run-20221128_162115-1kz9kxz7/files/model-best/assets\n"
     ]
    },
    {
     "name": "stderr",
     "output_type": "stream",
     "text": [
      "\u001b[34m\u001b[1mwandb\u001b[0m: Adding directory to artifact (/home/mdorosan/2022/bagls-sh-project/notebooks/wandb/run-20221128_162115-1kz9kxz7/files/model-best)... Done. 0.7s\n"
     ]
    },
    {
     "name": "stdout",
     "output_type": "stream",
     "text": [
      "Epoch 2/5\n",
      "9/9 [==============================] - 10s 1s/step - loss: 0.6652 - ACC: 0.6160 - ROC: 0.6379 - PR: 0.6048 - TP: 324.0000 - TN: 324.0000 - FP: 202.0000 - FN: 202.0000 - val_loss: 0.6605 - val_ACC: 0.7692 - val_ROC: 0.7604 - val_PR: 0.7247 - val_TP: 20.0000 - val_TN: 20.0000 - val_FP: 6.0000 - val_FN: 6.0000\n",
      "INFO:tensorflow:Assets written to: /home/mdorosan/2022/bagls-sh-project/notebooks/wandb/run-20221128_162115-1kz9kxz7/files/model-best/assets\n"
     ]
    },
    {
     "name": "stderr",
     "output_type": "stream",
     "text": [
      "\u001b[34m\u001b[1mwandb\u001b[0m: Adding directory to artifact (/home/mdorosan/2022/bagls-sh-project/notebooks/wandb/run-20221128_162115-1kz9kxz7/files/model-best)... Done. 0.7s\n"
     ]
    },
    {
     "name": "stdout",
     "output_type": "stream",
     "text": [
      "Epoch 3/5\n",
      "9/9 [==============================] - 9s 1s/step - loss: 0.6490 - ACC: 0.6502 - ROC: 0.6847 - PR: 0.6559 - TP: 342.0000 - TN: 342.0000 - FP: 184.0000 - FN: 184.0000 - val_loss: 0.5819 - val_ACC: 0.7692 - val_ROC: 0.7885 - val_PR: 0.7204 - val_TP: 20.0000 - val_TN: 20.0000 - val_FP: 6.0000 - val_FN: 6.0000\n",
      "INFO:tensorflow:Assets written to: /home/mdorosan/2022/bagls-sh-project/notebooks/wandb/run-20221128_162115-1kz9kxz7/files/model-best/assets\n"
     ]
    },
    {
     "name": "stderr",
     "output_type": "stream",
     "text": [
      "\u001b[34m\u001b[1mwandb\u001b[0m: Adding directory to artifact (/home/mdorosan/2022/bagls-sh-project/notebooks/wandb/run-20221128_162115-1kz9kxz7/files/model-best)... Done. 0.7s\n"
     ]
    },
    {
     "name": "stdout",
     "output_type": "stream",
     "text": [
      "Epoch 4/5\n",
      "9/9 [==============================] - 9s 1s/step - loss: 0.6278 - ACC: 0.6597 - ROC: 0.7138 - PR: 0.6872 - TP: 347.0000 - TN: 347.0000 - FP: 179.0000 - FN: 179.0000 - val_loss: 0.5621 - val_ACC: 0.7308 - val_ROC: 0.7855 - val_PR: 0.7812 - val_TP: 19.0000 - val_TN: 19.0000 - val_FP: 7.0000 - val_FN: 7.0000\n",
      "Epoch 5/5\n",
      "9/9 [==============================] - 10s 1s/step - loss: 0.6357 - ACC: 0.6597 - ROC: 0.6975 - PR: 0.6655 - TP: 347.0000 - TN: 347.0000 - FP: 179.0000 - FN: 179.0000 - val_loss: 0.6027 - val_ACC: 0.7308 - val_ROC: 0.8003 - val_PR: 0.8015 - val_TP: 19.0000 - val_TN: 19.0000 - val_FP: 7.0000 - val_FN: 7.0000\n",
      "INFO:tensorflow:Assets written to: /home/mdorosan/2022/bagls-sh-project/notebooks/wandb/run-20221128_162115-1kz9kxz7/files/model-best/assets\n"
     ]
    },
    {
     "name": "stderr",
     "output_type": "stream",
     "text": [
      "\u001b[34m\u001b[1mwandb\u001b[0m: Adding directory to artifact (/home/mdorosan/2022/bagls-sh-project/notebooks/wandb/run-20221128_162115-1kz9kxz7/files/model-best)... Done. 0.7s\n"
     ]
    },
    {
     "data": {
      "text/html": [
       "Waiting for W&B process to finish... <strong style=\"color:green\">(success).</strong>"
      ],
      "text/plain": [
       "<IPython.core.display.HTML object>"
      ]
     },
     "metadata": {},
     "output_type": "display_data"
    },
    {
     "data": {
      "text/html": [
       "<style>\n",
       "    table.wandb td:nth-child(1) { padding: 0 10px; text-align: left ; width: auto;} td:nth-child(2) {text-align: left ; width: 100%}\n",
       "    .wandb-row { display: flex; flex-direction: row; flex-wrap: wrap; justify-content: flex-start; width: 100% }\n",
       "    .wandb-col { display: flex; flex-direction: column; flex-basis: 100%; flex: 1; padding: 10px; }\n",
       "    </style>\n",
       "<div class=\"wandb-row\"><div class=\"wandb-col\"><h3>Run history:</h3><br/><table class=\"wandb\"><tr><td>ACC</td><td>▁▅▇██</td></tr><tr><td>FN</td><td>█▅▂▁▁</td></tr><tr><td>FP</td><td>█▅▂▁▁</td></tr><tr><td>PR</td><td>▁▃▆█▇</td></tr><tr><td>ROC</td><td>▁▄▆█▇</td></tr><tr><td>TN</td><td>▁▅▇██</td></tr><tr><td>TP</td><td>▁▅▇██</td></tr><tr><td>epoch</td><td>▁▃▅▆█</td></tr><tr><td>loss</td><td>█▄▃▁▂</td></tr><tr><td>val_ACC</td><td>▁██▆▆</td></tr><tr><td>val_FN</td><td>█▁▁▃▃</td></tr><tr><td>val_FP</td><td>█▁▁▃▃</td></tr><tr><td>val_PR</td><td>▁▄▄▇█</td></tr><tr><td>val_ROC</td><td>▁▆▇▇█</td></tr><tr><td>val_TN</td><td>▁██▆▆</td></tr><tr><td>val_TP</td><td>▁██▆▆</td></tr><tr><td>val_loss</td><td>██▂▁▄</td></tr></table><br/></div><div class=\"wandb-col\"><h3>Run summary:</h3><br/><table class=\"wandb\"><tr><td>ACC</td><td>0.6597</td></tr><tr><td>FN</td><td>179.0</td></tr><tr><td>FP</td><td>179.0</td></tr><tr><td>GFLOPs</td><td>0.55806</td></tr><tr><td>PR</td><td>0.66555</td></tr><tr><td>ROC</td><td>0.69751</td></tr><tr><td>TN</td><td>347.0</td></tr><tr><td>TP</td><td>347.0</td></tr><tr><td>best_epoch</td><td>4</td></tr><tr><td>best_val_ROC</td><td>0.8003</td></tr><tr><td>epoch</td><td>4</td></tr><tr><td>loss</td><td>0.63567</td></tr><tr><td>val_ACC</td><td>0.73077</td></tr><tr><td>val_FN</td><td>7.0</td></tr><tr><td>val_FP</td><td>7.0</td></tr><tr><td>val_PR</td><td>0.80146</td></tr><tr><td>val_ROC</td><td>0.8003</td></tr><tr><td>val_TN</td><td>19.0</td></tr><tr><td>val_TP</td><td>19.0</td></tr><tr><td>val_loss</td><td>0.60272</td></tr></table><br/></div></div>"
      ],
      "text/plain": [
       "<IPython.core.display.HTML object>"
      ]
     },
     "metadata": {},
     "output_type": "display_data"
    },
    {
     "data": {
      "text/html": [
       "Synced <strong style=\"color:#cdcd00\">convnet_from_scratch</strong>: <a href=\"https://wandb.ai/miked/bagls-sh-test/runs/1kz9kxz7\" target=\"_blank\">https://wandb.ai/miked/bagls-sh-test/runs/1kz9kxz7</a><br/>Synced 7 W&B file(s), 11 media file(s), 226 artifact file(s) and 2 other file(s)"
      ],
      "text/plain": [
       "<IPython.core.display.HTML object>"
      ]
     },
     "metadata": {},
     "output_type": "display_data"
    },
    {
     "data": {
      "text/html": [
       "Find logs at: <code>./wandb/run-20221128_162115-1kz9kxz7/logs</code>"
      ],
      "text/plain": [
       "<IPython.core.display.HTML object>"
      ]
     },
     "metadata": {},
     "output_type": "display_data"
    }
   ],
   "source": [
    "history = model.fit(\n",
    "    train_dataset,\n",
    "    validation_data=val_dataset,\n",
    "    epochs=configs[\"epochs\"], \n",
    "    shuffle=True,\n",
    "    callbacks=callbacks,\n",
    ")\n",
    "run.finish()"
   ]
  },
  {
   "cell_type": "code",
   "execution_count": 18,
   "id": "54745d98",
   "metadata": {
    "ExecuteTime": {
     "end_time": "2022-11-28T16:23:38.330183Z",
     "start_time": "2022-11-28T16:23:28.648804Z"
    }
   },
   "outputs": [
    {
     "data": {
      "text/html": [
       "Tracking run with wandb version 0.13.5"
      ],
      "text/plain": [
       "<IPython.core.display.HTML object>"
      ]
     },
     "metadata": {},
     "output_type": "display_data"
    },
    {
     "data": {
      "text/html": [
       "Run data is saved locally in <code>/home/mdorosan/2022/bagls-sh-project/notebooks/wandb/run-20221128_162329-17693nst</code>"
      ],
      "text/plain": [
       "<IPython.core.display.HTML object>"
      ]
     },
     "metadata": {},
     "output_type": "display_data"
    },
    {
     "data": {
      "text/html": [
       "Syncing run <strong><a href=\"https://wandb.ai/miked/bagls-sh-test/runs/17693nst\" target=\"_blank\">convnet_from_scratch</a></strong> to <a href=\"https://wandb.ai/miked/bagls-sh-test\" target=\"_blank\">Weights & Biases</a> (<a href=\"https://wandb.me/run\" target=\"_blank\">docs</a>)<br/>"
      ],
      "text/plain": [
       "<IPython.core.display.HTML object>"
      ]
     },
     "metadata": {},
     "output_type": "display_data"
    },
    {
     "name": "stderr",
     "output_type": "stream",
     "text": [
      "\u001b[34m\u001b[1mwandb\u001b[0m: Downloading large artifact model-convnet_from_scratch:latest, 111.03MB. 4 files... \n",
      "\u001b[34m\u001b[1mwandb\u001b[0m:   4 of 4 files downloaded.  \n",
      "Done. 0:0:0.3\n"
     ]
    },
    {
     "name": "stdout",
     "output_type": "stream",
     "text": [
      "model:  ./artifacts/model-convnet_from_scratch:v3\n"
     ]
    }
   ],
   "source": [
    "run = wandb.init(project=PROJECT_NAME, job_type=\"inference\", name=RUN_NAME)\n",
    "model_at = run.use_artifact(\"model-\" + RUN_NAME + \":latest\")\n",
    "model_dir = model_at.download()\n",
    "print(\"model: \", model_dir)\n",
    "best_model = keras.models.load_model(model_dir)"
   ]
  },
  {
   "cell_type": "code",
   "execution_count": 19,
   "id": "5650a637",
   "metadata": {
    "ExecuteTime": {
     "end_time": "2022-11-28T16:23:49.371557Z",
     "start_time": "2022-11-28T16:23:38.332919Z"
    }
   },
   "outputs": [
    {
     "name": "stdout",
     "output_type": "stream",
     "text": [
      "1/1 [==============================] - 1s 1s/step - loss: 0.6329 - ACC: 0.5455 - ROC: 0.7199 - PR: 0.7676 - TP: 18.0000 - TN: 18.0000 - FP: 15.0000 - FN: 15.0000\n",
      "Metrics: \n",
      " {'loss': 0.6329288482666016, 'ACC': 0.5454545617103577, 'AUC-ROC': 0.7199265956878662, 'AUC-PR': 0.7675637006759644, 'TP': 18.0, 'TN': 18.0, 'FP': 15.0, 'FN': 15.0, 'SENSITIVITY': 0.5454545454545454, 'SPECIFICTY': 0.5454545454545454, 'PPV': 0.5454545454545454, 'NPV': 0.5454545454545454, 'F1': 0.5454545454545454}\n"
     ]
    },
    {
     "data": {
      "text/html": [
       "Waiting for W&B process to finish... <strong style=\"color:green\">(success).</strong>"
      ],
      "text/plain": [
       "<IPython.core.display.HTML object>"
      ]
     },
     "metadata": {},
     "output_type": "display_data"
    },
    {
     "data": {
      "text/html": [
       "Synced <strong style=\"color:#cdcd00\">convnet_from_scratch</strong>: <a href=\"https://wandb.ai/miked/bagls-sh-test/runs/17693nst\" target=\"_blank\">https://wandb.ai/miked/bagls-sh-test/runs/17693nst</a><br/>Synced 7 W&B file(s), 1 media file(s), 1 artifact file(s) and 1 other file(s)"
      ],
      "text/plain": [
       "<IPython.core.display.HTML object>"
      ]
     },
     "metadata": {},
     "output_type": "display_data"
    },
    {
     "data": {
      "text/html": [
       "Find logs at: <code>./wandb/run-20221128_162329-17693nst/logs</code>"
      ],
      "text/plain": [
       "<IPython.core.display.HTML object>"
      ]
     },
     "metadata": {},
     "output_type": "display_data"
    }
   ],
   "source": [
    "# test metrics\n",
    "import utils\n",
    "\n",
    "metrics_results = best_model.evaluate(test_dataset)\n",
    "metrics_results = dict(zip([\"loss\"] + list(metrics_dict.keys()), \n",
    "                           metrics_results))\n",
    "tp, fp, tn, fn = (metrics_results[\"TP\"], metrics_results[\"FP\"], \n",
    "                  metrics_results[\"TN\"], metrics_results[\"FN\"])\n",
    "\n",
    "add_metrics = {\n",
    "    \"SENSITIVITY\": utils.get_sensitivity(tp, fp, tn, fn),\n",
    "    \"SPECIFICTY\": utils.get_specificity(tp, fp, tn, fn),\n",
    "    \"PPV\": utils.get_ppv(tp, fp, tn, fn),\n",
    "    \"NPV\": utils.get_npv(tp, fp, tn, fn),\n",
    "    \"F1\" : utils.get_fbeta(tp, fp, tn, fn, beta=1),\n",
    "}\n",
    "metrics_results.update(add_metrics)\n",
    "\n",
    "print(f\"Metrics: \\n\", metrics_results)\n",
    "\n",
    "columns = list(metrics_results.keys())\n",
    "metrics_table = wandb.Table(columns=columns)\n",
    "metrics_table.add_data(*metrics_results.values())\n",
    "wandb.run.log({METRICS_TABLE_NAME : metrics_table})\n",
    "\n",
    "# add logging of confusion matrix image from matplotlib\n",
    "           \n",
    "# get preds\n",
    "trained_preds = best_model.predict(test_dataset)\n",
    "run.finish()"
   ]
  },
  {
   "cell_type": "markdown",
   "id": "90b21018",
   "metadata": {},
   "source": [
    "## End"
   ]
  }
 ],
 "metadata": {
  "hide_input": false,
  "kernelspec": {
   "display_name": "Python [conda env:msds2022-ml3]",
   "language": "python",
   "name": "conda-env-msds2022-ml3-py"
  },
  "language_info": {
   "codemirror_mode": {
    "name": "ipython",
    "version": 3
   },
   "file_extension": ".py",
   "mimetype": "text/x-python",
   "name": "python",
   "nbconvert_exporter": "python",
   "pygments_lexer": "ipython3",
   "version": "3.9.6"
  },
  "toc": {
   "base_numbering": 1,
   "nav_menu": {},
   "number_sections": true,
   "sideBar": true,
   "skip_h1_title": false,
   "title_cell": "Table of Contents",
   "title_sidebar": "Contents",
   "toc_cell": false,
   "toc_position": {},
   "toc_section_display": true,
   "toc_window_display": false
  }
 },
 "nbformat": 4,
 "nbformat_minor": 5
}
