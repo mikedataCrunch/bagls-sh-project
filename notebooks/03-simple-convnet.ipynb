{
 "cells": [
  {
   "cell_type": "markdown",
   "id": "0dfd5593",
   "metadata": {},
   "source": [
    "# `tensorflow.keras` convnet from scratch\n",
    "\n",
    "This notebook demonstrates the use of a simple convolutional network. On a 2-class classification task--that is, an ouput layer with two nodes activated via `softmax`. Accordingly, loss is calculated using the `categorical cross-entropy`.\n",
    "\n",
    "References:\n",
    "\n",
    "* The github repository from the BAGLS team contained in this [link](https://github.com/anki-xyz/bagls/blob/master/Utils/DataGenerator.py#L109)\n"
   ]
  },
  {
   "cell_type": "code",
   "execution_count": 1,
   "id": "760317d5",
   "metadata": {
    "ExecuteTime": {
     "end_time": "2022-12-03T20:18:43.962332Z",
     "start_time": "2022-12-03T20:18:43.928014Z"
    }
   },
   "outputs": [],
   "source": [
    "# dev convenience\n",
    "%load_ext autoreload\n",
    "%autoreload 2"
   ]
  },
  {
   "cell_type": "code",
   "execution_count": 2,
   "id": "99711749",
   "metadata": {
    "ExecuteTime": {
     "end_time": "2022-12-03T20:18:44.352540Z",
     "start_time": "2022-12-03T20:18:43.965557Z"
    }
   },
   "outputs": [],
   "source": [
    "import sys\n",
    "sys.path.append(\"..\")\n",
    "import PATHS\n",
    "\n",
    "import os\n",
    "import numpy as np\n",
    "\n",
    "os.environ[\"CUDA_VISIBLE_DEVICES\"] = \"0,1\" # use only this GPU device\n",
    "os.environ[\"WANDB_SILENT\"] = \"True\"\n",
    "os.environ[\"WANDB_NOTEBOOK_NAME\"] = \"03-simple-convnet.ipynb\"\n",
    "\n",
    "PROJECT_NAME = 'bagls-sh-project'\n",
    "RUN_NAME = 'convnet_from_scratch'\n",
    "METRICS_TABLE_NAME = 'metrics_table'\n",
    "GRADCAM_LAYER_NAME = \"conv2d_3\""
   ]
  },
  {
   "cell_type": "code",
   "execution_count": 3,
   "id": "ae1d69b8",
   "metadata": {
    "ExecuteTime": {
     "end_time": "2022-12-03T20:18:47.425980Z",
     "start_time": "2022-12-03T20:18:44.355271Z"
    }
   },
   "outputs": [
    {
     "name": "stdout",
     "output_type": "stream",
     "text": [
      "W&B:  0.13.5\n"
     ]
    }
   ],
   "source": [
    "import wandb\n",
    "print(\"W&B: \", wandb.__version__)\n",
    "wandb.login()\n",
    "\n",
    "# # manage logs\n",
    "import logging\n",
    "\n",
    "logger = logging.getLogger(\"wandb\")\n",
    "logger.setLevel(logging.ERROR)"
   ]
  },
  {
   "cell_type": "code",
   "execution_count": 4,
   "id": "5c55ee0f",
   "metadata": {
    "ExecuteTime": {
     "end_time": "2022-12-03T20:18:53.147406Z",
     "start_time": "2022-12-03T20:18:47.433859Z"
    }
   },
   "outputs": [
    {
     "name": "stdout",
     "output_type": "stream",
     "text": [
      "[name: \"/device:CPU:0\"\n",
      "device_type: \"CPU\"\n",
      "memory_limit: 268435456\n",
      "locality {\n",
      "}\n",
      "incarnation: 7016468560932725208\n",
      ", name: \"/device:GPU:0\"\n",
      "device_type: \"GPU\"\n",
      "memory_limit: 10925703168\n",
      "locality {\n",
      "  bus_id: 1\n",
      "  links {\n",
      "    link {\n",
      "      device_id: 1\n",
      "      type: \"StreamExecutor\"\n",
      "      strength: 1\n",
      "    }\n",
      "  }\n",
      "}\n",
      "incarnation: 5369884234142610166\n",
      "physical_device_desc: \"device: 0, name: NVIDIA GeForce GTX 1080 Ti, pci bus id: 0000:04:00.0, compute capability: 6.1\"\n",
      ", name: \"/device:GPU:1\"\n",
      "device_type: \"GPU\"\n",
      "memory_limit: 10925703168\n",
      "locality {\n",
      "  bus_id: 1\n",
      "  links {\n",
      "    link {\n",
      "      type: \"StreamExecutor\"\n",
      "      strength: 1\n",
      "    }\n",
      "  }\n",
      "}\n",
      "incarnation: 13448997929073525861\n",
      "physical_device_desc: \"device: 1, name: NVIDIA GeForce GTX 1080 Ti, pci bus id: 0000:08:00.0, compute capability: 6.1\"\n",
      "]\n"
     ]
    },
    {
     "name": "stderr",
     "output_type": "stream",
     "text": [
      "2022-12-03 20:18:51.348541: I tensorflow/core/platform/cpu_feature_guard.cc:142] This TensorFlow binary is optimized with oneAPI Deep Neural Network Library (oneDNN) to use the following CPU instructions in performance-critical operations:  AVX2 FMA\n",
      "To enable them in other operations, rebuild TensorFlow with the appropriate compiler flags.\n",
      "2022-12-03 20:18:53.109537: I tensorflow/core/common_runtime/gpu/gpu_device.cc:1510] Created device /device:GPU:0 with 10419 MB memory:  -> device: 0, name: NVIDIA GeForce GTX 1080 Ti, pci bus id: 0000:04:00.0, compute capability: 6.1\n",
      "2022-12-03 20:18:53.111419: I tensorflow/core/common_runtime/gpu/gpu_device.cc:1510] Created device /device:GPU:1 with 10419 MB memory:  -> device: 1, name: NVIDIA GeForce GTX 1080 Ti, pci bus id: 0000:08:00.0, compute capability: 6.1\n"
     ]
    }
   ],
   "source": [
    "# tf loader\n",
    "import tensorflow as tf\n",
    "from tensorflow.keras.models import load_model\n",
    "from tensorflow import keras\n",
    "from tensorflow.python.client import device_lib\n",
    "\n",
    "print(device_lib.list_local_devices())"
   ]
  },
  {
   "cell_type": "code",
   "execution_count": 5,
   "id": "86de1bf7",
   "metadata": {
    "ExecuteTime": {
     "end_time": "2022-12-03T20:18:53.194434Z",
     "start_time": "2022-12-03T20:18:53.150388Z"
    }
   },
   "outputs": [],
   "source": [
    "import config\n",
    "configs = config.nb_configs"
   ]
  },
  {
   "cell_type": "code",
   "execution_count": 6,
   "id": "1013d50b",
   "metadata": {
    "ExecuteTime": {
     "end_time": "2022-12-03T20:18:53.236122Z",
     "start_time": "2022-12-03T20:18:53.196627Z"
    }
   },
   "outputs": [],
   "source": [
    "from tensorflow.keras.preprocessing.image import ImageDataGenerator\n",
    "from tensorflow.keras.applications.imagenet_utils import preprocess_input\n",
    "\n",
    "# initialize data generator\n",
    "train_datagen = ImageDataGenerator(\n",
    "    preprocessing_function=None,\n",
    "    validation_split=configs[\"validation_split\"],\n",
    "    rescale=configs[\"rescale\"],\n",
    "    width_shift_range=configs[\"width_shift_range\"],\n",
    "    height_shift_range=configs[\"height_shift_range\"],\n",
    "    shear_range=configs[\"shear_range\"],\n",
    "    zoom_range=configs[\"zoom_range\"],\n",
    "    fill_mode=configs[\"fill_mode\"],\n",
    "    horizontal_flip=configs[\"horizontal_flip\"],\n",
    "    rotation_range=configs[\"rotation_range\"],\n",
    ")\n",
    "\n",
    "test_datagen = ImageDataGenerator(\n",
    "    preprocessing_function=None, \n",
    "    rescale=configs[\"rescale\"],\n",
    ")"
   ]
  },
  {
   "cell_type": "code",
   "execution_count": 7,
   "id": "abe53015",
   "metadata": {
    "ExecuteTime": {
     "end_time": "2022-12-03T20:18:57.159790Z",
     "start_time": "2022-12-03T20:18:53.238127Z"
    }
   },
   "outputs": [
    {
     "name": "stdout",
     "output_type": "stream",
     "text": [
      "Found 50018 images belonging to 2 classes.\n",
      "Found 2632 images belonging to 2 classes.\n",
      "Found 2300 images belonging to 2 classes.\n"
     ]
    }
   ],
   "source": [
    "train_dir = configs[\"train_dir\"]\n",
    "test_dir = configs[\"test_dir\"]\n",
    "\n",
    "batch_size = configs[\"batch_size\"]\n",
    "class_names = configs[\"class_names\"]\n",
    "interpol = configs[\"interpol\"]\n",
    "cmap = configs[\"cmap\"]\n",
    "label_mode = configs[\"label_mode\"]\n",
    "labels = configs[\"labels\"]\n",
    "image_size = configs[\"image_size\"]\n",
    "\n",
    "\n",
    "train_dataset = train_datagen.flow_from_directory(\n",
    "    directory=train_dir,\n",
    "    target_size=image_size,\n",
    "    color_mode=cmap,\n",
    "    classes=class_names,\n",
    "    class_mode=label_mode,\n",
    "    batch_size=batch_size,\n",
    "    interpolation=interpol,\n",
    "    subset=\"training\",\n",
    ")\n",
    "\n",
    "val_dataset = train_datagen.flow_from_directory(\n",
    "    directory=train_dir,\n",
    "    target_size=image_size,\n",
    "    color_mode=cmap,\n",
    "    classes=class_names,\n",
    "    class_mode=label_mode,\n",
    "    batch_size=batch_size,\n",
    "    interpolation=interpol,\n",
    "    subset=\"validation\",\n",
    ")\n",
    "\n",
    "test_dataset = test_datagen.flow_from_directory(\n",
    "    directory=test_dir,\n",
    "    target_size=image_size,\n",
    "    color_mode=cmap,\n",
    "    classes=class_names,\n",
    "    class_mode=label_mode,\n",
    "    batch_size=batch_size,\n",
    "    interpolation=interpol,\n",
    "    shuffle=False, # do not shuffle for later evaluation, alphanum sort\n",
    ")\n",
    "\n",
    "configs.update({\"val_steps\": val_dataset.samples // configs[\"batch_size\"]})"
   ]
  },
  {
   "cell_type": "code",
   "execution_count": 8,
   "id": "f7fb3ead",
   "metadata": {
    "ExecuteTime": {
     "end_time": "2022-12-03T20:18:57.238558Z",
     "start_time": "2022-12-03T20:18:57.162909Z"
    },
    "scrolled": true
   },
   "outputs": [],
   "source": [
    "from tensorflow import keras\n",
    "from tensorflow.keras import layers\n",
    "\n",
    "def define_model():\n",
    "    inputs = keras.Input(shape=(*image_size, 3))\n",
    "    x = layers.Conv2D(filters=32, kernel_size=(3, 3), activation='relu')(inputs)\n",
    "    x = layers.MaxPooling2D(pool_size=(2, 2))(x)\n",
    "    x = layers.Conv2D(filters=64, kernel_size=(3, 3), activation='relu')(x)\n",
    "    x = layers.MaxPooling2D(pool_size=(2, 2))(x)\n",
    "    x = layers.Conv2D(filters=128, kernel_size=(3, 3), activation='relu')(x)\n",
    "    x = layers.MaxPooling2D(pool_size=(2, 2))(x)\n",
    "    x = layers.Conv2D(filters=128, kernel_size=(3, 3), activation='relu')(x)\n",
    "    x = layers.MaxPooling2D(pool_size=(2, 2))(x)\n",
    "    x = layers.Flatten()(x)\n",
    "    x = layers.Dense(units=512, activation='relu')(x)\n",
    "    x = keras.layers.Dropout(configs['dropout_rate'])(x)\n",
    "    outputs = layers.Dense(units=2, activation='softmax')(x)\n",
    "    model = keras.Model(inputs=inputs, outputs=outputs)\n",
    "    return model"
   ]
  },
  {
   "cell_type": "code",
   "execution_count": 9,
   "id": "058b5152",
   "metadata": {
    "ExecuteTime": {
     "end_time": "2022-12-03T20:18:57.714419Z",
     "start_time": "2022-12-03T20:18:57.240650Z"
    }
   },
   "outputs": [
    {
     "name": "stderr",
     "output_type": "stream",
     "text": [
      "2022-12-03 20:18:57.309516: I tensorflow/core/common_runtime/gpu/gpu_device.cc:1510] Created device /job:localhost/replica:0/task:0/device:GPU:0 with 10419 MB memory:  -> device: 0, name: NVIDIA GeForce GTX 1080 Ti, pci bus id: 0000:04:00.0, compute capability: 6.1\n",
      "2022-12-03 20:18:57.309948: I tensorflow/core/common_runtime/gpu/gpu_device.cc:1510] Created device /job:localhost/replica:0/task:0/device:GPU:1 with 10419 MB memory:  -> device: 1, name: NVIDIA GeForce GTX 1080 Ti, pci bus id: 0000:08:00.0, compute capability: 6.1\n"
     ]
    }
   ],
   "source": [
    "tf.keras.backend.clear_session()\n",
    "model = define_model()"
   ]
  },
  {
   "cell_type": "code",
   "execution_count": 10,
   "id": "c8af60e6",
   "metadata": {
    "ExecuteTime": {
     "end_time": "2022-12-03T20:18:57.779328Z",
     "start_time": "2022-12-03T20:18:57.717377Z"
    }
   },
   "outputs": [],
   "source": [
    "from tensorflow.keras import metrics\n",
    "import custom_metrics\n",
    "thresh = configs[\"thresh\"]\n",
    "metrics_dict = {\n",
    "    \"ACC\":  metrics.CategoricalAccuracy(name=\"ACC\"),\n",
    "    \"AUC-ROC\": custom_metrics.MulticlassAUC(name='ROC', curve='ROC', pos_label=1),\n",
    "    \"AUC-PR\": custom_metrics.MulticlassAUC(name='PR', curve='PR', pos_label=1),\n",
    "    \"TP\": custom_metrics.MulticlassTruePositives(name=\"TP\", pos_label=1, thresholds=thresh),\n",
    "    \"TN\": custom_metrics.MulticlassTrueNegatives(name=\"TN\", pos_label=1, thresholds=thresh),\n",
    "    \"FP\": custom_metrics.MulticlassFalsePositives(name=\"FP\", pos_label=1, thresholds=thresh),\n",
    "    \"FN\": custom_metrics.MulticlassFalseNegatives(name=\"FN\", pos_label=1, thresholds=thresh),\n",
    "}"
   ]
  },
  {
   "cell_type": "code",
   "execution_count": 11,
   "id": "3fc52a4f",
   "metadata": {
    "ExecuteTime": {
     "end_time": "2022-12-03T20:18:57.828540Z",
     "start_time": "2022-12-03T20:18:57.781091Z"
    }
   },
   "outputs": [],
   "source": [
    "from tensorflow.keras import optimizers\n",
    "from tensorflow.keras import losses\n",
    "\n",
    "# opt = optimizers.Adam(learning_rate=1e-06)\n",
    "opt = optimizers.Adam()\n",
    "met = list(metrics_dict.values())\n",
    "\n",
    "model.compile(\n",
    "    loss=losses.CategoricalCrossentropy(),\n",
    "    optimizer=opt,\n",
    "    metrics=met,\n",
    ")"
   ]
  },
  {
   "cell_type": "code",
   "execution_count": 12,
   "id": "ce3ba6d7",
   "metadata": {
    "ExecuteTime": {
     "end_time": "2022-12-03T20:19:14.297724Z",
     "start_time": "2022-12-03T20:18:57.830282Z"
    }
   },
   "outputs": [
    {
     "name": "stderr",
     "output_type": "stream",
     "text": [
      "2022-12-03 20:18:59.073816: I tensorflow/compiler/mlir/mlir_graph_optimization_pass.cc:185] None of the MLIR Optimization Passes are enabled (registered 2)\n",
      "2022-12-03 20:19:00.990132: I tensorflow/stream_executor/cuda/cuda_dnn.cc:369] Loaded cuDNN version 8400\n"
     ]
    },
    {
     "data": {
      "text/plain": [
       "array([[0.49660176, 0.50339824],\n",
       "       [0.4896203 , 0.51037973],\n",
       "       [0.49598914, 0.5040109 ],\n",
       "       ...,\n",
       "       [0.49343473, 0.50656533],\n",
       "       [0.48994914, 0.51005083],\n",
       "       [0.49814507, 0.5018549 ]], dtype=float32)"
      ]
     },
     "execution_count": 12,
     "metadata": {},
     "output_type": "execute_result"
    }
   ],
   "source": [
    "# verify arch\n",
    "# base predictions with untrained classif head\n",
    "base_preds = model.predict(test_dataset)\n",
    "base_preds"
   ]
  },
  {
   "cell_type": "code",
   "execution_count": 13,
   "id": "6124b283",
   "metadata": {
    "ExecuteTime": {
     "end_time": "2022-12-03T20:19:27.372595Z",
     "start_time": "2022-12-03T20:19:14.301104Z"
    },
    "scrolled": true
   },
   "outputs": [],
   "source": [
    "from interpretation import ValLog, GRADCamLogger\n",
    "# initialize run\n",
    "run = wandb.init(\n",
    "    project=PROJECT_NAME, \n",
    "    name=RUN_NAME,\n",
    "    config=configs, \n",
    "    job_type='train',\n",
    ")\n",
    "\n",
    "wandb_callback = wandb.keras.WandbCallback(\n",
    "    monitor=\"val_ROC\",\n",
    "    mode=\"max\",\n",
    "    save_model=True,\n",
    "    save_graph=True,\n",
    "    compute_flops=True,\n",
    ")\n",
    "\n",
    "callbacks = [\n",
    "    wandb_callback,\n",
    "    ValLog(generator=val_dataset, num_log_batches=1),\n",
    "#     GRADCamLogger(generator=test_dataset, layer_name=GRADCAM_LAYER_NAME, \n",
    "#                   num_log_batches=3)\n",
    "    \n",
    "]"
   ]
  },
  {
   "cell_type": "code",
   "execution_count": 14,
   "id": "080fea2f",
   "metadata": {
    "ExecuteTime": {
     "end_time": "2022-12-03T22:37:41.763290Z",
     "start_time": "2022-12-03T20:19:27.378210Z"
    }
   },
   "outputs": [
    {
     "name": "stderr",
     "output_type": "stream",
     "text": [
      "2022-12-03 20:19:31.116172: I tensorflow/core/grappler/devices.cc:66] Number of eligible GPUs (core count >= 8, compute capability >= 0.0): 2\n",
      "2022-12-03 20:19:31.116377: I tensorflow/core/grappler/clusters/single_machine.cc:357] Starting new session\n",
      "2022-12-03 20:19:31.121748: I tensorflow/core/common_runtime/gpu/gpu_device.cc:1510] Created device /job:localhost/replica:0/task:0/device:GPU:0 with 10419 MB memory:  -> device: 0, name: NVIDIA GeForce GTX 1080 Ti, pci bus id: 0000:04:00.0, compute capability: 6.1\n",
      "2022-12-03 20:19:31.122291: I tensorflow/core/common_runtime/gpu/gpu_device.cc:1510] Created device /job:localhost/replica:0/task:0/device:GPU:1 with 10419 MB memory:  -> device: 1, name: NVIDIA GeForce GTX 1080 Ti, pci bus id: 0000:08:00.0, compute capability: 6.1\n",
      "2022-12-03 20:19:31.126512: I tensorflow/core/grappler/optimizers/meta_optimizer.cc:1137] Optimization results for grappler item: graph_to_optimize\n",
      "  function_optimizer: function_optimizer did nothing. time = 0.007ms.\n",
      "  function_optimizer: function_optimizer did nothing. time = 0.002ms.\n",
      "\n"
     ]
    },
    {
     "name": "stdout",
     "output_type": "stream",
     "text": [
      "WARNING:tensorflow:From /home/mdorosan/.conda-envs/msds2022-ml3/lib/python3.9/site-packages/tensorflow/python/ops/nn_ops.py:5063: tensor_shape_from_node_def_name (from tensorflow.python.framework.graph_util_impl) is deprecated and will be removed in a future version.\n",
      "Instructions for updating:\n",
      "Use `tf.compat.v1.graph_util.tensor_shape_from_node_def_name`\n",
      "Epoch 1/10\n",
      "391/391 [==============================] - 902s 2s/step - loss: 0.6111 - ACC: 0.6874 - ROC: 0.6534 - PR: 0.5416 - TP: 4762.0000 - TN: 29620.0000 - FP: 2633.0000 - FN: 13003.0000 - val_loss: 0.5676 - val_ACC: 0.7067 - val_ROC: 0.7272 - val_PR: 0.6211 - val_TP: 313.0000 - val_TN: 1547.0000 - val_FP: 150.0000 - val_FN: 622.0000\n"
     ]
    },
    {
     "name": "stderr",
     "output_type": "stream",
     "text": [
      "2022-12-03 20:34:35.625613: W tensorflow/python/util/util.cc:348] Sets are not currently considered sequences, but this may change in the future, so consider avoiding using them.\n"
     ]
    },
    {
     "name": "stdout",
     "output_type": "stream",
     "text": [
      "INFO:tensorflow:Assets written to: /home/mdorosan/2022/bagls-sh-project/notebooks/wandb/run-20221203_201914-2r03a2cj/files/model-best/assets\n",
      "Epoch 2/10\n",
      "391/391 [==============================] - 822s 2s/step - loss: 0.5345 - ACC: 0.7269 - ROC: 0.7695 - PR: 0.6624 - TP: 7932.0000 - TN: 28425.0000 - FP: 3828.0000 - FN: 9833.0000 - val_loss: 0.4730 - val_ACC: 0.7610 - val_ROC: 0.8369 - val_PR: 0.7555 - val_TP: 432.0000 - val_TN: 1571.0000 - val_FP: 126.0000 - val_FN: 503.0000\n",
      "INFO:tensorflow:Assets written to: /home/mdorosan/2022/bagls-sh-project/notebooks/wandb/run-20221203_201914-2r03a2cj/files/model-best/assets\n",
      "Epoch 3/10\n",
      "391/391 [==============================] - 814s 2s/step - loss: 0.4495 - ACC: 0.7767 - ROC: 0.8508 - PR: 0.7655 - TP: 11003.0000 - TN: 27845.0000 - FP: 4408.0000 - FN: 6762.0000 - val_loss: 0.3733 - val_ACC: 0.8222 - val_ROC: 0.9038 - val_PR: 0.8483 - val_TP: 630.0000 - val_TN: 1534.0000 - val_FP: 163.0000 - val_FN: 305.0000\n",
      "INFO:tensorflow:Assets written to: /home/mdorosan/2022/bagls-sh-project/notebooks/wandb/run-20221203_201914-2r03a2cj/files/model-best/assets\n",
      "Epoch 4/10\n",
      "391/391 [==============================] - 810s 2s/step - loss: 0.3479 - ACC: 0.8384 - ROC: 0.9161 - PR: 0.8636 - TP: 13133.0000 - TN: 28803.0000 - FP: 3450.0000 - FN: 4632.0000 - val_loss: 0.2809 - val_ACC: 0.8818 - val_ROC: 0.9484 - val_PR: 0.9145 - val_TP: 780.0000 - val_TN: 1541.0000 - val_FP: 156.0000 - val_FN: 155.0000\n",
      "INFO:tensorflow:Assets written to: /home/mdorosan/2022/bagls-sh-project/notebooks/wandb/run-20221203_201914-2r03a2cj/files/model-best/assets\n",
      "Epoch 5/10\n",
      "391/391 [==============================] - 806s 2s/step - loss: 0.2422 - ACC: 0.8974 - ROC: 0.9611 - PR: 0.9347 - TP: 14888.0000 - TN: 29996.0000 - FP: 2257.0000 - FN: 2877.0000 - val_loss: 0.1609 - val_ACC: 0.9411 - val_ROC: 0.9828 - val_PR: 0.9724 - val_TP: 851.0000 - val_TN: 1626.0000 - val_FP: 71.0000 - val_FN: 84.0000\n",
      "INFO:tensorflow:Assets written to: /home/mdorosan/2022/bagls-sh-project/notebooks/wandb/run-20221203_201914-2r03a2cj/files/model-best/assets\n",
      "Epoch 6/10\n",
      "391/391 [==============================] - 801s 2s/step - loss: 0.1705 - ACC: 0.9317 - ROC: 0.9806 - PR: 0.9670 - TP: 15898.0000 - TN: 30702.0000 - FP: 1551.0000 - FN: 1867.0000 - val_loss: 0.1143 - val_ACC: 0.9578 - val_ROC: 0.9932 - val_PR: 0.9886 - val_TP: 904.0000 - val_TN: 1617.0000 - val_FP: 80.0000 - val_FN: 31.0000\n",
      "INFO:tensorflow:Assets written to: /home/mdorosan/2022/bagls-sh-project/notebooks/wandb/run-20221203_201914-2r03a2cj/files/model-best/assets\n",
      "Epoch 7/10\n",
      "391/391 [==============================] - 803s 2s/step - loss: 0.1228 - ACC: 0.9543 - ROC: 0.9896 - PR: 0.9819 - TP: 16541.0000 - TN: 31190.0000 - FP: 1063.0000 - FN: 1224.0000 - val_loss: 0.0923 - val_ACC: 0.9654 - val_ROC: 0.9952 - val_PR: 0.9902 - val_TP: 876.0000 - val_TN: 1665.0000 - val_FP: 32.0000 - val_FN: 59.0000\n",
      "INFO:tensorflow:Assets written to: /home/mdorosan/2022/bagls-sh-project/notebooks/wandb/run-20221203_201914-2r03a2cj/files/model-best/assets\n",
      "Epoch 8/10\n",
      "391/391 [==============================] - 811s 2s/step - loss: 0.0972 - ACC: 0.9646 - ROC: 0.9932 - PR: 0.9877 - TP: 16808.0000 - TN: 31437.0000 - FP: 816.0000 - FN: 957.0000 - val_loss: 0.0599 - val_ACC: 0.9780 - val_ROC: 0.9983 - val_PR: 0.9970 - val_TP: 914.0000 - val_TN: 1660.0000 - val_FP: 37.0000 - val_FN: 21.0000\n",
      "INFO:tensorflow:Assets written to: /home/mdorosan/2022/bagls-sh-project/notebooks/wandb/run-20221203_201914-2r03a2cj/files/model-best/assets\n",
      "Epoch 9/10\n",
      "391/391 [==============================] - 799s 2s/step - loss: 0.0783 - ACC: 0.9711 - ROC: 0.9953 - PR: 0.9923 - TP: 17005.0000 - TN: 31565.0000 - FP: 688.0000 - FN: 760.0000 - val_loss: 0.0521 - val_ACC: 0.9818 - val_ROC: 0.9984 - val_PR: 0.9973 - val_TP: 923.0000 - val_TN: 1661.0000 - val_FP: 36.0000 - val_FN: 12.0000\n",
      "INFO:tensorflow:Assets written to: /home/mdorosan/2022/bagls-sh-project/notebooks/wandb/run-20221203_201914-2r03a2cj/files/model-best/assets\n",
      "Epoch 10/10\n",
      "381/391 [============================>.] - ETA: 19s - loss: 0.0610 - ACC: 0.9778 - ROC: 0.9972 - PR: 0.9949 - TP: 16739.0000 - TN: 30917.0000 - FP: 510.0000 - FN: 572.0000"
     ]
    },
    {
     "name": "stderr",
     "output_type": "stream",
     "text": [
      "IOPub data rate exceeded.\n",
      "The notebook server will temporarily stop sending output\n",
      "to the client in order to avoid crashing it.\n",
      "To change this limit, set the config variable\n",
      "`--NotebookApp.iopub_data_rate_limit`.\n",
      "\n",
      "Current values:\n",
      "NotebookApp.iopub_data_rate_limit=1000000.0 (bytes/sec)\n",
      "NotebookApp.rate_limit_window=3.0 (secs)\n",
      "\n"
     ]
    }
   ],
   "source": [
    "history = model.fit(\n",
    "    train_dataset,\n",
    "    validation_data=val_dataset,\n",
    "    epochs=configs[\"epochs\"], \n",
    "    shuffle=True,\n",
    "    callbacks=callbacks,\n",
    ")\n",
    "run.finish()"
   ]
  },
  {
   "cell_type": "markdown",
   "id": "90b21018",
   "metadata": {},
   "source": [
    "## End"
   ]
  }
 ],
 "metadata": {
  "hide_input": false,
  "kernelspec": {
   "display_name": "Python [conda env:msds2022-ml3]",
   "language": "python",
   "name": "conda-env-msds2022-ml3-py"
  },
  "language_info": {
   "codemirror_mode": {
    "name": "ipython",
    "version": 3
   },
   "file_extension": ".py",
   "mimetype": "text/x-python",
   "name": "python",
   "nbconvert_exporter": "python",
   "pygments_lexer": "ipython3",
   "version": "3.9.6"
  },
  "toc": {
   "base_numbering": 1,
   "nav_menu": {},
   "number_sections": true,
   "sideBar": true,
   "skip_h1_title": false,
   "title_cell": "Table of Contents",
   "title_sidebar": "Contents",
   "toc_cell": false,
   "toc_position": {},
   "toc_section_display": true,
   "toc_window_display": false
  }
 },
 "nbformat": 4,
 "nbformat_minor": 5
}
