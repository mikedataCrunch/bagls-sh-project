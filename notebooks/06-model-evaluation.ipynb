{
 "cells": [
  {
   "cell_type": "code",
   "execution_count": 1,
   "id": "f1aa56c0",
   "metadata": {
    "ExecuteTime": {
     "end_time": "2022-12-04T10:49:32.445179Z",
     "start_time": "2022-12-04T10:49:32.424876Z"
    }
   },
   "outputs": [],
   "source": [
    "# dev convenience\n",
    "%load_ext autoreload\n",
    "%autoreload 2"
   ]
  },
  {
   "cell_type": "code",
   "execution_count": 2,
   "id": "3ca39c38",
   "metadata": {
    "ExecuteTime": {
     "end_time": "2022-12-04T10:49:58.799078Z",
     "start_time": "2022-12-04T10:49:50.540077Z"
    }
   },
   "outputs": [
    {
     "name": "stderr",
     "output_type": "stream",
     "text": [
      "\u001b[34m\u001b[1mwandb\u001b[0m: \u001b[33mWARNING\u001b[0m WANDB_NOTEBOOK_NAME should be a path to a notebook file, couldn't find 07-model-evaluation.ipynb.\n"
     ]
    },
    {
     "name": "stdout",
     "output_type": "stream",
     "text": [
      "W&B:  0.13.5\n"
     ]
    },
    {
     "name": "stderr",
     "output_type": "stream",
     "text": [
      "\u001b[34m\u001b[1mwandb\u001b[0m: Currently logged in as: \u001b[33mmiked\u001b[0m. Use \u001b[1m`wandb login --relogin`\u001b[0m to force relogin\n"
     ]
    }
   ],
   "source": [
    "import sys\n",
    "sys.path.append(\"..\")\n",
    "\n",
    "import os\n",
    "import numpy as np\n",
    "import pandas as pd\n",
    "import matplotlib.pyplot as plt\n",
    "from tqdm import tqdm\n",
    "import PATHS\n",
    "import config\n",
    "import utils\n",
    "import custom_metrics\n",
    "from sklearn.metrics import auc, precision_recall_curve, roc_auc_score\n",
    "\n",
    "os.environ[\"CUDA_VISIBLE_DEVICES\"] = \"0,1,2,3\"\n",
    "configs = config.nb_configs\n",
    "\n",
    "# os.environ[\"WANDB_SILENT\"] = \"True\"\n",
    "os.environ[\"WANDB_NOTEBOOK_NAME\"] = \"07-model-evaluation.ipynb\"\n",
    "\n",
    "import wandb\n",
    "print(\"W&B: \", wandb.__version__)\n",
    "wandb.login()\n",
    "\n",
    "PROJECT_NAME = \"bagls-sh-project\""
   ]
  },
  {
   "cell_type": "code",
   "execution_count": 3,
   "id": "1a80397d",
   "metadata": {
    "ExecuteTime": {
     "end_time": "2022-12-04T10:50:01.822349Z",
     "start_time": "2022-12-04T10:49:58.802385Z"
    }
   },
   "outputs": [
    {
     "name": "stdout",
     "output_type": "stream",
     "text": [
      "[name: \"/device:CPU:0\"\n",
      "device_type: \"CPU\"\n",
      "memory_limit: 268435456\n",
      "locality {\n",
      "}\n",
      "incarnation: 14630021161911500667\n",
      ", name: \"/device:GPU:0\"\n",
      "device_type: \"GPU\"\n",
      "memory_limit: 10925703168\n",
      "locality {\n",
      "  bus_id: 1\n",
      "  links {\n",
      "    link {\n",
      "      device_id: 1\n",
      "      type: \"StreamExecutor\"\n",
      "      strength: 1\n",
      "    }\n",
      "  }\n",
      "}\n",
      "incarnation: 6868592658634500236\n",
      "physical_device_desc: \"device: 0, name: NVIDIA GeForce GTX 1080 Ti, pci bus id: 0000:04:00.0, compute capability: 6.1\"\n",
      ", name: \"/device:GPU:1\"\n",
      "device_type: \"GPU\"\n",
      "memory_limit: 10925703168\n",
      "locality {\n",
      "  bus_id: 1\n",
      "  links {\n",
      "    link {\n",
      "      type: \"StreamExecutor\"\n",
      "      strength: 1\n",
      "    }\n",
      "  }\n",
      "}\n",
      "incarnation: 2039024104530833085\n",
      "physical_device_desc: \"device: 1, name: NVIDIA GeForce GTX 1080 Ti, pci bus id: 0000:08:00.0, compute capability: 6.1\"\n",
      ", name: \"/device:GPU:2\"\n",
      "device_type: \"GPU\"\n",
      "memory_limit: 10925703168\n",
      "locality {\n",
      "  bus_id: 2\n",
      "  numa_node: 1\n",
      "  links {\n",
      "    link {\n",
      "      device_id: 3\n",
      "      type: \"StreamExecutor\"\n",
      "      strength: 1\n",
      "    }\n",
      "  }\n",
      "}\n",
      "incarnation: 17915776989351331668\n",
      "physical_device_desc: \"device: 2, name: NVIDIA GeForce GTX 1080 Ti, pci bus id: 0000:84:00.0, compute capability: 6.1\"\n",
      ", name: \"/device:GPU:3\"\n",
      "device_type: \"GPU\"\n",
      "memory_limit: 10925703168\n",
      "locality {\n",
      "  bus_id: 2\n",
      "  numa_node: 1\n",
      "  links {\n",
      "    link {\n",
      "      device_id: 2\n",
      "      type: \"StreamExecutor\"\n",
      "      strength: 1\n",
      "    }\n",
      "  }\n",
      "}\n",
      "incarnation: 16299946476661972057\n",
      "physical_device_desc: \"device: 3, name: NVIDIA GeForce GTX 1080 Ti, pci bus id: 0000:89:00.0, compute capability: 6.1\"\n",
      "]\n"
     ]
    },
    {
     "name": "stderr",
     "output_type": "stream",
     "text": [
      "2022-12-04 10:49:58.863477: I tensorflow/core/platform/cpu_feature_guard.cc:142] This TensorFlow binary is optimized with oneAPI Deep Neural Network Library (oneDNN) to use the following CPU instructions in performance-critical operations:  AVX2 FMA\n",
      "To enable them in other operations, rebuild TensorFlow with the appropriate compiler flags.\n",
      "2022-12-04 10:50:01.814278: I tensorflow/core/common_runtime/gpu/gpu_device.cc:1510] Created device /device:GPU:0 with 10419 MB memory:  -> device: 0, name: NVIDIA GeForce GTX 1080 Ti, pci bus id: 0000:04:00.0, compute capability: 6.1\n",
      "2022-12-04 10:50:01.815239: I tensorflow/core/common_runtime/gpu/gpu_device.cc:1510] Created device /device:GPU:1 with 10419 MB memory:  -> device: 1, name: NVIDIA GeForce GTX 1080 Ti, pci bus id: 0000:08:00.0, compute capability: 6.1\n",
      "2022-12-04 10:50:01.815968: I tensorflow/core/common_runtime/gpu/gpu_device.cc:1510] Created device /device:GPU:2 with 10419 MB memory:  -> device: 2, name: NVIDIA GeForce GTX 1080 Ti, pci bus id: 0000:84:00.0, compute capability: 6.1\n",
      "2022-12-04 10:50:01.816644: I tensorflow/core/common_runtime/gpu/gpu_device.cc:1510] Created device /device:GPU:3 with 10419 MB memory:  -> device: 3, name: NVIDIA GeForce GTX 1080 Ti, pci bus id: 0000:89:00.0, compute capability: 6.1\n"
     ]
    }
   ],
   "source": [
    "import tensorflow as tf\n",
    "from tensorflow.keras.models import load_model\n",
    "from tensorflow import keras\n",
    "from tensorflow.keras import metrics\n",
    "from tensorflow.keras.preprocessing.image import ImageDataGenerator\n",
    "from tensorflow.keras.applications.imagenet_utils import preprocess_input\n",
    "from tensorflow.python.client import device_lib\n",
    "\n",
    "print(device_lib.list_local_devices())"
   ]
  },
  {
   "cell_type": "markdown",
   "id": "eb2adebc",
   "metadata": {},
   "source": [
    "## Create bootstraps of the `test` set"
   ]
  },
  {
   "cell_type": "code",
   "execution_count": 4,
   "id": "8bf2a9a7",
   "metadata": {
    "ExecuteTime": {
     "end_time": "2022-12-04T10:50:05.325963Z",
     "start_time": "2022-12-04T10:50:05.254003Z"
    }
   },
   "outputs": [],
   "source": [
    "# generator\n",
    "test_datagen = ImageDataGenerator(\n",
    "    preprocessing_function=None, \n",
    "    rescale=configs[\"rescale\"],\n",
    ")"
   ]
  },
  {
   "cell_type": "code",
   "execution_count": 5,
   "id": "14842d78",
   "metadata": {
    "ExecuteTime": {
     "end_time": "2022-12-04T10:50:06.631620Z",
     "start_time": "2022-12-04T10:50:05.831086Z"
    }
   },
   "outputs": [
    {
     "name": "stdout",
     "output_type": "stream",
     "text": [
      "Found 2300 validated image filenames belonging to 2 classes.\n",
      "Found 2300 validated image filenames belonging to 2 classes.\n",
      "Found 2300 validated image filenames belonging to 2 classes.\n",
      "Found 2300 validated image filenames belonging to 2 classes.\n",
      "Found 2300 validated image filenames belonging to 2 classes.\n",
      "Found 2300 validated image filenames belonging to 2 classes.\n",
      "Found 2300 validated image filenames belonging to 2 classes.\n",
      "Found 2300 validated image filenames belonging to 2 classes.\n",
      "Found 2300 validated image filenames belonging to 2 classes.\n",
      "Found 2300 validated image filenames belonging to 2 classes.\n"
     ]
    }
   ],
   "source": [
    "test_dir = \"../test/test\"\n",
    "num_bootstrap = 10 # bootstrap sets\n",
    "datasets, labels_list, = [], []\n",
    "df_list = []\n",
    "\n",
    "for i in range(num_bootstrap):\n",
    "    # get boostrap dataframes\n",
    "    csv_path = os.path.join(PATHS.bootstrap_dir, f\"test-{i}.csv\")\n",
    "    df = utils.prepare_df(csv_path)\n",
    "    \n",
    "    # get labels 1 unhealthy, 0 healthy\n",
    "    labels_list.append((df[\"is_healthy\"]==False).astype(int))    \n",
    "    test_dataset = test_datagen.flow_from_dataframe(\n",
    "        df, directory=test_dir, \n",
    "        x_col='filename', y_col='class',\n",
    "        target_size=configs[\"image_size\"],\n",
    "        color_mode=configs[\"cmap\"],\n",
    "        classes=configs[\"class_names\"],\n",
    "        class_mode=configs[\"label_mode\"],\n",
    "        batch_size=configs[\"batch_size\"],\n",
    "        interpolation=configs[\"interpol\"],\n",
    "        validate_filenames=True,\n",
    "        shuffle=False,\n",
    "    )\n",
    "    # log df\n",
    "    df_list.append(df)\n",
    "    datasets.append(test_dataset)"
   ]
  },
  {
   "cell_type": "markdown",
   "id": "3896815c",
   "metadata": {},
   "source": [
    "## Load Models"
   ]
  },
  {
   "cell_type": "code",
   "execution_count": 6,
   "id": "c3b02173",
   "metadata": {
    "ExecuteTime": {
     "end_time": "2022-12-04T10:50:09.199963Z",
     "start_time": "2022-12-04T10:50:09.116086Z"
    }
   },
   "outputs": [],
   "source": [
    "# initialize empty values\n",
    "models = {\n",
    "    'convnet_from_scratch': None,\n",
    "    'DenseNet121': None,\n",
    "    'ResNet50': None,\n",
    "    'InceptionV3': None, \n",
    "    'InceptionResNetV2': None,\n",
    "}"
   ]
  },
  {
   "cell_type": "code",
   "execution_count": 7,
   "id": "b0d617c8",
   "metadata": {
    "ExecuteTime": {
     "end_time": "2022-12-04T10:52:40.668348Z",
     "start_time": "2022-12-04T10:50:12.752567Z"
    },
    "scrolled": true
   },
   "outputs": [
    {
     "data": {
      "text/html": [
       "Tracking run with wandb version 0.13.5"
      ],
      "text/plain": [
       "<IPython.core.display.HTML object>"
      ]
     },
     "metadata": {},
     "output_type": "display_data"
    },
    {
     "data": {
      "text/html": [
       "Run data is saved locally in <code>/home/mdorosan/2022/bagls-sh-project/notebooks/wandb/run-20221204_105012-3rqyfkjf</code>"
      ],
      "text/plain": [
       "<IPython.core.display.HTML object>"
      ]
     },
     "metadata": {},
     "output_type": "display_data"
    },
    {
     "data": {
      "text/html": [
       "Syncing run <strong><a href=\"https://wandb.ai/miked/bagls-sh-project/runs/3rqyfkjf\" target=\"_blank\">convnet_from_scratch</a></strong> to <a href=\"https://wandb.ai/miked/bagls-sh-project\" target=\"_blank\">Weights & Biases</a> (<a href=\"https://wandb.me/run\" target=\"_blank\">docs</a>)<br/>"
      ],
      "text/plain": [
       "<IPython.core.display.HTML object>"
      ]
     },
     "metadata": {},
     "output_type": "display_data"
    },
    {
     "name": "stderr",
     "output_type": "stream",
     "text": [
      "\u001b[34m\u001b[1mwandb\u001b[0m: Downloading large artifact model-convnet_from_scratch:latest, 111.03MB. 4 files... \n",
      "\u001b[34m\u001b[1mwandb\u001b[0m:   4 of 4 files downloaded.  \n",
      "Done. 0:0:0.5\n"
     ]
    },
    {
     "data": {
      "text/html": [
       "Waiting for W&B process to finish... <strong style=\"color:green\">(success).</strong>"
      ],
      "text/plain": [
       "<IPython.core.display.HTML object>"
      ]
     },
     "metadata": {},
     "output_type": "display_data"
    },
    {
     "data": {
      "application/vnd.jupyter.widget-view+json": {
       "model_id": "96f934f8fe534a83ba4fd2af69ed1fae",
       "version_major": 2,
       "version_minor": 0
      },
      "text/plain": [
       "VBox(children=(Label(value='0.086 MB of 0.086 MB uploaded (0.000 MB deduped)\\r'), FloatProgress(value=1.0, max…"
      ]
     },
     "metadata": {},
     "output_type": "display_data"
    },
    {
     "data": {
      "text/html": [
       "Synced <strong style=\"color:#cdcd00\">convnet_from_scratch</strong>: <a href=\"https://wandb.ai/miked/bagls-sh-project/runs/3rqyfkjf\" target=\"_blank\">https://wandb.ai/miked/bagls-sh-project/runs/3rqyfkjf</a><br/>Synced 7 W&B file(s), 0 media file(s), 0 artifact file(s) and 1 other file(s)"
      ],
      "text/plain": [
       "<IPython.core.display.HTML object>"
      ]
     },
     "metadata": {},
     "output_type": "display_data"
    },
    {
     "data": {
      "text/html": [
       "Find logs at: <code>./wandb/run-20221204_105012-3rqyfkjf/logs</code>"
      ],
      "text/plain": [
       "<IPython.core.display.HTML object>"
      ]
     },
     "metadata": {},
     "output_type": "display_data"
    },
    {
     "name": "stderr",
     "output_type": "stream",
     "text": [
      "2022-12-04 10:50:27.385998: I tensorflow/core/common_runtime/gpu/gpu_device.cc:1510] Created device /job:localhost/replica:0/task:0/device:GPU:0 with 10419 MB memory:  -> device: 0, name: NVIDIA GeForce GTX 1080 Ti, pci bus id: 0000:04:00.0, compute capability: 6.1\n",
      "2022-12-04 10:50:27.387076: I tensorflow/core/common_runtime/gpu/gpu_device.cc:1510] Created device /job:localhost/replica:0/task:0/device:GPU:1 with 10419 MB memory:  -> device: 1, name: NVIDIA GeForce GTX 1080 Ti, pci bus id: 0000:08:00.0, compute capability: 6.1\n",
      "2022-12-04 10:50:27.388097: I tensorflow/core/common_runtime/gpu/gpu_device.cc:1510] Created device /job:localhost/replica:0/task:0/device:GPU:2 with 10419 MB memory:  -> device: 2, name: NVIDIA GeForce GTX 1080 Ti, pci bus id: 0000:84:00.0, compute capability: 6.1\n",
      "2022-12-04 10:50:27.389100: I tensorflow/core/common_runtime/gpu/gpu_device.cc:1510] Created device /job:localhost/replica:0/task:0/device:GPU:3 with 10419 MB memory:  -> device: 3, name: NVIDIA GeForce GTX 1080 Ti, pci bus id: 0000:89:00.0, compute capability: 6.1\n"
     ]
    },
    {
     "name": "stdout",
     "output_type": "stream",
     "text": [
      "WARNING:tensorflow:Unable to restore custom metric. Please ensure that the layer implements `get_config` and `from_config` when saving. In addition, please use the `custom_objects` arg when calling `load_model()`.\n",
      "WARNING:tensorflow:Unable to restore custom metric. Please ensure that the layer implements `get_config` and `from_config` when saving. In addition, please use the `custom_objects` arg when calling `load_model()`.\n",
      "WARNING:tensorflow:Unable to restore custom metric. Please ensure that the layer implements `get_config` and `from_config` when saving. In addition, please use the `custom_objects` arg when calling `load_model()`.\n",
      "WARNING:tensorflow:Unable to restore custom metric. Please ensure that the layer implements `get_config` and `from_config` when saving. In addition, please use the `custom_objects` arg when calling `load_model()`.\n",
      "WARNING:tensorflow:Unable to restore custom metric. Please ensure that the layer implements `get_config` and `from_config` when saving. In addition, please use the `custom_objects` arg when calling `load_model()`.\n",
      "WARNING:tensorflow:Unable to restore custom metric. Please ensure that the layer implements `get_config` and `from_config` when saving. In addition, please use the `custom_objects` arg when calling `load_model()`.\n"
     ]
    },
    {
     "data": {
      "text/html": [
       "Tracking run with wandb version 0.13.5"
      ],
      "text/plain": [
       "<IPython.core.display.HTML object>"
      ]
     },
     "metadata": {},
     "output_type": "display_data"
    },
    {
     "data": {
      "text/html": [
       "Run data is saved locally in <code>/home/mdorosan/2022/bagls-sh-project/notebooks/wandb/run-20221204_105028-1odo9pux</code>"
      ],
      "text/plain": [
       "<IPython.core.display.HTML object>"
      ]
     },
     "metadata": {},
     "output_type": "display_data"
    },
    {
     "data": {
      "text/html": [
       "Syncing run <strong><a href=\"https://wandb.ai/miked/bagls-sh-project/runs/1odo9pux\" target=\"_blank\">DenseNet121</a></strong> to <a href=\"https://wandb.ai/miked/bagls-sh-project\" target=\"_blank\">Weights & Biases</a> (<a href=\"https://wandb.me/run\" target=\"_blank\">docs</a>)<br/>"
      ],
      "text/plain": [
       "<IPython.core.display.HTML object>"
      ]
     },
     "metadata": {},
     "output_type": "display_data"
    },
    {
     "name": "stderr",
     "output_type": "stream",
     "text": [
      "\u001b[34m\u001b[1mwandb\u001b[0m:   4 of 4 files downloaded.  \n"
     ]
    },
    {
     "data": {
      "text/html": [
       "Waiting for W&B process to finish... <strong style=\"color:green\">(success).</strong>"
      ],
      "text/plain": [
       "<IPython.core.display.HTML object>"
      ]
     },
     "metadata": {},
     "output_type": "display_data"
    },
    {
     "data": {
      "application/vnd.jupyter.widget-view+json": {
       "model_id": "91bda5812ed54131ad7db542d5183a00",
       "version_major": 2,
       "version_minor": 0
      },
      "text/plain": [
       "VBox(children=(Label(value='0.086 MB of 0.086 MB uploaded (0.000 MB deduped)\\r'), FloatProgress(value=1.0, max…"
      ]
     },
     "metadata": {},
     "output_type": "display_data"
    },
    {
     "data": {
      "text/html": [
       "Synced <strong style=\"color:#cdcd00\">DenseNet121</strong>: <a href=\"https://wandb.ai/miked/bagls-sh-project/runs/1odo9pux\" target=\"_blank\">https://wandb.ai/miked/bagls-sh-project/runs/1odo9pux</a><br/>Synced 7 W&B file(s), 0 media file(s), 0 artifact file(s) and 1 other file(s)"
      ],
      "text/plain": [
       "<IPython.core.display.HTML object>"
      ]
     },
     "metadata": {},
     "output_type": "display_data"
    },
    {
     "data": {
      "text/html": [
       "Find logs at: <code>./wandb/run-20221204_105028-1odo9pux/logs</code>"
      ],
      "text/plain": [
       "<IPython.core.display.HTML object>"
      ]
     },
     "metadata": {},
     "output_type": "display_data"
    },
    {
     "name": "stdout",
     "output_type": "stream",
     "text": [
      "WARNING:tensorflow:Unable to restore custom metric. Please ensure that the layer implements `get_config` and `from_config` when saving. In addition, please use the `custom_objects` arg when calling `load_model()`.\n",
      "WARNING:tensorflow:Unable to restore custom metric. Please ensure that the layer implements `get_config` and `from_config` when saving. In addition, please use the `custom_objects` arg when calling `load_model()`.\n",
      "WARNING:tensorflow:Unable to restore custom metric. Please ensure that the layer implements `get_config` and `from_config` when saving. In addition, please use the `custom_objects` arg when calling `load_model()`.\n",
      "WARNING:tensorflow:Unable to restore custom metric. Please ensure that the layer implements `get_config` and `from_config` when saving. In addition, please use the `custom_objects` arg when calling `load_model()`.\n",
      "WARNING:tensorflow:Unable to restore custom metric. Please ensure that the layer implements `get_config` and `from_config` when saving. In addition, please use the `custom_objects` arg when calling `load_model()`.\n",
      "WARNING:tensorflow:Unable to restore custom metric. Please ensure that the layer implements `get_config` and `from_config` when saving. In addition, please use the `custom_objects` arg when calling `load_model()`.\n"
     ]
    },
    {
     "data": {
      "text/html": [
       "Tracking run with wandb version 0.13.5"
      ],
      "text/plain": [
       "<IPython.core.display.HTML object>"
      ]
     },
     "metadata": {},
     "output_type": "display_data"
    },
    {
     "data": {
      "text/html": [
       "Run data is saved locally in <code>/home/mdorosan/2022/bagls-sh-project/notebooks/wandb/run-20221204_105101-2jt3woj2</code>"
      ],
      "text/plain": [
       "<IPython.core.display.HTML object>"
      ]
     },
     "metadata": {},
     "output_type": "display_data"
    },
    {
     "data": {
      "text/html": [
       "Syncing run <strong><a href=\"https://wandb.ai/miked/bagls-sh-project/runs/2jt3woj2\" target=\"_blank\">ResNet50</a></strong> to <a href=\"https://wandb.ai/miked/bagls-sh-project\" target=\"_blank\">Weights & Biases</a> (<a href=\"https://wandb.me/run\" target=\"_blank\">docs</a>)<br/>"
      ],
      "text/plain": [
       "<IPython.core.display.HTML object>"
      ]
     },
     "metadata": {},
     "output_type": "display_data"
    },
    {
     "name": "stderr",
     "output_type": "stream",
     "text": [
      "\u001b[34m\u001b[1mwandb\u001b[0m: Downloading large artifact model-ResNet50:latest, 106.03MB. 4 files... \n",
      "\u001b[34m\u001b[1mwandb\u001b[0m:   4 of 4 files downloaded.  \n",
      "Done. 0:0:0.5\n"
     ]
    },
    {
     "data": {
      "text/html": [
       "Waiting for W&B process to finish... <strong style=\"color:green\">(success).</strong>"
      ],
      "text/plain": [
       "<IPython.core.display.HTML object>"
      ]
     },
     "metadata": {},
     "output_type": "display_data"
    },
    {
     "data": {
      "application/vnd.jupyter.widget-view+json": {
       "model_id": "b21ab62d786847239de95bb56107b6fd",
       "version_major": 2,
       "version_minor": 0
      },
      "text/plain": [
       "VBox(children=(Label(value='0.086 MB of 0.086 MB uploaded (0.000 MB deduped)\\r'), FloatProgress(value=1.0, max…"
      ]
     },
     "metadata": {},
     "output_type": "display_data"
    },
    {
     "data": {
      "text/html": [
       "Synced <strong style=\"color:#cdcd00\">ResNet50</strong>: <a href=\"https://wandb.ai/miked/bagls-sh-project/runs/2jt3woj2\" target=\"_blank\">https://wandb.ai/miked/bagls-sh-project/runs/2jt3woj2</a><br/>Synced 7 W&B file(s), 0 media file(s), 0 artifact file(s) and 1 other file(s)"
      ],
      "text/plain": [
       "<IPython.core.display.HTML object>"
      ]
     },
     "metadata": {},
     "output_type": "display_data"
    },
    {
     "data": {
      "text/html": [
       "Find logs at: <code>./wandb/run-20221204_105101-2jt3woj2/logs</code>"
      ],
      "text/plain": [
       "<IPython.core.display.HTML object>"
      ]
     },
     "metadata": {},
     "output_type": "display_data"
    },
    {
     "name": "stdout",
     "output_type": "stream",
     "text": [
      "WARNING:tensorflow:Unable to restore custom metric. Please ensure that the layer implements `get_config` and `from_config` when saving. In addition, please use the `custom_objects` arg when calling `load_model()`.\n",
      "WARNING:tensorflow:Unable to restore custom metric. Please ensure that the layer implements `get_config` and `from_config` when saving. In addition, please use the `custom_objects` arg when calling `load_model()`.\n",
      "WARNING:tensorflow:Unable to restore custom metric. Please ensure that the layer implements `get_config` and `from_config` when saving. In addition, please use the `custom_objects` arg when calling `load_model()`.\n",
      "WARNING:tensorflow:Unable to restore custom metric. Please ensure that the layer implements `get_config` and `from_config` when saving. In addition, please use the `custom_objects` arg when calling `load_model()`.\n",
      "WARNING:tensorflow:Unable to restore custom metric. Please ensure that the layer implements `get_config` and `from_config` when saving. In addition, please use the `custom_objects` arg when calling `load_model()`.\n",
      "WARNING:tensorflow:Unable to restore custom metric. Please ensure that the layer implements `get_config` and `from_config` when saving. In addition, please use the `custom_objects` arg when calling `load_model()`.\n"
     ]
    },
    {
     "data": {
      "text/html": [
       "Tracking run with wandb version 0.13.5"
      ],
      "text/plain": [
       "<IPython.core.display.HTML object>"
      ]
     },
     "metadata": {},
     "output_type": "display_data"
    },
    {
     "data": {
      "text/html": [
       "Run data is saved locally in <code>/home/mdorosan/2022/bagls-sh-project/notebooks/wandb/run-20221204_105124-27o41ffd</code>"
      ],
      "text/plain": [
       "<IPython.core.display.HTML object>"
      ]
     },
     "metadata": {},
     "output_type": "display_data"
    },
    {
     "data": {
      "text/html": [
       "Syncing run <strong><a href=\"https://wandb.ai/miked/bagls-sh-project/runs/27o41ffd\" target=\"_blank\">InceptionV3</a></strong> to <a href=\"https://wandb.ai/miked/bagls-sh-project\" target=\"_blank\">Weights & Biases</a> (<a href=\"https://wandb.me/run\" target=\"_blank\">docs</a>)<br/>"
      ],
      "text/plain": [
       "<IPython.core.display.HTML object>"
      ]
     },
     "metadata": {},
     "output_type": "display_data"
    },
    {
     "name": "stderr",
     "output_type": "stream",
     "text": [
      "\u001b[34m\u001b[1mwandb\u001b[0m: Downloading large artifact model-InceptionV3:latest, 101.47MB. 4 files... \n",
      "\u001b[34m\u001b[1mwandb\u001b[0m:   4 of 4 files downloaded.  \n",
      "Done. 0:0:0.4\n"
     ]
    },
    {
     "data": {
      "text/html": [
       "Waiting for W&B process to finish... <strong style=\"color:green\">(success).</strong>"
      ],
      "text/plain": [
       "<IPython.core.display.HTML object>"
      ]
     },
     "metadata": {},
     "output_type": "display_data"
    },
    {
     "data": {
      "application/vnd.jupyter.widget-view+json": {
       "model_id": "2d99b4560a894b11a1741589ebe7f488",
       "version_major": 2,
       "version_minor": 0
      },
      "text/plain": [
       "VBox(children=(Label(value='0.086 MB of 0.086 MB uploaded (0.000 MB deduped)\\r'), FloatProgress(value=1.0, max…"
      ]
     },
     "metadata": {},
     "output_type": "display_data"
    },
    {
     "data": {
      "text/html": [
       "Synced <strong style=\"color:#cdcd00\">InceptionV3</strong>: <a href=\"https://wandb.ai/miked/bagls-sh-project/runs/27o41ffd\" target=\"_blank\">https://wandb.ai/miked/bagls-sh-project/runs/27o41ffd</a><br/>Synced 7 W&B file(s), 0 media file(s), 0 artifact file(s) and 1 other file(s)"
      ],
      "text/plain": [
       "<IPython.core.display.HTML object>"
      ]
     },
     "metadata": {},
     "output_type": "display_data"
    },
    {
     "data": {
      "text/html": [
       "Find logs at: <code>./wandb/run-20221204_105124-27o41ffd/logs</code>"
      ],
      "text/plain": [
       "<IPython.core.display.HTML object>"
      ]
     },
     "metadata": {},
     "output_type": "display_data"
    },
    {
     "name": "stdout",
     "output_type": "stream",
     "text": [
      "WARNING:tensorflow:Unable to restore custom metric. Please ensure that the layer implements `get_config` and `from_config` when saving. In addition, please use the `custom_objects` arg when calling `load_model()`.\n",
      "WARNING:tensorflow:Unable to restore custom metric. Please ensure that the layer implements `get_config` and `from_config` when saving. In addition, please use the `custom_objects` arg when calling `load_model()`.\n",
      "WARNING:tensorflow:Unable to restore custom metric. Please ensure that the layer implements `get_config` and `from_config` when saving. In addition, please use the `custom_objects` arg when calling `load_model()`.\n",
      "WARNING:tensorflow:Unable to restore custom metric. Please ensure that the layer implements `get_config` and `from_config` when saving. In addition, please use the `custom_objects` arg when calling `load_model()`.\n",
      "WARNING:tensorflow:Unable to restore custom metric. Please ensure that the layer implements `get_config` and `from_config` when saving. In addition, please use the `custom_objects` arg when calling `load_model()`.\n",
      "WARNING:tensorflow:Unable to restore custom metric. Please ensure that the layer implements `get_config` and `from_config` when saving. In addition, please use the `custom_objects` arg when calling `load_model()`.\n"
     ]
    },
    {
     "data": {
      "text/html": [
       "Tracking run with wandb version 0.13.5"
      ],
      "text/plain": [
       "<IPython.core.display.HTML object>"
      ]
     },
     "metadata": {},
     "output_type": "display_data"
    },
    {
     "data": {
      "text/html": [
       "Run data is saved locally in <code>/home/mdorosan/2022/bagls-sh-project/notebooks/wandb/run-20221204_105153-2axy3vi1</code>"
      ],
      "text/plain": [
       "<IPython.core.display.HTML object>"
      ]
     },
     "metadata": {},
     "output_type": "display_data"
    },
    {
     "data": {
      "text/html": [
       "Syncing run <strong><a href=\"https://wandb.ai/miked/bagls-sh-project/runs/2axy3vi1\" target=\"_blank\">InceptionResNetV2</a></strong> to <a href=\"https://wandb.ai/miked/bagls-sh-project\" target=\"_blank\">Weights & Biases</a> (<a href=\"https://wandb.me/run\" target=\"_blank\">docs</a>)<br/>"
      ],
      "text/plain": [
       "<IPython.core.display.HTML object>"
      ]
     },
     "metadata": {},
     "output_type": "display_data"
    },
    {
     "name": "stderr",
     "output_type": "stream",
     "text": [
      "\u001b[34m\u001b[1mwandb\u001b[0m: Downloading large artifact model-InceptionResNetV2:latest, 231.20MB. 4 files... \n",
      "\u001b[34m\u001b[1mwandb\u001b[0m:   4 of 4 files downloaded.  \n",
      "Done. 0:0:0.6\n"
     ]
    },
    {
     "data": {
      "text/html": [
       "Waiting for W&B process to finish... <strong style=\"color:green\">(success).</strong>"
      ],
      "text/plain": [
       "<IPython.core.display.HTML object>"
      ]
     },
     "metadata": {},
     "output_type": "display_data"
    },
    {
     "data": {
      "application/vnd.jupyter.widget-view+json": {
       "model_id": "6933b265816f442b824512837e12adaf",
       "version_major": 2,
       "version_minor": 0
      },
      "text/plain": [
       "VBox(children=(Label(value='0.086 MB of 0.086 MB uploaded (0.000 MB deduped)\\r'), FloatProgress(value=1.0, max…"
      ]
     },
     "metadata": {},
     "output_type": "display_data"
    },
    {
     "data": {
      "text/html": [
       "Synced <strong style=\"color:#cdcd00\">InceptionResNetV2</strong>: <a href=\"https://wandb.ai/miked/bagls-sh-project/runs/2axy3vi1\" target=\"_blank\">https://wandb.ai/miked/bagls-sh-project/runs/2axy3vi1</a><br/>Synced 7 W&B file(s), 0 media file(s), 0 artifact file(s) and 1 other file(s)"
      ],
      "text/plain": [
       "<IPython.core.display.HTML object>"
      ]
     },
     "metadata": {},
     "output_type": "display_data"
    },
    {
     "data": {
      "text/html": [
       "Find logs at: <code>./wandb/run-20221204_105153-2axy3vi1/logs</code>"
      ],
      "text/plain": [
       "<IPython.core.display.HTML object>"
      ]
     },
     "metadata": {},
     "output_type": "display_data"
    },
    {
     "name": "stdout",
     "output_type": "stream",
     "text": [
      "WARNING:tensorflow:Unable to restore custom metric. Please ensure that the layer implements `get_config` and `from_config` when saving. In addition, please use the `custom_objects` arg when calling `load_model()`.\n",
      "WARNING:tensorflow:Unable to restore custom metric. Please ensure that the layer implements `get_config` and `from_config` when saving. In addition, please use the `custom_objects` arg when calling `load_model()`.\n",
      "WARNING:tensorflow:Unable to restore custom metric. Please ensure that the layer implements `get_config` and `from_config` when saving. In addition, please use the `custom_objects` arg when calling `load_model()`.\n",
      "WARNING:tensorflow:Unable to restore custom metric. Please ensure that the layer implements `get_config` and `from_config` when saving. In addition, please use the `custom_objects` arg when calling `load_model()`.\n",
      "WARNING:tensorflow:Unable to restore custom metric. Please ensure that the layer implements `get_config` and `from_config` when saving. In addition, please use the `custom_objects` arg when calling `load_model()`.\n",
      "WARNING:tensorflow:Unable to restore custom metric. Please ensure that the layer implements `get_config` and `from_config` when saving. In addition, please use the `custom_objects` arg when calling `load_model()`.\n"
     ]
    }
   ],
   "source": [
    "JOB_TYPE = 'get_model'\n",
    "\n",
    "for model_name in models:\n",
    "    run = wandb.init(project=PROJECT_NAME, job_type=JOB_TYPE, \n",
    "                     name=model_name)\n",
    "    model_at = run.use_artifact(\"model-\" + model_name + \":latest\")\n",
    "    model_dir = model_at.download()\n",
    "    \n",
    "    run.finish()\n",
    "    \n",
    "    model = keras.models.load_model(model_dir, compile=False)\n",
    "    # model = keras.models.load_model(\n",
    "    #     model_dir, custom_objects=metrics_dict, compile=False)\n",
    "    model.trainable = False\n",
    "    model.compile()\n",
    "    model.trainable\n",
    "    models[model_name] = model"
   ]
  },
  {
   "cell_type": "markdown",
   "id": "5823e723",
   "metadata": {},
   "source": [
    "## Evaluate models"
   ]
  },
  {
   "cell_type": "markdown",
   "id": "20407cd8",
   "metadata": {},
   "source": [
    "### Inspect ROC and PR curves"
   ]
  },
  {
   "cell_type": "code",
   "execution_count": 17,
   "id": "7b845d20",
   "metadata": {
    "ExecuteTime": {
     "end_time": "2022-12-04T11:17:25.697321Z",
     "start_time": "2022-12-04T11:15:12.520254Z"
    }
   },
   "outputs": [
    {
     "name": "stderr",
     "output_type": "stream",
     "text": [
      "100%|██████████| 10/10 [02:11<00:00, 13.15s/it]\n"
     ]
    },
    {
     "data": {
      "image/png": "[encoded data removed]",
      "text/plain": [
       "<Figure size 1080x360 with 3 Axes>"
      ]
     },
     "metadata": {
      "needs_background": "light"
     },
     "output_type": "display_data"
    }
   ],
   "source": [
    "model_name = 'InceptionResNetV2'\n",
    "fig, ax = plt.subplots(1, 3, figsize=(15, 5))\n",
    "ax = ax.flatten()\n",
    "\n",
    "for i in tqdm(range(num_bootstrap)):\n",
    "    true = labels_list[i]\n",
    "    preds = models[model_name].predict(datasets[i])\n",
    "    results = utils.get_results(true, preds, num_thresh=100, class_index=1) # unhealthy\n",
    "    ax = utils.plot_results(ax, *results, true)\n",
    "plt.show()"
   ]
  },
  {
   "cell_type": "code",
   "execution_count": 18,
   "id": "57cbc89c",
   "metadata": {
    "ExecuteTime": {
     "end_time": "2022-12-04T11:17:38.851514Z",
     "start_time": "2022-12-04T11:17:25.700307Z"
    }
   },
   "outputs": [
    {
     "data": {
      "text/html": [
       "Tracking run with wandb version 0.13.5"
      ],
      "text/plain": [
       "<IPython.core.display.HTML object>"
      ]
     },
     "metadata": {},
     "output_type": "display_data"
    },
    {
     "data": {
      "text/html": [
       "Run data is saved locally in <code>/home/mdorosan/2022/bagls-sh-project/notebooks/wandb/run-20221204_111726-12wwyrpn</code>"
      ],
      "text/plain": [
       "<IPython.core.display.HTML object>"
      ]
     },
     "metadata": {},
     "output_type": "display_data"
    },
    {
     "data": {
      "text/html": [
       "Syncing run <strong><a href=\"https://wandb.ai/miked/bagls-sh-project/runs/12wwyrpn\" target=\"_blank\">curves-logging</a></strong> to <a href=\"https://wandb.ai/miked/bagls-sh-project\" target=\"_blank\">Weights & Biases</a> (<a href=\"https://wandb.me/run\" target=\"_blank\">docs</a>)<br/>"
      ],
      "text/plain": [
       "<IPython.core.display.HTML object>"
      ]
     },
     "metadata": {},
     "output_type": "display_data"
    },
    {
     "data": {
      "text/html": [
       "Waiting for W&B process to finish... <strong style=\"color:green\">(success).</strong>"
      ],
      "text/plain": [
       "<IPython.core.display.HTML object>"
      ]
     },
     "metadata": {},
     "output_type": "display_data"
    },
    {
     "data": {
      "application/vnd.jupyter.widget-view+json": {
       "model_id": "3f0d14db4fb2495f8dacd32854ab3138",
       "version_major": 2,
       "version_minor": 0
      },
      "text/plain": [
       "VBox(children=(Label(value='0.000 MB of 0.040 MB uploaded (0.000 MB deduped)\\r'), FloatProgress(value=0.0, max…"
      ]
     },
     "metadata": {},
     "output_type": "display_data"
    },
    {
     "data": {
      "text/html": [
       "Synced <strong style=\"color:#cdcd00\">curves-logging</strong>: <a href=\"https://wandb.ai/miked/bagls-sh-project/runs/12wwyrpn\" target=\"_blank\">https://wandb.ai/miked/bagls-sh-project/runs/12wwyrpn</a><br/>Synced 6 W&B file(s), 1 media file(s), 0 artifact file(s) and 1 other file(s)"
      ],
      "text/plain": [
       "<IPython.core.display.HTML object>"
      ]
     },
     "metadata": {},
     "output_type": "display_data"
    },
    {
     "data": {
      "text/html": [
       "Find logs at: <code>./wandb/run-20221204_111726-12wwyrpn/logs</code>"
      ],
      "text/plain": [
       "<IPython.core.display.HTML object>"
      ]
     },
     "metadata": {},
     "output_type": "display_data"
    }
   ],
   "source": [
    "# log to wandb\n",
    "run = wandb.init(\n",
    "    project=PROJECT_NAME, job_type='log_curves', \n",
    "    name=f'curves-logging'\n",
    ")\n",
    "run.log({f'{model_name}-curves': wandb.Image(fig)})\n",
    "run.finish()"
   ]
  },
  {
   "cell_type": "markdown",
   "id": "f2514a44",
   "metadata": {},
   "source": [
    "### Calibration based on ROC and PR"
   ]
  },
  {
   "cell_type": "code",
   "execution_count": 19,
   "id": "eededee7",
   "metadata": {
    "ExecuteTime": {
     "end_time": "2022-12-04T11:21:38.539670Z",
     "start_time": "2022-12-04T11:21:37.886588Z"
    }
   },
   "outputs": [],
   "source": [
    "def best_roc_thresh(true, pred_proba, num_thresh):\n",
    "    fprs, tprs, thresh_arr = utils.get_roc(\n",
    "        true, pred_proba, num_thresh, return_thresh_arr=True)\n",
    "    fprs  = np.array(fprs)\n",
    "    tprs  = np.array(tprs)    \n",
    "    # maximize product of tpr and 1 - fpr\n",
    "    best_thresh = thresh_arr[np.argmax((1 - fprs) * tprs)]\n",
    "    \n",
    "    print(f\"Best ROC thresh: {best_thresh:.4f}\")\n",
    "    return best_thresh\n",
    "    \n",
    "def best_pr_thresh(true, pred_proba, num_thresh):\n",
    "    rs, ps, thresh_arr = utils.get_pr(\n",
    "        true, pred_proba, num_thresh, return_thresh_arr=True)\n",
    "    rs  = np.array(rs)\n",
    "    ps  = np.array(ps)    \n",
    "    # maximize product of r and p\n",
    "    best_thresh = thresh_arr[np.argmax(rs*ps)]\n",
    "    \n",
    "    print(f\"Best PR thresh: {best_thresh:.4f}\")\n",
    "    return best_thresh"
   ]
  },
  {
   "cell_type": "code",
   "execution_count": 20,
   "id": "d4174de9",
   "metadata": {
    "ExecuteTime": {
     "end_time": "2022-12-04T11:21:52.960662Z",
     "start_time": "2022-12-04T11:21:38.621124Z"
    }
   },
   "outputs": [
    {
     "name": "stdout",
     "output_type": "stream",
     "text": [
      "Best ROC thresh: 0.4573\n",
      "Best PR thresh: 0.4573\n"
     ]
    }
   ],
   "source": [
    "# test calibration functions\n",
    "class_index = 1 # unhealthy\n",
    "i = 0 # one bootstrap set\n",
    "num_thresh = 200\n",
    "true = labels_list[i]\n",
    "preds = models[model_name].predict(datasets[i])\n",
    "\n",
    "# get proba for class of interest : unhealthy\n",
    "pred_proba = utils.get_class_proba(preds, class_index=class_index)\n",
    "roc_thresh = best_roc_thresh(true, pred_proba, num_thresh)\n",
    "pr_thresh = best_pr_thresh(true, pred_proba, num_thresh)"
   ]
  },
  {
   "cell_type": "markdown",
   "id": "1c885824",
   "metadata": {},
   "source": [
    "### Get Calibrated Results"
   ]
  },
  {
   "cell_type": "code",
   "execution_count": 21,
   "id": "2a0905b5",
   "metadata": {
    "ExecuteTime": {
     "end_time": "2022-12-04T11:21:53.140041Z",
     "start_time": "2022-12-04T11:21:52.963486Z"
    }
   },
   "outputs": [
    {
     "name": "stdout",
     "output_type": "stream",
     "text": [
      "Found 2300 validated image filenames belonging to 2 classes.\n"
     ]
    }
   ],
   "source": [
    "# read actual test set\n",
    "csv_path = os.path.join(PATHS.test_meta)\n",
    "df = utils.prepare_df(csv_path)\n",
    "test_dataset = test_datagen.flow_from_dataframe(\n",
    "        df, directory=test_dir, \n",
    "        x_col='filename', y_col='class',\n",
    "        target_size=configs[\"image_size\"],\n",
    "        color_mode=configs[\"cmap\"],\n",
    "        classes=configs[\"class_names\"],\n",
    "        class_mode=configs[\"label_mode\"],\n",
    "        batch_size=configs[\"batch_size\"],\n",
    "        interpolation=configs[\"interpol\"],\n",
    "        validate_filenames=True,\n",
    "        shuffle=False,\n",
    "    )\n",
    "class_index = 1 # unhealthy\n",
    "num_thresh = 200"
   ]
  },
  {
   "cell_type": "code",
   "execution_count": 22,
   "id": "3b74d232",
   "metadata": {
    "ExecuteTime": {
     "end_time": "2022-12-04T11:24:41.010354Z",
     "start_time": "2022-12-04T11:22:09.121426Z"
    },
    "scrolled": true
   },
   "outputs": [
    {
     "name": "stdout",
     "output_type": "stream",
     "text": [
      "Currently running convnet_from_scratch\n",
      "Best ROC thresh: 0.0754\n"
     ]
    },
    {
     "data": {
      "text/html": [
       "Tracking run with wandb version 0.13.5"
      ],
      "text/plain": [
       "<IPython.core.display.HTML object>"
      ]
     },
     "metadata": {},
     "output_type": "display_data"
    },
    {
     "data": {
      "text/html": [
       "Run data is saved locally in <code>/home/mdorosan/2022/bagls-sh-project/notebooks/wandb/run-20221204_112222-1qs2jnix</code>"
      ],
      "text/plain": [
       "<IPython.core.display.HTML object>"
      ]
     },
     "metadata": {},
     "output_type": "display_data"
    },
    {
     "data": {
      "text/html": [
       "Syncing run <strong><a href=\"https://wandb.ai/miked/bagls-sh-project/runs/1qs2jnix\" target=\"_blank\">convnet_from_scratch-inference-results-logging</a></strong> to <a href=\"https://wandb.ai/miked/bagls-sh-project\" target=\"_blank\">Weights & Biases</a> (<a href=\"https://wandb.me/run\" target=\"_blank\">docs</a>)<br/>"
      ],
      "text/plain": [
       "<IPython.core.display.HTML object>"
      ]
     },
     "metadata": {},
     "output_type": "display_data"
    },
    {
     "data": {
      "text/html": [
       "Waiting for W&B process to finish... <strong style=\"color:green\">(success).</strong>"
      ],
      "text/plain": [
       "<IPython.core.display.HTML object>"
      ]
     },
     "metadata": {},
     "output_type": "display_data"
    },
    {
     "data": {
      "text/html": [
       "Synced <strong style=\"color:#cdcd00\">convnet_from_scratch-inference-results-logging</strong>: <a href=\"https://wandb.ai/miked/bagls-sh-project/runs/1qs2jnix\" target=\"_blank\">https://wandb.ai/miked/bagls-sh-project/runs/1qs2jnix</a><br/>Synced 6 W&B file(s), 1 media file(s), 1 artifact file(s) and 1 other file(s)"
      ],
      "text/plain": [
       "<IPython.core.display.HTML object>"
      ]
     },
     "metadata": {},
     "output_type": "display_data"
    },
    {
     "data": {
      "text/html": [
       "Find logs at: <code>./wandb/run-20221204_112222-1qs2jnix/logs</code>"
      ],
      "text/plain": [
       "<IPython.core.display.HTML object>"
      ]
     },
     "metadata": {},
     "output_type": "display_data"
    },
    {
     "name": "stdout",
     "output_type": "stream",
     "text": [
      "Currently running DenseNet121\n",
      "Best ROC thresh: 0.3819\n"
     ]
    },
    {
     "data": {
      "text/html": [
       "Tracking run with wandb version 0.13.5"
      ],
      "text/plain": [
       "<IPython.core.display.HTML object>"
      ]
     },
     "metadata": {},
     "output_type": "display_data"
    },
    {
     "data": {
      "text/html": [
       "Run data is saved locally in <code>/home/mdorosan/2022/bagls-sh-project/notebooks/wandb/run-20221204_112252-cvy78hcc</code>"
      ],
      "text/plain": [
       "<IPython.core.display.HTML object>"
      ]
     },
     "metadata": {},
     "output_type": "display_data"
    },
    {
     "data": {
      "text/html": [
       "Syncing run <strong><a href=\"https://wandb.ai/miked/bagls-sh-project/runs/cvy78hcc\" target=\"_blank\">DenseNet121-inference-results-logging</a></strong> to <a href=\"https://wandb.ai/miked/bagls-sh-project\" target=\"_blank\">Weights & Biases</a> (<a href=\"https://wandb.me/run\" target=\"_blank\">docs</a>)<br/>"
      ],
      "text/plain": [
       "<IPython.core.display.HTML object>"
      ]
     },
     "metadata": {},
     "output_type": "display_data"
    },
    {
     "data": {
      "text/html": [
       "Waiting for W&B process to finish... <strong style=\"color:green\">(success).</strong>"
      ],
      "text/plain": [
       "<IPython.core.display.HTML object>"
      ]
     },
     "metadata": {},
     "output_type": "display_data"
    },
    {
     "data": {
      "text/html": [
       "Synced <strong style=\"color:#cdcd00\">DenseNet121-inference-results-logging</strong>: <a href=\"https://wandb.ai/miked/bagls-sh-project/runs/cvy78hcc\" target=\"_blank\">https://wandb.ai/miked/bagls-sh-project/runs/cvy78hcc</a><br/>Synced 6 W&B file(s), 1 media file(s), 1 artifact file(s) and 1 other file(s)"
      ],
      "text/plain": [
       "<IPython.core.display.HTML object>"
      ]
     },
     "metadata": {},
     "output_type": "display_data"
    },
    {
     "data": {
      "text/html": [
       "Find logs at: <code>./wandb/run-20221204_112252-cvy78hcc/logs</code>"
      ],
      "text/plain": [
       "<IPython.core.display.HTML object>"
      ]
     },
     "metadata": {},
     "output_type": "display_data"
    },
    {
     "name": "stdout",
     "output_type": "stream",
     "text": [
      "Currently running ResNet50\n",
      "Best ROC thresh: 0.6533\n"
     ]
    },
    {
     "data": {
      "text/html": [
       "Tracking run with wandb version 0.13.5"
      ],
      "text/plain": [
       "<IPython.core.display.HTML object>"
      ]
     },
     "metadata": {},
     "output_type": "display_data"
    },
    {
     "data": {
      "text/html": [
       "Run data is saved locally in <code>/home/mdorosan/2022/bagls-sh-project/notebooks/wandb/run-20221204_112323-1rfr30sh</code>"
      ],
      "text/plain": [
       "<IPython.core.display.HTML object>"
      ]
     },
     "metadata": {},
     "output_type": "display_data"
    },
    {
     "data": {
      "text/html": [
       "Syncing run <strong><a href=\"https://wandb.ai/miked/bagls-sh-project/runs/1rfr30sh\" target=\"_blank\">ResNet50-inference-results-logging</a></strong> to <a href=\"https://wandb.ai/miked/bagls-sh-project\" target=\"_blank\">Weights & Biases</a> (<a href=\"https://wandb.me/run\" target=\"_blank\">docs</a>)<br/>"
      ],
      "text/plain": [
       "<IPython.core.display.HTML object>"
      ]
     },
     "metadata": {},
     "output_type": "display_data"
    },
    {
     "data": {
      "text/html": [
       "Waiting for W&B process to finish... <strong style=\"color:green\">(success).</strong>"
      ],
      "text/plain": [
       "<IPython.core.display.HTML object>"
      ]
     },
     "metadata": {},
     "output_type": "display_data"
    },
    {
     "data": {
      "text/html": [
       "Synced <strong style=\"color:#cdcd00\">ResNet50-inference-results-logging</strong>: <a href=\"https://wandb.ai/miked/bagls-sh-project/runs/1rfr30sh\" target=\"_blank\">https://wandb.ai/miked/bagls-sh-project/runs/1rfr30sh</a><br/>Synced 6 W&B file(s), 1 media file(s), 1 artifact file(s) and 1 other file(s)"
      ],
      "text/plain": [
       "<IPython.core.display.HTML object>"
      ]
     },
     "metadata": {},
     "output_type": "display_data"
    },
    {
     "data": {
      "text/html": [
       "Find logs at: <code>./wandb/run-20221204_112323-1rfr30sh/logs</code>"
      ],
      "text/plain": [
       "<IPython.core.display.HTML object>"
      ]
     },
     "metadata": {},
     "output_type": "display_data"
    },
    {
     "name": "stdout",
     "output_type": "stream",
     "text": [
      "Currently running InceptionV3\n",
      "Best ROC thresh: 0.5025\n"
     ]
    },
    {
     "data": {
      "text/html": [
       "Tracking run with wandb version 0.13.5"
      ],
      "text/plain": [
       "<IPython.core.display.HTML object>"
      ]
     },
     "metadata": {},
     "output_type": "display_data"
    },
    {
     "data": {
      "text/html": [
       "Run data is saved locally in <code>/home/mdorosan/2022/bagls-sh-project/notebooks/wandb/run-20221204_112353-3gqc75zk</code>"
      ],
      "text/plain": [
       "<IPython.core.display.HTML object>"
      ]
     },
     "metadata": {},
     "output_type": "display_data"
    },
    {
     "data": {
      "text/html": [
       "Syncing run <strong><a href=\"https://wandb.ai/miked/bagls-sh-project/runs/3gqc75zk\" target=\"_blank\">InceptionV3-inference-results-logging</a></strong> to <a href=\"https://wandb.ai/miked/bagls-sh-project\" target=\"_blank\">Weights & Biases</a> (<a href=\"https://wandb.me/run\" target=\"_blank\">docs</a>)<br/>"
      ],
      "text/plain": [
       "<IPython.core.display.HTML object>"
      ]
     },
     "metadata": {},
     "output_type": "display_data"
    },
    {
     "data": {
      "text/html": [
       "Waiting for W&B process to finish... <strong style=\"color:green\">(success).</strong>"
      ],
      "text/plain": [
       "<IPython.core.display.HTML object>"
      ]
     },
     "metadata": {},
     "output_type": "display_data"
    },
    {
     "data": {
      "text/html": [
       "Synced <strong style=\"color:#cdcd00\">InceptionV3-inference-results-logging</strong>: <a href=\"https://wandb.ai/miked/bagls-sh-project/runs/3gqc75zk\" target=\"_blank\">https://wandb.ai/miked/bagls-sh-project/runs/3gqc75zk</a><br/>Synced 6 W&B file(s), 1 media file(s), 1 artifact file(s) and 1 other file(s)"
      ],
      "text/plain": [
       "<IPython.core.display.HTML object>"
      ]
     },
     "metadata": {},
     "output_type": "display_data"
    },
    {
     "data": {
      "text/html": [
       "Find logs at: <code>./wandb/run-20221204_112353-3gqc75zk/logs</code>"
      ],
      "text/plain": [
       "<IPython.core.display.HTML object>"
      ]
     },
     "metadata": {},
     "output_type": "display_data"
    },
    {
     "name": "stdout",
     "output_type": "stream",
     "text": [
      "Currently running InceptionResNetV2\n",
      "Best ROC thresh: 0.5126\n"
     ]
    },
    {
     "data": {
      "text/html": [
       "Tracking run with wandb version 0.13.5"
      ],
      "text/plain": [
       "<IPython.core.display.HTML object>"
      ]
     },
     "metadata": {},
     "output_type": "display_data"
    },
    {
     "data": {
      "text/html": [
       "Run data is saved locally in <code>/home/mdorosan/2022/bagls-sh-project/notebooks/wandb/run-20221204_112423-1zqxly6a</code>"
      ],
      "text/plain": [
       "<IPython.core.display.HTML object>"
      ]
     },
     "metadata": {},
     "output_type": "display_data"
    },
    {
     "data": {
      "text/html": [
       "Syncing run <strong><a href=\"https://wandb.ai/miked/bagls-sh-project/runs/1zqxly6a\" target=\"_blank\">InceptionResNetV2-inference-results-logging</a></strong> to <a href=\"https://wandb.ai/miked/bagls-sh-project\" target=\"_blank\">Weights & Biases</a> (<a href=\"https://wandb.me/run\" target=\"_blank\">docs</a>)<br/>"
      ],
      "text/plain": [
       "<IPython.core.display.HTML object>"
      ]
     },
     "metadata": {},
     "output_type": "display_data"
    },
    {
     "data": {
      "text/html": [
       "Waiting for W&B process to finish... <strong style=\"color:green\">(success).</strong>"
      ],
      "text/plain": [
       "<IPython.core.display.HTML object>"
      ]
     },
     "metadata": {},
     "output_type": "display_data"
    },
    {
     "data": {
      "text/html": [
       "Synced <strong style=\"color:#cdcd00\">InceptionResNetV2-inference-results-logging</strong>: <a href=\"https://wandb.ai/miked/bagls-sh-project/runs/1zqxly6a\" target=\"_blank\">https://wandb.ai/miked/bagls-sh-project/runs/1zqxly6a</a><br/>Synced 6 W&B file(s), 1 media file(s), 1 artifact file(s) and 1 other file(s)"
      ],
      "text/plain": [
       "<IPython.core.display.HTML object>"
      ]
     },
     "metadata": {},
     "output_type": "display_data"
    },
    {
     "data": {
      "text/html": [
       "Find logs at: <code>./wandb/run-20221204_112423-1zqxly6a/logs</code>"
      ],
      "text/plain": [
       "<IPython.core.display.HTML object>"
      ]
     },
     "metadata": {},
     "output_type": "display_data"
    }
   ],
   "source": [
    "# will be used to log all calibrated results from all models\n",
    "overall_calibrated_metrics = {}\n",
    "overall_uncalibrated_metrics = {}\n",
    "results_tables = {}\n",
    "for name, model in models.items():\n",
    "    print(f\"Currently running {name}\")\n",
    "    true = test_dataset.labels\n",
    "    preds = model.predict(test_dataset)\n",
    "    \n",
    "    # get proba for class of interest : unhealthy\n",
    "    pred_proba = utils.get_class_proba(preds, class_index=class_index)\n",
    "    roc_thresh = best_roc_thresh(true, pred_proba, num_thresh)\n",
    "    temp_df = df.copy()\n",
    "    temp_df['pred_proba_healthy'] = preds[:, 0]\n",
    "    temp_df['pred_proba_unhealthy'] = preds[:,1]\n",
    "    temp_df['uncalibrated_prediction'] = temp_df['pred_proba_unhealthy'].apply(\n",
    "        lambda x: 'unhealthy' if (x > 0.5) else 'healthy')\n",
    "    temp_df['calibrated_prediction'] = temp_df['pred_proba_unhealthy'].apply(\n",
    "        lambda x: 'unhealthy' if (x > roc_thresh) else 'healthy')\n",
    "    \n",
    "    run = wandb.init(\n",
    "        project=PROJECT_NAME, job_type='log_results', \n",
    "        name=f'{name}-inference-results-logging', config=configs\n",
    "    )\n",
    "    columns = temp_df.columns.tolist()\n",
    "    results_table = wandb.Table(columns=columns)\n",
    "    for index, row in temp_df.iterrows():\n",
    "        results_table.add_data(*row.tolist())\n",
    "    \n",
    "    run.log({f'{name}-results-table': results_table})\n",
    "    run.finish()\n",
    "    results_tables[name] = temp_df # dict log\n",
    "    \n",
    "    # get model overall calibrated metrics\n",
    "    conf = utils.get_conf(true, pred_proba, thresh=roc_thresh)\n",
    "    calibrated_temp_metrics = {\n",
    "        'calibrated_thresh': roc_thresh,\n",
    "        'ROC-AUC': auc(*utils.get_roc(true, pred_proba, num_thresh)),\n",
    "        'PR-AUC': auc(*utils.get_pr(true, pred_proba, num_thresh)),\n",
    "        'recall': utils.get_sensitivity(*conf),\n",
    "        'FPR': utils.get_fpr(*conf),\n",
    "        'specificity': utils.get_specificity(*conf),\n",
    "        'precision': utils.get_ppv(*conf),\n",
    "        'NPV': utils.get_npv(*conf),\n",
    "        'f1': utils.get_fbeta(*conf),\n",
    "        'MCC': utils.get_mcc(*conf),\n",
    "    }\n",
    "    \n",
    "    conf = utils.get_conf(true, pred_proba, thresh=0.5)\n",
    "    uncalibrated_temp_metrics = {\n",
    "        'calibrated_thresh': roc_thresh,\n",
    "        'ROC-AUC': auc(*utils.get_roc(true, pred_proba, num_thresh)),\n",
    "        'PR-AUC': auc(*utils.get_pr(true, pred_proba, num_thresh)),\n",
    "        'recall': utils.get_sensitivity(*conf),\n",
    "        'FPR': utils.get_fpr(*conf),\n",
    "        'specificity': utils.get_specificity(*conf),\n",
    "        'precision': utils.get_ppv(*conf),\n",
    "        'NPV': utils.get_npv(*conf),\n",
    "        'f1': utils.get_fbeta(*conf),\n",
    "        'MCC': utils.get_mcc(*conf),\n",
    "    }\n",
    "    \n",
    "    overall_calibrated_metrics[name] = calibrated_temp_metrics\n",
    "    overall_uncalibrated_metrics[name] = uncalibrated_temp_metrics"
   ]
  },
  {
   "cell_type": "code",
   "execution_count": 23,
   "id": "f101808d",
   "metadata": {
    "ExecuteTime": {
     "end_time": "2022-12-04T11:28:56.517183Z",
     "start_time": "2022-12-04T11:28:36.034602Z"
    }
   },
   "outputs": [
    {
     "data": {
      "text/html": [
       "Tracking run with wandb version 0.13.5"
      ],
      "text/plain": [
       "<IPython.core.display.HTML object>"
      ]
     },
     "metadata": {},
     "output_type": "display_data"
    },
    {
     "data": {
      "text/html": [
       "Run data is saved locally in <code>/home/mdorosan/2022/bagls-sh-project/notebooks/wandb/run-20221204_112836-36uxcou7</code>"
      ],
      "text/plain": [
       "<IPython.core.display.HTML object>"
      ]
     },
     "metadata": {},
     "output_type": "display_data"
    },
    {
     "data": {
      "text/html": [
       "Syncing run <strong><a href=\"https://wandb.ai/miked/bagls-sh-project/runs/36uxcou7\" target=\"_blank\">overall-metrics-logging</a></strong> to <a href=\"https://wandb.ai/miked/bagls-sh-project\" target=\"_blank\">Weights & Biases</a> (<a href=\"https://wandb.me/run\" target=\"_blank\">docs</a>)<br/>"
      ],
      "text/plain": [
       "<IPython.core.display.HTML object>"
      ]
     },
     "metadata": {},
     "output_type": "display_data"
    },
    {
     "data": {
      "text/html": [
       "Waiting for W&B process to finish... <strong style=\"color:green\">(success).</strong>"
      ],
      "text/plain": [
       "<IPython.core.display.HTML object>"
      ]
     },
     "metadata": {},
     "output_type": "display_data"
    },
    {
     "data": {
      "text/html": [
       "Synced <strong style=\"color:#cdcd00\">overall-metrics-logging</strong>: <a href=\"https://wandb.ai/miked/bagls-sh-project/runs/36uxcou7\" target=\"_blank\">https://wandb.ai/miked/bagls-sh-project/runs/36uxcou7</a><br/>Synced 6 W&B file(s), 2 media file(s), 2 artifact file(s) and 1 other file(s)"
      ],
      "text/plain": [
       "<IPython.core.display.HTML object>"
      ]
     },
     "metadata": {},
     "output_type": "display_data"
    },
    {
     "data": {
      "text/html": [
       "Find logs at: <code>./wandb/run-20221204_112836-36uxcou7/logs</code>"
      ],
      "text/plain": [
       "<IPython.core.display.HTML object>"
      ]
     },
     "metadata": {},
     "output_type": "display_data"
    }
   ],
   "source": [
    "run = wandb.init(\n",
    "    project=PROJECT_NAME, job_type='log_model-metrics', \n",
    "    name=f'overall-metrics-logging'\n",
    ")\n",
    "calibrated_metrics_df = pd.DataFrame.from_dict(\n",
    "    overall_calibrated_metrics, orient='index')\n",
    "calibrated_metrics_df.index.name = 'Model'\n",
    "calibrated_metrics_df = calibrated_metrics_df.reset_index()\n",
    "\n",
    "columns = calibrated_metrics_df.columns.tolist()\n",
    "calibrated_metrics_table = wandb.Table(columns=columns)\n",
    "for index, row in calibrated_metrics_df.iterrows():\n",
    "    calibrated_metrics_table.add_data(*row.tolist())\n",
    "\n",
    "run.log({f'overall-calibrated-metrics-table': calibrated_metrics_table})\n",
    "\n",
    "\n",
    "uncalibrated_metrics_df = pd.DataFrame.from_dict(\n",
    "    overall_uncalibrated_metrics, orient='index')\n",
    "uncalibrated_metrics_df.index.name = 'Model'\n",
    "uncalibrated_metrics_df = uncalibrated_metrics_df.reset_index()\n",
    "\n",
    "columns = uncalibrated_metrics_df.columns.tolist()\n",
    "uncalibrated_metrics_table = wandb.Table(columns=columns)\n",
    "for index, row in uncalibrated_metrics_df.iterrows():\n",
    "    uncalibrated_metrics_table.add_data(*row.tolist())\n",
    "\n",
    "run.log({f'overall-uncalibrated-metrics-table': uncalibrated_metrics_table})\n",
    "\n",
    "run.finish()"
   ]
  },
  {
   "cell_type": "code",
   "execution_count": 24,
   "id": "e10d808a",
   "metadata": {
    "ExecuteTime": {
     "end_time": "2022-12-04T11:28:56.650223Z",
     "start_time": "2022-12-04T11:28:56.521799Z"
    }
   },
   "outputs": [
    {
     "data": {
      "text/html": [
       "<div>\n",
       "<style scoped>\n",
       "    .dataframe tbody tr th:only-of-type {\n",
       "        vertical-align: middle;\n",
       "    }\n",
       "\n",
       "    .dataframe tbody tr th {\n",
       "        vertical-align: top;\n",
       "    }\n",
       "\n",
       "    .dataframe thead th {\n",
       "        text-align: right;\n",
       "    }\n",
       "</style>\n",
       "<table border=\"1\" class=\"dataframe\">\n",
       "  <thead>\n",
       "    <tr style=\"text-align: right;\">\n",
       "      <th></th>\n",
       "      <th>Model</th>\n",
       "      <th>calibrated_thresh</th>\n",
       "      <th>ROC-AUC</th>\n",
       "      <th>PR-AUC</th>\n",
       "      <th>recall</th>\n",
       "      <th>FPR</th>\n",
       "      <th>specificity</th>\n",
       "      <th>precision</th>\n",
       "      <th>NPV</th>\n",
       "      <th>f1</th>\n",
       "      <th>MCC</th>\n",
       "    </tr>\n",
       "  </thead>\n",
       "  <tbody>\n",
       "    <tr>\n",
       "      <th>0</th>\n",
       "      <td>convnet_from_scratch</td>\n",
       "      <td>0.075377</td>\n",
       "      <td>0.811360</td>\n",
       "      <td>0.574351</td>\n",
       "      <td>0.741176</td>\n",
       "      <td>0.231034</td>\n",
       "      <td>0.768966</td>\n",
       "      <td>0.652850</td>\n",
       "      <td>0.835206</td>\n",
       "      <td>0.652850</td>\n",
       "      <td>0.498977</td>\n",
       "    </tr>\n",
       "    <tr>\n",
       "      <th>1</th>\n",
       "      <td>DenseNet121</td>\n",
       "      <td>0.381910</td>\n",
       "      <td>0.794342</td>\n",
       "      <td>0.727024</td>\n",
       "      <td>0.700000</td>\n",
       "      <td>0.201379</td>\n",
       "      <td>0.798621</td>\n",
       "      <td>0.670800</td>\n",
       "      <td>0.819533</td>\n",
       "      <td>0.670800</td>\n",
       "      <td>0.494460</td>\n",
       "    </tr>\n",
       "    <tr>\n",
       "      <th>2</th>\n",
       "      <td>ResNet50</td>\n",
       "      <td>0.653266</td>\n",
       "      <td>0.884922</td>\n",
       "      <td>0.570303</td>\n",
       "      <td>0.800000</td>\n",
       "      <td>0.233103</td>\n",
       "      <td>0.766897</td>\n",
       "      <td>0.667976</td>\n",
       "      <td>0.867395</td>\n",
       "      <td>0.667976</td>\n",
       "      <td>0.550908</td>\n",
       "    </tr>\n",
       "    <tr>\n",
       "      <th>3</th>\n",
       "      <td>InceptionV3</td>\n",
       "      <td>0.502513</td>\n",
       "      <td>0.850097</td>\n",
       "      <td>0.779555</td>\n",
       "      <td>0.657647</td>\n",
       "      <td>0.093103</td>\n",
       "      <td>0.906897</td>\n",
       "      <td>0.805476</td>\n",
       "      <td>0.818804</td>\n",
       "      <td>0.805476</td>\n",
       "      <td>0.593661</td>\n",
       "    </tr>\n",
       "    <tr>\n",
       "      <th>4</th>\n",
       "      <td>InceptionResNetV2</td>\n",
       "      <td>0.512563</td>\n",
       "      <td>0.899001</td>\n",
       "      <td>0.736789</td>\n",
       "      <td>0.810588</td>\n",
       "      <td>0.173103</td>\n",
       "      <td>0.826897</td>\n",
       "      <td>0.732979</td>\n",
       "      <td>0.881618</td>\n",
       "      <td>0.732979</td>\n",
       "      <td>0.625936</td>\n",
       "    </tr>\n",
       "  </tbody>\n",
       "</table>\n",
       "</div>"
      ],
      "text/plain": [
       "                  Model  calibrated_thresh   ROC-AUC    PR-AUC    recall  \\\n",
       "0  convnet_from_scratch           0.075377  0.811360  0.574351  0.741176   \n",
       "1           DenseNet121           0.381910  0.794342  0.727024  0.700000   \n",
       "2              ResNet50           0.653266  0.884922  0.570303  0.800000   \n",
       "3           InceptionV3           0.502513  0.850097  0.779555  0.657647   \n",
       "4     InceptionResNetV2           0.512563  0.899001  0.736789  0.810588   \n",
       "\n",
       "        FPR  specificity  precision       NPV        f1       MCC  \n",
       "0  0.231034     0.768966   0.652850  0.835206  0.652850  0.498977  \n",
       "1  0.201379     0.798621   0.670800  0.819533  0.670800  0.494460  \n",
       "2  0.233103     0.766897   0.667976  0.867395  0.667976  0.550908  \n",
       "3  0.093103     0.906897   0.805476  0.818804  0.805476  0.593661  \n",
       "4  0.173103     0.826897   0.732979  0.881618  0.732979  0.625936  "
      ]
     },
     "metadata": {},
     "output_type": "display_data"
    },
    {
     "data": {
      "text/html": [
       "<div>\n",
       "<style scoped>\n",
       "    .dataframe tbody tr th:only-of-type {\n",
       "        vertical-align: middle;\n",
       "    }\n",
       "\n",
       "    .dataframe tbody tr th {\n",
       "        vertical-align: top;\n",
       "    }\n",
       "\n",
       "    .dataframe thead th {\n",
       "        text-align: right;\n",
       "    }\n",
       "</style>\n",
       "<table border=\"1\" class=\"dataframe\">\n",
       "  <thead>\n",
       "    <tr style=\"text-align: right;\">\n",
       "      <th></th>\n",
       "      <th>Model</th>\n",
       "      <th>calibrated_thresh</th>\n",
       "      <th>ROC-AUC</th>\n",
       "      <th>PR-AUC</th>\n",
       "      <th>recall</th>\n",
       "      <th>FPR</th>\n",
       "      <th>specificity</th>\n",
       "      <th>precision</th>\n",
       "      <th>NPV</th>\n",
       "      <th>f1</th>\n",
       "      <th>MCC</th>\n",
       "    </tr>\n",
       "  </thead>\n",
       "  <tbody>\n",
       "    <tr>\n",
       "      <th>0</th>\n",
       "      <td>convnet_from_scratch</td>\n",
       "      <td>0.075377</td>\n",
       "      <td>0.811360</td>\n",
       "      <td>0.574351</td>\n",
       "      <td>0.847059</td>\n",
       "      <td>0.264828</td>\n",
       "      <td>0.735172</td>\n",
       "      <td>0.652174</td>\n",
       "      <td>0.891304</td>\n",
       "      <td>0.652174</td>\n",
       "      <td>0.562521</td>\n",
       "    </tr>\n",
       "    <tr>\n",
       "      <th>1</th>\n",
       "      <td>DenseNet121</td>\n",
       "      <td>0.381910</td>\n",
       "      <td>0.794342</td>\n",
       "      <td>0.727024</td>\n",
       "      <td>0.736471</td>\n",
       "      <td>0.233103</td>\n",
       "      <td>0.766897</td>\n",
       "      <td>0.649378</td>\n",
       "      <td>0.832335</td>\n",
       "      <td>0.649378</td>\n",
       "      <td>0.492421</td>\n",
       "    </tr>\n",
       "    <tr>\n",
       "      <th>2</th>\n",
       "      <td>ResNet50</td>\n",
       "      <td>0.653266</td>\n",
       "      <td>0.884922</td>\n",
       "      <td>0.570303</td>\n",
       "      <td>0.777647</td>\n",
       "      <td>0.196552</td>\n",
       "      <td>0.803448</td>\n",
       "      <td>0.698732</td>\n",
       "      <td>0.860414</td>\n",
       "      <td>0.698732</td>\n",
       "      <td>0.570015</td>\n",
       "    </tr>\n",
       "    <tr>\n",
       "      <th>3</th>\n",
       "      <td>InceptionV3</td>\n",
       "      <td>0.502513</td>\n",
       "      <td>0.850097</td>\n",
       "      <td>0.779555</td>\n",
       "      <td>0.657647</td>\n",
       "      <td>0.092414</td>\n",
       "      <td>0.907586</td>\n",
       "      <td>0.806638</td>\n",
       "      <td>0.818917</td>\n",
       "      <td>0.806638</td>\n",
       "      <td>0.594630</td>\n",
       "    </tr>\n",
       "    <tr>\n",
       "      <th>4</th>\n",
       "      <td>InceptionResNetV2</td>\n",
       "      <td>0.512563</td>\n",
       "      <td>0.899001</td>\n",
       "      <td>0.736789</td>\n",
       "      <td>0.807059</td>\n",
       "      <td>0.166897</td>\n",
       "      <td>0.833103</td>\n",
       "      <td>0.739224</td>\n",
       "      <td>0.880466</td>\n",
       "      <td>0.739224</td>\n",
       "      <td>0.629843</td>\n",
       "    </tr>\n",
       "  </tbody>\n",
       "</table>\n",
       "</div>"
      ],
      "text/plain": [
       "                  Model  calibrated_thresh   ROC-AUC    PR-AUC    recall  \\\n",
       "0  convnet_from_scratch           0.075377  0.811360  0.574351  0.847059   \n",
       "1           DenseNet121           0.381910  0.794342  0.727024  0.736471   \n",
       "2              ResNet50           0.653266  0.884922  0.570303  0.777647   \n",
       "3           InceptionV3           0.502513  0.850097  0.779555  0.657647   \n",
       "4     InceptionResNetV2           0.512563  0.899001  0.736789  0.807059   \n",
       "\n",
       "        FPR  specificity  precision       NPV        f1       MCC  \n",
       "0  0.264828     0.735172   0.652174  0.891304  0.652174  0.562521  \n",
       "1  0.233103     0.766897   0.649378  0.832335  0.649378  0.492421  \n",
       "2  0.196552     0.803448   0.698732  0.860414  0.698732  0.570015  \n",
       "3  0.092414     0.907586   0.806638  0.818917  0.806638  0.594630  \n",
       "4  0.166897     0.833103   0.739224  0.880466  0.739224  0.629843  "
      ]
     },
     "metadata": {},
     "output_type": "display_data"
    }
   ],
   "source": [
    "display(uncalibrated_metrics_df)\n",
    "display(calibrated_metrics_df)"
   ]
  },
  {
   "cell_type": "markdown",
   "id": "995a61fb",
   "metadata": {},
   "source": [
    "## Best Model Evaluation\n",
    "\n",
    "Let's inspect the following:\n",
    "* True positives: Correct predictions of unhealthy glottis\n",
    "* False negatives: Predicted healthy but are otherwise unhealthy"
   ]
  },
  {
   "cell_type": "code",
   "execution_count": 28,
   "id": "b84d71c1",
   "metadata": {
    "ExecuteTime": {
     "end_time": "2022-12-04T11:45:08.536926Z",
     "start_time": "2022-12-04T11:44:51.583285Z"
    }
   },
   "outputs": [
    {
     "data": {
      "text/html": [
       "Tracking run with wandb version 0.13.5"
      ],
      "text/plain": [
       "<IPython.core.display.HTML object>"
      ]
     },
     "metadata": {},
     "output_type": "display_data"
    },
    {
     "data": {
      "text/html": [
       "Run data is saved locally in <code>/home/mdorosan/2022/bagls-sh-project/notebooks/wandb/run-20221204_114452-14760tnv</code>"
      ],
      "text/plain": [
       "<IPython.core.display.HTML object>"
      ]
     },
     "metadata": {},
     "output_type": "display_data"
    },
    {
     "data": {
      "text/html": [
       "Syncing run <strong><a href=\"https://wandb.ai/miked/bagls-sh-project-notebooks/runs/14760tnv\" target=\"_blank\">dry-music-5</a></strong> to <a href=\"https://wandb.ai/miked/bagls-sh-project-notebooks\" target=\"_blank\">Weights & Biases</a> (<a href=\"https://wandb.me/run\" target=\"_blank\">docs</a>)<br/>"
      ],
      "text/plain": [
       "<IPython.core.display.HTML object>"
      ]
     },
     "metadata": {},
     "output_type": "display_data"
    },
    {
     "name": "stderr",
     "output_type": "stream",
     "text": [
      "\u001b[34m\u001b[1mwandb\u001b[0m:   1 of 1 files downloaded.  \n"
     ]
    },
    {
     "name": "stdout",
     "output_type": "stream",
     "text": [
      "./artifacts/run-1zqxly6a-InceptionResNetV2resultstable:v0\n"
     ]
    },
    {
     "data": {
      "text/html": [
       "Waiting for W&B process to finish... <strong style=\"color:green\">(success).</strong>"
      ],
      "text/plain": [
       "<IPython.core.display.HTML object>"
      ]
     },
     "metadata": {},
     "output_type": "display_data"
    },
    {
     "data": {
      "application/vnd.jupyter.widget-view+json": {
       "model_id": "167a799f8b5f407b9da8129530d0ea5b",
       "version_major": 2,
       "version_minor": 0
      },
      "text/plain": [
       "VBox(children=(Label(value='0.114 MB of 0.134 MB uploaded (0.000 MB deduped)\\r'), FloatProgress(value=0.851338…"
      ]
     },
     "metadata": {},
     "output_type": "display_data"
    },
    {
     "data": {
      "text/html": [
       "Synced <strong style=\"color:#cdcd00\">dry-music-5</strong>: <a href=\"https://wandb.ai/miked/bagls-sh-project-notebooks/runs/14760tnv\" target=\"_blank\">https://wandb.ai/miked/bagls-sh-project-notebooks/runs/14760tnv</a><br/>Synced 7 W&B file(s), 0 media file(s), 0 artifact file(s) and 1 other file(s)"
      ],
      "text/plain": [
       "<IPython.core.display.HTML object>"
      ]
     },
     "metadata": {},
     "output_type": "display_data"
    },
    {
     "data": {
      "text/html": [
       "Find logs at: <code>./wandb/run-20221204_114452-14760tnv/logs</code>"
      ],
      "text/plain": [
       "<IPython.core.display.HTML object>"
      ]
     },
     "metadata": {},
     "output_type": "display_data"
    }
   ],
   "source": [
    "# read results csv from wandb\n",
    "run = wandb.init()\n",
    "artifact = run.use_artifact(\n",
    "    f'miked/bagls-sh-project/run-1zqxly6a-InceptionResNetV2resultstable:v0', \n",
    "    type='run_table')\n",
    "artifact_dir = artifact.download()\n",
    "\n",
    "print(artifact_dir)\n",
    "run.finish()"
   ]
  },
  {
   "cell_type": "code",
   "execution_count": 29,
   "id": "a249eeef",
   "metadata": {
    "ExecuteTime": {
     "end_time": "2022-12-04T11:45:09.665716Z",
     "start_time": "2022-12-04T11:45:08.539878Z"
    }
   },
   "outputs": [
    {
     "name": "stdout",
     "output_type": "stream",
     "text": [
      "InceptionResNetV2-results-table.table.json\r\n"
     ]
    }
   ],
   "source": [
    "!ls ./artifacts/run-1zqxly6a-InceptionResNetV2resultstable:v0"
   ]
  },
  {
   "cell_type": "code",
   "execution_count": 54,
   "id": "f4c1f1aa",
   "metadata": {
    "ExecuteTime": {
     "end_time": "2022-12-04T12:26:59.094983Z",
     "start_time": "2022-12-04T12:26:58.996440Z"
    }
   },
   "outputs": [
    {
     "data": {
      "text/plain": [
       "dict_keys(['_type', 'column_types', 'columns', 'data', 'ncols', 'nrows'])"
      ]
     },
     "execution_count": 54,
     "metadata": {},
     "output_type": "execute_result"
    }
   ],
   "source": [
    "import json\n",
    "from glob import glob\n",
    "\n",
    "path = glob(os.path.join(artifact_dir, \"*.json\"))[0]\n",
    "with open(path, 'r') as file:\n",
    "    data = json.load(file)\n",
    "data.keys()"
   ]
  },
  {
   "cell_type": "code",
   "execution_count": 55,
   "id": "2d9e5776",
   "metadata": {
    "ExecuteTime": {
     "end_time": "2022-12-04T12:27:00.416769Z",
     "start_time": "2022-12-04T12:27:00.307167Z"
    }
   },
   "outputs": [],
   "source": [
    "df = pd.DataFrame(data=data['data'], columns=data['columns'])\n",
    "# get all unhealthy\n",
    "unhealthy_df = df[df['is_healthy']==0]"
   ]
  },
  {
   "cell_type": "code",
   "execution_count": 56,
   "id": "766570d0",
   "metadata": {
    "ExecuteTime": {
     "end_time": "2022-12-04T12:27:01.523466Z",
     "start_time": "2022-12-04T12:27:01.417081Z"
    }
   },
   "outputs": [],
   "source": [
    "case_counts = pd.DataFrame()\n",
    "fn, tp, index_list = [], [], []\n",
    "\n",
    "for index in unhealthy_df['Subject disorder status'].unique():\n",
    "    count_fn = (\n",
    "        (unhealthy_df['Subject disorder status']==index) & \n",
    "        (unhealthy_df['calibrated_prediction']=='healthy')\n",
    "    ).sum()\n",
    "    count_tp = (\n",
    "        (unhealthy_df['Subject disorder status']==index) & \n",
    "        (unhealthy_df['calibrated_prediction']=='unhealthy')\n",
    "    ).sum()\n",
    "    # costmetics: shorten disorder status\n",
    "    if len(index) > 70:\n",
    "        index = list(index)\n",
    "        index.insert(70, \"\\n\")\n",
    "        index = ''.join(index)\n",
    "        \n",
    "    index_list.append(index)\n",
    "    fn.append(count_fn)\n",
    "    tp.append(count_tp)\n",
    "    \n",
    "case_counts['Disorder']= index_list\n",
    "case_counts['false-negative (pred-healthy)'] = fn\n",
    "case_counts['true-positive (pred-unhealthy)'] = tp\n",
    "case_counts = case_counts.set_index('Disorder')"
   ]
  },
  {
   "cell_type": "code",
   "execution_count": 57,
   "id": "c8e15b39",
   "metadata": {
    "ExecuteTime": {
     "end_time": "2022-12-04T12:27:03.304888Z",
     "start_time": "2022-12-04T12:27:02.307541Z"
    },
    "scrolled": false
   },
   "outputs": [
    {
     "data": {
      "image/png": "[encoded data removed]",
      "text/plain": [
       "<Figure size 2880x1440 with 1 Axes>"
      ]
     },
     "metadata": {
      "needs_background": "light"
     },
     "output_type": "display_data"
    }
   ],
   "source": [
    "fig, ax = plt.subplots(figsize=(40,20))\n",
    "case_counts.plot.barh(stacked=True, ax=ax)\n",
    "ax.spines.right.set_visible(False)\n",
    "plt.yticks(fontsize=20, rotation=0)\n",
    "plt.xticks(fontsize=20, rotation=0)\n",
    "plt.ylabel('')\n",
    "plt.xlabel('Case count')\n",
    "plt.legend(fontsize=35)\n",
    "plt.tight_layout()\n",
    "plt.show()"
   ]
  },
  {
   "cell_type": "code",
   "execution_count": 35,
   "id": "79e51fbc",
   "metadata": {
    "ExecuteTime": {
     "end_time": "2022-12-04T11:46:09.400078Z",
     "start_time": "2022-12-04T11:45:56.114681Z"
    },
    "scrolled": true
   },
   "outputs": [
    {
     "data": {
      "text/html": [
       "Tracking run with wandb version 0.13.5"
      ],
      "text/plain": [
       "<IPython.core.display.HTML object>"
      ]
     },
     "metadata": {},
     "output_type": "display_data"
    },
    {
     "data": {
      "text/html": [
       "Run data is saved locally in <code>/home/mdorosan/2022/bagls-sh-project/notebooks/wandb/run-20221204_114556-3bntqksl</code>"
      ],
      "text/plain": [
       "<IPython.core.display.HTML object>"
      ]
     },
     "metadata": {},
     "output_type": "display_data"
    },
    {
     "data": {
      "text/html": [
       "Syncing run <strong><a href=\"https://wandb.ai/miked/bagls-sh-project/runs/3bntqksl\" target=\"_blank\">per-disorder-eval</a></strong> to <a href=\"https://wandb.ai/miked/bagls-sh-project\" target=\"_blank\">Weights & Biases</a> (<a href=\"https://wandb.me/run\" target=\"_blank\">docs</a>)<br/>"
      ],
      "text/plain": [
       "<IPython.core.display.HTML object>"
      ]
     },
     "metadata": {},
     "output_type": "display_data"
    },
    {
     "data": {
      "text/html": [
       "Waiting for W&B process to finish... <strong style=\"color:green\">(success).</strong>"
      ],
      "text/plain": [
       "<IPython.core.display.HTML object>"
      ]
     },
     "metadata": {},
     "output_type": "display_data"
    },
    {
     "data": {
      "application/vnd.jupyter.widget-view+json": {
       "model_id": "ce81c6f282e1486f8c7f7b81e36ebfca",
       "version_major": 2,
       "version_minor": 0
      },
      "text/plain": [
       "VBox(children=(Label(value='0.000 MB of 0.115 MB uploaded (0.000 MB deduped)\\r'), FloatProgress(value=0.0, max…"
      ]
     },
     "metadata": {},
     "output_type": "display_data"
    },
    {
     "data": {
      "text/html": [
       "Synced <strong style=\"color:#cdcd00\">per-disorder-eval</strong>: <a href=\"https://wandb.ai/miked/bagls-sh-project/runs/3bntqksl\" target=\"_blank\">https://wandb.ai/miked/bagls-sh-project/runs/3bntqksl</a><br/>Synced 6 W&B file(s), 1 media file(s), 0 artifact file(s) and 1 other file(s)"
      ],
      "text/plain": [
       "<IPython.core.display.HTML object>"
      ]
     },
     "metadata": {},
     "output_type": "display_data"
    },
    {
     "data": {
      "text/html": [
       "Find logs at: <code>./wandb/run-20221204_114556-3bntqksl/logs</code>"
      ],
      "text/plain": [
       "<IPython.core.display.HTML object>"
      ]
     },
     "metadata": {},
     "output_type": "display_data"
    }
   ],
   "source": [
    "# log to wandb\n",
    "run = wandb.init(\n",
    "    project=PROJECT_NAME, job_type='log_disorder_eval', \n",
    "    name=f'per-disorder-eval'\n",
    ")\n",
    "run.log({f'{model_name}-disorder-eval': wandb.Image(fig)})\n",
    "run.finish()"
   ]
  },
  {
   "cell_type": "code",
   "execution_count": 70,
   "id": "86da74ba",
   "metadata": {
    "ExecuteTime": {
     "end_time": "2022-12-04T12:54:22.127762Z",
     "start_time": "2022-12-04T12:54:21.345909Z"
    }
   },
   "outputs": [
    {
     "name": "stdout",
     "output_type": "stream",
     "text": [
      "Found 146 validated image filenames belonging to 2 classes.\n",
      "Found 104 validated image filenames belonging to 2 classes.\n"
     ]
    }
   ],
   "source": [
    "# focus list: add scar\n",
    "disorders = ['Muscle tension dysphonia', 'edema', 'Polyp', 'scar']\n",
    "\n",
    "# try false negatives and true positives\n",
    "fn_df = df[df['Subject disorder status'].isin(disorders) & \n",
    "           (df['calibrated_prediction']=='healthy') &\n",
    "           (df['class']=='unhealthy')]\n",
    "\n",
    "fn_test_dataset = test_datagen.flow_from_dataframe(\n",
    "        fn_df, directory=test_dir, \n",
    "        x_col='filename', y_col='class',\n",
    "        target_size=configs[\"image_size\"],\n",
    "        color_mode=configs[\"cmap\"],\n",
    "        classes=configs[\"class_names\"],\n",
    "        class_mode=configs[\"label_mode\"],\n",
    "        batch_size=df.shape[0],    \n",
    "        interpolation=configs[\"interpol\"],\n",
    "        validate_filenames=True,\n",
    "        shuffle=False,\n",
    ")\n",
    "\n",
    "\n",
    "# try false negatives and true positives\n",
    "tp_df = df[df['Subject disorder status'].isin(disorders) & \n",
    "           (df['calibrated_prediction']=='unhealthy') &\n",
    "           (df['class']=='unhealthy')]\n",
    "\n",
    "tp_test_dataset = test_datagen.flow_from_dataframe(\n",
    "        tp_df, directory=test_dir, \n",
    "        x_col='filename', y_col='class',\n",
    "        target_size=configs[\"image_size\"],\n",
    "        color_mode=configs[\"cmap\"],\n",
    "        classes=configs[\"class_names\"],\n",
    "        class_mode=configs[\"label_mode\"],\n",
    "        batch_size=df.shape[0],    \n",
    "        interpolation=configs[\"interpol\"],\n",
    "        validate_filenames=True,\n",
    "        shuffle=False,\n",
    ")"
   ]
  },
  {
   "cell_type": "code",
   "execution_count": 71,
   "id": "6e4ab8df",
   "metadata": {
    "ExecuteTime": {
     "end_time": "2022-12-04T12:55:24.148022Z",
     "start_time": "2022-12-04T12:54:22.130761Z"
    }
   },
   "outputs": [],
   "source": [
    "import interpretation\n",
    "model_name = 'InceptionResNetV2'\n",
    "\n",
    "# prep data\n",
    "data, labels = fn_test_dataset[0]\n",
    "\n",
    "# init gradcam class\n",
    "layer_name = utils.get_last_conv_layer(models[model_name])\n",
    "cam = interpretation.GradCAM(models[model_name], layer_name)\n",
    "\n",
    "images, gradcams = [], []\n",
    "for image, label_arr in zip(data, labels):\n",
    "    image = np.expand_dims(image, 0)\n",
    "\n",
    "    # get gradcam heatmap, use pred_index\n",
    "    heatmap = cam.compute_heatmap(image)\n",
    "\n",
    "    # append image: remove batch axis, rescale, and convert to uint8\n",
    "    image = image.reshape(image.shape[1:])\n",
    "    image = image * 255\n",
    "    image = image.astype(np.uint8)\n",
    "    images.append(tf.keras.preprocessing.image.array_to_img(image))\n",
    "\n",
    "    # overlay gradcam heatmap results to image\n",
    "    superimposed_img = cam.overlay_heatmap(heatmap, image)\n",
    "\n",
    "    # append original and gradcam overlay image\n",
    "    gradcams.append(superimposed_img)"
   ]
  },
  {
   "cell_type": "code",
   "execution_count": 72,
   "id": "8e93aabc",
   "metadata": {
    "ExecuteTime": {
     "end_time": "2022-12-04T12:55:54.495578Z",
     "start_time": "2022-12-04T12:55:24.151242Z"
    },
    "scrolled": true
   },
   "outputs": [
    {
     "data": {
      "text/html": [
       "Tracking run with wandb version 0.13.5"
      ],
      "text/plain": [
       "<IPython.core.display.HTML object>"
      ]
     },
     "metadata": {},
     "output_type": "display_data"
    },
    {
     "data": {
      "text/html": [
       "Run data is saved locally in <code>/home/mdorosan/2022/bagls-sh-project/notebooks/wandb/run-20221204_125524-30tkxv2k</code>"
      ],
      "text/plain": [
       "<IPython.core.display.HTML object>"
      ]
     },
     "metadata": {},
     "output_type": "display_data"
    },
    {
     "data": {
      "text/html": [
       "Syncing run <strong><a href=\"https://wandb.ai/miked/bagls-sh-project/runs/30tkxv2k\" target=\"_blank\">gradcam_logger</a></strong> to <a href=\"https://wandb.ai/miked/bagls-sh-project\" target=\"_blank\">Weights & Biases</a> (<a href=\"https://wandb.me/run\" target=\"_blank\">docs</a>)<br/>"
      ],
      "text/plain": [
       "<IPython.core.display.HTML object>"
      ]
     },
     "metadata": {},
     "output_type": "display_data"
    },
    {
     "data": {
      "text/html": [
       "Waiting for W&B process to finish... <strong style=\"color:green\">(success).</strong>"
      ],
      "text/plain": [
       "<IPython.core.display.HTML object>"
      ]
     },
     "metadata": {},
     "output_type": "display_data"
    },
    {
     "data": {
      "text/html": [
       "Synced <strong style=\"color:#cdcd00\">gradcam_logger</strong>: <a href=\"https://wandb.ai/miked/bagls-sh-project/runs/30tkxv2k\" target=\"_blank\">https://wandb.ai/miked/bagls-sh-project/runs/30tkxv2k</a><br/>Synced 6 W&B file(s), 1 media file(s), 293 artifact file(s) and 1 other file(s)"
      ],
      "text/plain": [
       "<IPython.core.display.HTML object>"
      ]
     },
     "metadata": {},
     "output_type": "display_data"
    },
    {
     "data": {
      "text/html": [
       "Find logs at: <code>./wandb/run-20221204_125524-30tkxv2k/logs</code>"
      ],
      "text/plain": [
       "<IPython.core.display.HTML object>"
      ]
     },
     "metadata": {},
     "output_type": "display_data"
    }
   ],
   "source": [
    "run = wandb.init(\n",
    "    project=PROJECT_NAME, job_type='log_gradcam', \n",
    "    name=f'gradcam_logger'\n",
    ")\n",
    "\n",
    "columns = fn_df.columns.tolist() + ['image', 'gradcam_overlay', 'gradcam_layer_used']\n",
    "gradcam_table = wandb.Table(columns=columns)\n",
    "\n",
    "for index, (_, data) in enumerate(fn_df.iterrows()):\n",
    "    row = data.tolist() + [wandb.Image(images[index])] + [wandb.Image(gradcams[index])] + [layer_name]\n",
    "    gradcam_table.add_data(*row)\n",
    "\n",
    "run.log({\"fn_interpretation\" : gradcam_table})\n",
    "run.finish()"
   ]
  },
  {
   "cell_type": "code",
   "execution_count": 73,
   "id": "22bc32cd",
   "metadata": {
    "ExecuteTime": {
     "end_time": "2022-12-04T12:56:39.486157Z",
     "start_time": "2022-12-04T12:55:54.500228Z"
    }
   },
   "outputs": [],
   "source": [
    "import interpretation\n",
    "model_name = 'InceptionResNetV2'\n",
    "\n",
    "# prep data\n",
    "data, labels = tp_test_dataset[0]\n",
    "\n",
    "# init gradcam class\n",
    "layer_name = utils.get_last_conv_layer(models[model_name])\n",
    "cam = interpretation.GradCAM(models[model_name], layer_name)\n",
    "\n",
    "images, gradcams = [], []\n",
    "for image, label_arr in zip(data, labels):\n",
    "    image = np.expand_dims(image, 0)\n",
    "\n",
    "    # get gradcam heatmap, use pred_index\n",
    "    heatmap = cam.compute_heatmap(image)\n",
    "\n",
    "    # append image: remove batch axis, rescale, and convert to uint8\n",
    "    image = image.reshape(image.shape[1:])\n",
    "    image = image * 255\n",
    "    image = image.astype(np.uint8)\n",
    "    images.append(tf.keras.preprocessing.image.array_to_img(image))\n",
    "\n",
    "    # overlay gradcam heatmap results to image\n",
    "    superimposed_img = cam.overlay_heatmap(heatmap, image)\n",
    "\n",
    "    # append original and gradcam overlay image\n",
    "    gradcams.append(superimposed_img)"
   ]
  },
  {
   "cell_type": "code",
   "execution_count": 74,
   "id": "4633adf8",
   "metadata": {
    "ExecuteTime": {
     "end_time": "2022-12-04T12:57:05.429413Z",
     "start_time": "2022-12-04T12:56:39.489442Z"
    }
   },
   "outputs": [
    {
     "data": {
      "text/html": [
       "Tracking run with wandb version 0.13.5"
      ],
      "text/plain": [
       "<IPython.core.display.HTML object>"
      ]
     },
     "metadata": {},
     "output_type": "display_data"
    },
    {
     "data": {
      "text/html": [
       "Run data is saved locally in <code>/home/mdorosan/2022/bagls-sh-project/notebooks/wandb/run-20221204_125640-1bi91hrw</code>"
      ],
      "text/plain": [
       "<IPython.core.display.HTML object>"
      ]
     },
     "metadata": {},
     "output_type": "display_data"
    },
    {
     "data": {
      "text/html": [
       "Syncing run <strong><a href=\"https://wandb.ai/miked/bagls-sh-project/runs/1bi91hrw\" target=\"_blank\">gradcam_logger</a></strong> to <a href=\"https://wandb.ai/miked/bagls-sh-project\" target=\"_blank\">Weights & Biases</a> (<a href=\"https://wandb.me/run\" target=\"_blank\">docs</a>)<br/>"
      ],
      "text/plain": [
       "<IPython.core.display.HTML object>"
      ]
     },
     "metadata": {},
     "output_type": "display_data"
    },
    {
     "data": {
      "text/html": [
       "Waiting for W&B process to finish... <strong style=\"color:green\">(success).</strong>"
      ],
      "text/plain": [
       "<IPython.core.display.HTML object>"
      ]
     },
     "metadata": {},
     "output_type": "display_data"
    },
    {
     "data": {
      "text/html": [
       "Synced <strong style=\"color:#cdcd00\">gradcam_logger</strong>: <a href=\"https://wandb.ai/miked/bagls-sh-project/runs/1bi91hrw\" target=\"_blank\">https://wandb.ai/miked/bagls-sh-project/runs/1bi91hrw</a><br/>Synced 6 W&B file(s), 1 media file(s), 209 artifact file(s) and 1 other file(s)"
      ],
      "text/plain": [
       "<IPython.core.display.HTML object>"
      ]
     },
     "metadata": {},
     "output_type": "display_data"
    },
    {
     "data": {
      "text/html": [
       "Find logs at: <code>./wandb/run-20221204_125640-1bi91hrw/logs</code>"
      ],
      "text/plain": [
       "<IPython.core.display.HTML object>"
      ]
     },
     "metadata": {},
     "output_type": "display_data"
    }
   ],
   "source": [
    "run = wandb.init(\n",
    "    project=PROJECT_NAME, job_type='log_gradcam', \n",
    "    name=f'gradcam_logger'\n",
    ")\n",
    "\n",
    "columns = tp_df.columns.tolist() + ['image', 'gradcam_overlay', 'gradcam_layer_used']\n",
    "gradcam_table = wandb.Table(columns=columns)\n",
    "\n",
    "for index, (_, data) in enumerate(tp_df.iterrows()):\n",
    "    row = data.tolist() + [wandb.Image(images[index])] + [wandb.Image(gradcams[index])] + [layer_name]\n",
    "    gradcam_table.add_data(*row)\n",
    "\n",
    "run.log({\"tp_interpretation\" : gradcam_table})\n",
    "run.finish()"
   ]
  },
  {
   "cell_type": "markdown",
   "id": "890a781e",
   "metadata": {},
   "source": [
    "### Averaging heatmaps"
   ]
  },
  {
   "cell_type": "code",
   "execution_count": 52,
   "id": "70e1239a",
   "metadata": {
    "ExecuteTime": {
     "end_time": "2022-12-04T12:15:32.726794Z",
     "start_time": "2022-12-04T12:15:31.655578Z"
    }
   },
   "outputs": [
    {
     "ename": "ValueError",
     "evalue": "too many values to unpack (expected 2)",
     "output_type": "error",
     "traceback": [
      "\u001b[0;31m---------------------------------------------------------------------------\u001b[0m",
      "\u001b[0;31mValueError\u001b[0m                                Traceback (most recent call last)",
      "\u001b[0;32m/tmp/ipykernel_213459/2995834785.py\u001b[0m in \u001b[0;36m<module>\u001b[0;34m\u001b[0m\n\u001b[1;32m     14\u001b[0m \u001b[0mheatmap_dict\u001b[0m \u001b[0;34m=\u001b[0m \u001b[0;34m{\u001b[0m\u001b[0;34m}\u001b[0m\u001b[0;34m\u001b[0m\u001b[0;34m\u001b[0m\u001b[0m\n\u001b[1;32m     15\u001b[0m \u001b[0;34m\u001b[0m\u001b[0m\n\u001b[0;32m---> 16\u001b[0;31m \u001b[0mimages\u001b[0m\u001b[0;34m,\u001b[0m \u001b[0mgradcams\u001b[0m \u001b[0;34m=\u001b[0m \u001b[0;34m[\u001b[0m\u001b[0;34m]\u001b[0m\u001b[0;34m,\u001b[0m \u001b[0;34m[\u001b[0m\u001b[0;34m]\u001b[0m\u001b[0;34m,\u001b[0m \u001b[0;34m[\u001b[0m\u001b[0;34m]\u001b[0m\u001b[0;34m\u001b[0m\u001b[0;34m\u001b[0m\u001b[0m\n\u001b[0m\u001b[1;32m     17\u001b[0m \u001b[0;32mfor\u001b[0m \u001b[0mindex\u001b[0m\u001b[0;34m,\u001b[0m \u001b[0;34m(\u001b[0m\u001b[0mimage\u001b[0m\u001b[0;34m,\u001b[0m \u001b[0mlabel_arr\u001b[0m\u001b[0;34m)\u001b[0m \u001b[0;32min\u001b[0m \u001b[0menumerate\u001b[0m\u001b[0;34m(\u001b[0m\u001b[0mzip\u001b[0m\u001b[0;34m(\u001b[0m\u001b[0mdata\u001b[0m\u001b[0;34m,\u001b[0m \u001b[0mlabels\u001b[0m\u001b[0;34m)\u001b[0m\u001b[0;34m)\u001b[0m\u001b[0;34m:\u001b[0m\u001b[0;34m\u001b[0m\u001b[0;34m\u001b[0m\u001b[0m\n\u001b[1;32m     18\u001b[0m     \u001b[0mimage\u001b[0m \u001b[0;34m=\u001b[0m \u001b[0mnp\u001b[0m\u001b[0;34m.\u001b[0m\u001b[0mexpand_dims\u001b[0m\u001b[0;34m(\u001b[0m\u001b[0mimage\u001b[0m\u001b[0;34m,\u001b[0m \u001b[0;36m0\u001b[0m\u001b[0;34m)\u001b[0m\u001b[0;34m\u001b[0m\u001b[0;34m\u001b[0m\u001b[0m\n",
      "\u001b[0;31mValueError\u001b[0m: too many values to unpack (expected 2)"
     ]
    }
   ],
   "source": [
    "import interpretation\n",
    "model_name = 'DenseNet121'\n",
    "\n",
    "# for DenseNet121\n",
    "layers = ['conv2_block1_concat','conv2_block2_concat','conv2_block3_concat',\n",
    "          'conv2_block4_concat', 'conv2_block5_concat', 'conv5_block12_concat', \n",
    "          'conv5_block13_concat','conv5_block14_concat','conv5_block16_concat']\n",
    "\n",
    "\n",
    "# prep data\n",
    "data, labels = tp_test_dataset[0]\n",
    "heatmap_dict = {}\n",
    "\n",
    "images, gradcams = [], []\n",
    "for index, (image, label_arr) in enumerate(zip(data, labels)):\n",
    "    image = np.expand_dims(image, 0)\n",
    "    \n",
    "    heatmaps = []\n",
    "    for layer_name in layers:\n",
    "        # init gradcam class\n",
    "        cam = interpretation.GradCAM(models[model_name], layer_name)\n",
    "\n",
    "        # get gradcam heatmap, use pred_index\n",
    "        heatmap = cam.compute_heatmap(image)\n",
    "        heatmaps.append(heatmap)\n",
    "    if index <= 10:    \n",
    "        heatmap_dict[index] = heatmaps\n",
    "    \n",
    "    break\n",
    "    # append image: remove batch axis, rescale, and convert to uint8\n",
    "    image = image.reshape(image.shape[1:])\n",
    "    image = image * 255\n",
    "    images.append(tf.keras.preprocessing.image.array_to_img(image))\n",
    "    image = image.astype(np.uint8)\n",
    "    \n",
    "    # average heatmap here before overlay\n",
    "    \n",
    "    \n",
    "    # overlay gradcam heatmap results to image\n",
    "    superimposed_img = cam.overlay_heatmap(heatmap, image)\n",
    "\n",
    "    # append original and gradcam overlay image\n",
    "    gradcams.append(superimposed_img)"
   ]
  },
  {
   "cell_type": "code",
   "execution_count": null,
   "id": "72b1945e",
   "metadata": {},
   "outputs": [],
   "source": [
    "np.stack(heatmaps, axis=0).shape"
   ]
  },
  {
   "cell_type": "code",
   "execution_count": null,
   "id": "29c21f1c",
   "metadata": {},
   "outputs": [],
   "source": [
    "run = wandb.init(\n",
    "    project=PROJECT_NAME, job_type='log_gradcam_average', \n",
    "    name=f'gradcam_average_logger'\n",
    ")\n",
    "\n",
    "columns = fn_df.columns.tolist() + ['image', 'gradcam_overlay']\n",
    "gradcam_table = wandb.Table(columns=columns)\n",
    "\n",
    "for index, (_, data) in enumerate(fn_df.iterrows()):\n",
    "    row = data.tolist() + [wandb.Image(image[index])] + [wandb.Image(gradcams[index])] \n",
    "    gradcam_table.add_data(*row)\n",
    "\n",
    "run.log({\"fn_interpretation\" : gradcam_table})\n",
    "run.finish()"
   ]
  }
 ],
 "metadata": {
  "hide_input": false,
  "kernelspec": {
   "display_name": "Python [conda env:msds2022-ml3]",
   "language": "python",
   "name": "conda-env-msds2022-ml3-py"
  },
  "language_info": {
   "codemirror_mode": {
    "name": "ipython",
    "version": 3
   },
   "file_extension": ".py",
   "mimetype": "text/x-python",
   "name": "python",
   "nbconvert_exporter": "python",
   "pygments_lexer": "ipython3",
   "version": "3.9.6"
  },
  "toc": {
   "base_numbering": 1,
   "nav_menu": {},
   "number_sections": true,
   "sideBar": true,
   "skip_h1_title": false,
   "title_cell": "Table of Contents",
   "title_sidebar": "Contents",
   "toc_cell": false,
   "toc_position": {},
   "toc_section_display": true,
   "toc_window_display": false
  }
 },
 "nbformat": 4,
 "nbformat_minor": 5
}
