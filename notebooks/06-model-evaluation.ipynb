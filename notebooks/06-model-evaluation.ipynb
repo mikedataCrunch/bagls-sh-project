{
 "cells": [
  {
   "cell_type": "code",
   "execution_count": 1,
   "id": "f1aa56c0",
   "metadata": {
    "ExecuteTime": {
     "end_time": "2022-12-03T17:15:11.214831Z",
     "start_time": "2022-12-03T17:15:11.194336Z"
    }
   },
   "outputs": [],
   "source": [
    "# dev convenience\n",
    "%load_ext autoreload\n",
    "%autoreload 2"
   ]
  },
  {
   "cell_type": "code",
   "execution_count": 2,
   "id": "3ca39c38",
   "metadata": {
    "ExecuteTime": {
     "end_time": "2022-12-03T17:15:19.782586Z",
     "start_time": "2022-12-03T17:15:11.216720Z"
    }
   },
   "outputs": [
    {
     "name": "stdout",
     "output_type": "stream",
     "text": [
      "W&B:  0.13.5\n"
     ]
    },
    {
     "name": "stderr",
     "output_type": "stream",
     "text": [
      "\u001b[34m\u001b[1mwandb\u001b[0m: Currently logged in as: \u001b[33mmiked\u001b[0m. Use \u001b[1m`wandb login --relogin`\u001b[0m to force relogin\n"
     ]
    },
    {
     "data": {
      "text/plain": [
       "True"
      ]
     },
     "execution_count": 2,
     "metadata": {},
     "output_type": "execute_result"
    }
   ],
   "source": [
    "import sys\n",
    "sys.path.append(\"..\")\n",
    "\n",
    "import os\n",
    "import numpy as np\n",
    "import pandas as pd\n",
    "import matplotlib.pyplot as plt\n",
    "from tqdm import tqdm\n",
    "import PATHS\n",
    "import config\n",
    "import utils\n",
    "import custom_metrics\n",
    "from sklearn.metrics import auc, precision_recall_curve, roc_auc_score\n",
    "\n",
    "os.environ[\"CUDA_VISIBLE_DEVICES\"] = \"0,1,2,3\"\n",
    "configs = config.nb_configs\n",
    "\n",
    "# os.environ[\"WANDB_SILENT\"] = \"True\"\n",
    "os.environ[\"WANDB_NOTEBOOK_NAME\"] = \"07-model-evaluation.ipynb\"\n",
    "\n",
    "import wandb\n",
    "print(\"W&B: \", wandb.__version__)\n",
    "wandb.login()\n",
    "\n",
    "PROJECT_NAME = \"bagls-sh-test\""
   ]
  },
  {
   "cell_type": "code",
   "execution_count": 3,
   "id": "1a80397d",
   "metadata": {
    "ExecuteTime": {
     "end_time": "2022-12-03T17:15:22.856542Z",
     "start_time": "2022-12-03T17:15:19.785546Z"
    }
   },
   "outputs": [
    {
     "name": "stdout",
     "output_type": "stream",
     "text": [
      "[name: \"/device:CPU:0\"\n",
      "device_type: \"CPU\"\n",
      "memory_limit: 268435456\n",
      "locality {\n",
      "}\n",
      "incarnation: 18096112900111316145\n",
      ", name: \"/device:GPU:0\"\n",
      "device_type: \"GPU\"\n",
      "memory_limit: 10925703168\n",
      "locality {\n",
      "  bus_id: 1\n",
      "  links {\n",
      "    link {\n",
      "      device_id: 1\n",
      "      type: \"StreamExecutor\"\n",
      "      strength: 1\n",
      "    }\n",
      "  }\n",
      "}\n",
      "incarnation: 14260690529526628772\n",
      "physical_device_desc: \"device: 0, name: NVIDIA GeForce GTX 1080 Ti, pci bus id: 0000:04:00.0, compute capability: 6.1\"\n",
      ", name: \"/device:GPU:1\"\n",
      "device_type: \"GPU\"\n",
      "memory_limit: 10925703168\n",
      "locality {\n",
      "  bus_id: 1\n",
      "  links {\n",
      "    link {\n",
      "      type: \"StreamExecutor\"\n",
      "      strength: 1\n",
      "    }\n",
      "  }\n",
      "}\n",
      "incarnation: 15582642997967611379\n",
      "physical_device_desc: \"device: 1, name: NVIDIA GeForce GTX 1080 Ti, pci bus id: 0000:08:00.0, compute capability: 6.1\"\n",
      ", name: \"/device:GPU:2\"\n",
      "device_type: \"GPU\"\n",
      "memory_limit: 10925703168\n",
      "locality {\n",
      "  bus_id: 2\n",
      "  numa_node: 1\n",
      "  links {\n",
      "    link {\n",
      "      device_id: 3\n",
      "      type: \"StreamExecutor\"\n",
      "      strength: 1\n",
      "    }\n",
      "  }\n",
      "}\n",
      "incarnation: 16786700675280552951\n",
      "physical_device_desc: \"device: 2, name: NVIDIA GeForce GTX 1080 Ti, pci bus id: 0000:84:00.0, compute capability: 6.1\"\n",
      ", name: \"/device:GPU:3\"\n",
      "device_type: \"GPU\"\n",
      "memory_limit: 10925703168\n",
      "locality {\n",
      "  bus_id: 2\n",
      "  numa_node: 1\n",
      "  links {\n",
      "    link {\n",
      "      device_id: 2\n",
      "      type: \"StreamExecutor\"\n",
      "      strength: 1\n",
      "    }\n",
      "  }\n",
      "}\n",
      "incarnation: 3469969744140783767\n",
      "physical_device_desc: \"device: 3, name: NVIDIA GeForce GTX 1080 Ti, pci bus id: 0000:89:00.0, compute capability: 6.1\"\n",
      "]\n"
     ]
    },
    {
     "name": "stderr",
     "output_type": "stream",
     "text": [
      "2022-12-03 17:15:19.844502: I tensorflow/core/platform/cpu_feature_guard.cc:142] This TensorFlow binary is optimized with oneAPI Deep Neural Network Library (oneDNN) to use the following CPU instructions in performance-critical operations:  AVX2 FMA\n",
      "To enable them in other operations, rebuild TensorFlow with the appropriate compiler flags.\n",
      "2022-12-03 17:15:22.850035: I tensorflow/core/common_runtime/gpu/gpu_device.cc:1510] Created device /device:GPU:0 with 10419 MB memory:  -> device: 0, name: NVIDIA GeForce GTX 1080 Ti, pci bus id: 0000:04:00.0, compute capability: 6.1\n",
      "2022-12-03 17:15:22.850883: I tensorflow/core/common_runtime/gpu/gpu_device.cc:1510] Created device /device:GPU:1 with 10419 MB memory:  -> device: 1, name: NVIDIA GeForce GTX 1080 Ti, pci bus id: 0000:08:00.0, compute capability: 6.1\n",
      "2022-12-03 17:15:22.851497: I tensorflow/core/common_runtime/gpu/gpu_device.cc:1510] Created device /device:GPU:2 with 10419 MB memory:  -> device: 2, name: NVIDIA GeForce GTX 1080 Ti, pci bus id: 0000:84:00.0, compute capability: 6.1\n",
      "2022-12-03 17:15:22.852207: I tensorflow/core/common_runtime/gpu/gpu_device.cc:1510] Created device /device:GPU:3 with 10419 MB memory:  -> device: 3, name: NVIDIA GeForce GTX 1080 Ti, pci bus id: 0000:89:00.0, compute capability: 6.1\n"
     ]
    }
   ],
   "source": [
    "import tensorflow as tf\n",
    "from tensorflow.keras.models import load_model\n",
    "from tensorflow import keras\n",
    "from tensorflow.keras import metrics\n",
    "from tensorflow.keras.preprocessing.image import ImageDataGenerator\n",
    "from tensorflow.keras.applications.imagenet_utils import preprocess_input\n",
    "from tensorflow.python.client import device_lib\n",
    "\n",
    "print(device_lib.list_local_devices())"
   ]
  },
  {
   "cell_type": "markdown",
   "id": "eb2adebc",
   "metadata": {},
   "source": [
    "## Create bootstraps of the `test` set"
   ]
  },
  {
   "cell_type": "code",
   "execution_count": 4,
   "id": "8bf2a9a7",
   "metadata": {
    "ExecuteTime": {
     "end_time": "2022-12-03T17:15:22.903732Z",
     "start_time": "2022-12-03T17:15:22.859292Z"
    }
   },
   "outputs": [],
   "source": [
    "# generator\n",
    "test_datagen = ImageDataGenerator(\n",
    "    preprocessing_function=None, \n",
    "    rescale=configs[\"rescale\"],\n",
    ")"
   ]
  },
  {
   "cell_type": "code",
   "execution_count": 5,
   "id": "14842d78",
   "metadata": {
    "ExecuteTime": {
     "end_time": "2022-12-03T17:15:23.572418Z",
     "start_time": "2022-12-03T17:15:22.905835Z"
    }
   },
   "outputs": [
    {
     "name": "stdout",
     "output_type": "stream",
     "text": [
      "Found 2300 validated image filenames belonging to 2 classes.\n",
      "Found 2300 validated image filenames belonging to 2 classes.\n",
      "Found 2300 validated image filenames belonging to 2 classes.\n",
      "Found 2300 validated image filenames belonging to 2 classes.\n",
      "Found 2300 validated image filenames belonging to 2 classes.\n",
      "Found 2300 validated image filenames belonging to 2 classes.\n",
      "Found 2300 validated image filenames belonging to 2 classes.\n",
      "Found 2300 validated image filenames belonging to 2 classes.\n",
      "Found 2300 validated image filenames belonging to 2 classes.\n",
      "Found 2300 validated image filenames belonging to 2 classes.\n"
     ]
    }
   ],
   "source": [
    "test_dir = \"../test/test\"\n",
    "num_bootstrap = 10 # bootstrap sets\n",
    "datasets, labels_list, = [], []\n",
    "df_list = []\n",
    "\n",
    "for i in range(num_bootstrap):\n",
    "    # get boostrap dataframes\n",
    "    csv_path = os.path.join(PATHS.bootstrap_dir, f\"test-{i}.csv\")\n",
    "    df = utils.prepare_df(csv_path)\n",
    "    \n",
    "    # get labels 1 unhealthy, 0 healthy\n",
    "    labels_list.append((df[\"is_healthy\"]==False).astype(int))    \n",
    "    test_dataset = test_datagen.flow_from_dataframe(\n",
    "        df, directory=test_dir, \n",
    "        x_col='filename', y_col='class',\n",
    "        target_size=configs[\"image_size\"],\n",
    "        color_mode=configs[\"cmap\"],\n",
    "        classes=configs[\"class_names\"],\n",
    "        class_mode=configs[\"label_mode\"],\n",
    "        batch_size=configs[\"batch_size\"],\n",
    "        interpolation=configs[\"interpol\"],\n",
    "        validate_filenames=True,\n",
    "        shuffle=False,\n",
    "    )\n",
    "    # log df\n",
    "    df_list.append(df)\n",
    "    datasets.append(test_dataset)"
   ]
  },
  {
   "cell_type": "markdown",
   "id": "3896815c",
   "metadata": {},
   "source": [
    "## Load Models"
   ]
  },
  {
   "cell_type": "code",
   "execution_count": 6,
   "id": "6ecf6bf0",
   "metadata": {
    "ExecuteTime": {
     "end_time": "2022-12-03T17:15:23.620844Z",
     "start_time": "2022-12-03T17:15:23.574392Z"
    }
   },
   "outputs": [],
   "source": [
    "# initialize empty values\n",
    "models = {\n",
    "    'convnet_from_scratch': None,\n",
    "    'DenseNet121': None,\n",
    "    'ResNet50': None,\n",
    "    'InceptionV3': None, \n",
    "    'InceptionResNetV2': None,\n",
    "}"
   ]
  },
  {
   "cell_type": "code",
   "execution_count": 7,
   "id": "b0d617c8",
   "metadata": {
    "ExecuteTime": {
     "end_time": "2022-12-03T17:18:24.226363Z",
     "start_time": "2022-12-03T17:15:23.622846Z"
    },
    "scrolled": true
   },
   "outputs": [
    {
     "data": {
      "text/html": [
       "Tracking run with wandb version 0.13.5"
      ],
      "text/plain": [
       "<IPython.core.display.HTML object>"
      ]
     },
     "metadata": {},
     "output_type": "display_data"
    },
    {
     "data": {
      "text/html": [
       "Run data is saved locally in <code>/home/mdorosan/2022/bagls-sh-project/notebooks/wandb/run-20221203_171523-17h2x9tz</code>"
      ],
      "text/plain": [
       "<IPython.core.display.HTML object>"
      ]
     },
     "metadata": {},
     "output_type": "display_data"
    },
    {
     "data": {
      "text/html": [
       "Syncing run <strong><a href=\"https://wandb.ai/miked/bagls-sh-test/runs/17h2x9tz\" target=\"_blank\">convnet_from_scratch</a></strong> to <a href=\"https://wandb.ai/miked/bagls-sh-test\" target=\"_blank\">Weights & Biases</a> (<a href=\"https://wandb.me/run\" target=\"_blank\">docs</a>)<br/>"
      ],
      "text/plain": [
       "<IPython.core.display.HTML object>"
      ]
     },
     "metadata": {},
     "output_type": "display_data"
    },
    {
     "name": "stderr",
     "output_type": "stream",
     "text": [
      "\u001b[34m\u001b[1mwandb\u001b[0m: Downloading large artifact model-convnet_from_scratch:latest, 111.03MB. 4 files... \n",
      "\u001b[34m\u001b[1mwandb\u001b[0m:   4 of 4 files downloaded.  \n",
      "Done. 0:0:0.2\n"
     ]
    },
    {
     "data": {
      "text/html": [
       "Waiting for W&B process to finish... <strong style=\"color:green\">(success).</strong>"
      ],
      "text/plain": [
       "<IPython.core.display.HTML object>"
      ]
     },
     "metadata": {},
     "output_type": "display_data"
    },
    {
     "data": {
      "text/html": [
       "Synced <strong style=\"color:#cdcd00\">convnet_from_scratch</strong>: <a href=\"https://wandb.ai/miked/bagls-sh-test/runs/17h2x9tz\" target=\"_blank\">https://wandb.ai/miked/bagls-sh-test/runs/17h2x9tz</a><br/>Synced 7 W&B file(s), 0 media file(s), 2 artifact file(s) and 1 other file(s)"
      ],
      "text/plain": [
       "<IPython.core.display.HTML object>"
      ]
     },
     "metadata": {},
     "output_type": "display_data"
    },
    {
     "data": {
      "text/html": [
       "Find logs at: <code>./wandb/run-20221203_171523-17h2x9tz/logs</code>"
      ],
      "text/plain": [
       "<IPython.core.display.HTML object>"
      ]
     },
     "metadata": {},
     "output_type": "display_data"
    },
    {
     "name": "stdout",
     "output_type": "stream",
     "text": [
      "WARNING:tensorflow:Unable to restore custom metric. Please ensure that the layer implements `get_config` and `from_config` when saving. In addition, please use the `custom_objects` arg when calling `load_model()`.\n",
      "WARNING:tensorflow:Unable to restore custom metric. Please ensure that the layer implements `get_config` and `from_config` when saving. In addition, please use the `custom_objects` arg when calling `load_model()`.\n",
      "WARNING:tensorflow:Unable to restore custom metric. Please ensure that the layer implements `get_config` and `from_config` when saving. In addition, please use the `custom_objects` arg when calling `load_model()`.\n",
      "WARNING:tensorflow:Unable to restore custom metric. Please ensure that the layer implements `get_config` and `from_config` when saving. In addition, please use the `custom_objects` arg when calling `load_model()`.\n",
      "WARNING:tensorflow:Unable to restore custom metric. Please ensure that the layer implements `get_config` and `from_config` when saving. In addition, please use the `custom_objects` arg when calling `load_model()`.\n"
     ]
    },
    {
     "name": "stderr",
     "output_type": "stream",
     "text": [
      "2022-12-03 17:15:44.631638: I tensorflow/core/common_runtime/gpu/gpu_device.cc:1510] Created device /job:localhost/replica:0/task:0/device:GPU:0 with 10419 MB memory:  -> device: 0, name: NVIDIA GeForce GTX 1080 Ti, pci bus id: 0000:04:00.0, compute capability: 6.1\n",
      "2022-12-03 17:15:44.632707: I tensorflow/core/common_runtime/gpu/gpu_device.cc:1510] Created device /job:localhost/replica:0/task:0/device:GPU:1 with 10419 MB memory:  -> device: 1, name: NVIDIA GeForce GTX 1080 Ti, pci bus id: 0000:08:00.0, compute capability: 6.1\n",
      "2022-12-03 17:15:44.633699: I tensorflow/core/common_runtime/gpu/gpu_device.cc:1510] Created device /job:localhost/replica:0/task:0/device:GPU:2 with 10419 MB memory:  -> device: 2, name: NVIDIA GeForce GTX 1080 Ti, pci bus id: 0000:84:00.0, compute capability: 6.1\n",
      "2022-12-03 17:15:44.634731: I tensorflow/core/common_runtime/gpu/gpu_device.cc:1510] Created device /job:localhost/replica:0/task:0/device:GPU:3 with 10419 MB memory:  -> device: 3, name: NVIDIA GeForce GTX 1080 Ti, pci bus id: 0000:89:00.0, compute capability: 6.1\n"
     ]
    },
    {
     "name": "stdout",
     "output_type": "stream",
     "text": [
      "WARNING:tensorflow:Unable to restore custom metric. Please ensure that the layer implements `get_config` and `from_config` when saving. In addition, please use the `custom_objects` arg when calling `load_model()`.\n"
     ]
    },
    {
     "data": {
      "text/html": [
       "Tracking run with wandb version 0.13.5"
      ],
      "text/plain": [
       "<IPython.core.display.HTML object>"
      ]
     },
     "metadata": {},
     "output_type": "display_data"
    },
    {
     "data": {
      "text/html": [
       "Run data is saved locally in <code>/home/mdorosan/2022/bagls-sh-project/notebooks/wandb/run-20221203_171545-kcjhf6ei</code>"
      ],
      "text/plain": [
       "<IPython.core.display.HTML object>"
      ]
     },
     "metadata": {},
     "output_type": "display_data"
    },
    {
     "data": {
      "text/html": [
       "Syncing run <strong><a href=\"https://wandb.ai/miked/bagls-sh-test/runs/kcjhf6ei\" target=\"_blank\">DenseNet121</a></strong> to <a href=\"https://wandb.ai/miked/bagls-sh-test\" target=\"_blank\">Weights & Biases</a> (<a href=\"https://wandb.me/run\" target=\"_blank\">docs</a>)<br/>"
      ],
      "text/plain": [
       "<IPython.core.display.HTML object>"
      ]
     },
     "metadata": {},
     "output_type": "display_data"
    },
    {
     "name": "stderr",
     "output_type": "stream",
     "text": [
      "\u001b[34m\u001b[1mwandb\u001b[0m:   4 of 4 files downloaded.  \n"
     ]
    },
    {
     "data": {
      "text/html": [
       "Waiting for W&B process to finish... <strong style=\"color:green\">(success).</strong>"
      ],
      "text/plain": [
       "<IPython.core.display.HTML object>"
      ]
     },
     "metadata": {},
     "output_type": "display_data"
    },
    {
     "data": {
      "text/html": [
       "Synced <strong style=\"color:#cdcd00\">DenseNet121</strong>: <a href=\"https://wandb.ai/miked/bagls-sh-test/runs/kcjhf6ei\" target=\"_blank\">https://wandb.ai/miked/bagls-sh-test/runs/kcjhf6ei</a><br/>Synced 7 W&B file(s), 0 media file(s), 2 artifact file(s) and 1 other file(s)"
      ],
      "text/plain": [
       "<IPython.core.display.HTML object>"
      ]
     },
     "metadata": {},
     "output_type": "display_data"
    },
    {
     "data": {
      "text/html": [
       "Find logs at: <code>./wandb/run-20221203_171545-kcjhf6ei/logs</code>"
      ],
      "text/plain": [
       "<IPython.core.display.HTML object>"
      ]
     },
     "metadata": {},
     "output_type": "display_data"
    },
    {
     "name": "stdout",
     "output_type": "stream",
     "text": [
      "WARNING:tensorflow:Unable to restore custom metric. Please ensure that the layer implements `get_config` and `from_config` when saving. In addition, please use the `custom_objects` arg when calling `load_model()`.\n",
      "WARNING:tensorflow:Unable to restore custom metric. Please ensure that the layer implements `get_config` and `from_config` when saving. In addition, please use the `custom_objects` arg when calling `load_model()`.\n",
      "WARNING:tensorflow:Unable to restore custom metric. Please ensure that the layer implements `get_config` and `from_config` when saving. In addition, please use the `custom_objects` arg when calling `load_model()`.\n",
      "WARNING:tensorflow:Unable to restore custom metric. Please ensure that the layer implements `get_config` and `from_config` when saving. In addition, please use the `custom_objects` arg when calling `load_model()`.\n",
      "WARNING:tensorflow:Unable to restore custom metric. Please ensure that the layer implements `get_config` and `from_config` when saving. In addition, please use the `custom_objects` arg when calling `load_model()`.\n",
      "WARNING:tensorflow:Unable to restore custom metric. Please ensure that the layer implements `get_config` and `from_config` when saving. In addition, please use the `custom_objects` arg when calling `load_model()`.\n"
     ]
    },
    {
     "data": {
      "text/html": [
       "Tracking run with wandb version 0.13.5"
      ],
      "text/plain": [
       "<IPython.core.display.HTML object>"
      ]
     },
     "metadata": {},
     "output_type": "display_data"
    },
    {
     "data": {
      "text/html": [
       "Run data is saved locally in <code>/home/mdorosan/2022/bagls-sh-project/notebooks/wandb/run-20221203_171623-xnzlq9kt</code>"
      ],
      "text/plain": [
       "<IPython.core.display.HTML object>"
      ]
     },
     "metadata": {},
     "output_type": "display_data"
    },
    {
     "data": {
      "text/html": [
       "Syncing run <strong><a href=\"https://wandb.ai/miked/bagls-sh-test/runs/xnzlq9kt\" target=\"_blank\">ResNet50</a></strong> to <a href=\"https://wandb.ai/miked/bagls-sh-test\" target=\"_blank\">Weights & Biases</a> (<a href=\"https://wandb.me/run\" target=\"_blank\">docs</a>)<br/>"
      ],
      "text/plain": [
       "<IPython.core.display.HTML object>"
      ]
     },
     "metadata": {},
     "output_type": "display_data"
    },
    {
     "name": "stderr",
     "output_type": "stream",
     "text": [
      "\u001b[34m\u001b[1mwandb\u001b[0m: Downloading large artifact model-ResNet50:latest, 106.03MB. 4 files... \n",
      "\u001b[34m\u001b[1mwandb\u001b[0m:   4 of 4 files downloaded.  \n",
      "Done. 0:0:0.0\n"
     ]
    },
    {
     "data": {
      "text/html": [
       "Waiting for W&B process to finish... <strong style=\"color:green\">(success).</strong>"
      ],
      "text/plain": [
       "<IPython.core.display.HTML object>"
      ]
     },
     "metadata": {},
     "output_type": "display_data"
    },
    {
     "data": {
      "text/html": [
       "Synced <strong style=\"color:#cdcd00\">ResNet50</strong>: <a href=\"https://wandb.ai/miked/bagls-sh-test/runs/xnzlq9kt\" target=\"_blank\">https://wandb.ai/miked/bagls-sh-test/runs/xnzlq9kt</a><br/>Synced 7 W&B file(s), 0 media file(s), 2 artifact file(s) and 1 other file(s)"
      ],
      "text/plain": [
       "<IPython.core.display.HTML object>"
      ]
     },
     "metadata": {},
     "output_type": "display_data"
    },
    {
     "data": {
      "text/html": [
       "Find logs at: <code>./wandb/run-20221203_171623-xnzlq9kt/logs</code>"
      ],
      "text/plain": [
       "<IPython.core.display.HTML object>"
      ]
     },
     "metadata": {},
     "output_type": "display_data"
    },
    {
     "name": "stdout",
     "output_type": "stream",
     "text": [
      "WARNING:tensorflow:Unable to restore custom metric. Please ensure that the layer implements `get_config` and `from_config` when saving. In addition, please use the `custom_objects` arg when calling `load_model()`.\n",
      "WARNING:tensorflow:Unable to restore custom metric. Please ensure that the layer implements `get_config` and `from_config` when saving. In addition, please use the `custom_objects` arg when calling `load_model()`.\n",
      "WARNING:tensorflow:Unable to restore custom metric. Please ensure that the layer implements `get_config` and `from_config` when saving. In addition, please use the `custom_objects` arg when calling `load_model()`.\n",
      "WARNING:tensorflow:Unable to restore custom metric. Please ensure that the layer implements `get_config` and `from_config` when saving. In addition, please use the `custom_objects` arg when calling `load_model()`.\n",
      "WARNING:tensorflow:Unable to restore custom metric. Please ensure that the layer implements `get_config` and `from_config` when saving. In addition, please use the `custom_objects` arg when calling `load_model()`.\n",
      "WARNING:tensorflow:Unable to restore custom metric. Please ensure that the layer implements `get_config` and `from_config` when saving. In addition, please use the `custom_objects` arg when calling `load_model()`.\n"
     ]
    },
    {
     "data": {
      "text/html": [
       "Tracking run with wandb version 0.13.5"
      ],
      "text/plain": [
       "<IPython.core.display.HTML object>"
      ]
     },
     "metadata": {},
     "output_type": "display_data"
    },
    {
     "data": {
      "text/html": [
       "Run data is saved locally in <code>/home/mdorosan/2022/bagls-sh-project/notebooks/wandb/run-20221203_171653-q7oz3a97</code>"
      ],
      "text/plain": [
       "<IPython.core.display.HTML object>"
      ]
     },
     "metadata": {},
     "output_type": "display_data"
    },
    {
     "data": {
      "text/html": [
       "Syncing run <strong><a href=\"https://wandb.ai/miked/bagls-sh-test/runs/q7oz3a97\" target=\"_blank\">InceptionV3</a></strong> to <a href=\"https://wandb.ai/miked/bagls-sh-test\" target=\"_blank\">Weights & Biases</a> (<a href=\"https://wandb.me/run\" target=\"_blank\">docs</a>)<br/>"
      ],
      "text/plain": [
       "<IPython.core.display.HTML object>"
      ]
     },
     "metadata": {},
     "output_type": "display_data"
    },
    {
     "name": "stderr",
     "output_type": "stream",
     "text": [
      "\u001b[34m\u001b[1mwandb\u001b[0m: Downloading large artifact model-InceptionV3:latest, 101.47MB. 4 files... \n",
      "\u001b[34m\u001b[1mwandb\u001b[0m:   4 of 4 files downloaded.  \n",
      "Done. 0:0:0.1\n"
     ]
    },
    {
     "data": {
      "text/html": [
       "Waiting for W&B process to finish... <strong style=\"color:green\">(success).</strong>"
      ],
      "text/plain": [
       "<IPython.core.display.HTML object>"
      ]
     },
     "metadata": {},
     "output_type": "display_data"
    },
    {
     "data": {
      "text/html": [
       "Synced <strong style=\"color:#cdcd00\">InceptionV3</strong>: <a href=\"https://wandb.ai/miked/bagls-sh-test/runs/q7oz3a97\" target=\"_blank\">https://wandb.ai/miked/bagls-sh-test/runs/q7oz3a97</a><br/>Synced 7 W&B file(s), 0 media file(s), 2 artifact file(s) and 1 other file(s)"
      ],
      "text/plain": [
       "<IPython.core.display.HTML object>"
      ]
     },
     "metadata": {},
     "output_type": "display_data"
    },
    {
     "data": {
      "text/html": [
       "Find logs at: <code>./wandb/run-20221203_171653-q7oz3a97/logs</code>"
      ],
      "text/plain": [
       "<IPython.core.display.HTML object>"
      ]
     },
     "metadata": {},
     "output_type": "display_data"
    },
    {
     "name": "stdout",
     "output_type": "stream",
     "text": [
      "WARNING:tensorflow:Unable to restore custom metric. Please ensure that the layer implements `get_config` and `from_config` when saving. In addition, please use the `custom_objects` arg when calling `load_model()`.\n",
      "WARNING:tensorflow:Unable to restore custom metric. Please ensure that the layer implements `get_config` and `from_config` when saving. In addition, please use the `custom_objects` arg when calling `load_model()`.\n",
      "WARNING:tensorflow:Unable to restore custom metric. Please ensure that the layer implements `get_config` and `from_config` when saving. In addition, please use the `custom_objects` arg when calling `load_model()`.\n",
      "WARNING:tensorflow:Unable to restore custom metric. Please ensure that the layer implements `get_config` and `from_config` when saving. In addition, please use the `custom_objects` arg when calling `load_model()`.\n",
      "WARNING:tensorflow:Unable to restore custom metric. Please ensure that the layer implements `get_config` and `from_config` when saving. In addition, please use the `custom_objects` arg when calling `load_model()`.\n",
      "WARNING:tensorflow:Unable to restore custom metric. Please ensure that the layer implements `get_config` and `from_config` when saving. In addition, please use the `custom_objects` arg when calling `load_model()`.\n"
     ]
    },
    {
     "data": {
      "text/html": [
       "Tracking run with wandb version 0.13.5"
      ],
      "text/plain": [
       "<IPython.core.display.HTML object>"
      ]
     },
     "metadata": {},
     "output_type": "display_data"
    },
    {
     "data": {
      "text/html": [
       "Run data is saved locally in <code>/home/mdorosan/2022/bagls-sh-project/notebooks/wandb/run-20221203_171728-cugozhi1</code>"
      ],
      "text/plain": [
       "<IPython.core.display.HTML object>"
      ]
     },
     "metadata": {},
     "output_type": "display_data"
    },
    {
     "data": {
      "text/html": [
       "Syncing run <strong><a href=\"https://wandb.ai/miked/bagls-sh-test/runs/cugozhi1\" target=\"_blank\">InceptionResNetV2</a></strong> to <a href=\"https://wandb.ai/miked/bagls-sh-test\" target=\"_blank\">Weights & Biases</a> (<a href=\"https://wandb.me/run\" target=\"_blank\">docs</a>)<br/>"
      ],
      "text/plain": [
       "<IPython.core.display.HTML object>"
      ]
     },
     "metadata": {},
     "output_type": "display_data"
    },
    {
     "name": "stderr",
     "output_type": "stream",
     "text": [
      "\u001b[34m\u001b[1mwandb\u001b[0m: Downloading large artifact model-InceptionResNetV2:latest, 231.20MB. 4 files... \n",
      "\u001b[34m\u001b[1mwandb\u001b[0m:   4 of 4 files downloaded.  \n",
      "Done. 0:0:0.1\n"
     ]
    },
    {
     "data": {
      "text/html": [
       "Waiting for W&B process to finish... <strong style=\"color:green\">(success).</strong>"
      ],
      "text/plain": [
       "<IPython.core.display.HTML object>"
      ]
     },
     "metadata": {},
     "output_type": "display_data"
    },
    {
     "data": {
      "text/html": [
       "Synced <strong style=\"color:#cdcd00\">InceptionResNetV2</strong>: <a href=\"https://wandb.ai/miked/bagls-sh-test/runs/cugozhi1\" target=\"_blank\">https://wandb.ai/miked/bagls-sh-test/runs/cugozhi1</a><br/>Synced 7 W&B file(s), 0 media file(s), 2 artifact file(s) and 1 other file(s)"
      ],
      "text/plain": [
       "<IPython.core.display.HTML object>"
      ]
     },
     "metadata": {},
     "output_type": "display_data"
    },
    {
     "data": {
      "text/html": [
       "Find logs at: <code>./wandb/run-20221203_171728-cugozhi1/logs</code>"
      ],
      "text/plain": [
       "<IPython.core.display.HTML object>"
      ]
     },
     "metadata": {},
     "output_type": "display_data"
    },
    {
     "name": "stdout",
     "output_type": "stream",
     "text": [
      "WARNING:tensorflow:Unable to restore custom metric. Please ensure that the layer implements `get_config` and `from_config` when saving. In addition, please use the `custom_objects` arg when calling `load_model()`.\n",
      "WARNING:tensorflow:Unable to restore custom metric. Please ensure that the layer implements `get_config` and `from_config` when saving. In addition, please use the `custom_objects` arg when calling `load_model()`.\n",
      "WARNING:tensorflow:Unable to restore custom metric. Please ensure that the layer implements `get_config` and `from_config` when saving. In addition, please use the `custom_objects` arg when calling `load_model()`.\n",
      "WARNING:tensorflow:Unable to restore custom metric. Please ensure that the layer implements `get_config` and `from_config` when saving. In addition, please use the `custom_objects` arg when calling `load_model()`.\n",
      "WARNING:tensorflow:Unable to restore custom metric. Please ensure that the layer implements `get_config` and `from_config` when saving. In addition, please use the `custom_objects` arg when calling `load_model()`.\n",
      "WARNING:tensorflow:Unable to restore custom metric. Please ensure that the layer implements `get_config` and `from_config` when saving. In addition, please use the `custom_objects` arg when calling `load_model()`.\n"
     ]
    }
   ],
   "source": [
    "JOB_TYPE = 'get_model'\n",
    "\n",
    "for model_name in models:\n",
    "    run = wandb.init(project=PROJECT_NAME, job_type=JOB_TYPE, \n",
    "                     name=model_name)\n",
    "    model_at = run.use_artifact(\"model-\" + model_name + \":latest\")\n",
    "    model_dir = model_at.download()\n",
    "    \n",
    "    run.finish()\n",
    "    \n",
    "    model = keras.models.load_model(model_dir, compile=False)\n",
    "    # model = keras.models.load_model(\n",
    "    #     model_dir, custom_objects=metrics_dict, compile=False)\n",
    "    model.trainable = False\n",
    "    model.compile()\n",
    "    model.trainable\n",
    "    models[model_name] = model"
   ]
  },
  {
   "cell_type": "markdown",
   "id": "5823e723",
   "metadata": {},
   "source": [
    "## Evaluate models"
   ]
  },
  {
   "cell_type": "markdown",
   "id": "2262f877",
   "metadata": {},
   "source": [
    "### Inspect ROC and PR curves"
   ]
  },
  {
   "cell_type": "code",
   "execution_count": 8,
   "id": "30b9b483",
   "metadata": {
    "ExecuteTime": {
     "end_time": "2022-12-03T17:20:47.441270Z",
     "start_time": "2022-12-03T17:18:24.229403Z"
    }
   },
   "outputs": [
    {
     "name": "stderr",
     "output_type": "stream",
     "text": [
      "  0%|          | 0/10 [00:00<?, ?it/s]2022-12-03 17:18:25.748581: I tensorflow/compiler/mlir/mlir_graph_optimization_pass.cc:185] None of the MLIR Optimization Passes are enabled (registered 2)\n",
      "2022-12-03 17:18:28.967803: I tensorflow/stream_executor/cuda/cuda_dnn.cc:369] Loaded cuDNN version 8400\n",
      "100%|██████████| 10/10 [02:21<00:00, 14.16s/it]\n"
     ]
    },
    {
     "data": {
      "image/png": "[encoded data removed]",
      "text/plain": [
       "<Figure size 1080x360 with 3 Axes>"
      ]
     },
     "metadata": {
      "needs_background": "light"
     },
     "output_type": "display_data"
    }
   ],
   "source": [
    "model_name = 'DenseNet121'\n",
    "fig, ax = plt.subplots(1, 3, figsize=(15, 5))\n",
    "ax = ax.flatten()\n",
    "\n",
    "for i in tqdm(range(num_bootstrap)):\n",
    "    true = labels_list[i]\n",
    "    preds = models[model_name].predict(datasets[i])\n",
    "    results = utils.get_results(true, preds, num_thresh=100, class_index=1) # unhealthy\n",
    "    ax = utils.plot_results(ax, *results)\n",
    "plt.show()"
   ]
  },
  {
   "cell_type": "code",
   "execution_count": 39,
   "id": "d3002790",
   "metadata": {
    "ExecuteTime": {
     "end_time": "2022-12-03T18:24:27.900593Z",
     "start_time": "2022-12-03T18:24:05.615769Z"
    }
   },
   "outputs": [
    {
     "data": {
      "text/html": [
       "Finishing last run (ID:2z04c1sy) before initializing another..."
      ],
      "text/plain": [
       "<IPython.core.display.HTML object>"
      ]
     },
     "metadata": {},
     "output_type": "display_data"
    },
    {
     "data": {
      "text/html": [
       "Waiting for W&B process to finish... <strong style=\"color:green\">(success).</strong>"
      ],
      "text/plain": [
       "<IPython.core.display.HTML object>"
      ]
     },
     "metadata": {},
     "output_type": "display_data"
    },
    {
     "data": {
      "application/vnd.jupyter.widget-view+json": {
       "model_id": "32eb11581ada4ee59cbf5d85ab08cc52",
       "version_major": 2,
       "version_minor": 0
      },
      "text/plain": [
       "VBox(children=(Label(value='0.246 MB of 0.421 MB uploaded (0.000 MB deduped)\\r'), FloatProgress(value=0.584390…"
      ]
     },
     "metadata": {},
     "output_type": "display_data"
    },
    {
     "data": {
      "text/html": [
       "Synced <strong style=\"color:#cdcd00\">curves-logging</strong>: <a href=\"https://wandb.ai/miked/bagls-sh-test/runs/2z04c1sy\" target=\"_blank\">https://wandb.ai/miked/bagls-sh-test/runs/2z04c1sy</a><br/>Synced 6 W&B file(s), 0 media file(s), 1 artifact file(s) and 1 other file(s)"
      ],
      "text/plain": [
       "<IPython.core.display.HTML object>"
      ]
     },
     "metadata": {},
     "output_type": "display_data"
    },
    {
     "data": {
      "text/html": [
       "Find logs at: <code>./wandb/run-20221203_182104-2z04c1sy/logs</code>"
      ],
      "text/plain": [
       "<IPython.core.display.HTML object>"
      ]
     },
     "metadata": {},
     "output_type": "display_data"
    },
    {
     "data": {
      "text/html": [
       "Successfully finished last run (ID:2z04c1sy). Initializing new run:<br/>"
      ],
      "text/plain": [
       "<IPython.core.display.HTML object>"
      ]
     },
     "metadata": {},
     "output_type": "display_data"
    },
    {
     "data": {
      "application/vnd.jupyter.widget-view+json": {
       "model_id": "c100be92fd8d4aa183b7b8e099efbf1f",
       "version_major": 2,
       "version_minor": 0
      },
      "text/plain": [
       "VBox(children=(Label(value='Waiting for wandb.init()...\\r'), FloatProgress(value=0.016670695257683596, max=1.0…"
      ]
     },
     "metadata": {},
     "output_type": "display_data"
    },
    {
     "data": {
      "text/html": [
       "Tracking run with wandb version 0.13.5"
      ],
      "text/plain": [
       "<IPython.core.display.HTML object>"
      ]
     },
     "metadata": {},
     "output_type": "display_data"
    },
    {
     "data": {
      "text/html": [
       "Run data is saved locally in <code>/home/mdorosan/2022/bagls-sh-project/notebooks/wandb/run-20221203_182406-45kt8t4e</code>"
      ],
      "text/plain": [
       "<IPython.core.display.HTML object>"
      ]
     },
     "metadata": {},
     "output_type": "display_data"
    },
    {
     "data": {
      "text/html": [
       "Syncing run <strong><a href=\"https://wandb.ai/miked/bagls-sh-test/runs/45kt8t4e\" target=\"_blank\">curves-logging</a></strong> to <a href=\"https://wandb.ai/miked/bagls-sh-test\" target=\"_blank\">Weights & Biases</a> (<a href=\"https://wandb.me/run\" target=\"_blank\">docs</a>)<br/>"
      ],
      "text/plain": [
       "<IPython.core.display.HTML object>"
      ]
     },
     "metadata": {},
     "output_type": "display_data"
    },
    {
     "data": {
      "text/html": [
       "Waiting for W&B process to finish... <strong style=\"color:green\">(success).</strong>"
      ],
      "text/plain": [
       "<IPython.core.display.HTML object>"
      ]
     },
     "metadata": {},
     "output_type": "display_data"
    },
    {
     "data": {
      "text/html": [
       "Synced <strong style=\"color:#cdcd00\">curves-logging</strong>: <a href=\"https://wandb.ai/miked/bagls-sh-test/runs/45kt8t4e\" target=\"_blank\">https://wandb.ai/miked/bagls-sh-test/runs/45kt8t4e</a><br/>Synced 6 W&B file(s), 1 media file(s), 0 artifact file(s) and 0 other file(s)"
      ],
      "text/plain": [
       "<IPython.core.display.HTML object>"
      ]
     },
     "metadata": {},
     "output_type": "display_data"
    },
    {
     "data": {
      "text/html": [
       "Find logs at: <code>./wandb/run-20221203_182406-45kt8t4e/logs</code>"
      ],
      "text/plain": [
       "<IPython.core.display.HTML object>"
      ]
     },
     "metadata": {},
     "output_type": "display_data"
    }
   ],
   "source": [
    "# log to wandb\n",
    "run = wandb.init(\n",
    "    project=PROJECT_NAME, job_type='log_curves', \n",
    "    name=f'curves-logging'\n",
    ")\n",
    "run.log({f'{model_name}-curves': wandb.Image(fig)})\n",
    "run.finish()"
   ]
  },
  {
   "cell_type": "markdown",
   "id": "7eae9e4d",
   "metadata": {},
   "source": [
    "### Calibration based on ROC and PR"
   ]
  },
  {
   "cell_type": "code",
   "execution_count": 10,
   "id": "d67b107b",
   "metadata": {
    "ExecuteTime": {
     "end_time": "2022-12-03T17:20:47.965125Z",
     "start_time": "2022-12-03T17:20:47.912455Z"
    }
   },
   "outputs": [],
   "source": [
    "def best_roc_thresh(true, pred_proba, num_thresh):\n",
    "    fprs, tprs, thresh_arr = utils.get_roc(\n",
    "        true, pred_proba, num_thresh, return_thresh_arr=True)\n",
    "    fprs  = np.array(fprs)\n",
    "    tprs  = np.array(tprs)    \n",
    "    # maximize product of tpr and 1 - fpr\n",
    "    best_thresh = thresh_arr[np.argmax((1 - fprs) * tprs)]\n",
    "    \n",
    "    print(f\"Best ROC thresh: {best_thresh:.4f}\")\n",
    "    return best_thresh\n",
    "    \n",
    "def best_pr_thresh(true, pred_proba, num_thresh):\n",
    "    rs, ps, thresh_arr = utils.get_pr(\n",
    "        true, pred_proba, num_thresh, return_thresh_arr=True)\n",
    "    rs  = np.array(rs)\n",
    "    ps  = np.array(ps)    \n",
    "    # maximize product of r and p\n",
    "    best_thresh = thresh_arr[np.argmax(rs*ps)]\n",
    "    \n",
    "    print(f\"Best PR thresh: {best_thresh:.4f}\")\n",
    "    return best_thresh"
   ]
  },
  {
   "cell_type": "code",
   "execution_count": 11,
   "id": "f1c28fa1",
   "metadata": {
    "ExecuteTime": {
     "end_time": "2022-12-03T17:21:01.817183Z",
     "start_time": "2022-12-03T17:20:47.967061Z"
    }
   },
   "outputs": [
    {
     "name": "stdout",
     "output_type": "stream",
     "text": [
      "Best ROC thresh: 0.8291\n",
      "Best PR thresh: 0.8291\n"
     ]
    }
   ],
   "source": [
    "class_index = 1 # unhealthy\n",
    "i = 0 # one bootstrap set\n",
    "num_thresh = 200\n",
    "true = labels_list[i]\n",
    "preds = models[model_name].predict(datasets[i])\n",
    "\n",
    "# get proba for class of interest : unhealthy\n",
    "pred_proba = utils.get_class_proba(preds, class_index=class_index)\n",
    "roc_thresh = best_roc_thresh(true, pred_proba, num_thresh)\n",
    "pr_thresh = best_pr_thresh(true, pred_proba, num_thresh)"
   ]
  },
  {
   "cell_type": "markdown",
   "id": "c382f202",
   "metadata": {},
   "source": [
    "### Get Calibrated Results"
   ]
  },
  {
   "cell_type": "code",
   "execution_count": 12,
   "id": "e422e828",
   "metadata": {
    "ExecuteTime": {
     "end_time": "2022-12-03T17:21:01.940677Z",
     "start_time": "2022-12-03T17:21:01.820553Z"
    }
   },
   "outputs": [
    {
     "name": "stdout",
     "output_type": "stream",
     "text": [
      "Found 2300 validated image filenames belonging to 2 classes.\n"
     ]
    }
   ],
   "source": [
    "# read actual test set\n",
    "csv_path = os.path.join(PATHS.test_meta)\n",
    "df = utils.prepare_df(csv_path)\n",
    "test_dataset = test_datagen.flow_from_dataframe(\n",
    "        df, directory=test_dir, \n",
    "        x_col='filename', y_col='class',\n",
    "        target_size=configs[\"image_size\"],\n",
    "        color_mode=configs[\"cmap\"],\n",
    "        classes=configs[\"class_names\"],\n",
    "        class_mode=configs[\"label_mode\"],\n",
    "        batch_size=configs[\"batch_size\"],\n",
    "        interpolation=configs[\"interpol\"],\n",
    "        validate_filenames=True,\n",
    "        shuffle=False,\n",
    "    )\n",
    "class_index = 1 # unhealthy\n",
    "num_thresh = 200"
   ]
  },
  {
   "cell_type": "code",
   "execution_count": 13,
   "id": "4d6885ca",
   "metadata": {
    "ExecuteTime": {
     "end_time": "2022-12-03T17:24:12.788090Z",
     "start_time": "2022-12-03T17:21:01.945833Z"
    },
    "scrolled": true
   },
   "outputs": [
    {
     "name": "stderr",
     "output_type": "stream",
     "text": [
      "\r",
      "  0%|          | 0/5 [00:00<?, ?it/s]"
     ]
    },
    {
     "name": "stdout",
     "output_type": "stream",
     "text": [
      "Best ROC thresh: 0.9899\n"
     ]
    },
    {
     "data": {
      "text/html": [
       "Tracking run with wandb version 0.13.5"
      ],
      "text/plain": [
       "<IPython.core.display.HTML object>"
      ]
     },
     "metadata": {},
     "output_type": "display_data"
    },
    {
     "data": {
      "text/html": [
       "Run data is saved locally in <code>/home/mdorosan/2022/bagls-sh-project/notebooks/wandb/run-20221203_172115-20ray2oa</code>"
      ],
      "text/plain": [
       "<IPython.core.display.HTML object>"
      ]
     },
     "metadata": {},
     "output_type": "display_data"
    },
    {
     "data": {
      "text/html": [
       "Syncing run <strong><a href=\"https://wandb.ai/miked/bagls-sh-test/runs/20ray2oa\" target=\"_blank\">convnet_from_scratch-inference-results-logging</a></strong> to <a href=\"https://wandb.ai/miked/bagls-sh-test\" target=\"_blank\">Weights & Biases</a> (<a href=\"https://wandb.me/run\" target=\"_blank\">docs</a>)<br/>"
      ],
      "text/plain": [
       "<IPython.core.display.HTML object>"
      ]
     },
     "metadata": {},
     "output_type": "display_data"
    },
    {
     "data": {
      "text/html": [
       "Waiting for W&B process to finish... <strong style=\"color:green\">(success).</strong>"
      ],
      "text/plain": [
       "<IPython.core.display.HTML object>"
      ]
     },
     "metadata": {},
     "output_type": "display_data"
    },
    {
     "data": {
      "text/html": [
       "Synced <strong style=\"color:#cdcd00\">convnet_from_scratch-inference-results-logging</strong>: <a href=\"https://wandb.ai/miked/bagls-sh-test/runs/20ray2oa\" target=\"_blank\">https://wandb.ai/miked/bagls-sh-test/runs/20ray2oa</a><br/>Synced 6 W&B file(s), 1 media file(s), 3 artifact file(s) and 1 other file(s)"
      ],
      "text/plain": [
       "<IPython.core.display.HTML object>"
      ]
     },
     "metadata": {},
     "output_type": "display_data"
    },
    {
     "data": {
      "text/html": [
       "Find logs at: <code>./wandb/run-20221203_172115-20ray2oa/logs</code>"
      ],
      "text/plain": [
       "<IPython.core.display.HTML object>"
      ]
     },
     "metadata": {},
     "output_type": "display_data"
    },
    {
     "name": "stderr",
     "output_type": "stream",
     "text": [
      "\r",
      " 20%|██        | 1/5 [00:36<02:25, 36.38s/it]"
     ]
    },
    {
     "name": "stdout",
     "output_type": "stream",
     "text": [
      "Best ROC thresh: 0.8291\n"
     ]
    },
    {
     "data": {
      "text/html": [
       "Tracking run with wandb version 0.13.5"
      ],
      "text/plain": [
       "<IPython.core.display.HTML object>"
      ]
     },
     "metadata": {},
     "output_type": "display_data"
    },
    {
     "data": {
      "text/html": [
       "Run data is saved locally in <code>/home/mdorosan/2022/bagls-sh-project/notebooks/wandb/run-20221203_172152-1sbrgb9e</code>"
      ],
      "text/plain": [
       "<IPython.core.display.HTML object>"
      ]
     },
     "metadata": {},
     "output_type": "display_data"
    },
    {
     "data": {
      "text/html": [
       "Syncing run <strong><a href=\"https://wandb.ai/miked/bagls-sh-test/runs/1sbrgb9e\" target=\"_blank\">DenseNet121-inference-results-logging</a></strong> to <a href=\"https://wandb.ai/miked/bagls-sh-test\" target=\"_blank\">Weights & Biases</a> (<a href=\"https://wandb.me/run\" target=\"_blank\">docs</a>)<br/>"
      ],
      "text/plain": [
       "<IPython.core.display.HTML object>"
      ]
     },
     "metadata": {},
     "output_type": "display_data"
    },
    {
     "data": {
      "text/html": [
       "Waiting for W&B process to finish... <strong style=\"color:green\">(success).</strong>"
      ],
      "text/plain": [
       "<IPython.core.display.HTML object>"
      ]
     },
     "metadata": {},
     "output_type": "display_data"
    },
    {
     "data": {
      "text/html": [
       "Synced <strong style=\"color:#cdcd00\">DenseNet121-inference-results-logging</strong>: <a href=\"https://wandb.ai/miked/bagls-sh-test/runs/1sbrgb9e\" target=\"_blank\">https://wandb.ai/miked/bagls-sh-test/runs/1sbrgb9e</a><br/>Synced 6 W&B file(s), 1 media file(s), 3 artifact file(s) and 1 other file(s)"
      ],
      "text/plain": [
       "<IPython.core.display.HTML object>"
      ]
     },
     "metadata": {},
     "output_type": "display_data"
    },
    {
     "data": {
      "text/html": [
       "Find logs at: <code>./wandb/run-20221203_172152-1sbrgb9e/logs</code>"
      ],
      "text/plain": [
       "<IPython.core.display.HTML object>"
      ]
     },
     "metadata": {},
     "output_type": "display_data"
    },
    {
     "name": "stderr",
     "output_type": "stream",
     "text": [
      "\r",
      " 40%|████      | 2/5 [01:13<01:49, 36.57s/it]"
     ]
    },
    {
     "name": "stdout",
     "output_type": "stream",
     "text": [
      "Best ROC thresh: 0.2462\n"
     ]
    },
    {
     "data": {
      "text/html": [
       "Tracking run with wandb version 0.13.5"
      ],
      "text/plain": [
       "<IPython.core.display.HTML object>"
      ]
     },
     "metadata": {},
     "output_type": "display_data"
    },
    {
     "data": {
      "text/html": [
       "Run data is saved locally in <code>/home/mdorosan/2022/bagls-sh-project/notebooks/wandb/run-20221203_172230-2r9yzjj5</code>"
      ],
      "text/plain": [
       "<IPython.core.display.HTML object>"
      ]
     },
     "metadata": {},
     "output_type": "display_data"
    },
    {
     "data": {
      "text/html": [
       "Syncing run <strong><a href=\"https://wandb.ai/miked/bagls-sh-test/runs/2r9yzjj5\" target=\"_blank\">ResNet50-inference-results-logging</a></strong> to <a href=\"https://wandb.ai/miked/bagls-sh-test\" target=\"_blank\">Weights & Biases</a> (<a href=\"https://wandb.me/run\" target=\"_blank\">docs</a>)<br/>"
      ],
      "text/plain": [
       "<IPython.core.display.HTML object>"
      ]
     },
     "metadata": {},
     "output_type": "display_data"
    },
    {
     "data": {
      "text/html": [
       "Waiting for W&B process to finish... <strong style=\"color:green\">(success).</strong>"
      ],
      "text/plain": [
       "<IPython.core.display.HTML object>"
      ]
     },
     "metadata": {},
     "output_type": "display_data"
    },
    {
     "data": {
      "text/html": [
       "Synced <strong style=\"color:#cdcd00\">ResNet50-inference-results-logging</strong>: <a href=\"https://wandb.ai/miked/bagls-sh-test/runs/2r9yzjj5\" target=\"_blank\">https://wandb.ai/miked/bagls-sh-test/runs/2r9yzjj5</a><br/>Synced 6 W&B file(s), 1 media file(s), 3 artifact file(s) and 1 other file(s)"
      ],
      "text/plain": [
       "<IPython.core.display.HTML object>"
      ]
     },
     "metadata": {},
     "output_type": "display_data"
    },
    {
     "data": {
      "text/html": [
       "Find logs at: <code>./wandb/run-20221203_172230-2r9yzjj5/logs</code>"
      ],
      "text/plain": [
       "<IPython.core.display.HTML object>"
      ]
     },
     "metadata": {},
     "output_type": "display_data"
    },
    {
     "name": "stderr",
     "output_type": "stream",
     "text": [
      "\r",
      " 60%|██████    | 3/5 [01:50<01:14, 37.03s/it]"
     ]
    },
    {
     "name": "stdout",
     "output_type": "stream",
     "text": [
      "Best ROC thresh: 0.5829\n"
     ]
    },
    {
     "data": {
      "text/html": [
       "Tracking run with wandb version 0.13.5"
      ],
      "text/plain": [
       "<IPython.core.display.HTML object>"
      ]
     },
     "metadata": {},
     "output_type": "display_data"
    },
    {
     "data": {
      "text/html": [
       "Run data is saved locally in <code>/home/mdorosan/2022/bagls-sh-project/notebooks/wandb/run-20221203_172309-xc9c2nd9</code>"
      ],
      "text/plain": [
       "<IPython.core.display.HTML object>"
      ]
     },
     "metadata": {},
     "output_type": "display_data"
    },
    {
     "data": {
      "text/html": [
       "Syncing run <strong><a href=\"https://wandb.ai/miked/bagls-sh-test/runs/xc9c2nd9\" target=\"_blank\">InceptionV3-inference-results-logging</a></strong> to <a href=\"https://wandb.ai/miked/bagls-sh-test\" target=\"_blank\">Weights & Biases</a> (<a href=\"https://wandb.me/run\" target=\"_blank\">docs</a>)<br/>"
      ],
      "text/plain": [
       "<IPython.core.display.HTML object>"
      ]
     },
     "metadata": {},
     "output_type": "display_data"
    },
    {
     "data": {
      "text/html": [
       "Waiting for W&B process to finish... <strong style=\"color:green\">(success).</strong>"
      ],
      "text/plain": [
       "<IPython.core.display.HTML object>"
      ]
     },
     "metadata": {},
     "output_type": "display_data"
    },
    {
     "data": {
      "text/html": [
       "Synced <strong style=\"color:#cdcd00\">InceptionV3-inference-results-logging</strong>: <a href=\"https://wandb.ai/miked/bagls-sh-test/runs/xc9c2nd9\" target=\"_blank\">https://wandb.ai/miked/bagls-sh-test/runs/xc9c2nd9</a><br/>Synced 6 W&B file(s), 1 media file(s), 3 artifact file(s) and 1 other file(s)"
      ],
      "text/plain": [
       "<IPython.core.display.HTML object>"
      ]
     },
     "metadata": {},
     "output_type": "display_data"
    },
    {
     "data": {
      "text/html": [
       "Find logs at: <code>./wandb/run-20221203_172309-xc9c2nd9/logs</code>"
      ],
      "text/plain": [
       "<IPython.core.display.HTML object>"
      ]
     },
     "metadata": {},
     "output_type": "display_data"
    },
    {
     "name": "stderr",
     "output_type": "stream",
     "text": [
      "\r",
      " 80%|████████  | 4/5 [02:29<00:37, 37.74s/it]"
     ]
    },
    {
     "name": "stdout",
     "output_type": "stream",
     "text": [
      "Best ROC thresh: 0.3417\n"
     ]
    },
    {
     "data": {
      "text/html": [
       "Tracking run with wandb version 0.13.5"
      ],
      "text/plain": [
       "<IPython.core.display.HTML object>"
      ]
     },
     "metadata": {},
     "output_type": "display_data"
    },
    {
     "data": {
      "text/html": [
       "Run data is saved locally in <code>/home/mdorosan/2022/bagls-sh-project/notebooks/wandb/run-20221203_172349-2s3sopu2</code>"
      ],
      "text/plain": [
       "<IPython.core.display.HTML object>"
      ]
     },
     "metadata": {},
     "output_type": "display_data"
    },
    {
     "data": {
      "text/html": [
       "Syncing run <strong><a href=\"https://wandb.ai/miked/bagls-sh-test/runs/2s3sopu2\" target=\"_blank\">InceptionResNetV2-inference-results-logging</a></strong> to <a href=\"https://wandb.ai/miked/bagls-sh-test\" target=\"_blank\">Weights & Biases</a> (<a href=\"https://wandb.me/run\" target=\"_blank\">docs</a>)<br/>"
      ],
      "text/plain": [
       "<IPython.core.display.HTML object>"
      ]
     },
     "metadata": {},
     "output_type": "display_data"
    },
    {
     "data": {
      "text/html": [
       "Waiting for W&B process to finish... <strong style=\"color:green\">(success).</strong>"
      ],
      "text/plain": [
       "<IPython.core.display.HTML object>"
      ]
     },
     "metadata": {},
     "output_type": "display_data"
    },
    {
     "data": {
      "text/html": [
       "Synced <strong style=\"color:#cdcd00\">InceptionResNetV2-inference-results-logging</strong>: <a href=\"https://wandb.ai/miked/bagls-sh-test/runs/2s3sopu2\" target=\"_blank\">https://wandb.ai/miked/bagls-sh-test/runs/2s3sopu2</a><br/>Synced 6 W&B file(s), 1 media file(s), 3 artifact file(s) and 1 other file(s)"
      ],
      "text/plain": [
       "<IPython.core.display.HTML object>"
      ]
     },
     "metadata": {},
     "output_type": "display_data"
    },
    {
     "data": {
      "text/html": [
       "Find logs at: <code>./wandb/run-20221203_172349-2s3sopu2/logs</code>"
      ],
      "text/plain": [
       "<IPython.core.display.HTML object>"
      ]
     },
     "metadata": {},
     "output_type": "display_data"
    },
    {
     "name": "stderr",
     "output_type": "stream",
     "text": [
      "100%|██████████| 5/5 [03:10<00:00, 38.16s/it]\n"
     ]
    }
   ],
   "source": [
    "# will be used to log all calibrated results from all models\n",
    "overall_metrics = {}\n",
    "results_tables = {}\n",
    "for name, model in models.items():\n",
    "    print(f\"Currently running {name}\")\n",
    "    true = test_dataset.labels\n",
    "    preds = model.predict(test_dataset)\n",
    "    \n",
    "    # get proba for class of interest : unhealthy\n",
    "    pred_proba = utils.get_class_proba(preds, class_index=class_index)\n",
    "    roc_thresh = best_roc_thresh(true, pred_proba, num_thresh)\n",
    "    temp_df = df.copy()\n",
    "    temp_df['pred_proba_healthy'] = preds[:, 0]\n",
    "    temp_df['pred_proba_unhealthy'] = preds[:,1]\n",
    "    temp_df['prediction'] = temp_df['pred_proba_unhealthy'].apply(\n",
    "        lambda x: 'unhealthy' if (x > roc_thresh) else 'healthy')\n",
    "    \n",
    "    run = wandb.init(\n",
    "        project=PROJECT_NAME, job_type='log_results', \n",
    "        name=f'{name}-inference-results-logging', config=configs\n",
    "    )\n",
    "    columns = temp_df.columns.tolist()\n",
    "    results_table = wandb.Table(columns=columns)\n",
    "    for index, row in temp_df.iterrows():\n",
    "        results_table.add_data(*row.tolist())\n",
    "    \n",
    "    run.log({f'{name}-results-table': results_table})\n",
    "    run.finish()\n",
    "    results_tables[name] = temp_df # dict log\n",
    "    \n",
    "    # get model overall metrics\n",
    "    conf = utils.get_conf(true, pred_proba, thresh=roc_thresh)\n",
    "    temp_metrics = {\n",
    "        'calibrated_thresh': roc_thresh,\n",
    "        'roc-auc': auc(*utils.get_roc(true, pred_proba, num_thresh)),\n",
    "        'pr-auc': auc(*utils.get_pr(true, pred_proba, num_thresh)),\n",
    "        'recall': utils.get_sensitivity(*conf),\n",
    "        'fpr': utils.get_fpr(*conf),\n",
    "        'specificity': utils.get_specificity(*conf),\n",
    "        'precision': utils.get_ppv(*conf),\n",
    "        'npv': utils.get_npv(*conf),\n",
    "        'f1': utils.get_fbeta(*conf),\n",
    "        'mcc': utils.get_mcc(*conf),\n",
    "    }\n",
    "    overall_metrics[name] = temp_metrics"
   ]
  },
  {
   "cell_type": "code",
   "execution_count": 14,
   "id": "a4ee7ecf",
   "metadata": {
    "ExecuteTime": {
     "end_time": "2022-12-03T17:24:35.394347Z",
     "start_time": "2022-12-03T17:24:12.790748Z"
    }
   },
   "outputs": [
    {
     "data": {
      "text/html": [
       "Tracking run with wandb version 0.13.5"
      ],
      "text/plain": [
       "<IPython.core.display.HTML object>"
      ]
     },
     "metadata": {},
     "output_type": "display_data"
    },
    {
     "data": {
      "text/html": [
       "Run data is saved locally in <code>/home/mdorosan/2022/bagls-sh-project/notebooks/wandb/run-20221203_172413-pb9imot9</code>"
      ],
      "text/plain": [
       "<IPython.core.display.HTML object>"
      ]
     },
     "metadata": {},
     "output_type": "display_data"
    },
    {
     "data": {
      "text/html": [
       "Syncing run <strong><a href=\"https://wandb.ai/miked/bagls-sh-test/runs/pb9imot9\" target=\"_blank\">overall-metrics-logging</a></strong> to <a href=\"https://wandb.ai/miked/bagls-sh-test\" target=\"_blank\">Weights & Biases</a> (<a href=\"https://wandb.me/run\" target=\"_blank\">docs</a>)<br/>"
      ],
      "text/plain": [
       "<IPython.core.display.HTML object>"
      ]
     },
     "metadata": {},
     "output_type": "display_data"
    },
    {
     "data": {
      "text/html": [
       "Waiting for W&B process to finish... <strong style=\"color:green\">(success).</strong>"
      ],
      "text/plain": [
       "<IPython.core.display.HTML object>"
      ]
     },
     "metadata": {},
     "output_type": "display_data"
    },
    {
     "data": {
      "text/html": [
       "Synced <strong style=\"color:#cdcd00\">overall-metrics-logging</strong>: <a href=\"https://wandb.ai/miked/bagls-sh-test/runs/pb9imot9\" target=\"_blank\">https://wandb.ai/miked/bagls-sh-test/runs/pb9imot9</a><br/>Synced 6 W&B file(s), 1 media file(s), 3 artifact file(s) and 1 other file(s)"
      ],
      "text/plain": [
       "<IPython.core.display.HTML object>"
      ]
     },
     "metadata": {},
     "output_type": "display_data"
    },
    {
     "data": {
      "text/html": [
       "Find logs at: <code>./wandb/run-20221203_172413-pb9imot9/logs</code>"
      ],
      "text/plain": [
       "<IPython.core.display.HTML object>"
      ]
     },
     "metadata": {},
     "output_type": "display_data"
    },
    {
     "data": {
      "text/html": [
       "<div>\n",
       "<style scoped>\n",
       "    .dataframe tbody tr th:only-of-type {\n",
       "        vertical-align: middle;\n",
       "    }\n",
       "\n",
       "    .dataframe tbody tr th {\n",
       "        vertical-align: top;\n",
       "    }\n",
       "\n",
       "    .dataframe thead th {\n",
       "        text-align: right;\n",
       "    }\n",
       "</style>\n",
       "<table border=\"1\" class=\"dataframe\">\n",
       "  <thead>\n",
       "    <tr style=\"text-align: right;\">\n",
       "      <th></th>\n",
       "      <th>Model</th>\n",
       "      <th>calibrated_thresh</th>\n",
       "      <th>roc-auc</th>\n",
       "      <th>pr-auc</th>\n",
       "      <th>recall</th>\n",
       "      <th>fpr</th>\n",
       "      <th>specificity</th>\n",
       "      <th>precision</th>\n",
       "      <th>npv</th>\n",
       "      <th>f1</th>\n",
       "      <th>mcc</th>\n",
       "    </tr>\n",
       "  </thead>\n",
       "  <tbody>\n",
       "    <tr>\n",
       "      <th>0</th>\n",
       "      <td>convnet_from_scratch</td>\n",
       "      <td>0.989950</td>\n",
       "      <td>0.849312</td>\n",
       "      <td>0.625146</td>\n",
       "      <td>0.643529</td>\n",
       "      <td>0.028276</td>\n",
       "      <td>0.971724</td>\n",
       "      <td>0.930272</td>\n",
       "      <td>0.823014</td>\n",
       "      <td>0.930272</td>\n",
       "      <td>0.680780</td>\n",
       "    </tr>\n",
       "    <tr>\n",
       "      <th>1</th>\n",
       "      <td>DenseNet121</td>\n",
       "      <td>0.829146</td>\n",
       "      <td>0.931838</td>\n",
       "      <td>0.795174</td>\n",
       "      <td>0.818824</td>\n",
       "      <td>0.076552</td>\n",
       "      <td>0.923448</td>\n",
       "      <td>0.862454</td>\n",
       "      <td>0.896852</td>\n",
       "      <td>0.862454</td>\n",
       "      <td>0.750740</td>\n",
       "    </tr>\n",
       "    <tr>\n",
       "      <th>2</th>\n",
       "      <td>ResNet50</td>\n",
       "      <td>0.246231</td>\n",
       "      <td>0.847348</td>\n",
       "      <td>0.704927</td>\n",
       "      <td>0.832941</td>\n",
       "      <td>0.281379</td>\n",
       "      <td>0.718621</td>\n",
       "      <td>0.634409</td>\n",
       "      <td>0.880068</td>\n",
       "      <td>0.634409</td>\n",
       "      <td>0.532696</td>\n",
       "    </tr>\n",
       "    <tr>\n",
       "      <th>3</th>\n",
       "      <td>InceptionV3</td>\n",
       "      <td>0.582915</td>\n",
       "      <td>0.888244</td>\n",
       "      <td>0.831792</td>\n",
       "      <td>0.785882</td>\n",
       "      <td>0.204138</td>\n",
       "      <td>0.795862</td>\n",
       "      <td>0.692946</td>\n",
       "      <td>0.863772</td>\n",
       "      <td>0.692946</td>\n",
       "      <td>0.569094</td>\n",
       "    </tr>\n",
       "    <tr>\n",
       "      <th>4</th>\n",
       "      <td>InceptionResNetV2</td>\n",
       "      <td>0.341709</td>\n",
       "      <td>0.892005</td>\n",
       "      <td>0.829710</td>\n",
       "      <td>0.805882</td>\n",
       "      <td>0.171724</td>\n",
       "      <td>0.828276</td>\n",
       "      <td>0.733405</td>\n",
       "      <td>0.879209</td>\n",
       "      <td>0.733405</td>\n",
       "      <td>0.623293</td>\n",
       "    </tr>\n",
       "  </tbody>\n",
       "</table>\n",
       "</div>"
      ],
      "text/plain": [
       "                  Model  calibrated_thresh   roc-auc    pr-auc    recall  \\\n",
       "0  convnet_from_scratch           0.989950  0.849312  0.625146  0.643529   \n",
       "1           DenseNet121           0.829146  0.931838  0.795174  0.818824   \n",
       "2              ResNet50           0.246231  0.847348  0.704927  0.832941   \n",
       "3           InceptionV3           0.582915  0.888244  0.831792  0.785882   \n",
       "4     InceptionResNetV2           0.341709  0.892005  0.829710  0.805882   \n",
       "\n",
       "        fpr  specificity  precision       npv        f1       mcc  \n",
       "0  0.028276     0.971724   0.930272  0.823014  0.930272  0.680780  \n",
       "1  0.076552     0.923448   0.862454  0.896852  0.862454  0.750740  \n",
       "2  0.281379     0.718621   0.634409  0.880068  0.634409  0.532696  \n",
       "3  0.204138     0.795862   0.692946  0.863772  0.692946  0.569094  \n",
       "4  0.171724     0.828276   0.733405  0.879209  0.733405  0.623293  "
      ]
     },
     "metadata": {},
     "output_type": "display_data"
    }
   ],
   "source": [
    "run = wandb.init(\n",
    "    project=PROJECT_NAME, job_type='log_model-metrics', \n",
    "    name=f'overall-metrics-logging'\n",
    ")\n",
    "metrics_df = pd.DataFrame.from_dict(\n",
    "    overall_metrics, orient='index')\n",
    "metrics_df.index.name = 'Model'\n",
    "metrics_df = metrics_df.reset_index()\n",
    "\n",
    "columns = metrics_df.columns.tolist()\n",
    "metrics_table = wandb.Table(columns=columns)\n",
    "for index, row in metrics_df.iterrows():\n",
    "    metrics_table.add_data(*row.tolist())\n",
    "\n",
    "run.log({f'overall-metrics-table': metrics_table})\n",
    "run.finish()\n",
    "display(metrics_df)"
   ]
  },
  {
   "cell_type": "markdown",
   "id": "4f664e70",
   "metadata": {},
   "source": [
    "## Best Model Evaluation\n",
    "\n",
    "Let's inspect the following:\n",
    "* True positives: Correct predictions of unhealthy glottis\n",
    "* False negatives: Predicted healthy but are otherwise unhealthy"
   ]
  },
  {
   "cell_type": "code",
   "execution_count": 15,
   "id": "a757ba75",
   "metadata": {
    "ExecuteTime": {
     "end_time": "2022-12-03T17:30:35.836504Z",
     "start_time": "2022-12-03T17:30:13.992166Z"
    }
   },
   "outputs": [
    {
     "data": {
      "text/html": [
       "Tracking run with wandb version 0.13.5"
      ],
      "text/plain": [
       "<IPython.core.display.HTML object>"
      ]
     },
     "metadata": {},
     "output_type": "display_data"
    },
    {
     "data": {
      "text/html": [
       "Run data is saved locally in <code>/home/mdorosan/2022/bagls-sh-project/notebooks/wandb/run-20221203_173014-ld9n6j91</code>"
      ],
      "text/plain": [
       "<IPython.core.display.HTML object>"
      ]
     },
     "metadata": {},
     "output_type": "display_data"
    },
    {
     "data": {
      "text/html": [
       "Syncing run <strong><a href=\"https://wandb.ai/miked/bagls-sh-project-notebooks/runs/ld9n6j91\" target=\"_blank\">atomic-night-2</a></strong> to <a href=\"https://wandb.ai/miked/bagls-sh-project-notebooks\" target=\"_blank\">Weights & Biases</a> (<a href=\"https://wandb.me/run\" target=\"_blank\">docs</a>)<br/>"
      ],
      "text/plain": [
       "<IPython.core.display.HTML object>"
      ]
     },
     "metadata": {},
     "output_type": "display_data"
    },
    {
     "name": "stderr",
     "output_type": "stream",
     "text": [
      "\u001b[34m\u001b[1mwandb\u001b[0m:   1 of 1 files downloaded.  \n"
     ]
    },
    {
     "name": "stdout",
     "output_type": "stream",
     "text": [
      "./artifacts/run-1sbrgb9e-DenseNet121resultstable:v0\n"
     ]
    },
    {
     "data": {
      "text/html": [
       "Waiting for W&B process to finish... <strong style=\"color:green\">(success).</strong>"
      ],
      "text/plain": [
       "<IPython.core.display.HTML object>"
      ]
     },
     "metadata": {},
     "output_type": "display_data"
    },
    {
     "data": {
      "text/html": [
       "Synced <strong style=\"color:#cdcd00\">atomic-night-2</strong>: <a href=\"https://wandb.ai/miked/bagls-sh-project-notebooks/runs/ld9n6j91\" target=\"_blank\">https://wandb.ai/miked/bagls-sh-project-notebooks/runs/ld9n6j91</a><br/>Synced 7 W&B file(s), 0 media file(s), 2 artifact file(s) and 1 other file(s)"
      ],
      "text/plain": [
       "<IPython.core.display.HTML object>"
      ]
     },
     "metadata": {},
     "output_type": "display_data"
    },
    {
     "data": {
      "text/html": [
       "Find logs at: <code>./wandb/run-20221203_173014-ld9n6j91/logs</code>"
      ],
      "text/plain": [
       "<IPython.core.display.HTML object>"
      ]
     },
     "metadata": {},
     "output_type": "display_data"
    }
   ],
   "source": [
    "# read results csv from wandb\n",
    "run = wandb.init()\n",
    "artifact = run.use_artifact(\n",
    "    'miked/bagls-sh-test/run-1sbrgb9e-DenseNet121resultstable:latest', \n",
    "    type='run_table')\n",
    "artifact_dir = artifact.download()\n",
    "\n",
    "print(artifact_dir)\n",
    "run.finish()"
   ]
  },
  {
   "cell_type": "code",
   "execution_count": 16,
   "id": "44bf08f7",
   "metadata": {
    "ExecuteTime": {
     "end_time": "2022-12-03T17:33:34.518360Z",
     "start_time": "2022-12-03T17:33:32.740413Z"
    }
   },
   "outputs": [
    {
     "name": "stdout",
     "output_type": "stream",
     "text": [
      "DenseNet121-results-table.table.json\r\n"
     ]
    }
   ],
   "source": [
    "!ls ./artifacts/run-2rqxvxl1-DenseNet121resultstable:v0"
   ]
  },
  {
   "cell_type": "code",
   "execution_count": 18,
   "id": "102bcc24",
   "metadata": {
    "ExecuteTime": {
     "end_time": "2022-12-03T17:33:43.506218Z",
     "start_time": "2022-12-03T17:33:43.405293Z"
    }
   },
   "outputs": [
    {
     "data": {
      "text/plain": [
       "dict_keys(['_type', 'column_types', 'columns', 'data', 'ncols', 'nrows'])"
      ]
     },
     "execution_count": 18,
     "metadata": {},
     "output_type": "execute_result"
    }
   ],
   "source": [
    "import json\n",
    "from glob import glob\n",
    "\n",
    "path = glob(os.path.join(artifact_dir, \"*.json\"))[0]\n",
    "with open(path, 'r') as file:\n",
    "    data = json.load(file)\n",
    "data.keys()"
   ]
  },
  {
   "cell_type": "code",
   "execution_count": 19,
   "id": "492b2c03",
   "metadata": {
    "ExecuteTime": {
     "end_time": "2022-12-03T17:33:59.656759Z",
     "start_time": "2022-12-03T17:33:59.573945Z"
    }
   },
   "outputs": [],
   "source": [
    "df = pd.DataFrame(data=data['data'], columns=data['columns'])\n",
    "# get all unhealthy\n",
    "unhealthy_df = df[df['is_healthy']==0]"
   ]
  },
  {
   "cell_type": "code",
   "execution_count": 32,
   "id": "f608fcae",
   "metadata": {
    "ExecuteTime": {
     "end_time": "2022-12-03T17:42:12.968571Z",
     "start_time": "2022-12-03T17:42:12.294143Z"
    }
   },
   "outputs": [
    {
     "name": "stdout",
     "output_type": "stream",
     "text": [
      "laryngitis\n",
      "Muscle tension dysphonia\n",
      "Vocal fold nodules (high phonation)\n",
      "Reinke's edema right vocal fold (earlier it was bilateral)\n",
      "Cyst vocal fold left (posterior insufficient glottic closure) \n",
      "Reinke's edema right vocal fold with hourglass-shaped insufficient glo\n",
      "ttic closure\n",
      "Polyp\n",
      "Post-resection of extreme polipoid pendulating edema right vocal folds\n",
      "; extreme polipoid pendulating edema obstructing almost complete glottis left vocal folds\n",
      "Lateral-posterior vocal fold cyst (high phonation)\n",
      "edema\n",
      "Bilateral vergeture with bowed insufficient glottic closure\n",
      "scar\n",
      "Hourglass-shaped insufficient glottic closure (high phonation)\n",
      "spasmodic dysphonia\n",
      "paresis\n"
     ]
    }
   ],
   "source": [
    "case_counts = pd.DataFrame()\n",
    "fn, tp, index_list = [], [], []\n",
    "\n",
    "for index in unhealthy_df['Subject disorder status'].unique():\n",
    "    count_fn = (\n",
    "        (unhealthy_df['Subject disorder status']==index) & \n",
    "        (unhealthy_df['prediction']=='healthy')\n",
    "    ).sum()\n",
    "    count_tp = (\n",
    "        (unhealthy_df['Subject disorder status']==index) & \n",
    "        (unhealthy_df['prediction']=='unhealthy')\n",
    "    ).sum()\n",
    "    # costmetics: shorten disorder status\n",
    "    if len(index) > 70:\n",
    "        index = list(index)\n",
    "        index.insert(70, \"\\n\")\n",
    "        index = ''.join(index)\n",
    "        \n",
    "    index_list.append(index)\n",
    "    fn.append(count_fn)\n",
    "    tp.append(count_tp)\n",
    "    \n",
    "case_counts['Disorder']= index_list\n",
    "case_counts['false-negative (pred-healthy)'] = fn\n",
    "case_counts['true-positive (pred-unhealthy)'] = tp\n",
    "case_counts = case_counts.set_index('Disorder')"
   ]
  },
  {
   "cell_type": "code",
   "execution_count": 111,
   "id": "6c32994a",
   "metadata": {
    "ExecuteTime": {
     "end_time": "2022-12-03T19:28:20.955634Z",
     "start_time": "2022-12-03T19:28:19.348969Z"
    },
    "scrolled": false
   },
   "outputs": [
    {
     "data": {
      "image/png": "[encoded data removed]",
      "text/plain": [
       "<Figure size 2880x1440 with 1 Axes>"
      ]
     },
     "metadata": {
      "needs_background": "light"
     },
     "output_type": "display_data"
    }
   ],
   "source": [
    "fig, ax = plt.subplots(figsize=(40,20))\n",
    "case_counts.plot.barh(stacked=True, ax=ax)\n",
    "ax.spines.right.set_visible(False)\n",
    "plt.yticks(fontsize=15, rotation=0)\n",
    "plt.xticks(fontsize=15, rotation=0)\n",
    "plt.ylabel('')\n",
    "plt.xlabel('Case count')\n",
    "plt.legend(fontsize=20)\n",
    "plt.tight_layout()\n",
    "plt.show()"
   ]
  },
  {
   "cell_type": "code",
   "execution_count": 112,
   "id": "29c8847e",
   "metadata": {
    "ExecuteTime": {
     "end_time": "2022-12-03T19:28:39.165340Z",
     "start_time": "2022-12-03T19:28:23.341930Z"
    }
   },
   "outputs": [
    {
     "data": {
      "text/html": [
       "Tracking run with wandb version 0.13.5"
      ],
      "text/plain": [
       "<IPython.core.display.HTML object>"
      ]
     },
     "metadata": {},
     "output_type": "display_data"
    },
    {
     "data": {
      "text/html": [
       "Run data is saved locally in <code>/home/mdorosan/2022/bagls-sh-project/notebooks/wandb/run-20221203_192823-1ii0j7p0</code>"
      ],
      "text/plain": [
       "<IPython.core.display.HTML object>"
      ]
     },
     "metadata": {},
     "output_type": "display_data"
    },
    {
     "data": {
      "text/html": [
       "Syncing run <strong><a href=\"https://wandb.ai/miked/bagls-sh-test/runs/1ii0j7p0\" target=\"_blank\">per-disorder-eval</a></strong> to <a href=\"https://wandb.ai/miked/bagls-sh-test\" target=\"_blank\">Weights & Biases</a> (<a href=\"https://wandb.me/run\" target=\"_blank\">docs</a>)<br/>"
      ],
      "text/plain": [
       "<IPython.core.display.HTML object>"
      ]
     },
     "metadata": {},
     "output_type": "display_data"
    },
    {
     "data": {
      "text/html": [
       "Waiting for W&B process to finish... <strong style=\"color:green\">(success).</strong>"
      ],
      "text/plain": [
       "<IPython.core.display.HTML object>"
      ]
     },
     "metadata": {},
     "output_type": "display_data"
    },
    {
     "data": {
      "text/html": [
       "Synced <strong style=\"color:#cdcd00\">per-disorder-eval</strong>: <a href=\"https://wandb.ai/miked/bagls-sh-test/runs/1ii0j7p0\" target=\"_blank\">https://wandb.ai/miked/bagls-sh-test/runs/1ii0j7p0</a><br/>Synced 6 W&B file(s), 1 media file(s), 0 artifact file(s) and 1 other file(s)"
      ],
      "text/plain": [
       "<IPython.core.display.HTML object>"
      ]
     },
     "metadata": {},
     "output_type": "display_data"
    },
    {
     "data": {
      "text/html": [
       "Find logs at: <code>./wandb/run-20221203_192823-1ii0j7p0/logs</code>"
      ],
      "text/plain": [
       "<IPython.core.display.HTML object>"
      ]
     },
     "metadata": {},
     "output_type": "display_data"
    }
   ],
   "source": [
    "# log to wandb\n",
    "run = wandb.init(\n",
    "    project=PROJECT_NAME, job_type='log_disorder_eval', \n",
    "    name=f'per-disorder-eval'\n",
    ")\n",
    "run.log({f'{model_name}-disorder-eval': wandb.Image(fig)})\n",
    "run.finish()"
   ]
  },
  {
   "cell_type": "code",
   "execution_count": 68,
   "id": "014a70d6",
   "metadata": {
    "ExecuteTime": {
     "end_time": "2022-12-03T18:58:09.434303Z",
     "start_time": "2022-12-03T18:58:09.334427Z"
    }
   },
   "outputs": [
    {
     "name": "stdout",
     "output_type": "stream",
     "text": [
      "Found 150 validated image filenames belonging to 2 classes.\n"
     ]
    }
   ],
   "source": [
    "# focus list\n",
    "disorders = ['Muscle tension dysphonia', 'edema']\n",
    "df = df[df['Subject disorder status'].isin(disorders)]\n",
    "\n",
    "test_dataset = test_datagen.flow_from_dataframe(\n",
    "        df, directory=test_dir, \n",
    "        x_col='filename', y_col='class',\n",
    "        target_size=configs[\"image_size\"],\n",
    "        color_mode=configs[\"cmap\"],\n",
    "        classes=configs[\"class_names\"],\n",
    "        class_mode=configs[\"label_mode\"],\n",
    "        batch_size=df.shape[0],    \n",
    "        interpolation=configs[\"interpol\"],\n",
    "        validate_filenames=True,\n",
    "        shuffle=False,\n",
    ")"
   ]
  },
  {
   "cell_type": "code",
   "execution_count": 94,
   "id": "c7791a0a",
   "metadata": {
    "ExecuteTime": {
     "end_time": "2022-12-03T19:14:43.701871Z",
     "start_time": "2022-12-03T19:14:06.995720Z"
    }
   },
   "outputs": [],
   "source": [
    "import interpretation\n",
    "model_name = 'DenseNet121'\n",
    "\n",
    "# prep data\n",
    "data, labels = test_dataset[0]\n",
    "\n",
    "# init gradcam class\n",
    "layer_name = utils.get_last_conv_layer(models[model_name])\n",
    "cam = interpretation.GradCAM(models[model_name], layer_name)\n",
    "\n",
    "images, gradcams = [], []\n",
    "for image, label_arr in zip(data, labels):\n",
    "    image = np.expand_dims(image, 0)\n",
    "\n",
    "    # get gradcam heatmap, use pred_index\n",
    "    heatmap = cam.compute_heatmap(image)\n",
    "\n",
    "    # append image: remove batch axis, rescale, and convert to uint8\n",
    "    image = image.reshape(image.shape[1:])\n",
    "    image = image * 255\n",
    "    images.append(tf.keras.preprocessing.image.array_to_img(image))\n",
    "    image = image.astype(np.uint8)\n",
    "\n",
    "    # overlay gradcam heatmap results to image\n",
    "    superimposed_img = cam.overlay_heatmap(heatmap, image)\n",
    "\n",
    "    # append original and gradcam overlay image\n",
    "    gradcams.append(superimposed_img)"
   ]
  },
  {
   "cell_type": "code",
   "execution_count": 122,
   "id": "a35717c4",
   "metadata": {
    "ExecuteTime": {
     "end_time": "2022-12-03T19:39:04.864449Z",
     "start_time": "2022-12-03T19:37:14.827832Z"
    }
   },
   "outputs": [
    {
     "data": {
      "text/html": [
       "Finishing last run (ID:2xlvoqth) before initializing another..."
      ],
      "text/plain": [
       "<IPython.core.display.HTML object>"
      ]
     },
     "metadata": {},
     "output_type": "display_data"
    },
    {
     "data": {
      "text/html": [
       "Waiting for W&B process to finish... <strong style=\"color:green\">(success).</strong>"
      ],
      "text/plain": [
       "<IPython.core.display.HTML object>"
      ]
     },
     "metadata": {},
     "output_type": "display_data"
    },
    {
     "name": "stderr",
     "output_type": "stream",
     "text": [
      "wandb: ERROR Dropped streaming file chunk (see wandb/debug-internal.log)\n",
      "wandb: ERROR Dropped streaming file chunk (see wandb/debug-internal.log)\n",
      "wandb: ERROR Dropped streaming file chunk (see wandb/debug-internal.log)\n",
      "wandb: ERROR Dropped streaming file chunk (see wandb/debug-internal.log)\n",
      "\u001b[34m\u001b[1mwandb\u001b[0m: \u001b[32m\u001b[41mERROR\u001b[0m Control-C detected -- Run data was not synced\n"
     ]
    },
    {
     "data": {
      "text/html": [
       "Successfully finished last run (ID:2xlvoqth). Initializing new run:<br/>"
      ],
      "text/plain": [
       "<IPython.core.display.HTML object>"
      ]
     },
     "metadata": {},
     "output_type": "display_data"
    },
    {
     "name": "stderr",
     "output_type": "stream",
     "text": [
      "Thread HandlerThread:\n",
      "Traceback (most recent call last):\n",
      "  File \"/home/mdorosan/.local/lib/python3.9/site-packages/wandb/sdk/internal/internal_util.py\", line 50, in run\n",
      "    self._run()\n",
      "  File \"/home/mdorosan/.local/lib/python3.9/site-packages/wandb/sdk/internal/internal_util.py\", line 97, in _run\n",
      "    record = self._input_record_q.get(timeout=1)\n",
      "  File \"/home/mdorosan/.conda-envs/msds2022-ml3/lib/python3.9/multiprocessing/queues.py\", line 117, in get\n",
      "    res = self._recv_bytes()\n",
      "  File \"/home/mdorosan/.conda-envs/msds2022-ml3/lib/python3.9/multiprocessing/connection.py\", line 217, in recv_bytes\n",
      "    self._check_closed()\n",
      "  File \"/home/mdorosan/.conda-envs/msds2022-ml3/lib/python3.9/multiprocessing/connection.py\", line 141, in _check_closed\n",
      "    raise OSError(\"handle is closed\")\n",
      "OSError: handle is closed\n"
     ]
    },
    {
     "data": {
      "application/vnd.jupyter.widget-view+json": {
       "model_id": "7ac9ecb199724e2f8ed1bfe734e3f3c9",
       "version_major": 2,
       "version_minor": 0
      },
      "text/plain": [
       "VBox(children=(Label(value='Waiting for wandb.init()...\\r'), FloatProgress(value=0.01667015195513765, max=1.0)…"
      ]
     },
     "metadata": {},
     "output_type": "display_data"
    },
    {
     "name": "stderr",
     "output_type": "stream",
     "text": [
      "wandb: ERROR Internal wandb error: file data was not synced\n"
     ]
    },
    {
     "name": "stdout",
     "output_type": "stream",
     "text": [
      "Problem at: /tmp/ipykernel_3418/2458556744.py 1 <module>\n"
     ]
    },
    {
     "name": "stderr",
     "output_type": "stream",
     "text": [
      "Traceback (most recent call last):\n",
      "  File \"/home/mdorosan/.local/lib/python3.9/site-packages/wandb/sdk/wandb_init.py\", line 1078, in init\n",
      "    run = wi.init()\n",
      "  File \"/home/mdorosan/.local/lib/python3.9/site-packages/wandb/sdk/wandb_init.py\", line 697, in init\n",
      "    result = handle.wait(\n",
      "  File \"/home/mdorosan/.local/lib/python3.9/site-packages/wandb/sdk/lib/mailbox.py\", line 259, in wait\n",
      "    raise MailboxError(\"transport failed\")\n",
      "wandb.errors.MailboxError: transport failed\n",
      "\u001b[34m\u001b[1mwandb\u001b[0m: \u001b[32m\u001b[41mERROR\u001b[0m Abnormal program exit\n"
     ]
    },
    {
     "ename": "Exception",
     "evalue": "problem",
     "output_type": "error",
     "traceback": [
      "\u001b[0;31m---------------------------------------------------------------------------\u001b[0m",
      "\u001b[0;31mMailboxError\u001b[0m                              Traceback (most recent call last)",
      "\u001b[0;32m~/.local/lib/python3.9/site-packages/wandb/sdk/wandb_init.py\u001b[0m in \u001b[0;36minit\u001b[0;34m(job_type, dir, config, project, entity, reinit, tags, group, name, notes, magic, config_exclude_keys, config_include_keys, anonymous, mode, allow_val_change, resume, force, tensorboard, sync_tensorboard, monitor_gym, save_code, id, settings)\u001b[0m\n\u001b[1;32m   1077\u001b[0m         \u001b[0;32mtry\u001b[0m\u001b[0;34m:\u001b[0m\u001b[0;34m\u001b[0m\u001b[0;34m\u001b[0m\u001b[0m\n\u001b[0;32m-> 1078\u001b[0;31m             \u001b[0mrun\u001b[0m \u001b[0;34m=\u001b[0m \u001b[0mwi\u001b[0m\u001b[0;34m.\u001b[0m\u001b[0minit\u001b[0m\u001b[0;34m(\u001b[0m\u001b[0;34m)\u001b[0m\u001b[0;34m\u001b[0m\u001b[0;34m\u001b[0m\u001b[0m\n\u001b[0m\u001b[1;32m   1079\u001b[0m             \u001b[0mexcept_exit\u001b[0m \u001b[0;34m=\u001b[0m \u001b[0mwi\u001b[0m\u001b[0;34m.\u001b[0m\u001b[0msettings\u001b[0m\u001b[0;34m.\u001b[0m\u001b[0m_except_exit\u001b[0m\u001b[0;34m\u001b[0m\u001b[0;34m\u001b[0m\u001b[0m\n",
      "\u001b[0;32m~/.local/lib/python3.9/site-packages/wandb/sdk/wandb_init.py\u001b[0m in \u001b[0;36minit\u001b[0;34m(self)\u001b[0m\n\u001b[1;32m    696\u001b[0m             \u001b[0mhandle\u001b[0m \u001b[0;34m=\u001b[0m \u001b[0mbackend\u001b[0m\u001b[0;34m.\u001b[0m\u001b[0minterface\u001b[0m\u001b[0;34m.\u001b[0m\u001b[0mdeliver_run\u001b[0m\u001b[0;34m(\u001b[0m\u001b[0mrun\u001b[0m\u001b[0;34m)\u001b[0m\u001b[0;34m\u001b[0m\u001b[0;34m\u001b[0m\u001b[0m\n\u001b[0;32m--> 697\u001b[0;31m             result = handle.wait(\n\u001b[0m\u001b[1;32m    698\u001b[0m                 \u001b[0mtimeout\u001b[0m\u001b[0;34m=\u001b[0m\u001b[0mself\u001b[0m\u001b[0;34m.\u001b[0m\u001b[0msettings\u001b[0m\u001b[0;34m.\u001b[0m\u001b[0minit_timeout\u001b[0m\u001b[0;34m,\u001b[0m \u001b[0mon_progress\u001b[0m\u001b[0;34m=\u001b[0m\u001b[0mself\u001b[0m\u001b[0;34m.\u001b[0m\u001b[0m_on_progress_init\u001b[0m\u001b[0;34m\u001b[0m\u001b[0;34m\u001b[0m\u001b[0m\n",
      "\u001b[0;32m~/.local/lib/python3.9/site-packages/wandb/sdk/lib/mailbox.py\u001b[0m in \u001b[0;36mwait\u001b[0;34m(self, timeout, on_probe, on_progress, release)\u001b[0m\n\u001b[1;32m    258\u001b[0m                 \u001b[0;32mif\u001b[0m \u001b[0mself\u001b[0m\u001b[0;34m.\u001b[0m\u001b[0m_interface\u001b[0m\u001b[0;34m.\u001b[0m\u001b[0m_transport_keepalive_failed\u001b[0m\u001b[0;34m(\u001b[0m\u001b[0;34m)\u001b[0m\u001b[0;34m:\u001b[0m\u001b[0;34m\u001b[0m\u001b[0;34m\u001b[0m\u001b[0m\n\u001b[0;32m--> 259\u001b[0;31m                     \u001b[0;32mraise\u001b[0m \u001b[0mMailboxError\u001b[0m\u001b[0;34m(\u001b[0m\u001b[0;34m\"transport failed\"\u001b[0m\u001b[0;34m)\u001b[0m\u001b[0;34m\u001b[0m\u001b[0;34m\u001b[0m\u001b[0m\n\u001b[0m\u001b[1;32m    260\u001b[0m \u001b[0;34m\u001b[0m\u001b[0m\n",
      "\u001b[0;31mMailboxError\u001b[0m: transport failed",
      "\nThe above exception was the direct cause of the following exception:\n",
      "\u001b[0;31mException\u001b[0m                                 Traceback (most recent call last)",
      "\u001b[0;32m/tmp/ipykernel_3418/2458556744.py\u001b[0m in \u001b[0;36m<module>\u001b[0;34m\u001b[0m\n\u001b[0;32m----> 1\u001b[0;31m run = wandb.init(\n\u001b[0m\u001b[1;32m      2\u001b[0m     \u001b[0mproject\u001b[0m\u001b[0;34m=\u001b[0m\u001b[0mPROJECT_NAME\u001b[0m\u001b[0;34m,\u001b[0m \u001b[0mjob_type\u001b[0m\u001b[0;34m=\u001b[0m\u001b[0;34m'log_gradcam'\u001b[0m\u001b[0;34m,\u001b[0m\u001b[0;34m\u001b[0m\u001b[0;34m\u001b[0m\u001b[0m\n\u001b[1;32m      3\u001b[0m     \u001b[0mname\u001b[0m\u001b[0;34m=\u001b[0m\u001b[0;34mf'gradcam_logger'\u001b[0m\u001b[0;34m\u001b[0m\u001b[0;34m\u001b[0m\u001b[0m\n\u001b[1;32m      4\u001b[0m )\n\u001b[1;32m      5\u001b[0m \u001b[0;34m\u001b[0m\u001b[0m\n",
      "\u001b[0;32m~/.local/lib/python3.9/site-packages/wandb/sdk/wandb_init.py\u001b[0m in \u001b[0;36minit\u001b[0;34m(job_type, dir, config, project, entity, reinit, tags, group, name, notes, magic, config_exclude_keys, config_include_keys, anonymous, mode, allow_val_change, resume, force, tensorboard, sync_tensorboard, monitor_gym, save_code, id, settings)\u001b[0m\n\u001b[1;32m   1114\u001b[0m             \u001b[0;32mif\u001b[0m \u001b[0mexcept_exit\u001b[0m\u001b[0;34m:\u001b[0m\u001b[0;34m\u001b[0m\u001b[0;34m\u001b[0m\u001b[0m\n\u001b[1;32m   1115\u001b[0m                 \u001b[0mos\u001b[0m\u001b[0;34m.\u001b[0m\u001b[0m_exit\u001b[0m\u001b[0;34m(\u001b[0m\u001b[0;34m-\u001b[0m\u001b[0;36m1\u001b[0m\u001b[0;34m)\u001b[0m\u001b[0;34m\u001b[0m\u001b[0;34m\u001b[0m\u001b[0m\n\u001b[0;32m-> 1116\u001b[0;31m             \u001b[0;32mraise\u001b[0m \u001b[0mException\u001b[0m\u001b[0;34m(\u001b[0m\u001b[0;34m\"problem\"\u001b[0m\u001b[0;34m)\u001b[0m \u001b[0;32mfrom\u001b[0m \u001b[0merror_seen\u001b[0m\u001b[0;34m\u001b[0m\u001b[0;34m\u001b[0m\u001b[0m\n\u001b[0m\u001b[1;32m   1117\u001b[0m     \u001b[0;32mreturn\u001b[0m \u001b[0mrun\u001b[0m\u001b[0;34m\u001b[0m\u001b[0;34m\u001b[0m\u001b[0m\n",
      "\u001b[0;31mException\u001b[0m: problem"
     ]
    }
   ],
   "source": [
    "run = wandb.init(\n",
    "    project=PROJECT_NAME, job_type='log_gradcam', \n",
    "    name=f'gradcam_logger'\n",
    ")\n",
    "\n",
    "columns = df.columns.tolist() + ['image', 'gradcam_overlay']\n",
    "gradcam_table = wandb.Table(columns=columns)\n",
    "\n",
    "for index, (_, data) in enumerate(df.iterrows()):\n",
    "    row = data.tolist() + [wandb.Image(image[index])] + [wandb.Image(gradcams[index])]\n",
    "    gradcam_table.add_data(*row)\n",
    "\n",
    "run.log({\"interpretation\" : gradcam_table})\n",
    "run.finish()"
   ]
  },
  {
   "cell_type": "code",
   "execution_count": null,
   "id": "23d71e23",
   "metadata": {},
   "outputs": [],
   "source": []
  }
 ],
 "metadata": {
  "hide_input": false,
  "kernelspec": {
   "display_name": "Python [conda env:msds2022-ml3]",
   "language": "python",
   "name": "conda-env-msds2022-ml3-py"
  },
  "language_info": {
   "codemirror_mode": {
    "name": "ipython",
    "version": 3
   },
   "file_extension": ".py",
   "mimetype": "text/x-python",
   "name": "python",
   "nbconvert_exporter": "python",
   "pygments_lexer": "ipython3",
   "version": "3.9.6"
  },
  "toc": {
   "base_numbering": 1,
   "nav_menu": {},
   "number_sections": true,
   "sideBar": true,
   "skip_h1_title": false,
   "title_cell": "Table of Contents",
   "title_sidebar": "Contents",
   "toc_cell": false,
   "toc_position": {},
   "toc_section_display": true,
   "toc_window_display": false
  }
 },
 "nbformat": 4,
 "nbformat_minor": 5
}
