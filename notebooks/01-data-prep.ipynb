{
 "cells": [
  {
   "cell_type": "markdown",
   "id": "59ccac6b",
   "metadata": {},
   "source": [
    "# Data preparation\n",
    "\n",
    "The following codes show the development of the `utils` for data prepration. The following were conisidered:\n",
    "\n",
    "Removal of classes attributed to `Unknown` disorder based on the dataset publication. \n",
    "\n",
    "1. Removed from the training set:\n",
    "- `None (half year after diagnosis of small vocal nodules)`\n",
    "- `functional`\n",
    "- `None (higher phonation)`\n",
    "\n",
    "2. Removed from the test set:\n",
    "- `None (half year post-phonomicrosurgery for polipoid mid-membranous lesions)`\n",
    "- `None (one year after presumption of a pseudocyst/sulcus in left vocal fold)`\n",
    "- `functional`\n",
    "\n",
    "Train-test splits provided by the BAGLS dataset were taken as is. Subsequently, the train set was further divided in to train and val splits during model training."
   ]
  },
  {
   "cell_type": "markdown",
   "id": "7949d892",
   "metadata": {},
   "source": [
    "## For `tensorflow` image data loader"
   ]
  },
  {
   "cell_type": "code",
   "execution_count": 1,
   "id": "e36256d1",
   "metadata": {
    "ExecuteTime": {
     "end_time": "2022-11-22T13:22:24.501413Z",
     "start_time": "2022-11-22T13:22:24.040410Z"
    }
   },
   "outputs": [],
   "source": [
    "import os\n",
    "import json\n",
    "import pandas as pd\n",
    "from glob import glob\n",
    "\n",
    "from tqdm import tqdm"
   ]
  },
  {
   "cell_type": "code",
   "execution_count": 6,
   "id": "ce708357",
   "metadata": {
    "ExecuteTime": {
     "end_time": "2022-11-29T12:07:57.053079Z",
     "start_time": "2022-11-29T12:07:57.043618Z"
    }
   },
   "outputs": [],
   "source": [
    "import sys\n",
    "sys.path.append(\"..\")\n",
    "import PATHS"
   ]
  },
  {
   "cell_type": "code",
   "execution_count": 2,
   "id": "4fd9c678",
   "metadata": {
    "ExecuteTime": {
     "end_time": "2022-11-22T13:22:24.516958Z",
     "start_time": "2022-11-22T13:22:24.504632Z"
    }
   },
   "outputs": [
    {
     "data": {
      "text/plain": [
       "{'Video Id': 546,\n",
       " 'Camera': 'KayPentax HSV 9710 (Photron)',\n",
       " 'Sampling rate (Hz)': 4000,\n",
       " 'Video resolution (px, HxW)': [512, 256],\n",
       " 'Color': False,\n",
       " 'Endoscope orientation': '70°',\n",
       " 'Endoscope application': 'oral',\n",
       " 'Age range (yrs)': '10-20',\n",
       " 'Subject sex': 'w',\n",
       " 'Subject disorder status': 'healthy',\n",
       " 'Segmenter': 0,\n",
       " 'Post-processed': 1}"
      ]
     },
     "execution_count": 2,
     "metadata": {},
     "output_type": "execute_result"
    }
   ],
   "source": [
    "# inspect sample\n",
    "path = \"../training/training/19722.meta\"\n",
    "with open(path, 'r') as file:\n",
    "    data = json.load(file)\n",
    "data"
   ]
  },
  {
   "cell_type": "code",
   "execution_count": 3,
   "id": "a5bf53a9",
   "metadata": {
    "ExecuteTime": {
     "end_time": "2022-11-22T13:22:25.919747Z",
     "start_time": "2022-11-22T13:22:25.909248Z"
    }
   },
   "outputs": [],
   "source": [
    "def get_meta(glob_string):\n",
    "    paths = glob(glob_string)\n",
    "    df_list = []\n",
    "    for path in tqdm(paths):\n",
    "        id_ = path.split(\"/\")[-1].split(\".\")[0]\n",
    "        temp = pd.read_json(path, orient=\"index\").T\n",
    "        temp[\"Image Id\"] = id_\n",
    "        df_list.append(temp)\n",
    "    return pd.concat(df_list)"
   ]
  },
  {
   "cell_type": "code",
   "execution_count": 4,
   "id": "7f251af5",
   "metadata": {
    "ExecuteTime": {
     "end_time": "2022-11-22T13:25:59.645842Z",
     "start_time": "2022-11-22T13:22:29.260227Z"
    }
   },
   "outputs": [
    {
     "name": "stderr",
     "output_type": "stream",
     "text": [
      "100%|██████████| 55750/55750 [03:25<00:00, 271.02it/s]\n"
     ]
    }
   ],
   "source": [
    "glob_string = \"../training/training/*.meta\"\n",
    "df_train = get_meta(glob_string)"
   ]
  },
  {
   "cell_type": "code",
   "execution_count": 5,
   "id": "c1861198",
   "metadata": {
    "ExecuteTime": {
     "end_time": "2022-11-22T13:25:59.690927Z",
     "start_time": "2022-11-22T13:25:59.672913Z"
    }
   },
   "outputs": [
    {
     "data": {
      "text/html": [
       "<div>\n",
       "<style scoped>\n",
       "    .dataframe tbody tr th:only-of-type {\n",
       "        vertical-align: middle;\n",
       "    }\n",
       "\n",
       "    .dataframe tbody tr th {\n",
       "        vertical-align: top;\n",
       "    }\n",
       "\n",
       "    .dataframe thead th {\n",
       "        text-align: right;\n",
       "    }\n",
       "</style>\n",
       "<table border=\"1\" class=\"dataframe\">\n",
       "  <thead>\n",
       "    <tr style=\"text-align: right;\">\n",
       "      <th></th>\n",
       "      <th>Video Id</th>\n",
       "      <th>Camera</th>\n",
       "      <th>Sampling rate (Hz)</th>\n",
       "      <th>Video resolution (px, HxW)</th>\n",
       "      <th>Color</th>\n",
       "      <th>Endoscope orientation</th>\n",
       "      <th>Endoscope application</th>\n",
       "      <th>Age range (yrs)</th>\n",
       "      <th>Subject sex</th>\n",
       "      <th>Subject disorder status</th>\n",
       "      <th>Segmenter</th>\n",
       "      <th>Post-processed</th>\n",
       "      <th>Image Id</th>\n",
       "    </tr>\n",
       "  </thead>\n",
       "  <tbody>\n",
       "    <tr>\n",
       "      <th>0</th>\n",
       "      <td>347</td>\n",
       "      <td>KayPentax HSV 9710 (Photron)</td>\n",
       "      <td>4000</td>\n",
       "      <td>[512, 256]</td>\n",
       "      <td>False</td>\n",
       "      <td>70°</td>\n",
       "      <td>oral</td>\n",
       "      <td>20-30</td>\n",
       "      <td>w</td>\n",
       "      <td>Muscle tension dysphonia</td>\n",
       "      <td>0</td>\n",
       "      <td>1</td>\n",
       "      <td>10772</td>\n",
       "    </tr>\n",
       "    <tr>\n",
       "      <th>0</th>\n",
       "      <td>449</td>\n",
       "      <td>KayPentax HSV 9710 (Photron)</td>\n",
       "      <td>4000</td>\n",
       "      <td>[512, 256]</td>\n",
       "      <td>False</td>\n",
       "      <td>70°</td>\n",
       "      <td>oral</td>\n",
       "      <td>30-40</td>\n",
       "      <td>m</td>\n",
       "      <td>healthy</td>\n",
       "      <td>0</td>\n",
       "      <td>2</td>\n",
       "      <td>11097</td>\n",
       "    </tr>\n",
       "    <tr>\n",
       "      <th>0</th>\n",
       "      <td>254</td>\n",
       "      <td>KayPentax HSV 9710 (Photron)</td>\n",
       "      <td>4000</td>\n",
       "      <td>[512, 256]</td>\n",
       "      <td>False</td>\n",
       "      <td>70°</td>\n",
       "      <td>oral</td>\n",
       "      <td>10-20</td>\n",
       "      <td>w</td>\n",
       "      <td>healthy</td>\n",
       "      <td>0</td>\n",
       "      <td>1</td>\n",
       "      <td>11596</td>\n",
       "    </tr>\n",
       "    <tr>\n",
       "      <th>0</th>\n",
       "      <td>319</td>\n",
       "      <td>KayPentax HSV 9710 (Photron)</td>\n",
       "      <td>4000</td>\n",
       "      <td>[512, 256]</td>\n",
       "      <td>False</td>\n",
       "      <td>70°</td>\n",
       "      <td>oral</td>\n",
       "      <td>50-60</td>\n",
       "      <td>m</td>\n",
       "      <td>Vocal insufficiency and contact granuloma</td>\n",
       "      <td>0</td>\n",
       "      <td>2</td>\n",
       "      <td>12917</td>\n",
       "    </tr>\n",
       "    <tr>\n",
       "      <th>0</th>\n",
       "      <td>429</td>\n",
       "      <td>KayPentax HSV 9710 (Photron)</td>\n",
       "      <td>4000</td>\n",
       "      <td>[512, 256]</td>\n",
       "      <td>False</td>\n",
       "      <td>70°</td>\n",
       "      <td>oral</td>\n",
       "      <td>20-30</td>\n",
       "      <td>m</td>\n",
       "      <td>healthy</td>\n",
       "      <td>0</td>\n",
       "      <td>2</td>\n",
       "      <td>1434</td>\n",
       "    </tr>\n",
       "  </tbody>\n",
       "</table>\n",
       "</div>"
      ],
      "text/plain": [
       "  Video Id                        Camera Sampling rate (Hz)  \\\n",
       "0      347  KayPentax HSV 9710 (Photron)               4000   \n",
       "0      449  KayPentax HSV 9710 (Photron)               4000   \n",
       "0      254  KayPentax HSV 9710 (Photron)               4000   \n",
       "0      319  KayPentax HSV 9710 (Photron)               4000   \n",
       "0      429  KayPentax HSV 9710 (Photron)               4000   \n",
       "\n",
       "  Video resolution (px, HxW)  Color Endoscope orientation  \\\n",
       "0                 [512, 256]  False                   70°   \n",
       "0                 [512, 256]  False                   70°   \n",
       "0                 [512, 256]  False                   70°   \n",
       "0                 [512, 256]  False                   70°   \n",
       "0                 [512, 256]  False                   70°   \n",
       "\n",
       "  Endoscope application Age range (yrs) Subject sex  \\\n",
       "0                  oral           20-30           w   \n",
       "0                  oral           30-40           m   \n",
       "0                  oral           10-20           w   \n",
       "0                  oral           50-60           m   \n",
       "0                  oral           20-30           m   \n",
       "\n",
       "                     Subject disorder status Segmenter Post-processed Image Id  \n",
       "0                   Muscle tension dysphonia         0              1    10772  \n",
       "0                                    healthy         0              2    11097  \n",
       "0                                    healthy         0              1    11596  \n",
       "0  Vocal insufficiency and contact granuloma         0              2    12917  \n",
       "0                                    healthy         0              2     1434  "
      ]
     },
     "execution_count": 5,
     "metadata": {},
     "output_type": "execute_result"
    }
   ],
   "source": [
    "df_train.head()"
   ]
  },
  {
   "cell_type": "code",
   "execution_count": 6,
   "id": "b28871b3",
   "metadata": {
    "ExecuteTime": {
     "end_time": "2022-11-22T13:25:59.820690Z",
     "start_time": "2022-11-22T13:25:59.693266Z"
    }
   },
   "outputs": [
    {
     "name": "stdout",
     "output_type": "stream",
     "text": [
      "<class 'pandas.core.frame.DataFrame'>\n",
      "Int64Index: 55750 entries, 0 to 0\n",
      "Data columns (total 13 columns):\n",
      " #   Column                      Non-Null Count  Dtype \n",
      "---  ------                      --------------  ----- \n",
      " 0   Video Id                    55750 non-null  object\n",
      " 1   Camera                      55750 non-null  object\n",
      " 2   Sampling rate (Hz)          55750 non-null  object\n",
      " 3   Video resolution (px, HxW)  55750 non-null  object\n",
      " 4   Color                       55750 non-null  object\n",
      " 5   Endoscope orientation       53150 non-null  object\n",
      " 6   Endoscope application       55750 non-null  object\n",
      " 7   Age range (yrs)             55750 non-null  object\n",
      " 8   Subject sex                 55750 non-null  object\n",
      " 9   Subject disorder status     55750 non-null  object\n",
      " 10  Segmenter                   55750 non-null  object\n",
      " 11  Post-processed              55750 non-null  object\n",
      " 12  Image Id                    55750 non-null  object\n",
      "dtypes: object(13)\n",
      "memory usage: 6.0+ MB\n"
     ]
    }
   ],
   "source": [
    "df_train.info()"
   ]
  },
  {
   "cell_type": "code",
   "execution_count": 7,
   "id": "5d95170f",
   "metadata": {
    "ExecuteTime": {
     "end_time": "2022-11-22T13:25:59.827343Z",
     "start_time": "2022-11-22T13:25:59.823846Z"
    }
   },
   "outputs": [],
   "source": [
    "label_col = 'Subject disorder status'"
   ]
  },
  {
   "cell_type": "code",
   "execution_count": 8,
   "id": "37ad4dff",
   "metadata": {
    "ExecuteTime": {
     "end_time": "2022-11-22T13:25:59.846188Z",
     "start_time": "2022-11-22T13:25:59.829687Z"
    }
   },
   "outputs": [
    {
     "data": {
      "text/plain": [
       "array(['Muscle tension dysphonia', 'healthy',\n",
       "       'Vocal insufficiency and contact granuloma', '',\n",
       "       'Muscle tension dysphonia with M. thyroarythaenoideus atrophy',\n",
       "       'None (half year after diagnosis of small vocal nodules)', 'scar',\n",
       "       'Muscle tension dysphonia with nodules',\n",
       "       'Posterior insufficient glottic closure',\n",
       "       'Posterior insufficient glottic closure (high phonation)', 'edema',\n",
       "       'Muscle tension dysphonia with vocal insufficiency and M. thyroarythaenoideus atrophy',\n",
       "       'Vocal insufficiency and M. thyroarythaenoideus atrophy',\n",
       "       'laryngitis', 'Right vocal fold polyp with contraleral edema ',\n",
       "       'Muscle tension dysphonia with vocal insufficiency',\n",
       "       'Minimal anterior mucosal irregularity right vocal fold ',\n",
       "       'Irregular vibration anterior and middle portion of both vocal folds',\n",
       "       'paresis', 'Polyp',\n",
       "       'Muscle tension dysphonia with contact granuloma', 'functional',\n",
       "       'Cyst vocal fold left with posterior insufficient glottic closure (high phonation) ',\n",
       "       'Laryngitis', 'papilloma', 'Vocal fold nodules', 'Paresis',\n",
       "       'Insufficient glottic closure: posterior', 'leucoplacia',\n",
       "       'None (higher phonation)',\n",
       "       'Bowed/oval insufficient glottic closure (left more than right); stifness right vocal fold',\n",
       "       'polyp', 'Vocal fold atrophy with complete glottic closure',\n",
       "       \"Bilateral Reinke's edema (right more than left)\", 'cyst',\n",
       "       'carcinoma',\n",
       "       'Vocal fold nodules with hourglass insufficient glottic closure and teleangectasia',\n",
       "       'Anterior insufficient glottic closure',\n",
       "       'Lateral-posterior vocal fold cyst', \"Bilateral Reinke's edema\",\n",
       "       'Midmembranous swelling (mainly right vocal fold) with hourglass-shaped insufficient glottic closure',\n",
       "       \"Reinke's edema right vocal fold with hourglass-shaped insufficient glottic closure\",\n",
       "       'Right vocal fold polyp (with hourglass-shaped insufficient glottic closure)',\n",
       "       'Extreme polipoid pendulating edema obstructing almost complete glottis',\n",
       "       'Fibrotic/stiff right vocal fold'], dtype=object)"
      ]
     },
     "execution_count": 8,
     "metadata": {},
     "output_type": "execute_result"
    }
   ],
   "source": [
    "df_train[label_col].unique()"
   ]
  },
  {
   "cell_type": "code",
   "execution_count": 9,
   "id": "ca79a349",
   "metadata": {
    "ExecuteTime": {
     "end_time": "2022-11-22T13:25:59.853044Z",
     "start_time": "2022-11-22T13:25:59.848436Z"
    }
   },
   "outputs": [],
   "source": [
    "def _remove_subset(df, col, vals):\n",
    "    \"\"\"Return dataset after filtering out vals from column\"\"\"\n",
    "    mask = (df[col].isin(vals))\n",
    "    return df.loc[~mask,:]\n",
    "    "
   ]
  },
  {
   "cell_type": "code",
   "execution_count": 10,
   "id": "10c07e48",
   "metadata": {
    "ExecuteTime": {
     "end_time": "2022-11-22T13:26:00.058338Z",
     "start_time": "2022-11-22T13:25:59.855415Z"
    }
   },
   "outputs": [
    {
     "name": "stdout",
     "output_type": "stream",
     "text": [
      "<class 'pandas.core.frame.DataFrame'>\n",
      "RangeIndex: 55150 entries, 0 to 55149\n",
      "Data columns (total 13 columns):\n",
      " #   Column                      Non-Null Count  Dtype \n",
      "---  ------                      --------------  ----- \n",
      " 0   Video Id                    55150 non-null  object\n",
      " 1   Camera                      55150 non-null  object\n",
      " 2   Sampling rate (Hz)          55150 non-null  object\n",
      " 3   Video resolution (px, HxW)  55150 non-null  object\n",
      " 4   Color                       55150 non-null  object\n",
      " 5   Endoscope orientation       52550 non-null  object\n",
      " 6   Endoscope application       55150 non-null  object\n",
      " 7   Age range (yrs)             55150 non-null  object\n",
      " 8   Subject sex                 55150 non-null  object\n",
      " 9   Subject disorder status     55150 non-null  object\n",
      " 10  Segmenter                   55150 non-null  object\n",
      " 11  Post-processed              55150 non-null  object\n",
      " 12  Image Id                    55150 non-null  object\n",
      "dtypes: object(13)\n",
      "memory usage: 5.5+ MB\n"
     ]
    }
   ],
   "source": [
    "remove_from_train = [\n",
    "    'None (half year after diagnosis of small vocal nodules)',\n",
    "    'functional',\n",
    "    'None (higher phonation)',\n",
    "]\n",
    "df_train = _remove_subset(df_train, label_col, vals=remove_from_train)\n",
    "df_train = df_train.reset_index(drop=True)\n",
    "df_train.info()"
   ]
  },
  {
   "cell_type": "code",
   "execution_count": 11,
   "id": "bc8a244b",
   "metadata": {
    "ExecuteTime": {
     "end_time": "2022-11-22T13:26:12.938074Z",
     "start_time": "2022-11-22T13:26:00.060898Z"
    }
   },
   "outputs": [
    {
     "name": "stderr",
     "output_type": "stream",
     "text": [
      "100%|██████████| 3500/3500 [00:12<00:00, 276.33it/s]\n"
     ]
    },
    {
     "name": "stdout",
     "output_type": "stream",
     "text": [
      "<class 'pandas.core.frame.DataFrame'>\n",
      "Int64Index: 3500 entries, 0 to 0\n",
      "Data columns (total 13 columns):\n",
      " #   Column                      Non-Null Count  Dtype \n",
      "---  ------                      --------------  ----- \n",
      " 0   Video Id                    3500 non-null   object\n",
      " 1   Camera                      3500 non-null   object\n",
      " 2   Sampling rate (Hz)          3500 non-null   object\n",
      " 3   Video resolution (px, HxW)  3500 non-null   object\n",
      " 4   Color                       3500 non-null   object\n",
      " 5   Endoscope orientation       2500 non-null   object\n",
      " 6   Endoscope application       3500 non-null   object\n",
      " 7   Age range (yrs)             3500 non-null   object\n",
      " 8   Subject sex                 3500 non-null   object\n",
      " 9   Subject disorder status     3500 non-null   object\n",
      " 10  Segmenter                   3500 non-null   object\n",
      " 11  Post-processed              3500 non-null   object\n",
      " 12  Image Id                    3500 non-null   object\n",
      "dtypes: object(13)\n",
      "memory usage: 382.8+ KB\n"
     ]
    }
   ],
   "source": [
    "glob_string = \"../test/test/*.meta\"\n",
    "df_test = get_meta(glob_string)\n",
    "df_test.info()"
   ]
  },
  {
   "cell_type": "code",
   "execution_count": 12,
   "id": "3f2f0ef9",
   "metadata": {
    "ExecuteTime": {
     "end_time": "2022-11-22T13:26:12.947061Z",
     "start_time": "2022-11-22T13:26:12.941234Z"
    }
   },
   "outputs": [
    {
     "data": {
      "text/plain": [
       "array(['healthy', '', 'laryngitis', 'Muscle tension dysphonia',\n",
       "       'None (half year post-phonomicrosurgery for polipoid mid-membranous lesions)',\n",
       "       'Vocal fold nodules (high phonation)',\n",
       "       \"Reinke's edema right vocal fold (earlier it was bilateral)\",\n",
       "       'Cyst vocal fold left (posterior insufficient glottic closure) ',\n",
       "       \"Reinke's edema right vocal fold with hourglass-shaped insufficient glottic closure\",\n",
       "       'Polyp',\n",
       "       'Post-resection of extreme polipoid pendulating edema right vocal folds; extreme polipoid pendulating edema obstructing almost complete glottis left vocal folds',\n",
       "       'Lateral-posterior vocal fold cyst (high phonation)',\n",
       "       'None (one year after presumption of a pseudocyst/sulcus in left vocal fold)',\n",
       "       'edema',\n",
       "       'Bilateral vergeture with bowed insufficient glottic closure',\n",
       "       'scar', 'functional',\n",
       "       'Hourglass-shaped insufficient glottic closure (high phonation)',\n",
       "       'spasmodic dysphonia', 'paresis'], dtype=object)"
      ]
     },
     "execution_count": 12,
     "metadata": {},
     "output_type": "execute_result"
    }
   ],
   "source": [
    "df_test[label_col].unique()"
   ]
  },
  {
   "cell_type": "code",
   "execution_count": 13,
   "id": "faf6dbbc",
   "metadata": {
    "ExecuteTime": {
     "end_time": "2022-11-22T13:26:12.973057Z",
     "start_time": "2022-11-22T13:26:12.950783Z"
    }
   },
   "outputs": [
    {
     "name": "stdout",
     "output_type": "stream",
     "text": [
      "<class 'pandas.core.frame.DataFrame'>\n",
      "RangeIndex: 3300 entries, 0 to 3299\n",
      "Data columns (total 13 columns):\n",
      " #   Column                      Non-Null Count  Dtype \n",
      "---  ------                      --------------  ----- \n",
      " 0   Video Id                    3300 non-null   object\n",
      " 1   Camera                      3300 non-null   object\n",
      " 2   Sampling rate (Hz)          3300 non-null   object\n",
      " 3   Video resolution (px, HxW)  3300 non-null   object\n",
      " 4   Color                       3300 non-null   object\n",
      " 5   Endoscope orientation       2300 non-null   object\n",
      " 6   Endoscope application       3300 non-null   object\n",
      " 7   Age range (yrs)             3300 non-null   object\n",
      " 8   Subject sex                 3300 non-null   object\n",
      " 9   Subject disorder status     3300 non-null   object\n",
      " 10  Segmenter                   3300 non-null   object\n",
      " 11  Post-processed              3300 non-null   object\n",
      " 12  Image Id                    3300 non-null   object\n",
      "dtypes: object(13)\n",
      "memory usage: 335.3+ KB\n"
     ]
    },
    {
     "data": {
      "text/plain": [
       "None"
      ]
     },
     "metadata": {},
     "output_type": "display_data"
    }
   ],
   "source": [
    "remove_from_test = [\n",
    "    'None (half year post-phonomicrosurgery for polipoid mid-membranous lesions)',\n",
    "    'None (one year after presumption of a pseudocyst/sulcus in left vocal fold)',\n",
    "    'functional'\n",
    "]\n",
    "df_test = _remove_subset(df_test, label_col, vals=remove_from_test)\n",
    "df_test = df_test.reset_index(drop=True)\n",
    "display(df_test.info())"
   ]
  },
  {
   "cell_type": "code",
   "execution_count": 14,
   "id": "d9335929",
   "metadata": {
    "ExecuteTime": {
     "end_time": "2022-11-22T13:26:13.013363Z",
     "start_time": "2022-11-22T13:26:12.975455Z"
    }
   },
   "outputs": [],
   "source": [
    "# create new target column is_healthy\n",
    "df_train['is_healthy'] = (df_train[label_col] == \"healthy\").astype(int)\n",
    "df_test['is_healthy'] = (df_test[label_col] == \"healthy\").astype(int)\n",
    "\n",
    "label_col = \"is_healthy\""
   ]
  },
  {
   "cell_type": "code",
   "execution_count": 15,
   "id": "e321638a",
   "metadata": {
    "ExecuteTime": {
     "end_time": "2022-11-22T13:26:13.020651Z",
     "start_time": "2022-11-22T13:26:13.015652Z"
    }
   },
   "outputs": [
    {
     "name": "stdout",
     "output_type": "stream",
     "text": [
      "Train samples:  55150\n",
      "Test samples:  3300\n"
     ]
    }
   ],
   "source": [
    "print(\"Train samples: \", df_train.shape[0])\n",
    "print(\"Test samples: \", df_test.shape[0])"
   ]
  },
  {
   "cell_type": "code",
   "execution_count": 16,
   "id": "09124410",
   "metadata": {
    "ExecuteTime": {
     "end_time": "2022-11-22T13:26:13.026491Z",
     "start_time": "2022-11-22T13:26:13.023160Z"
    }
   },
   "outputs": [],
   "source": [
    "import os, shutil"
   ]
  },
  {
   "cell_type": "code",
   "execution_count": 17,
   "id": "26b71a5d",
   "metadata": {
    "ExecuteTime": {
     "end_time": "2022-11-22T13:26:13.035562Z",
     "start_time": "2022-11-22T13:26:13.028878Z"
    }
   },
   "outputs": [],
   "source": [
    "def create_dataset(ids, src, dst, class_label): \n",
    "    dst = os.path.join(dst, class_label)\n",
    "    \n",
    "    if os.path.exists(dst):\n",
    "        # delete if exists\n",
    "        shutil.rmtree(dst)\n",
    "    os.makedirs(dst)\n",
    "    for id_ in tqdm(ids):\n",
    "        fname = f\"{id_}.png\"\n",
    "        src_file = os.path.join(src, fname)\n",
    "        \n",
    "        fname = f\"{id_}.{class_label}.png\"\n",
    "        dst_file = os.path.join(dst, fname)\n",
    "        shutil.copyfile(src_file, dst_file)"
   ]
  },
  {
   "cell_type": "code",
   "execution_count": 18,
   "id": "8bf0e681",
   "metadata": {
    "ExecuteTime": {
     "end_time": "2022-11-22T13:26:13.076069Z",
     "start_time": "2022-11-22T13:26:13.038115Z"
    }
   },
   "outputs": [
    {
     "name": "stdout",
     "output_type": "stream",
     "text": [
      "Healthy train size:  33950\n",
      "Unhealthy train size:  21200\n"
     ]
    }
   ],
   "source": [
    "df_train_healthy = df_train[df_train[label_col] == 1]\n",
    "df_train_unhealthy = df_train[df_train[label_col] == 0]\n",
    "\n",
    "# use index as ids\n",
    "healthy_train_ids = df_train_healthy[\"Image Id\"].tolist()\n",
    "unhealthy_train_ids = df_train_unhealthy[\"Image Id\"].tolist()\n",
    "\n",
    "print(\"Healthy train size: \", len(healthy_train_ids))\n",
    "print(\"Unhealthy train size: \", len(unhealthy_train_ids))"
   ]
  },
  {
   "cell_type": "code",
   "execution_count": 19,
   "id": "8811d391",
   "metadata": {
    "ExecuteTime": {
     "end_time": "2022-11-22T13:29:38.720420Z",
     "start_time": "2022-11-22T13:27:44.329966Z"
    }
   },
   "outputs": [
    {
     "name": "stderr",
     "output_type": "stream",
     "text": [
      "100%|██████████| 33950/33950 [01:01<00:00, 551.39it/s]\n",
      "100%|██████████| 21200/21200 [00:38<00:00, 546.21it/s]\n"
     ]
    }
   ],
   "source": [
    "src = \"../training/training\"\n",
    "dst = \"../dataset/train\"\n",
    "create_dataset(healthy_train_ids, src, dst, class_label=\"healthy\")\n",
    "create_dataset(unhealthy_train_ids, src, dst, class_label=\"unhealthy\")"
   ]
  },
  {
   "cell_type": "code",
   "execution_count": 20,
   "id": "6fa3a3d2",
   "metadata": {
    "ExecuteTime": {
     "end_time": "2022-11-22T13:29:38.742256Z",
     "start_time": "2022-11-22T13:29:38.724770Z"
    }
   },
   "outputs": [
    {
     "name": "stdout",
     "output_type": "stream",
     "text": [
      "Healthy test size:  1450\n",
      "Unhealthy test size:  1850\n"
     ]
    }
   ],
   "source": [
    "df_test_healthy = df_test[df_test[label_col] == 1]\n",
    "df_test_unhealthy = df_test[df_test[label_col] == 0]\n",
    "\n",
    "# use index as ids\n",
    "healthy_test_ids = df_test_healthy[\"Image Id\"].tolist()\n",
    "unhealthy_test_ids = df_test_unhealthy[\"Image Id\"].tolist()\n",
    "\n",
    "print(\"Healthy test size: \", len(healthy_test_ids))\n",
    "print(\"Unhealthy test size: \", len(unhealthy_test_ids))"
   ]
  },
  {
   "cell_type": "code",
   "execution_count": 21,
   "id": "068faa32",
   "metadata": {
    "ExecuteTime": {
     "end_time": "2022-11-22T13:32:26.691135Z",
     "start_time": "2022-11-22T13:32:20.006989Z"
    }
   },
   "outputs": [
    {
     "name": "stderr",
     "output_type": "stream",
     "text": [
      "100%|██████████| 1450/1450 [00:02<00:00, 591.04it/s]\n",
      "100%|██████████| 1850/1850 [00:03<00:00, 612.89it/s]\n"
     ]
    }
   ],
   "source": [
    "src = \"../test/test\"\n",
    "dst = \"../dataset/test\"\n",
    "create_dataset(healthy_test_ids, src, dst, class_label=\"healthy\")\n",
    "create_dataset(unhealthy_test_ids, src, dst, class_label=\"unhealthy\")"
   ]
  },
  {
   "cell_type": "code",
   "execution_count": 23,
   "id": "8fb0a0df",
   "metadata": {
    "ExecuteTime": {
     "end_time": "2022-11-22T13:33:23.836853Z",
     "start_time": "2022-11-22T13:33:23.431142Z"
    }
   },
   "outputs": [],
   "source": [
    "# save reference dfs\n",
    "df_train.to_csv(\"../dataset/train.csv\", index=False)\n",
    "df_test.to_csv(\"../dataset/test.csv\", index=False)"
   ]
  },
  {
   "cell_type": "markdown",
   "id": "5b593e58",
   "metadata": {},
   "source": [
    "## Create 10 bootstraps of the evaluation set: `test.csv`"
   ]
  },
  {
   "cell_type": "code",
   "execution_count": 8,
   "id": "7f7442de",
   "metadata": {
    "ExecuteTime": {
     "end_time": "2022-11-29T12:08:23.916540Z",
     "start_time": "2022-11-29T12:08:23.654180Z"
    }
   },
   "outputs": [],
   "source": [
    "import pandas as pd\n",
    "import os\n",
    "\n",
    "df_test = pd.read_csv(\"../dataset/test.csv\")\n",
    "\n",
    "if not os.path.exists(PATHS.bootstrap_dir):\n",
    "    os.makedirs(PATHS.bootstrap_dir)\n",
    "num_bootstraps = 10\n",
    "for i in range(num_bootstraps):\n",
    "    save_path = os.path.join(PATHS.bootstrap_dir, f\"test-{i}.csv\")\n",
    "    (df_test.sample(df_test.shape[0], replace=True).to_csv(save_path, index=False))"
   ]
  },
  {
   "cell_type": "markdown",
   "id": "5f073b49",
   "metadata": {},
   "source": [
    "## Create sample dataset for model development"
   ]
  },
  {
   "cell_type": "code",
   "execution_count": 24,
   "id": "6b78239d",
   "metadata": {
    "ExecuteTime": {
     "end_time": "2022-11-22T13:33:47.012561Z",
     "start_time": "2022-11-22T13:33:46.090872Z"
    }
   },
   "outputs": [
    {
     "name": "stdout",
     "output_type": "stream",
     "text": [
      "Healthy train size:  335\n",
      "Unhealthy train size:  217\n"
     ]
    },
    {
     "name": "stderr",
     "output_type": "stream",
     "text": [
      "100%|██████████| 335/335 [00:00<00:00, 726.38it/s]\n",
      "100%|██████████| 217/217 [00:00<00:00, 745.13it/s]\n"
     ]
    }
   ],
   "source": [
    "df_train = df_train.sample(frac=0.01)\n",
    "\n",
    "df_train_healthy = df_train[df_train[label_col] == 1]\n",
    "df_train_unhealthy = df_train[df_train[label_col] == 0]\n",
    "\n",
    "# use index as ids\n",
    "healthy_train_ids = df_train_healthy[\"Image Id\"].tolist()\n",
    "unhealthy_train_ids = df_train_unhealthy[\"Image Id\"].tolist()\n",
    "\n",
    "print(\"Healthy train size: \", len(healthy_train_ids))\n",
    "print(\"Unhealthy train size: \", len(unhealthy_train_ids))\n",
    "\n",
    "src = \"../training/training\"\n",
    "dst = \"../sample-dataset/train\"\n",
    "create_dataset(healthy_train_ids, src, dst, class_label=\"healthy\")\n",
    "create_dataset(unhealthy_train_ids, src, dst, class_label=\"unhealthy\")"
   ]
  },
  {
   "cell_type": "code",
   "execution_count": 25,
   "id": "34c1e8be",
   "metadata": {
    "ExecuteTime": {
     "end_time": "2022-11-22T13:34:04.857041Z",
     "start_time": "2022-11-22T13:34:04.763089Z"
    }
   },
   "outputs": [
    {
     "name": "stdout",
     "output_type": "stream",
     "text": [
      "Healthy test size:  13\n",
      "Unhealthy test size:  20\n"
     ]
    },
    {
     "name": "stderr",
     "output_type": "stream",
     "text": [
      "100%|██████████| 13/13 [00:00<00:00, 928.88it/s]\n",
      "100%|██████████| 20/20 [00:00<00:00, 1051.19it/s]\n"
     ]
    }
   ],
   "source": [
    "df_test = df_test.sample(frac=0.01)\n",
    "\n",
    "df_test_healthy = df_test[df_test[label_col] == 1]\n",
    "df_test_unhealthy = df_test[df_test[label_col] == 0]\n",
    "\n",
    "# use index as ids\n",
    "healthy_test_ids = df_test_healthy[\"Image Id\"].tolist()\n",
    "unhealthy_test_ids = df_test_unhealthy[\"Image Id\"].tolist()\n",
    "\n",
    "print(\"Healthy test size: \", len(healthy_test_ids))\n",
    "print(\"Unhealthy test size: \", len(unhealthy_test_ids))\n",
    "\n",
    "src = \"../test/test\"\n",
    "dst = \"../sample-dataset/test\"\n",
    "create_dataset(healthy_test_ids, src, dst, class_label=\"healthy\")\n",
    "create_dataset(unhealthy_test_ids, src, dst, class_label=\"unhealthy\")"
   ]
  },
  {
   "cell_type": "markdown",
   "id": "ca6018cf",
   "metadata": {},
   "source": [
    "## End"
   ]
  }
 ],
 "metadata": {
  "hide_input": false,
  "kernelspec": {
   "display_name": "Python 3 (ipykernel)",
   "language": "python",
   "name": "python3"
  },
  "language_info": {
   "codemirror_mode": {
    "name": "ipython",
    "version": 3
   },
   "file_extension": ".py",
   "mimetype": "text/x-python",
   "name": "python",
   "nbconvert_exporter": "python",
   "pygments_lexer": "ipython3",
   "version": "3.9.13"
  },
  "toc": {
   "base_numbering": 1,
   "nav_menu": {},
   "number_sections": true,
   "sideBar": true,
   "skip_h1_title": false,
   "title_cell": "Table of Contents",
   "title_sidebar": "Contents",
   "toc_cell": false,
   "toc_position": {},
   "toc_section_display": true,
   "toc_window_display": false
  }
 },
 "nbformat": 4,
 "nbformat_minor": 5
}
