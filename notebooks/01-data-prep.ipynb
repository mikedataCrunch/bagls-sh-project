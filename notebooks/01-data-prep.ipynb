{
 "cells": [
  {
   "cell_type": "markdown",
   "id": "59ccac6b",
   "metadata": {},
   "source": [
    "# Data preparation\n",
    "\n",
    "The following codes show the development of the `utils` for data prepration. The following were conisidered:\n",
    "\n",
    "Removal of classes attributed to `Unknown` disorder based on the dataset publication. \n",
    "\n",
    "1. Removed from the training set:\n",
    "- `None (half year after diagnosis of small vocal nodules)`\n",
    "- `functional`\n",
    "- `None (higher phonation)`\n",
    "\n",
    "2. Removed from the test set:\n",
    "- `None (half year post-phonomicrosurgery for polipoid mid-membranous lesions)`\n",
    "- `None (one year after presumption of a pseudocyst/sulcus in left vocal fold)`\n",
    "- `functional`\n",
    "\n",
    "Train-test splits provided by the BAGLS dataset were taken as is. Subsequently, the train set was further divided in to train and val splits during model training."
   ]
  },
  {
   "cell_type": "markdown",
   "id": "7949d892",
   "metadata": {},
   "source": [
    "## For `tensorflow` image data loader"
   ]
  },
  {
   "cell_type": "code",
   "execution_count": 1,
   "id": "e36256d1",
   "metadata": {
    "ExecuteTime": {
     "end_time": "2022-12-03T19:51:01.343064Z",
     "start_time": "2022-12-03T19:51:00.673508Z"
    }
   },
   "outputs": [],
   "source": [
    "import os\n",
    "import json\n",
    "import pandas as pd\n",
    "from glob import glob\n",
    "\n",
    "from tqdm import tqdm"
   ]
  },
  {
   "cell_type": "code",
   "execution_count": 2,
   "id": "ce708357",
   "metadata": {
    "ExecuteTime": {
     "end_time": "2022-12-03T19:51:01.351848Z",
     "start_time": "2022-12-03T19:51:01.346297Z"
    }
   },
   "outputs": [],
   "source": [
    "import sys\n",
    "sys.path.append(\"..\")\n",
    "import PATHS"
   ]
  },
  {
   "cell_type": "code",
   "execution_count": 3,
   "id": "779e6653",
   "metadata": {
    "ExecuteTime": {
     "end_time": "2022-12-03T19:51:01.620826Z",
     "start_time": "2022-12-03T19:51:01.354347Z"
    }
   },
   "outputs": [
    {
     "data": {
      "text/plain": [
       "3500"
      ]
     },
     "execution_count": 3,
     "metadata": {},
     "output_type": "execute_result"
    }
   ],
   "source": [
    "# note the similar filenames in the test and train directories\n",
    "# this is only based on naming and not the actual image\n",
    "train_meta_list = [i.split(\"/\")[-1].split(\".\")[0] for i in glob(\"../training/training/*.meta\")]\n",
    "test_meta_list = [i.split(\"/\")[-1].split(\".\")[0] for i in glob(\"../test/test/*.meta\")]\n",
    "\n",
    "len(set(train_meta_list).intersection(set(test_meta_list)))"
   ]
  },
  {
   "cell_type": "code",
   "execution_count": 4,
   "id": "4fd9c678",
   "metadata": {
    "ExecuteTime": {
     "end_time": "2022-12-03T19:51:01.630932Z",
     "start_time": "2022-12-03T19:51:01.624351Z"
    }
   },
   "outputs": [
    {
     "data": {
      "text/plain": [
       "{'Video Id': 546,\n",
       " 'Camera': 'KayPentax HSV 9710 (Photron)',\n",
       " 'Sampling rate (Hz)': 4000,\n",
       " 'Video resolution (px, HxW)': [512, 256],\n",
       " 'Color': False,\n",
       " 'Endoscope orientation': '70°',\n",
       " 'Endoscope application': 'oral',\n",
       " 'Age range (yrs)': '10-20',\n",
       " 'Subject sex': 'w',\n",
       " 'Subject disorder status': 'healthy',\n",
       " 'Segmenter': 0,\n",
       " 'Post-processed': 1}"
      ]
     },
     "execution_count": 4,
     "metadata": {},
     "output_type": "execute_result"
    }
   ],
   "source": [
    "# inspect sample\n",
    "path = \"../training/training/19722.meta\"\n",
    "with open(path, 'r') as file:\n",
    "    data = json.load(file)\n",
    "data"
   ]
  },
  {
   "cell_type": "code",
   "execution_count": 5,
   "id": "a5bf53a9",
   "metadata": {
    "ExecuteTime": {
     "end_time": "2022-12-03T19:51:01.638856Z",
     "start_time": "2022-12-03T19:51:01.633906Z"
    }
   },
   "outputs": [],
   "source": [
    "def get_meta(glob_string):\n",
    "    paths = glob(glob_string)\n",
    "    df_list = []\n",
    "    for path in tqdm(paths):\n",
    "        id_ = path.split(\"/\")[-1].split(\".\")[0]\n",
    "        temp = pd.read_json(path, orient=\"index\").T\n",
    "        temp[\"Image Id\"] = id_\n",
    "        df_list.append(temp)\n",
    "    return pd.concat(df_list)"
   ]
  },
  {
   "cell_type": "code",
   "execution_count": 6,
   "id": "7f251af5",
   "metadata": {
    "ExecuteTime": {
     "end_time": "2022-12-03T20:06:27.658287Z",
     "start_time": "2022-12-03T19:51:01.641226Z"
    }
   },
   "outputs": [
    {
     "name": "stderr",
     "output_type": "stream",
     "text": [
      "100%|██████████| 55750/55750 [15:20<00:00, 60.56it/s]  \n"
     ]
    }
   ],
   "source": [
    "glob_string = \"../training/training/*.meta\"\n",
    "df_train = get_meta(glob_string)"
   ]
  },
  {
   "cell_type": "code",
   "execution_count": 7,
   "id": "c1861198",
   "metadata": {
    "ExecuteTime": {
     "end_time": "2022-12-03T20:06:27.679124Z",
     "start_time": "2022-12-03T20:06:27.661150Z"
    }
   },
   "outputs": [
    {
     "data": {
      "text/html": [
       "<div>\n",
       "<style scoped>\n",
       "    .dataframe tbody tr th:only-of-type {\n",
       "        vertical-align: middle;\n",
       "    }\n",
       "\n",
       "    .dataframe tbody tr th {\n",
       "        vertical-align: top;\n",
       "    }\n",
       "\n",
       "    .dataframe thead th {\n",
       "        text-align: right;\n",
       "    }\n",
       "</style>\n",
       "<table border=\"1\" class=\"dataframe\">\n",
       "  <thead>\n",
       "    <tr style=\"text-align: right;\">\n",
       "      <th></th>\n",
       "      <th>Video Id</th>\n",
       "      <th>Camera</th>\n",
       "      <th>Sampling rate (Hz)</th>\n",
       "      <th>Video resolution (px, HxW)</th>\n",
       "      <th>Color</th>\n",
       "      <th>Endoscope orientation</th>\n",
       "      <th>Endoscope application</th>\n",
       "      <th>Age range (yrs)</th>\n",
       "      <th>Subject sex</th>\n",
       "      <th>Subject disorder status</th>\n",
       "      <th>Segmenter</th>\n",
       "      <th>Post-processed</th>\n",
       "      <th>Image Id</th>\n",
       "    </tr>\n",
       "  </thead>\n",
       "  <tbody>\n",
       "    <tr>\n",
       "      <th>0</th>\n",
       "      <td>347</td>\n",
       "      <td>KayPentax HSV 9710 (Photron)</td>\n",
       "      <td>4000</td>\n",
       "      <td>[512, 256]</td>\n",
       "      <td>False</td>\n",
       "      <td>70°</td>\n",
       "      <td>oral</td>\n",
       "      <td>20-30</td>\n",
       "      <td>w</td>\n",
       "      <td>Muscle tension dysphonia</td>\n",
       "      <td>0</td>\n",
       "      <td>1</td>\n",
       "      <td>10772</td>\n",
       "    </tr>\n",
       "    <tr>\n",
       "      <th>0</th>\n",
       "      <td>449</td>\n",
       "      <td>KayPentax HSV 9710 (Photron)</td>\n",
       "      <td>4000</td>\n",
       "      <td>[512, 256]</td>\n",
       "      <td>False</td>\n",
       "      <td>70°</td>\n",
       "      <td>oral</td>\n",
       "      <td>30-40</td>\n",
       "      <td>m</td>\n",
       "      <td>healthy</td>\n",
       "      <td>0</td>\n",
       "      <td>2</td>\n",
       "      <td>11097</td>\n",
       "    </tr>\n",
       "    <tr>\n",
       "      <th>0</th>\n",
       "      <td>254</td>\n",
       "      <td>KayPentax HSV 9710 (Photron)</td>\n",
       "      <td>4000</td>\n",
       "      <td>[512, 256]</td>\n",
       "      <td>False</td>\n",
       "      <td>70°</td>\n",
       "      <td>oral</td>\n",
       "      <td>10-20</td>\n",
       "      <td>w</td>\n",
       "      <td>healthy</td>\n",
       "      <td>0</td>\n",
       "      <td>1</td>\n",
       "      <td>11596</td>\n",
       "    </tr>\n",
       "    <tr>\n",
       "      <th>0</th>\n",
       "      <td>319</td>\n",
       "      <td>KayPentax HSV 9710 (Photron)</td>\n",
       "      <td>4000</td>\n",
       "      <td>[512, 256]</td>\n",
       "      <td>False</td>\n",
       "      <td>70°</td>\n",
       "      <td>oral</td>\n",
       "      <td>50-60</td>\n",
       "      <td>m</td>\n",
       "      <td>Vocal insufficiency and contact granuloma</td>\n",
       "      <td>0</td>\n",
       "      <td>2</td>\n",
       "      <td>12917</td>\n",
       "    </tr>\n",
       "    <tr>\n",
       "      <th>0</th>\n",
       "      <td>429</td>\n",
       "      <td>KayPentax HSV 9710 (Photron)</td>\n",
       "      <td>4000</td>\n",
       "      <td>[512, 256]</td>\n",
       "      <td>False</td>\n",
       "      <td>70°</td>\n",
       "      <td>oral</td>\n",
       "      <td>20-30</td>\n",
       "      <td>m</td>\n",
       "      <td>healthy</td>\n",
       "      <td>0</td>\n",
       "      <td>2</td>\n",
       "      <td>1434</td>\n",
       "    </tr>\n",
       "  </tbody>\n",
       "</table>\n",
       "</div>"
      ],
      "text/plain": [
       "  Video Id                        Camera Sampling rate (Hz)  \\\n",
       "0      347  KayPentax HSV 9710 (Photron)               4000   \n",
       "0      449  KayPentax HSV 9710 (Photron)               4000   \n",
       "0      254  KayPentax HSV 9710 (Photron)               4000   \n",
       "0      319  KayPentax HSV 9710 (Photron)               4000   \n",
       "0      429  KayPentax HSV 9710 (Photron)               4000   \n",
       "\n",
       "  Video resolution (px, HxW)  Color Endoscope orientation  \\\n",
       "0                 [512, 256]  False                   70°   \n",
       "0                 [512, 256]  False                   70°   \n",
       "0                 [512, 256]  False                   70°   \n",
       "0                 [512, 256]  False                   70°   \n",
       "0                 [512, 256]  False                   70°   \n",
       "\n",
       "  Endoscope application Age range (yrs) Subject sex  \\\n",
       "0                  oral           20-30           w   \n",
       "0                  oral           30-40           m   \n",
       "0                  oral           10-20           w   \n",
       "0                  oral           50-60           m   \n",
       "0                  oral           20-30           m   \n",
       "\n",
       "                     Subject disorder status Segmenter Post-processed Image Id  \n",
       "0                   Muscle tension dysphonia         0              1    10772  \n",
       "0                                    healthy         0              2    11097  \n",
       "0                                    healthy         0              1    11596  \n",
       "0  Vocal insufficiency and contact granuloma         0              2    12917  \n",
       "0                                    healthy         0              2     1434  "
      ]
     },
     "execution_count": 7,
     "metadata": {},
     "output_type": "execute_result"
    }
   ],
   "source": [
    "df_train.head()"
   ]
  },
  {
   "cell_type": "code",
   "execution_count": 8,
   "id": "b28871b3",
   "metadata": {
    "ExecuteTime": {
     "end_time": "2022-12-03T20:06:27.842455Z",
     "start_time": "2022-12-03T20:06:27.681170Z"
    }
   },
   "outputs": [
    {
     "name": "stdout",
     "output_type": "stream",
     "text": [
      "<class 'pandas.core.frame.DataFrame'>\n",
      "Int64Index: 55750 entries, 0 to 0\n",
      "Data columns (total 13 columns):\n",
      " #   Column                      Non-Null Count  Dtype \n",
      "---  ------                      --------------  ----- \n",
      " 0   Video Id                    55750 non-null  object\n",
      " 1   Camera                      55750 non-null  object\n",
      " 2   Sampling rate (Hz)          55750 non-null  object\n",
      " 3   Video resolution (px, HxW)  55750 non-null  object\n",
      " 4   Color                       55750 non-null  object\n",
      " 5   Endoscope orientation       53150 non-null  object\n",
      " 6   Endoscope application       55750 non-null  object\n",
      " 7   Age range (yrs)             55750 non-null  object\n",
      " 8   Subject sex                 55750 non-null  object\n",
      " 9   Subject disorder status     55750 non-null  object\n",
      " 10  Segmenter                   55750 non-null  object\n",
      " 11  Post-processed              55750 non-null  object\n",
      " 12  Image Id                    55750 non-null  object\n",
      "dtypes: object(13)\n",
      "memory usage: 6.0+ MB\n"
     ]
    }
   ],
   "source": [
    "df_train.info()"
   ]
  },
  {
   "cell_type": "code",
   "execution_count": 9,
   "id": "5d95170f",
   "metadata": {
    "ExecuteTime": {
     "end_time": "2022-12-03T20:06:27.848513Z",
     "start_time": "2022-12-03T20:06:27.845032Z"
    }
   },
   "outputs": [],
   "source": [
    "label_col = 'Subject disorder status'"
   ]
  },
  {
   "cell_type": "code",
   "execution_count": 10,
   "id": "37ad4dff",
   "metadata": {
    "ExecuteTime": {
     "end_time": "2022-12-03T20:06:27.865499Z",
     "start_time": "2022-12-03T20:06:27.852984Z"
    }
   },
   "outputs": [
    {
     "data": {
      "text/plain": [
       "array(['Muscle tension dysphonia', 'healthy',\n",
       "       'Vocal insufficiency and contact granuloma', '',\n",
       "       'Muscle tension dysphonia with M. thyroarythaenoideus atrophy',\n",
       "       'None (half year after diagnosis of small vocal nodules)', 'scar',\n",
       "       'Muscle tension dysphonia with nodules',\n",
       "       'Posterior insufficient glottic closure',\n",
       "       'Posterior insufficient glottic closure (high phonation)', 'edema',\n",
       "       'Muscle tension dysphonia with vocal insufficiency and M. thyroarythaenoideus atrophy',\n",
       "       'Vocal insufficiency and M. thyroarythaenoideus atrophy',\n",
       "       'laryngitis', 'Right vocal fold polyp with contraleral edema ',\n",
       "       'Muscle tension dysphonia with vocal insufficiency',\n",
       "       'Minimal anterior mucosal irregularity right vocal fold ',\n",
       "       'Irregular vibration anterior and middle portion of both vocal folds',\n",
       "       'paresis', 'Polyp',\n",
       "       'Muscle tension dysphonia with contact granuloma', 'functional',\n",
       "       'Cyst vocal fold left with posterior insufficient glottic closure (high phonation) ',\n",
       "       'Laryngitis', 'papilloma', 'Vocal fold nodules', 'Paresis',\n",
       "       'Insufficient glottic closure: posterior', 'leucoplacia',\n",
       "       'None (higher phonation)',\n",
       "       'Bowed/oval insufficient glottic closure (left more than right); stifness right vocal fold',\n",
       "       'polyp', 'Vocal fold atrophy with complete glottic closure',\n",
       "       \"Bilateral Reinke's edema (right more than left)\", 'cyst',\n",
       "       'carcinoma',\n",
       "       'Vocal fold nodules with hourglass insufficient glottic closure and teleangectasia',\n",
       "       'Anterior insufficient glottic closure',\n",
       "       'Lateral-posterior vocal fold cyst', \"Bilateral Reinke's edema\",\n",
       "       'Midmembranous swelling (mainly right vocal fold) with hourglass-shaped insufficient glottic closure',\n",
       "       \"Reinke's edema right vocal fold with hourglass-shaped insufficient glottic closure\",\n",
       "       'Right vocal fold polyp (with hourglass-shaped insufficient glottic closure)',\n",
       "       'Extreme polipoid pendulating edema obstructing almost complete glottis',\n",
       "       'Fibrotic/stiff right vocal fold'], dtype=object)"
      ]
     },
     "execution_count": 10,
     "metadata": {},
     "output_type": "execute_result"
    }
   ],
   "source": [
    "df_train[label_col].unique()"
   ]
  },
  {
   "cell_type": "code",
   "execution_count": 11,
   "id": "ca79a349",
   "metadata": {
    "ExecuteTime": {
     "end_time": "2022-12-03T20:06:27.872098Z",
     "start_time": "2022-12-03T20:06:27.867904Z"
    }
   },
   "outputs": [],
   "source": [
    "def _remove_subset(df, col, vals):\n",
    "    \"\"\"Return dataset after filtering out vals from column\"\"\"\n",
    "    mask = (df[col].isin(vals))\n",
    "    return df.loc[~mask,:]"
   ]
  },
  {
   "cell_type": "code",
   "execution_count": 12,
   "id": "10c07e48",
   "metadata": {
    "ExecuteTime": {
     "end_time": "2022-12-03T20:06:28.063072Z",
     "start_time": "2022-12-03T20:06:27.874611Z"
    }
   },
   "outputs": [
    {
     "name": "stdout",
     "output_type": "stream",
     "text": [
      "<class 'pandas.core.frame.DataFrame'>\n",
      "RangeIndex: 52650 entries, 0 to 52649\n",
      "Data columns (total 13 columns):\n",
      " #   Column                      Non-Null Count  Dtype \n",
      "---  ------                      --------------  ----- \n",
      " 0   Video Id                    52650 non-null  object\n",
      " 1   Camera                      52650 non-null  object\n",
      " 2   Sampling rate (Hz)          52650 non-null  object\n",
      " 3   Video resolution (px, HxW)  52650 non-null  object\n",
      " 4   Color                       52650 non-null  object\n",
      " 5   Endoscope orientation       52550 non-null  object\n",
      " 6   Endoscope application       52650 non-null  object\n",
      " 7   Age range (yrs)             52650 non-null  object\n",
      " 8   Subject sex                 52650 non-null  object\n",
      " 9   Subject disorder status     52650 non-null  object\n",
      " 10  Segmenter                   52650 non-null  object\n",
      " 11  Post-processed              52650 non-null  object\n",
      " 12  Image Id                    52650 non-null  object\n",
      "dtypes: object(13)\n",
      "memory usage: 5.2+ MB\n"
     ]
    }
   ],
   "source": [
    "remove_from_train = [\n",
    "    'None (half year after diagnosis of small vocal nodules)',\n",
    "    'functional',\n",
    "    'None (higher phonation)',\n",
    "    '',\n",
    "]\n",
    "df_train = _remove_subset(df_train, label_col, vals=remove_from_train)\n",
    "df_train = df_train.reset_index(drop=True)\n",
    "df_train.info()"
   ]
  },
  {
   "cell_type": "code",
   "execution_count": 13,
   "id": "bc8a244b",
   "metadata": {
    "ExecuteTime": {
     "end_time": "2022-12-03T20:06:43.930428Z",
     "start_time": "2022-12-03T20:06:28.065436Z"
    }
   },
   "outputs": [
    {
     "name": "stderr",
     "output_type": "stream",
     "text": [
      "100%|██████████| 3500/3500 [00:15<00:00, 223.52it/s]\n"
     ]
    },
    {
     "name": "stdout",
     "output_type": "stream",
     "text": [
      "<class 'pandas.core.frame.DataFrame'>\n",
      "Int64Index: 3500 entries, 0 to 0\n",
      "Data columns (total 13 columns):\n",
      " #   Column                      Non-Null Count  Dtype \n",
      "---  ------                      --------------  ----- \n",
      " 0   Video Id                    3500 non-null   object\n",
      " 1   Camera                      3500 non-null   object\n",
      " 2   Sampling rate (Hz)          3500 non-null   object\n",
      " 3   Video resolution (px, HxW)  3500 non-null   object\n",
      " 4   Color                       3500 non-null   object\n",
      " 5   Endoscope orientation       2500 non-null   object\n",
      " 6   Endoscope application       3500 non-null   object\n",
      " 7   Age range (yrs)             3500 non-null   object\n",
      " 8   Subject sex                 3500 non-null   object\n",
      " 9   Subject disorder status     3500 non-null   object\n",
      " 10  Segmenter                   3500 non-null   object\n",
      " 11  Post-processed              3500 non-null   object\n",
      " 12  Image Id                    3500 non-null   object\n",
      "dtypes: object(13)\n",
      "memory usage: 382.8+ KB\n"
     ]
    }
   ],
   "source": [
    "glob_string = \"../test/test/*.meta\"\n",
    "df_test = get_meta(glob_string)\n",
    "df_test.info()"
   ]
  },
  {
   "cell_type": "code",
   "execution_count": 14,
   "id": "3f2f0ef9",
   "metadata": {
    "ExecuteTime": {
     "end_time": "2022-12-03T20:06:43.938312Z",
     "start_time": "2022-12-03T20:06:43.932665Z"
    }
   },
   "outputs": [
    {
     "data": {
      "text/plain": [
       "array(['healthy', '', 'laryngitis', 'Muscle tension dysphonia',\n",
       "       'None (half year post-phonomicrosurgery for polipoid mid-membranous lesions)',\n",
       "       'Vocal fold nodules (high phonation)',\n",
       "       \"Reinke's edema right vocal fold (earlier it was bilateral)\",\n",
       "       'Cyst vocal fold left (posterior insufficient glottic closure) ',\n",
       "       \"Reinke's edema right vocal fold with hourglass-shaped insufficient glottic closure\",\n",
       "       'Polyp',\n",
       "       'Post-resection of extreme polipoid pendulating edema right vocal folds; extreme polipoid pendulating edema obstructing almost complete glottis left vocal folds',\n",
       "       'Lateral-posterior vocal fold cyst (high phonation)',\n",
       "       'None (one year after presumption of a pseudocyst/sulcus in left vocal fold)',\n",
       "       'edema',\n",
       "       'Bilateral vergeture with bowed insufficient glottic closure',\n",
       "       'scar', 'functional',\n",
       "       'Hourglass-shaped insufficient glottic closure (high phonation)',\n",
       "       'spasmodic dysphonia', 'paresis'], dtype=object)"
      ]
     },
     "execution_count": 14,
     "metadata": {},
     "output_type": "execute_result"
    }
   ],
   "source": [
    "df_test[label_col].unique()"
   ]
  },
  {
   "cell_type": "code",
   "execution_count": 15,
   "id": "faf6dbbc",
   "metadata": {
    "ExecuteTime": {
     "end_time": "2022-12-03T20:06:43.958949Z",
     "start_time": "2022-12-03T20:06:43.940094Z"
    }
   },
   "outputs": [
    {
     "name": "stdout",
     "output_type": "stream",
     "text": [
      "<class 'pandas.core.frame.DataFrame'>\n",
      "RangeIndex: 2300 entries, 0 to 2299\n",
      "Data columns (total 13 columns):\n",
      " #   Column                      Non-Null Count  Dtype \n",
      "---  ------                      --------------  ----- \n",
      " 0   Video Id                    2300 non-null   object\n",
      " 1   Camera                      2300 non-null   object\n",
      " 2   Sampling rate (Hz)          2300 non-null   object\n",
      " 3   Video resolution (px, HxW)  2300 non-null   object\n",
      " 4   Color                       2300 non-null   object\n",
      " 5   Endoscope orientation       2300 non-null   object\n",
      " 6   Endoscope application       2300 non-null   object\n",
      " 7   Age range (yrs)             2300 non-null   object\n",
      " 8   Subject sex                 2300 non-null   object\n",
      " 9   Subject disorder status     2300 non-null   object\n",
      " 10  Segmenter                   2300 non-null   object\n",
      " 11  Post-processed              2300 non-null   object\n",
      " 12  Image Id                    2300 non-null   object\n",
      "dtypes: object(13)\n",
      "memory usage: 233.7+ KB\n"
     ]
    },
    {
     "data": {
      "text/plain": [
       "None"
      ]
     },
     "metadata": {},
     "output_type": "display_data"
    }
   ],
   "source": [
    "remove_from_test = [\n",
    "    'None (half year post-phonomicrosurgery for polipoid mid-membranous lesions)',\n",
    "    'None (one year after presumption of a pseudocyst/sulcus in left vocal fold)',\n",
    "    'functional',\n",
    "    '',\n",
    "]\n",
    "df_test = _remove_subset(df_test, label_col, vals=remove_from_test)\n",
    "df_test = df_test.reset_index(drop=True)\n",
    "display(df_test.info())"
   ]
  },
  {
   "cell_type": "code",
   "execution_count": 16,
   "id": "d9335929",
   "metadata": {
    "ExecuteTime": {
     "end_time": "2022-12-03T20:06:44.002877Z",
     "start_time": "2022-12-03T20:06:43.960605Z"
    }
   },
   "outputs": [],
   "source": [
    "# create new target column is_healthy\n",
    "df_train['is_healthy'] = (df_train[label_col] == \"healthy\").astype(int)\n",
    "df_test['is_healthy'] = (df_test[label_col] == \"healthy\").astype(int)\n",
    "\n",
    "label_col = \"is_healthy\""
   ]
  },
  {
   "cell_type": "code",
   "execution_count": 17,
   "id": "e321638a",
   "metadata": {
    "ExecuteTime": {
     "end_time": "2022-12-03T20:06:44.008656Z",
     "start_time": "2022-12-03T20:06:44.004793Z"
    }
   },
   "outputs": [
    {
     "name": "stdout",
     "output_type": "stream",
     "text": [
      "Train samples:  52650\n",
      "Test samples:  2300\n"
     ]
    }
   ],
   "source": [
    "print(\"Train samples: \", df_train.shape[0])\n",
    "print(\"Test samples: \", df_test.shape[0])"
   ]
  },
  {
   "cell_type": "code",
   "execution_count": 18,
   "id": "09124410",
   "metadata": {
    "ExecuteTime": {
     "end_time": "2022-12-03T20:06:44.014742Z",
     "start_time": "2022-12-03T20:06:44.011174Z"
    }
   },
   "outputs": [],
   "source": [
    "import os, shutil"
   ]
  },
  {
   "cell_type": "code",
   "execution_count": 19,
   "id": "26b71a5d",
   "metadata": {
    "ExecuteTime": {
     "end_time": "2022-12-03T20:06:44.022050Z",
     "start_time": "2022-12-03T20:06:44.016880Z"
    }
   },
   "outputs": [],
   "source": [
    "def create_dataset(ids, src, dst, class_label): \n",
    "    dst = os.path.join(dst, class_label)\n",
    "    \n",
    "    if os.path.exists(dst):\n",
    "        # delete if exists\n",
    "        shutil.rmtree(dst)\n",
    "    os.makedirs(dst)\n",
    "    for id_ in tqdm(ids):\n",
    "        fname = f\"{id_}.png\"\n",
    "        src_file = os.path.join(src, fname)\n",
    "        \n",
    "        fname = f\"{id_}.{class_label}.png\"\n",
    "        dst_file = os.path.join(dst, fname)\n",
    "        shutil.copyfile(src_file, dst_file)"
   ]
  },
  {
   "cell_type": "code",
   "execution_count": 20,
   "id": "8bf0e681",
   "metadata": {
    "ExecuteTime": {
     "end_time": "2022-12-03T20:06:44.063651Z",
     "start_time": "2022-12-03T20:06:44.024105Z"
    }
   },
   "outputs": [
    {
     "name": "stdout",
     "output_type": "stream",
     "text": [
      "Healthy train size:  33950\n",
      "Unhealthy train size:  18700\n"
     ]
    }
   ],
   "source": [
    "df_train_healthy = df_train[df_train[label_col] == 1]\n",
    "df_train_unhealthy = df_train[df_train[label_col] == 0]\n",
    "\n",
    "# use index as ids\n",
    "healthy_train_ids = df_train_healthy[\"Image Id\"].tolist()\n",
    "unhealthy_train_ids = df_train_unhealthy[\"Image Id\"].tolist()\n",
    "\n",
    "print(\"Healthy train size: \", len(healthy_train_ids))\n",
    "print(\"Unhealthy train size: \", len(unhealthy_train_ids))"
   ]
  },
  {
   "cell_type": "code",
   "execution_count": 21,
   "id": "8811d391",
   "metadata": {
    "ExecuteTime": {
     "end_time": "2022-12-03T20:15:45.022149Z",
     "start_time": "2022-12-03T20:06:44.066633Z"
    }
   },
   "outputs": [
    {
     "name": "stderr",
     "output_type": "stream",
     "text": [
      "100%|██████████| 33950/33950 [06:23<00:00, 88.55it/s] \n",
      "100%|██████████| 18700/18700 [02:23<00:00, 129.95it/s]\n"
     ]
    }
   ],
   "source": [
    "src = \"../training/training\"\n",
    "dst = \"../dataset/train\"\n",
    "create_dataset(healthy_train_ids, src, dst, class_label=\"healthy\")\n",
    "create_dataset(unhealthy_train_ids, src, dst, class_label=\"unhealthy\")"
   ]
  },
  {
   "cell_type": "code",
   "execution_count": 22,
   "id": "6fa3a3d2",
   "metadata": {
    "ExecuteTime": {
     "end_time": "2022-12-03T20:15:45.042202Z",
     "start_time": "2022-12-03T20:15:45.025759Z"
    }
   },
   "outputs": [
    {
     "name": "stdout",
     "output_type": "stream",
     "text": [
      "Healthy test size:  1450\n",
      "Unhealthy test size:  850\n"
     ]
    }
   ],
   "source": [
    "df_test_healthy = df_test[df_test[label_col] == 1]\n",
    "df_test_unhealthy = df_test[df_test[label_col] == 0]\n",
    "\n",
    "# use index as ids\n",
    "healthy_test_ids = df_test_healthy[\"Image Id\"].tolist()\n",
    "unhealthy_test_ids = df_test_unhealthy[\"Image Id\"].tolist()\n",
    "\n",
    "print(\"Healthy test size: \", len(healthy_test_ids))\n",
    "print(\"Unhealthy test size: \", len(unhealthy_test_ids))"
   ]
  },
  {
   "cell_type": "code",
   "execution_count": 23,
   "id": "068faa32",
   "metadata": {
    "ExecuteTime": {
     "end_time": "2022-12-03T20:15:50.324597Z",
     "start_time": "2022-12-03T20:15:45.044576Z"
    }
   },
   "outputs": [
    {
     "name": "stderr",
     "output_type": "stream",
     "text": [
      "100%|██████████| 1450/1450 [00:03<00:00, 396.91it/s]\n",
      "100%|██████████| 850/850 [00:01<00:00, 722.61it/s]\n"
     ]
    }
   ],
   "source": [
    "src = \"../test/test\"\n",
    "dst = \"../dataset/test\"\n",
    "create_dataset(healthy_test_ids, src, dst, class_label=\"healthy\")\n",
    "create_dataset(unhealthy_test_ids, src, dst, class_label=\"unhealthy\")"
   ]
  },
  {
   "cell_type": "code",
   "execution_count": 24,
   "id": "8fb0a0df",
   "metadata": {
    "ExecuteTime": {
     "end_time": "2022-12-03T20:15:50.778297Z",
     "start_time": "2022-12-03T20:15:50.328515Z"
    }
   },
   "outputs": [],
   "source": [
    "# save reference dfs\n",
    "df_train.to_csv(\"../dataset/train.csv\", index=False)\n",
    "df_test.to_csv(\"../dataset/test.csv\", index=False)"
   ]
  },
  {
   "cell_type": "markdown",
   "id": "5b593e58",
   "metadata": {},
   "source": [
    "## Create 10 bootstraps of the evaluation set: `test.csv`"
   ]
  },
  {
   "cell_type": "code",
   "execution_count": 25,
   "id": "7f7442de",
   "metadata": {
    "ExecuteTime": {
     "end_time": "2022-12-03T20:15:50.926445Z",
     "start_time": "2022-12-03T20:15:50.781003Z"
    }
   },
   "outputs": [],
   "source": [
    "import pandas as pd\n",
    "import os\n",
    "\n",
    "df_test = pd.read_csv(\"../dataset/test.csv\")\n",
    "\n",
    "if not os.path.exists(PATHS.bootstrap_dir):\n",
    "    os.makedirs(PATHS.bootstrap_dir)\n",
    "num_bootstraps = 10\n",
    "for i in range(num_bootstraps):\n",
    "    save_path = os.path.join(PATHS.bootstrap_dir, f\"test-{i}.csv\")\n",
    "    (df_test.sample(df_test.shape[0], replace=True).to_csv(save_path, index=False))"
   ]
  },
  {
   "cell_type": "markdown",
   "id": "5f073b49",
   "metadata": {},
   "source": [
    "## Create sample dataset for model development"
   ]
  },
  {
   "cell_type": "code",
   "execution_count": 26,
   "id": "6b78239d",
   "metadata": {
    "ExecuteTime": {
     "end_time": "2022-12-03T20:15:51.702813Z",
     "start_time": "2022-12-03T20:15:50.928779Z"
    }
   },
   "outputs": [
    {
     "name": "stdout",
     "output_type": "stream",
     "text": [
      "Healthy train size:  340\n",
      "Unhealthy train size:  186\n"
     ]
    },
    {
     "name": "stderr",
     "output_type": "stream",
     "text": [
      "100%|██████████| 340/340 [00:00<00:00, 803.13it/s]\n",
      "100%|██████████| 186/186 [00:00<00:00, 815.64it/s]\n"
     ]
    }
   ],
   "source": [
    "df_train = df_train.sample(frac=0.01)\n",
    "\n",
    "df_train_healthy = df_train[df_train[label_col] == 1]\n",
    "df_train_unhealthy = df_train[df_train[label_col] == 0]\n",
    "\n",
    "# use index as ids\n",
    "healthy_train_ids = df_train_healthy[\"Image Id\"].tolist()\n",
    "unhealthy_train_ids = df_train_unhealthy[\"Image Id\"].tolist()\n",
    "\n",
    "print(\"Healthy train size: \", len(healthy_train_ids))\n",
    "print(\"Unhealthy train size: \", len(unhealthy_train_ids))\n",
    "\n",
    "src = \"../training/training\"\n",
    "dst = \"../sample-dataset/train\"\n",
    "create_dataset(healthy_train_ids, src, dst, class_label=\"healthy\")\n",
    "create_dataset(unhealthy_train_ids, src, dst, class_label=\"unhealthy\")"
   ]
  },
  {
   "cell_type": "code",
   "execution_count": 27,
   "id": "34c1e8be",
   "metadata": {
    "ExecuteTime": {
     "end_time": "2022-12-03T20:15:51.767401Z",
     "start_time": "2022-12-03T20:15:51.705841Z"
    }
   },
   "outputs": [
    {
     "name": "stdout",
     "output_type": "stream",
     "text": [
      "Healthy test size:  14\n",
      "Unhealthy test size:  9\n"
     ]
    },
    {
     "name": "stderr",
     "output_type": "stream",
     "text": [
      "100%|██████████| 14/14 [00:00<00:00, 888.11it/s]\n",
      "100%|██████████| 9/9 [00:00<00:00, 967.07it/s]\n"
     ]
    }
   ],
   "source": [
    "df_test = df_test.sample(frac=0.01)\n",
    "\n",
    "df_test_healthy = df_test[df_test[label_col] == 1]\n",
    "df_test_unhealthy = df_test[df_test[label_col] == 0]\n",
    "\n",
    "# use index as ids\n",
    "healthy_test_ids = df_test_healthy[\"Image Id\"].tolist()\n",
    "unhealthy_test_ids = df_test_unhealthy[\"Image Id\"].tolist()\n",
    "\n",
    "print(\"Healthy test size: \", len(healthy_test_ids))\n",
    "print(\"Unhealthy test size: \", len(unhealthy_test_ids))\n",
    "\n",
    "src = \"../test/test\"\n",
    "dst = \"../sample-dataset/test\"\n",
    "create_dataset(healthy_test_ids, src, dst, class_label=\"healthy\")\n",
    "create_dataset(unhealthy_test_ids, src, dst, class_label=\"unhealthy\")"
   ]
  },
  {
   "cell_type": "markdown",
   "id": "ca6018cf",
   "metadata": {},
   "source": [
    "## End"
   ]
  }
 ],
 "metadata": {
  "hide_input": false,
  "kernelspec": {
   "display_name": "Python 3 (ipykernel)",
   "language": "python",
   "name": "python3"
  },
  "language_info": {
   "codemirror_mode": {
    "name": "ipython",
    "version": 3
   },
   "file_extension": ".py",
   "mimetype": "text/x-python",
   "name": "python",
   "nbconvert_exporter": "python",
   "pygments_lexer": "ipython3",
   "version": "3.9.13"
  },
  "toc": {
   "base_numbering": 1,
   "nav_menu": {},
   "number_sections": true,
   "sideBar": true,
   "skip_h1_title": false,
   "title_cell": "Table of Contents",
   "title_sidebar": "Contents",
   "toc_cell": false,
   "toc_position": {},
   "toc_section_display": true,
   "toc_window_display": false
  }
 },
 "nbformat": 4,
 "nbformat_minor": 5
}
