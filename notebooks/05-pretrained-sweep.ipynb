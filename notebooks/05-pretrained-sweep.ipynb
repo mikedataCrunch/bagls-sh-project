{
 "cells": [
  {
   "cell_type": "markdown",
   "id": "0dfd5593",
   "metadata": {},
   "source": [
    "# `tensorflow.keras` sweep across pre-trained models\n",
    "\n",
    "\n",
    "This notebook demonstrates the use of (1) well-known CNN architectures, (2) pretrained weights on `RadImageNet` in a multiclassification task, (3) `wandb.ai` sweeps in comparing the pre-trained architectures.\n",
    "\n",
    "References:\n",
    "\n",
    "* The pretrained weights published by [Mei et al (2022)](https://pubs.rsna.org/doi/10.1148/ryai.210315) in their github [link](https://github.com/BMEII-AI/RadImageNet).\n",
    "\n",
    "* The github repository form the BAGLS team contained in this github [link](https://github.com/anki-xyz/bagls/blob/master/Utils/DataGenerator.py#L109)\n"
   ]
  },
  {
   "cell_type": "code",
   "execution_count": 1,
   "id": "760317d5",
   "metadata": {
    "ExecuteTime": {
     "end_time": "2022-12-04T07:57:31.290570Z",
     "start_time": "2022-12-04T07:57:31.250540Z"
    }
   },
   "outputs": [],
   "source": [
    "# dev convenience\n",
    "%load_ext autoreload\n",
    "%autoreload 2"
   ]
  },
  {
   "cell_type": "code",
   "execution_count": 2,
   "id": "18a72fdd",
   "metadata": {
    "ExecuteTime": {
     "end_time": "2022-12-04T07:57:32.143718Z",
     "start_time": "2022-12-04T07:57:31.800392Z"
    }
   },
   "outputs": [],
   "source": [
    "import sys\n",
    "sys.path.append(\"..\")\n",
    "import PATHS\n",
    "\n",
    "import os\n",
    "import numpy as np\n",
    "\n",
    "os.environ[\"CUDA_VISIBLE_DEVICES\"] = \"0,1,2,3\"\n",
    "os.environ[\"WANDB_SILENT\"] = \"True\"\n",
    "os.environ[\"WANDB_NOTEBOOK_NAME\"] = \"05-pretrained-sweep.ipynb\"\n",
    "\n",
    "PROJECT_NAME = 'bagls-sh-project'\n",
    "GROUP_NAME = 'pretrained-models-sweep-3'\n",
    "METRICS_TABLE_NAME = 'metrics_table'"
   ]
  },
  {
   "cell_type": "code",
   "execution_count": 3,
   "id": "264a0fd3",
   "metadata": {
    "ExecuteTime": {
     "end_time": "2022-12-04T07:57:35.056305Z",
     "start_time": "2022-12-04T07:57:32.146972Z"
    }
   },
   "outputs": [
    {
     "name": "stdout",
     "output_type": "stream",
     "text": [
      "W&B:  0.13.5\n"
     ]
    }
   ],
   "source": [
    "import wandb\n",
    "print(\"W&B: \", wandb.__version__)\n",
    "wandb.login()\n",
    "\n",
    "# manage logs\n",
    "import logging\n",
    "\n",
    "logger = logging.getLogger(\"wandb\")\n",
    "logger.setLevel(logging.ERROR)\n",
    "\n",
    "# logging.getLogger('tensorflow').disabled = True"
   ]
  },
  {
   "cell_type": "code",
   "execution_count": 4,
   "id": "5c55ee0f",
   "metadata": {
    "ExecuteTime": {
     "end_time": "2022-12-04T07:57:37.810072Z",
     "start_time": "2022-12-04T07:57:35.064140Z"
    }
   },
   "outputs": [
    {
     "name": "stdout",
     "output_type": "stream",
     "text": [
      "TF:  2.6.0\n"
     ]
    }
   ],
   "source": [
    "# tf loader\n",
    "import tensorflow as tf\n",
    "print(\"TF: \", tf.__version__)\n",
    "from tensorflow.keras.models import load_model\n",
    "from tensorflow import keras"
   ]
  },
  {
   "cell_type": "code",
   "execution_count": 5,
   "id": "8d5fa101",
   "metadata": {
    "ExecuteTime": {
     "end_time": "2022-12-04T07:57:40.714031Z",
     "start_time": "2022-12-04T07:57:37.814383Z"
    }
   },
   "outputs": [
    {
     "name": "stdout",
     "output_type": "stream",
     "text": [
      "[name: \"/device:CPU:0\"\n",
      "device_type: \"CPU\"\n",
      "memory_limit: 268435456\n",
      "locality {\n",
      "}\n",
      "incarnation: 14511411650604992723\n",
      ", name: \"/device:GPU:0\"\n",
      "device_type: \"GPU\"\n",
      "memory_limit: 10925703168\n",
      "locality {\n",
      "  bus_id: 1\n",
      "  links {\n",
      "    link {\n",
      "      device_id: 1\n",
      "      type: \"StreamExecutor\"\n",
      "      strength: 1\n",
      "    }\n",
      "  }\n",
      "}\n",
      "incarnation: 793061614861425578\n",
      "physical_device_desc: \"device: 0, name: NVIDIA GeForce GTX 1080 Ti, pci bus id: 0000:04:00.0, compute capability: 6.1\"\n",
      ", name: \"/device:GPU:1\"\n",
      "device_type: \"GPU\"\n",
      "memory_limit: 10925703168\n",
      "locality {\n",
      "  bus_id: 1\n",
      "  links {\n",
      "    link {\n",
      "      type: \"StreamExecutor\"\n",
      "      strength: 1\n",
      "    }\n",
      "  }\n",
      "}\n",
      "incarnation: 12624532780810070682\n",
      "physical_device_desc: \"device: 1, name: NVIDIA GeForce GTX 1080 Ti, pci bus id: 0000:08:00.0, compute capability: 6.1\"\n",
      ", name: \"/device:GPU:2\"\n",
      "device_type: \"GPU\"\n",
      "memory_limit: 10925703168\n",
      "locality {\n",
      "  bus_id: 2\n",
      "  numa_node: 1\n",
      "  links {\n",
      "    link {\n",
      "      device_id: 3\n",
      "      type: \"StreamExecutor\"\n",
      "      strength: 1\n",
      "    }\n",
      "  }\n",
      "}\n",
      "incarnation: 16420624541705340538\n",
      "physical_device_desc: \"device: 2, name: NVIDIA GeForce GTX 1080 Ti, pci bus id: 0000:84:00.0, compute capability: 6.1\"\n",
      ", name: \"/device:GPU:3\"\n",
      "device_type: \"GPU\"\n",
      "memory_limit: 10925703168\n",
      "locality {\n",
      "  bus_id: 2\n",
      "  numa_node: 1\n",
      "  links {\n",
      "    link {\n",
      "      device_id: 2\n",
      "      type: \"StreamExecutor\"\n",
      "      strength: 1\n",
      "    }\n",
      "  }\n",
      "}\n",
      "incarnation: 13437190626203394037\n",
      "physical_device_desc: \"device: 3, name: NVIDIA GeForce GTX 1080 Ti, pci bus id: 0000:89:00.0, compute capability: 6.1\"\n",
      "]\n"
     ]
    },
    {
     "name": "stderr",
     "output_type": "stream",
     "text": [
      "2022-12-04 07:57:37.864485: I tensorflow/core/platform/cpu_feature_guard.cc:142] This TensorFlow binary is optimized with oneAPI Deep Neural Network Library (oneDNN) to use the following CPU instructions in performance-critical operations:  AVX2 FMA\n",
      "To enable them in other operations, rebuild TensorFlow with the appropriate compiler flags.\n",
      "2022-12-04 07:57:40.706030: I tensorflow/core/common_runtime/gpu/gpu_device.cc:1510] Created device /device:GPU:0 with 10419 MB memory:  -> device: 0, name: NVIDIA GeForce GTX 1080 Ti, pci bus id: 0000:04:00.0, compute capability: 6.1\n",
      "2022-12-04 07:57:40.707209: I tensorflow/core/common_runtime/gpu/gpu_device.cc:1510] Created device /device:GPU:1 with 10419 MB memory:  -> device: 1, name: NVIDIA GeForce GTX 1080 Ti, pci bus id: 0000:08:00.0, compute capability: 6.1\n",
      "2022-12-04 07:57:40.707903: I tensorflow/core/common_runtime/gpu/gpu_device.cc:1510] Created device /device:GPU:2 with 10419 MB memory:  -> device: 2, name: NVIDIA GeForce GTX 1080 Ti, pci bus id: 0000:84:00.0, compute capability: 6.1\n",
      "2022-12-04 07:57:40.708528: I tensorflow/core/common_runtime/gpu/gpu_device.cc:1510] Created device /device:GPU:3 with 10419 MB memory:  -> device: 3, name: NVIDIA GeForce GTX 1080 Ti, pci bus id: 0000:89:00.0, compute capability: 6.1\n"
     ]
    }
   ],
   "source": [
    "from tensorflow.python.client import device_lib\n",
    "\n",
    "print(device_lib.list_local_devices())"
   ]
  },
  {
   "cell_type": "code",
   "execution_count": 6,
   "id": "e0cca18b",
   "metadata": {
    "ExecuteTime": {
     "end_time": "2022-12-04T07:57:43.605855Z",
     "start_time": "2022-12-04T07:57:43.551652Z"
    }
   },
   "outputs": [],
   "source": [
    "import config\n",
    "configs = config.nb_configs\n",
    "configs.update(config.pt_configs)"
   ]
  },
  {
   "cell_type": "code",
   "execution_count": 7,
   "id": "1013d50b",
   "metadata": {
    "ExecuteTime": {
     "end_time": "2022-12-04T07:57:44.102407Z",
     "start_time": "2022-12-04T07:57:44.027458Z"
    }
   },
   "outputs": [],
   "source": [
    "from tensorflow.keras.preprocessing.image import ImageDataGenerator\n",
    "from tensorflow.keras.applications.imagenet_utils import preprocess_input\n",
    "\n",
    "# initialize data generator\n",
    "train_datagen = ImageDataGenerator(\n",
    "    preprocessing_function=None,\n",
    "    validation_split=configs[\"validation_split\"],\n",
    "    rescale=configs[\"rescale\"],\n",
    "    width_shift_range=configs[\"width_shift_range\"],\n",
    "    height_shift_range=configs[\"height_shift_range\"],\n",
    "    shear_range=configs[\"shear_range\"],\n",
    "    zoom_range=configs[\"zoom_range\"],\n",
    "    fill_mode=configs[\"fill_mode\"],\n",
    "    horizontal_flip=configs[\"horizontal_flip\"],\n",
    "    rotation_range=configs[\"rotation_range\"],\n",
    ")\n",
    "\n",
    "test_datagen = ImageDataGenerator(\n",
    "    preprocessing_function=None, \n",
    "    rescale=configs[\"rescale\"],\n",
    ")"
   ]
  },
  {
   "cell_type": "code",
   "execution_count": 8,
   "id": "abe53015",
   "metadata": {
    "ExecuteTime": {
     "end_time": "2022-12-04T07:57:50.983842Z",
     "start_time": "2022-12-04T07:57:45.203677Z"
    }
   },
   "outputs": [
    {
     "name": "stdout",
     "output_type": "stream",
     "text": [
      "Found 50018 images belonging to 2 classes.\n",
      "Found 2632 images belonging to 2 classes.\n",
      "Found 2300 images belonging to 2 classes.\n"
     ]
    }
   ],
   "source": [
    "train_dir = configs[\"train_dir\"]\n",
    "test_dir = configs[\"test_dir\"]\n",
    "\n",
    "batch_size = configs[\"batch_size\"]\n",
    "class_names = configs[\"class_names\"]\n",
    "interpol = configs[\"interpol\"]\n",
    "cmap = configs[\"cmap\"]\n",
    "label_mode = configs[\"label_mode\"]\n",
    "labels = configs[\"labels\"]\n",
    "image_size = configs[\"image_size\"]\n",
    "\n",
    "\n",
    "train_dataset = train_datagen.flow_from_directory(\n",
    "    directory=train_dir,\n",
    "    target_size=image_size,\n",
    "    color_mode=cmap,\n",
    "    classes=class_names,\n",
    "    class_mode=label_mode,\n",
    "    batch_size=batch_size,\n",
    "    interpolation=interpol,\n",
    "    subset=\"training\",\n",
    ")\n",
    "\n",
    "val_dataset = train_datagen.flow_from_directory(\n",
    "    directory=train_dir,\n",
    "    target_size=image_size,\n",
    "    color_mode=cmap,\n",
    "    classes=class_names,\n",
    "    class_mode=label_mode,\n",
    "    batch_size=batch_size,\n",
    "    interpolation=interpol,\n",
    "    subset=\"validation\",\n",
    ")\n",
    "\n",
    "test_dataset = test_datagen.flow_from_directory(\n",
    "    directory=test_dir,\n",
    "    target_size=image_size,\n",
    "    color_mode=cmap,\n",
    "    classes=class_names,\n",
    "    class_mode=label_mode,\n",
    "    batch_size=batch_size,\n",
    "    interpolation=interpol,\n",
    "    shuffle=False, # do not shuffle for later evaluation, alphanum sort\n",
    ")\n",
    "\n",
    "configs.update({\"val_steps\": val_dataset.samples // configs[\"batch_size\"]})"
   ]
  },
  {
   "cell_type": "code",
   "execution_count": 9,
   "id": "019baf4f",
   "metadata": {
    "ExecuteTime": {
     "end_time": "2022-12-04T07:57:51.035937Z",
     "start_time": "2022-12-04T07:57:50.986515Z"
    }
   },
   "outputs": [],
   "source": [
    "from tensorflow.keras import metrics\n",
    "from tensorflow.keras import optimizers\n",
    "from tensorflow.keras import losses"
   ]
  },
  {
   "cell_type": "code",
   "execution_count": 10,
   "id": "f7fb3ead",
   "metadata": {
    "ExecuteTime": {
     "end_time": "2022-12-04T07:57:51.087598Z",
     "start_time": "2022-12-04T07:57:51.038327Z"
    },
    "scrolled": true
   },
   "outputs": [],
   "source": [
    "def define_model(model_arch, weights):\n",
    "    conv_base = model_arch(\n",
    "        weights=weights,\n",
    "        include_top=configs[\"include_top\"],\n",
    "        input_shape=configs[\"input_shape\"],\n",
    "        pooling=configs[\"pooling\"],\n",
    "    )\n",
    "    # freeze conv base weights\n",
    "    conv_base.trainable = False\n",
    "    x = conv_base.output\n",
    "    \n",
    "    # layers at this stage are arbitrary\n",
    "    # can be subjected to hyperparam tuning\n",
    "    x = keras.layers.Flatten()(x)\n",
    "    x = keras.layers.Dense(units=512, activation='relu')(x)\n",
    "    x = keras.layers.Dropout(configs[\"dropout_rate\"])(x)\n",
    "    outputs = keras.layers.Dense(units=2, activation=\"softmax\")(x)\n",
    "    model = keras.Model(inputs=conv_base.input, outputs=outputs)\n",
    "    return model"
   ]
  },
  {
   "cell_type": "code",
   "execution_count": 11,
   "id": "3fc52a4f",
   "metadata": {
    "ExecuteTime": {
     "end_time": "2022-12-04T07:57:52.394789Z",
     "start_time": "2022-12-04T07:57:51.090118Z"
    }
   },
   "outputs": [],
   "source": [
    "from interpretation import ValLog, GRADCamLogger\n",
    "import utils\n",
    "from tensorflow.keras import metrics\n",
    "import custom_metrics\n",
    "\n",
    "def train(model_name):\n",
    "#     GRADCAM_LAYER_NAME = config.pt_gradcam_layers[model_name]    \n",
    "    # alternatively, pass none to use a function that searches for last conv layer\n",
    "    GRADCAM_LAYER_NAME = None\n",
    "    model_arch = config.pt_models[model_name]\n",
    "    weights = config.pt_weights[model_name]\n",
    "    \n",
    "    tf.keras.backend.clear_session()\n",
    "    \n",
    "    thresh = configs[\"thresh\"]\n",
    "    metrics_dict = {\n",
    "        \"ACC\":  metrics.CategoricalAccuracy(name=\"ACC\"),\n",
    "        \"AUC-ROC\": custom_metrics.MulticlassAUC(name='ROC', curve='ROC', pos_label=1),\n",
    "        \"AUC-PR\": custom_metrics.MulticlassAUC(name='PR', curve='PR', pos_label=1),\n",
    "        \"TP\": custom_metrics.MulticlassTruePositives(name=\"TP\", pos_label=1, thresholds=thresh),\n",
    "        \"TN\": custom_metrics.MulticlassTrueNegatives(name=\"TN\", pos_label=1, thresholds=thresh),\n",
    "        \"FP\": custom_metrics.MulticlassFalsePositives(name=\"FP\", pos_label=1, thresholds=thresh),\n",
    "        \"FN\": custom_metrics.MulticlassFalseNegatives(name=\"FN\", pos_label=1, thresholds=thresh),\n",
    "    }\n",
    "\n",
    "\n",
    "    # opt = optimizers.Adam(learning_rate=1e-06)\n",
    "    opt = optimizers.Adam()\n",
    "    met = list(metrics_dict.values())\n",
    "\n",
    "    model = define_model(model_arch, weights)\n",
    "    model.compile(\n",
    "        loss=losses.CategoricalCrossentropy(),\n",
    "        optimizer=opt,\n",
    "        metrics=met,\n",
    "    )\n",
    "    # initialize run\n",
    "    run = wandb.init(\n",
    "        project=PROJECT_NAME, \n",
    "        group=GROUP_NAME,\n",
    "        name=model_name,\n",
    "        job_type='train',\n",
    "        config=configs, \n",
    "    )\n",
    "\n",
    "    wandb_callback = wandb.keras.WandbCallback(\n",
    "        monitor=\"val_ROC\",\n",
    "        mode=\"max\",\n",
    "        save_model=True,\n",
    "        save_graph=True,\n",
    "        compute_flops=True,\n",
    "    )\n",
    "\n",
    "    callbacks = [\n",
    "        wandb_callback,\n",
    "        ValLog(generator=val_dataset, num_log_batches=1),\n",
    "        GRADCamLogger(generator=test_dataset, \n",
    "                      layer_name=GRADCAM_LAYER_NAME, num_log_batches=1)\n",
    "    ]\n",
    "    history = model.fit(\n",
    "        train_dataset,\n",
    "        validation_data=val_dataset,\n",
    "        epochs=configs[\"epochs\"], \n",
    "        shuffle=True,\n",
    "        callbacks=callbacks,\n",
    "#         verbose=0,\n",
    "    )\n",
    "    run.finish()\n"
   ]
  },
  {
   "cell_type": "code",
   "execution_count": 12,
   "id": "fc996010",
   "metadata": {
    "ExecuteTime": {
     "end_time": "2022-12-04T10:44:26.673627Z",
     "start_time": "2022-12-04T07:58:23.000079Z"
    },
    "scrolled": true
   },
   "outputs": [
    {
     "name": "stdout",
     "output_type": "stream",
     "text": [
      "InceptionResNetV2\n"
     ]
    },
    {
     "name": "stderr",
     "output_type": "stream",
     "text": [
      "2022-12-04 07:58:23.211430: I tensorflow/core/common_runtime/gpu/gpu_device.cc:1510] Created device /job:localhost/replica:0/task:0/device:GPU:0 with 10419 MB memory:  -> device: 0, name: NVIDIA GeForce GTX 1080 Ti, pci bus id: 0000:04:00.0, compute capability: 6.1\n",
      "2022-12-04 07:58:23.212201: I tensorflow/core/common_runtime/gpu/gpu_device.cc:1510] Created device /job:localhost/replica:0/task:0/device:GPU:1 with 10419 MB memory:  -> device: 1, name: NVIDIA GeForce GTX 1080 Ti, pci bus id: 0000:08:00.0, compute capability: 6.1\n",
      "2022-12-04 07:58:23.212948: I tensorflow/core/common_runtime/gpu/gpu_device.cc:1510] Created device /job:localhost/replica:0/task:0/device:GPU:2 with 10419 MB memory:  -> device: 2, name: NVIDIA GeForce GTX 1080 Ti, pci bus id: 0000:84:00.0, compute capability: 6.1\n",
      "2022-12-04 07:58:23.213650: I tensorflow/core/common_runtime/gpu/gpu_device.cc:1510] Created device /job:localhost/replica:0/task:0/device:GPU:3 with 10419 MB memory:  -> device: 3, name: NVIDIA GeForce GTX 1080 Ti, pci bus id: 0000:89:00.0, compute capability: 6.1\n",
      "2022-12-04 07:58:41.327007: I tensorflow/core/grappler/devices.cc:66] Number of eligible GPUs (core count >= 8, compute capability >= 0.0): 4\n",
      "2022-12-04 07:58:41.327262: I tensorflow/core/grappler/clusters/single_machine.cc:357] Starting new session\n",
      "2022-12-04 07:58:41.336100: I tensorflow/core/common_runtime/gpu/gpu_device.cc:1510] Created device /job:localhost/replica:0/task:0/device:GPU:0 with 10419 MB memory:  -> device: 0, name: NVIDIA GeForce GTX 1080 Ti, pci bus id: 0000:04:00.0, compute capability: 6.1\n",
      "2022-12-04 07:58:41.336650: I tensorflow/core/common_runtime/gpu/gpu_device.cc:1510] Created device /job:localhost/replica:0/task:0/device:GPU:1 with 10419 MB memory:  -> device: 1, name: NVIDIA GeForce GTX 1080 Ti, pci bus id: 0000:08:00.0, compute capability: 6.1\n",
      "2022-12-04 07:58:41.337183: I tensorflow/core/common_runtime/gpu/gpu_device.cc:1510] Created device /job:localhost/replica:0/task:0/device:GPU:2 with 10419 MB memory:  -> device: 2, name: NVIDIA GeForce GTX 1080 Ti, pci bus id: 0000:84:00.0, compute capability: 6.1\n",
      "2022-12-04 07:58:41.337792: I tensorflow/core/common_runtime/gpu/gpu_device.cc:1510] Created device /job:localhost/replica:0/task:0/device:GPU:3 with 10419 MB memory:  -> device: 3, name: NVIDIA GeForce GTX 1080 Ti, pci bus id: 0000:89:00.0, compute capability: 6.1\n",
      "2022-12-04 07:58:41.382026: I tensorflow/core/grappler/optimizers/meta_optimizer.cc:1137] Optimization results for grappler item: graph_to_optimize\n",
      "  function_optimizer: function_optimizer did nothing. time = 0.017ms.\n",
      "  function_optimizer: function_optimizer did nothing. time = 0.002ms.\n",
      "\n"
     ]
    },
    {
     "name": "stdout",
     "output_type": "stream",
     "text": [
      "WARNING:tensorflow:From /home/mdorosan/.conda-envs/msds2022-ml3/lib/python3.9/site-packages/tensorflow/python/ops/nn_ops.py:5063: tensor_shape_from_node_def_name (from tensorflow.python.framework.graph_util_impl) is deprecated and will be removed in a future version.\n",
      "Instructions for updating:\n",
      "Use `tf.compat.v1.graph_util.tensor_shape_from_node_def_name`\n"
     ]
    },
    {
     "name": "stderr",
     "output_type": "stream",
     "text": [
      "2022-12-04 07:58:49.224790: I tensorflow/compiler/mlir/mlir_graph_optimization_pass.cc:185] None of the MLIR Optimization Passes are enabled (registered 2)\n"
     ]
    },
    {
     "name": "stdout",
     "output_type": "stream",
     "text": [
      "Epoch 1/10\n"
     ]
    },
    {
     "name": "stderr",
     "output_type": "stream",
     "text": [
      "2022-12-04 07:59:03.004562: I tensorflow/stream_executor/cuda/cuda_dnn.cc:369] Loaded cuDNN version 8400\n"
     ]
    },
    {
     "name": "stdout",
     "output_type": "stream",
     "text": [
      "391/391 [==============================] - 821s 2s/step - loss: 0.5729 - ACC: 0.7066 - ROC: 0.7181 - PR: 0.6104 - TP: 6130.0000 - TN: 29214.0000 - FP: 3039.0000 - FN: 11635.0000 - val_loss: 0.5214 - val_ACC: 0.7352 - val_ROC: 0.8045 - val_PR: 0.7055 - val_TP: 306.0000 - val_TN: 1629.0000 - val_FP: 68.0000 - val_FN: 629.0000\n"
     ]
    },
    {
     "name": "stderr",
     "output_type": "stream",
     "text": [
      "2022-12-04 08:13:07.636532: W tensorflow/python/util/util.cc:348] Sets are not currently considered sequences, but this may change in the future, so consider avoiding using them.\n"
     ]
    },
    {
     "name": "stdout",
     "output_type": "stream",
     "text": [
      "INFO:tensorflow:Assets written to: /home/mdorosan/2022/bagls-sh-project/notebooks/wandb/run-20221204_075828-hvy7k5tr/files/model-best/assets\n",
      "Epoch 2/10\n",
      "391/391 [==============================] - 805s 2s/step - loss: 0.4992 - ACC: 0.7549 - ROC: 0.8095 - PR: 0.7173 - TP: 8942.0000 - TN: 28815.0000 - FP: 3438.0000 - FN: 8823.0000 - val_loss: 0.4863 - val_ACC: 0.7717 - val_ROC: 0.8355 - val_PR: 0.7521 - val_TP: 638.0000 - val_TN: 1393.0000 - val_FP: 304.0000 - val_FN: 297.0000\n",
      "INFO:tensorflow:Assets written to: /home/mdorosan/2022/bagls-sh-project/notebooks/wandb/run-20221204_075828-hvy7k5tr/files/model-best/assets\n",
      "Epoch 3/10\n",
      "391/391 [==============================] - 815s 2s/step - loss: 0.4571 - ACC: 0.7836 - ROC: 0.8462 - PR: 0.7693 - TP: 10374.0000 - TN: 28822.0000 - FP: 3431.0000 - FN: 7391.0000 - val_loss: 0.4198 - val_ACC: 0.8043 - val_ROC: 0.8761 - val_PR: 0.8117 - val_TP: 572.0000 - val_TN: 1545.0000 - val_FP: 152.0000 - val_FN: 363.0000\n",
      "INFO:tensorflow:Assets written to: /home/mdorosan/2022/bagls-sh-project/notebooks/wandb/run-20221204_075828-hvy7k5tr/files/model-best/assets\n",
      "Epoch 4/10\n",
      "391/391 [==============================] - 813s 2s/step - loss: 0.4091 - ACC: 0.8120 - ROC: 0.8822 - PR: 0.8169 - TP: 11594.0000 - TN: 29019.0000 - FP: 3234.0000 - FN: 6171.0000 - val_loss: 0.3718 - val_ACC: 0.8260 - val_ROC: 0.9105 - val_PR: 0.8580 - val_TP: 615.0000 - val_TN: 1559.0000 - val_FP: 138.0000 - val_FN: 320.0000\n",
      "INFO:tensorflow:Assets written to: /home/mdorosan/2022/bagls-sh-project/notebooks/wandb/run-20221204_075828-hvy7k5tr/files/model-best/assets\n",
      "Epoch 5/10\n",
      "391/391 [==============================] - 814s 2s/step - loss: 0.3730 - ACC: 0.8326 - ROC: 0.9041 - PR: 0.8514 - TP: 12393.0000 - TN: 29252.0000 - FP: 3001.0000 - FN: 5372.0000 - val_loss: 0.3254 - val_ACC: 0.8606 - val_ROC: 0.9356 - val_PR: 0.8965 - val_TP: 659.0000 - val_TN: 1606.0000 - val_FP: 91.0000 - val_FN: 276.0000\n",
      "INFO:tensorflow:Assets written to: /home/mdorosan/2022/bagls-sh-project/notebooks/wandb/run-20221204_075828-hvy7k5tr/files/model-best/assets\n",
      "Epoch 6/10\n",
      "391/391 [==============================] - 813s 2s/step - loss: 0.3439 - ACC: 0.8472 - ROC: 0.9199 - PR: 0.8734 - TP: 12948.0000 - TN: 29428.0000 - FP: 2825.0000 - FN: 4817.0000 - val_loss: 0.3123 - val_ACC: 0.8704 - val_ROC: 0.9446 - val_PR: 0.9113 - val_TP: 792.0000 - val_TN: 1499.0000 - val_FP: 198.0000 - val_FN: 143.0000\n",
      "INFO:tensorflow:Assets written to: /home/mdorosan/2022/bagls-sh-project/notebooks/wandb/run-20221204_075828-hvy7k5tr/files/model-best/assets\n",
      "Epoch 7/10\n",
      "391/391 [==============================] - 813s 2s/step - loss: 0.3189 - ACC: 0.8618 - ROC: 0.9316 - PR: 0.8922 - TP: 13461.0000 - TN: 29645.0000 - FP: 2608.0000 - FN: 4304.0000 - val_loss: 0.2907 - val_ACC: 0.8716 - val_ROC: 0.9446 - val_PR: 0.9110 - val_TP: 723.0000 - val_TN: 1571.0000 - val_FP: 126.0000 - val_FN: 212.0000\n",
      "INFO:tensorflow:Assets written to: /home/mdorosan/2022/bagls-sh-project/notebooks/wandb/run-20221204_075828-hvy7k5tr/files/model-best/assets\n",
      "Epoch 8/10\n",
      "391/391 [==============================] - 813s 2s/step - loss: 0.2940 - ACC: 0.8743 - ROC: 0.9426 - PR: 0.9093 - TP: 13863.0000 - TN: 29867.0000 - FP: 2386.0000 - FN: 3902.0000 - val_loss: 0.2704 - val_ACC: 0.8963 - val_ROC: 0.9554 - val_PR: 0.9259 - val_TP: 765.0000 - val_TN: 1594.0000 - val_FP: 103.0000 - val_FN: 170.0000\n",
      "INFO:tensorflow:Assets written to: /home/mdorosan/2022/bagls-sh-project/notebooks/wandb/run-20221204_075828-hvy7k5tr/files/model-best/assets\n",
      "Epoch 9/10\n",
      "391/391 [==============================] - 809s 2s/step - loss: 0.2685 - ACC: 0.8890 - ROC: 0.9532 - PR: 0.9250 - TP: 14374.0000 - TN: 30091.0000 - FP: 2162.0000 - FN: 3391.0000 - val_loss: 0.2378 - val_ACC: 0.9077 - val_ROC: 0.9656 - val_PR: 0.9440 - val_TP: 786.0000 - val_TN: 1603.0000 - val_FP: 94.0000 - val_FN: 149.0000\n",
      "INFO:tensorflow:Assets written to: /home/mdorosan/2022/bagls-sh-project/notebooks/wandb/run-20221204_075828-hvy7k5tr/files/model-best/assets\n",
      "Epoch 10/10\n",
      "391/391 [==============================] - 809s 2s/step - loss: 0.2508 - ACC: 0.8968 - ROC: 0.9594 - PR: 0.9341 - TP: 14630.0000 - TN: 30226.0000 - FP: 2027.0000 - FN: 3135.0000 - val_loss: 0.2132 - val_ACC: 0.9168 - val_ROC: 0.9735 - val_PR: 0.9566 - val_TP: 812.0000 - val_TN: 1601.0000 - val_FP: 96.0000 - val_FN: 123.0000\n",
      "INFO:tensorflow:Assets written to: /home/mdorosan/2022/bagls-sh-project/notebooks/wandb/run-20221204_075828-hvy7k5tr/files/model-best/assets\n"
     ]
    }
   ],
   "source": [
    "for model_name in config.pt_models.keys():\n",
    "#     resumption for inceptionresv2\n",
    "#     if model_name != 'InceptionResNetV2':\n",
    "#         continue\n",
    "    print(model_name)\n",
    "    train(model_name)"
   ]
  },
  {
   "cell_type": "markdown",
   "id": "90b21018",
   "metadata": {},
   "source": [
    "## End"
   ]
  }
 ],
 "metadata": {
  "hide_input": false,
  "kernelspec": {
   "display_name": "Python [conda env:msds2022-ml3]",
   "language": "python",
   "name": "conda-env-msds2022-ml3-py"
  },
  "language_info": {
   "codemirror_mode": {
    "name": "ipython",
    "version": 3
   },
   "file_extension": ".py",
   "mimetype": "text/x-python",
   "name": "python",
   "nbconvert_exporter": "python",
   "pygments_lexer": "ipython3",
   "version": "3.9.6"
  },
  "toc": {
   "base_numbering": 1,
   "nav_menu": {},
   "number_sections": true,
   "sideBar": true,
   "skip_h1_title": false,
   "title_cell": "Table of Contents",
   "title_sidebar": "Contents",
   "toc_cell": false,
   "toc_position": {},
   "toc_section_display": true,
   "toc_window_display": false
  }
 },
 "nbformat": 4,
 "nbformat_minor": 5
}
