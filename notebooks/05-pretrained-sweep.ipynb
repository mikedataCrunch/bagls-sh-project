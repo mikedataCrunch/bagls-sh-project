{
 "cells": [
  {
   "cell_type": "markdown",
   "id": "0dfd5593",
   "metadata": {},
   "source": [
    "# `tensorflow.keras` sweep across pre-trained models\n",
    "\n",
    "\n",
    "This notebook demonstrates the use of (1) well-known CNN architectures, (2) pretrained weights on `RadImageNet` in a multiclassification task, (3) `wandb.ai` sweeps in comparing the pre-trained architectures.\n",
    "\n",
    "References:\n",
    "\n",
    "* The pretrained weights published by [Mei et al (2022)](https://pubs.rsna.org/doi/10.1148/ryai.210315) in their github [link](https://github.com/BMEII-AI/RadImageNet).\n",
    "\n",
    "* The github repository form the BAGLS team contained in this github [link](https://github.com/anki-xyz/bagls/blob/master/Utils/DataGenerator.py#L109)\n"
   ]
  },
  {
   "cell_type": "code",
   "execution_count": 1,
   "id": "760317d5",
   "metadata": {
    "ExecuteTime": {
     "end_time": "2022-11-30T07:47:12.364875Z",
     "start_time": "2022-11-30T07:47:12.337577Z"
    }
   },
   "outputs": [],
   "source": [
    "# dev convenience\n",
    "%load_ext autoreload\n",
    "%autoreload 2"
   ]
  },
  {
   "cell_type": "code",
   "execution_count": 2,
   "id": "18a72fdd",
   "metadata": {
    "ExecuteTime": {
     "end_time": "2022-11-30T07:47:13.328564Z",
     "start_time": "2022-11-30T07:47:12.775082Z"
    }
   },
   "outputs": [],
   "source": [
    "import sys\n",
    "sys.path.append(\"..\")\n",
    "import PATHS\n",
    "\n",
    "import os\n",
    "import numpy as np\n",
    "\n",
    "os.environ[\"CUDA_VISIBLE_DEVICES\"] = \"0,1,2,3\"\n",
    "os.environ[\"WANDB_SILENT\"] = \"True\"\n",
    "os.environ[\"WANDB_NOTEBOOK_NAME\"] = \"05-pretrained-sweep.ipynb\"\n",
    "\n",
    "PROJECT_NAME = 'bagls-sh-project'\n",
    "GROUP_NAME = 'pretrained-models-sweep'\n",
    "METRICS_TABLE_NAME = 'metrics_table'"
   ]
  },
  {
   "cell_type": "code",
   "execution_count": 3,
   "id": "264a0fd3",
   "metadata": {
    "ExecuteTime": {
     "end_time": "2022-11-30T07:47:16.949665Z",
     "start_time": "2022-11-30T07:47:13.756983Z"
    }
   },
   "outputs": [
    {
     "name": "stdout",
     "output_type": "stream",
     "text": [
      "W&B:  0.13.5\n"
     ]
    },
    {
     "data": {
      "text/plain": [
       "True"
      ]
     },
     "execution_count": 3,
     "metadata": {},
     "output_type": "execute_result"
    }
   ],
   "source": [
    "import wandb\n",
    "print(\"W&B: \", wandb.__version__)\n",
    "wandb.login()\n",
    "\n",
    "# # manage logs\n",
    "# import logging\n",
    "\n",
    "# logger = logging.getLogger(\"wandb\")\n",
    "# logger.setLevel(logging.ERROR)\n",
    "\n",
    "# logging.getLogger('tensorflow').disabled = True"
   ]
  },
  {
   "cell_type": "code",
   "execution_count": 4,
   "id": "5c55ee0f",
   "metadata": {
    "ExecuteTime": {
     "end_time": "2022-11-30T07:47:21.239714Z",
     "start_time": "2022-11-30T07:47:17.502490Z"
    }
   },
   "outputs": [],
   "source": [
    "# tf loader\n",
    "import tensorflow as tf\n",
    "print(\"TF: \", tf.__version__)\n",
    "from tensorflow.keras.models import load_model\n",
    "from tensorflow import keras"
   ]
  },
  {
   "cell_type": "code",
   "execution_count": 5,
   "id": "8d5fa101",
   "metadata": {
    "ExecuteTime": {
     "end_time": "2022-11-30T07:47:24.338821Z",
     "start_time": "2022-11-30T07:47:21.244052Z"
    }
   },
   "outputs": [
    {
     "name": "stdout",
     "output_type": "stream",
     "text": [
      "[name: \"/device:CPU:0\"\n",
      "device_type: \"CPU\"\n",
      "memory_limit: 268435456\n",
      "locality {\n",
      "}\n",
      "incarnation: 5085945803301618659\n",
      ", name: \"/device:GPU:0\"\n",
      "device_type: \"GPU\"\n",
      "memory_limit: 10925703168\n",
      "locality {\n",
      "  bus_id: 1\n",
      "  links {\n",
      "    link {\n",
      "      device_id: 1\n",
      "      type: \"StreamExecutor\"\n",
      "      strength: 1\n",
      "    }\n",
      "  }\n",
      "}\n",
      "incarnation: 11950236232734223965\n",
      "physical_device_desc: \"device: 0, name: NVIDIA GeForce GTX 1080 Ti, pci bus id: 0000:04:00.0, compute capability: 6.1\"\n",
      ", name: \"/device:GPU:1\"\n",
      "device_type: \"GPU\"\n",
      "memory_limit: 10925703168\n",
      "locality {\n",
      "  bus_id: 1\n",
      "  links {\n",
      "    link {\n",
      "      type: \"StreamExecutor\"\n",
      "      strength: 1\n",
      "    }\n",
      "  }\n",
      "}\n",
      "incarnation: 1013055953366377435\n",
      "physical_device_desc: \"device: 1, name: NVIDIA GeForce GTX 1080 Ti, pci bus id: 0000:08:00.0, compute capability: 6.1\"\n",
      ", name: \"/device:GPU:2\"\n",
      "device_type: \"GPU\"\n",
      "memory_limit: 10925703168\n",
      "locality {\n",
      "  bus_id: 2\n",
      "  numa_node: 1\n",
      "  links {\n",
      "    link {\n",
      "      device_id: 3\n",
      "      type: \"StreamExecutor\"\n",
      "      strength: 1\n",
      "    }\n",
      "  }\n",
      "}\n",
      "incarnation: 10196248557006760652\n",
      "physical_device_desc: \"device: 2, name: NVIDIA GeForce GTX 1080 Ti, pci bus id: 0000:84:00.0, compute capability: 6.1\"\n",
      ", name: \"/device:GPU:3\"\n",
      "device_type: \"GPU\"\n",
      "memory_limit: 10925703168\n",
      "locality {\n",
      "  bus_id: 2\n",
      "  numa_node: 1\n",
      "  links {\n",
      "    link {\n",
      "      device_id: 2\n",
      "      type: \"StreamExecutor\"\n",
      "      strength: 1\n",
      "    }\n",
      "  }\n",
      "}\n",
      "incarnation: 6692432620499403534\n",
      "physical_device_desc: \"device: 3, name: NVIDIA GeForce GTX 1080 Ti, pci bus id: 0000:89:00.0, compute capability: 6.1\"\n",
      "]\n"
     ]
    },
    {
     "name": "stderr",
     "output_type": "stream",
     "text": [
      "2022-11-30 07:47:21.301936: I tensorflow/core/platform/cpu_feature_guard.cc:142] This TensorFlow binary is optimized with oneAPI Deep Neural Network Library (oneDNN) to use the following CPU instructions in performance-critical operations:  AVX2 FMA\n",
      "To enable them in other operations, rebuild TensorFlow with the appropriate compiler flags.\n",
      "2022-11-30 07:47:24.330546: I tensorflow/core/common_runtime/gpu/gpu_device.cc:1510] Created device /device:GPU:0 with 10419 MB memory:  -> device: 0, name: NVIDIA GeForce GTX 1080 Ti, pci bus id: 0000:04:00.0, compute capability: 6.1\n",
      "2022-11-30 07:47:24.331441: I tensorflow/core/common_runtime/gpu/gpu_device.cc:1510] Created device /device:GPU:1 with 10419 MB memory:  -> device: 1, name: NVIDIA GeForce GTX 1080 Ti, pci bus id: 0000:08:00.0, compute capability: 6.1\n",
      "2022-11-30 07:47:24.332115: I tensorflow/core/common_runtime/gpu/gpu_device.cc:1510] Created device /device:GPU:2 with 10419 MB memory:  -> device: 2, name: NVIDIA GeForce GTX 1080 Ti, pci bus id: 0000:84:00.0, compute capability: 6.1\n",
      "2022-11-30 07:47:24.332754: I tensorflow/core/common_runtime/gpu/gpu_device.cc:1510] Created device /device:GPU:3 with 10419 MB memory:  -> device: 3, name: NVIDIA GeForce GTX 1080 Ti, pci bus id: 0000:89:00.0, compute capability: 6.1\n"
     ]
    }
   ],
   "source": [
    "from tensorflow.python.client import device_lib\n",
    "\n",
    "print(device_lib.list_local_devices())"
   ]
  },
  {
   "cell_type": "code",
   "execution_count": 6,
   "id": "e0cca18b",
   "metadata": {
    "ExecuteTime": {
     "end_time": "2022-11-30T07:47:30.819514Z",
     "start_time": "2022-11-30T07:47:30.628071Z"
    }
   },
   "outputs": [],
   "source": [
    "import config\n",
    "configs = config.nb_configs\n",
    "configs.update(config.pt_configs)"
   ]
  },
  {
   "cell_type": "code",
   "execution_count": 7,
   "id": "1013d50b",
   "metadata": {
    "ExecuteTime": {
     "end_time": "2022-11-30T07:47:31.235067Z",
     "start_time": "2022-11-30T07:47:31.163991Z"
    }
   },
   "outputs": [],
   "source": [
    "from tensorflow.keras.preprocessing.image import ImageDataGenerator\n",
    "from tensorflow.keras.applications.imagenet_utils import preprocess_input\n",
    "\n",
    "# initialize data generator\n",
    "train_datagen = ImageDataGenerator(\n",
    "#     preprocessing_function=preprocess_input,\n",
    "    validation_split=configs[\"validation_split\"],\n",
    "    rescale=configs[\"rescale\"],\n",
    "    width_shift_range=configs[\"width_shift_range\"],\n",
    "    height_shift_range=configs[\"height_shift_range\"],\n",
    "    shear_range=configs[\"shear_range\"],\n",
    "    zoom_range=configs[\"zoom_range\"],\n",
    "    fill_mode=configs[\"fill_mode\"],\n",
    "    horizontal_flip=configs[\"horizontal_flip\"],\n",
    "    rotation_range=configs[\"rotation_range\"],\n",
    ")\n",
    "\n",
    "val_datagen = \n",
    "\n",
    "test_datagen = ImageDataGenerator(\n",
    "#     preprocessing_function=preprocess_input, \n",
    "    rescale=configs[\"rescale\"],\n",
    ")"
   ]
  },
  {
   "cell_type": "code",
   "execution_count": 8,
   "id": "abe53015",
   "metadata": {
    "ExecuteTime": {
     "end_time": "2022-11-30T07:47:39.386778Z",
     "start_time": "2022-11-30T07:47:33.669613Z"
    }
   },
   "outputs": [
    {
     "name": "stdout",
     "output_type": "stream",
     "text": [
      "Found 52393 images belonging to 2 classes.\n",
      "Found 2757 images belonging to 2 classes.\n",
      "Found 3300 images belonging to 2 classes.\n"
     ]
    }
   ],
   "source": [
    "train_dir = configs[\"train_dir\"]\n",
    "test_dir = configs[\"test_dir\"]\n",
    "\n",
    "batch_size = configs[\"batch_size\"]\n",
    "class_names = configs[\"class_names\"]\n",
    "interpol = configs[\"interpol\"]\n",
    "cmap = configs[\"cmap\"]\n",
    "label_mode = configs[\"label_mode\"]\n",
    "labels = configs[\"labels\"]\n",
    "image_size = configs[\"image_size\"]\n",
    "\n",
    "\n",
    "train_dataset = train_datagen.flow_from_directory(\n",
    "    directory=train_dir,\n",
    "    target_size=image_size,\n",
    "    color_mode=cmap,\n",
    "    classes=class_names,\n",
    "    class_mode=label_mode,\n",
    "    batch_size=batch_size,\n",
    "    interpolation=interpol,\n",
    "    subset=\"training\",\n",
    ")\n",
    "\n",
    "val_dataset = train_datagen.flow_from_directory(\n",
    "    directory=train_dir,\n",
    "    target_size=image_size,\n",
    "    color_mode=cmap,\n",
    "    classes=class_names,\n",
    "    class_mode=label_mode,\n",
    "    batch_size=batch_size,\n",
    "    interpolation=interpol,\n",
    "    subset=\"validation\",\n",
    ")\n",
    "\n",
    "test_dataset = test_datagen.flow_from_directory(\n",
    "    directory=test_dir,\n",
    "    target_size=image_size,\n",
    "    color_mode=cmap,\n",
    "    classes=class_names,\n",
    "    class_mode=label_mode,\n",
    "    batch_size=batch_size,\n",
    "    interpolation=interpol,\n",
    "    shuffle=False, # do not shuffle for later evaluation, alphanum sort\n",
    ")\n",
    "\n",
    "configs.update({\"val_steps\": val_dataset.samples // configs[\"batch_size\"]})"
   ]
  },
  {
   "cell_type": "code",
   "execution_count": 9,
   "id": "019baf4f",
   "metadata": {
    "ExecuteTime": {
     "end_time": "2022-11-30T07:47:39.467607Z",
     "start_time": "2022-11-30T07:47:39.390095Z"
    }
   },
   "outputs": [],
   "source": [
    "from tensorflow.keras import metrics\n",
    "from tensorflow.keras import optimizers\n",
    "from tensorflow.keras import losses"
   ]
  },
  {
   "cell_type": "code",
   "execution_count": null,
   "id": "39cf1640",
   "metadata": {},
   "outputs": [],
   "source": []
  },
  {
   "cell_type": "code",
   "execution_count": 10,
   "id": "f7fb3ead",
   "metadata": {
    "ExecuteTime": {
     "end_time": "2022-11-30T07:47:39.519971Z",
     "start_time": "2022-11-30T07:47:39.470136Z"
    },
    "scrolled": true
   },
   "outputs": [],
   "source": [
    "def define_model(model_arch, weights):\n",
    "    conv_base = model_arch(\n",
    "        weights=weights,\n",
    "        include_top=configs[\"include_top\"],\n",
    "        input_shape=configs[\"input_shape\"],\n",
    "        pooling=configs[\"pooling\"],\n",
    "    )\n",
    "    # freeze conv base weights\n",
    "    conv_base.trainable = False\n",
    "    x = conv_base.output\n",
    "    \n",
    "    # layers at this stage are arbitrary\n",
    "    # can be subjected to hyperparam tuning\n",
    "    x = keras.layers.Flatten()(x)\n",
    "    x = keras.layers.Dense(units=512, activation='relu')(x)\n",
    "    x = keras.layers.Dropout(configs[\"dropout_rate\"])(x)\n",
    "    outputs = keras.layers.Dense(units=2, activation=\"softmax\")(x)\n",
    "    model = keras.Model(inputs=conv_base.input, outputs=outputs)\n",
    "    return model"
   ]
  },
  {
   "cell_type": "code",
   "execution_count": 11,
   "id": "3fc52a4f",
   "metadata": {
    "ExecuteTime": {
     "end_time": "2022-11-30T07:47:43.544159Z",
     "start_time": "2022-11-30T07:47:40.194393Z"
    }
   },
   "outputs": [],
   "source": [
    "from interpretation import ValLog, GRADCamLogger\n",
    "import utils\n",
    "\n",
    "def train(model_name):\n",
    "    GRADCAM_LAYER_NAME = config.pt_gradcam_layers[model_name]\n",
    "    model_arch = config.pt_models[model_name]\n",
    "    weights = config.pt_weights[model_name]\n",
    "    \n",
    "    tf.keras.backend.clear_session()\n",
    "    \n",
    "    thresh = configs[\"thresh\"]\n",
    "    metrics_dict = {\n",
    "        \"ACC\":  metrics.CategoricalAccuracy(name=\"ACC\"),\n",
    "        \"AUC-ROC\": metrics.AUC(name='ROC', curve='ROC'),\n",
    "        \"AUC-PR\": metrics.AUC(name='PR', curve='PR'),\n",
    "        \"TP\": metrics.TruePositives(name=\"TP\", thresholds=thresh),\n",
    "        \"TN\": metrics.TrueNegatives(name=\"TN\", thresholds=thresh),\n",
    "        \"FP\": metrics.FalsePositives(name=\"FP\", thresholds=thresh),\n",
    "        \"FN\": metrics.FalseNegatives(name=\"FN\", thresholds=thresh),\n",
    "    }\n",
    "\n",
    "    # opt = optimizers.Adam(learning_rate=1e-06)\n",
    "    opt = optimizers.Adam()\n",
    "    met = list(metrics_dict.values())\n",
    "\n",
    "    model = define_model(model_arch, weights)\n",
    "    model.compile(\n",
    "        loss=losses.CategoricalCrossentropy(),\n",
    "        optimizer=opt,\n",
    "        metrics=met,\n",
    "    )\n",
    "    # initialize run\n",
    "    run = wandb.init(\n",
    "        project=PROJECT_NAME, \n",
    "        group=GROUP_NAME,\n",
    "        name=model_name,\n",
    "        job_type='train',\n",
    "        config=configs, \n",
    "    )\n",
    "\n",
    "    wandb_callback = wandb.keras.WandbCallback(\n",
    "        monitor=\"val_ROC\",\n",
    "        mode=\"max\",\n",
    "        save_model=True,\n",
    "        save_graph=True,\n",
    "        compute_flops=True,\n",
    "    )\n",
    "\n",
    "    callbacks = [\n",
    "        wandb_callback,\n",
    "        ValLog(generator=val_dataset, num_log_batches=1),\n",
    "        GRADCamLogger(generator=test_dataset, \n",
    "                      layer_name=GRADCAM_LAYER_NAME, num_log_batches=1)\n",
    "    ]\n",
    "    history = model.fit(\n",
    "        train_dataset,\n",
    "        validation_data=val_dataset,\n",
    "        epochs=configs[\"epochs\"], \n",
    "        shuffle=True,\n",
    "        callbacks=callbacks,\n",
    "        verbose=0,\n",
    "    )\n",
    "    run.finish()\n",
    "    \n",
    "def evaluate(model_name):\n",
    "    run = wandb.init(\n",
    "        project=PROJECT_NAME, \n",
    "        group=GROUP_NAME,\n",
    "        name=model_name,\n",
    "        job_type=\"inference\", \n",
    "        config=configs, \n",
    "    )\n",
    "    model_at = run.use_artifact(\"model-\" + model_name + \":latest\")\n",
    "    model_dir = model_at.download()\n",
    "    best_model = keras.models.load_model(model_dir)\n",
    "    \n",
    "    metrics_results = best_model.evaluate(test_dataset)\n",
    "    metrics_results = dict(zip([\"loss\"] + list(metrics_dict.keys()), \n",
    "                               metrics_results))\n",
    "    tp, fp, tn, fn = (metrics_results[\"TP\"], metrics_results[\"FP\"], \n",
    "                      metrics_results[\"TN\"], metrics_results[\"FN\"])\n",
    "\n",
    "    add_metrics = {\n",
    "        \"SENSITIVITY\": utils.get_sensitivity(tp, fp, tn, fn),\n",
    "        \"SPECIFICTY\": utils.get_specificity(tp, fp, tn, fn),\n",
    "        \"PPV\": utils.get_ppv(tp, fp, tn, fn),\n",
    "        \"NPV\": utils.get_npv(tp, fp, tn, fn),\n",
    "        \"F1\" : utils.get_fbeta(tp, fp, tn, fn, beta=1),\n",
    "    }\n",
    "    metrics_results.update(add_metrics)\n",
    "\n",
    "    print(f\"Metrics: \\n\", metrics_results)\n",
    "\n",
    "    columns = list(metrics_results.keys())\n",
    "    metrics_table = wandb.Table(columns=columns)\n",
    "    metrics_table.add_data(*metrics_results.values())\n",
    "    wandb.run.log({METRICS_TABLE_NAME : metrics_table})\n",
    "\n",
    "    # add logging of confusion matrix image from matplotlib\n",
    "\n",
    "    # get preds\n",
    "    trained_preds = best_model.predict(test_dataset)\n",
    "    run.finish()"
   ]
  },
  {
   "cell_type": "code",
   "execution_count": null,
   "id": "fc996010",
   "metadata": {
    "ExecuteTime": {
     "start_time": "2022-11-30T07:47:51.767Z"
    }
   },
   "outputs": [
    {
     "name": "stdout",
     "output_type": "stream",
     "text": [
      "ResNet50\n"
     ]
    },
    {
     "name": "stderr",
     "output_type": "stream",
     "text": [
      "2022-11-30 07:47:51.994588: I tensorflow/core/common_runtime/gpu/gpu_device.cc:1510] Created device /job:localhost/replica:0/task:0/device:GPU:0 with 10419 MB memory:  -> device: 0, name: NVIDIA GeForce GTX 1080 Ti, pci bus id: 0000:04:00.0, compute capability: 6.1\n",
      "2022-11-30 07:47:51.995580: I tensorflow/core/common_runtime/gpu/gpu_device.cc:1510] Created device /job:localhost/replica:0/task:0/device:GPU:1 with 10419 MB memory:  -> device: 1, name: NVIDIA GeForce GTX 1080 Ti, pci bus id: 0000:08:00.0, compute capability: 6.1\n",
      "2022-11-30 07:47:51.996323: I tensorflow/core/common_runtime/gpu/gpu_device.cc:1510] Created device /job:localhost/replica:0/task:0/device:GPU:2 with 10419 MB memory:  -> device: 2, name: NVIDIA GeForce GTX 1080 Ti, pci bus id: 0000:84:00.0, compute capability: 6.1\n",
      "2022-11-30 07:47:51.997119: I tensorflow/core/common_runtime/gpu/gpu_device.cc:1510] Created device /job:localhost/replica:0/task:0/device:GPU:3 with 10419 MB memory:  -> device: 3, name: NVIDIA GeForce GTX 1080 Ti, pci bus id: 0000:89:00.0, compute capability: 6.1\n",
      "2022-11-30 07:48:07.263982: I tensorflow/core/grappler/devices.cc:66] Number of eligible GPUs (core count >= 8, compute capability >= 0.0): 4\n",
      "2022-11-30 07:48:07.264194: I tensorflow/core/grappler/clusters/single_machine.cc:357] Starting new session\n",
      "2022-11-30 07:48:07.276090: I tensorflow/core/common_runtime/gpu/gpu_device.cc:1510] Created device /job:localhost/replica:0/task:0/device:GPU:0 with 10419 MB memory:  -> device: 0, name: NVIDIA GeForce GTX 1080 Ti, pci bus id: 0000:04:00.0, compute capability: 6.1\n",
      "2022-11-30 07:48:07.276628: I tensorflow/core/common_runtime/gpu/gpu_device.cc:1510] Created device /job:localhost/replica:0/task:0/device:GPU:1 with 10419 MB memory:  -> device: 1, name: NVIDIA GeForce GTX 1080 Ti, pci bus id: 0000:08:00.0, compute capability: 6.1\n",
      "2022-11-30 07:48:07.277171: I tensorflow/core/common_runtime/gpu/gpu_device.cc:1510] Created device /job:localhost/replica:0/task:0/device:GPU:2 with 10419 MB memory:  -> device: 2, name: NVIDIA GeForce GTX 1080 Ti, pci bus id: 0000:84:00.0, compute capability: 6.1\n",
      "2022-11-30 07:48:07.277706: I tensorflow/core/common_runtime/gpu/gpu_device.cc:1510] Created device /job:localhost/replica:0/task:0/device:GPU:3 with 10419 MB memory:  -> device: 3, name: NVIDIA GeForce GTX 1080 Ti, pci bus id: 0000:89:00.0, compute capability: 6.1\n",
      "2022-11-30 07:48:07.297351: I tensorflow/core/grappler/optimizers/meta_optimizer.cc:1137] Optimization results for grappler item: graph_to_optimize\n",
      "  function_optimizer: function_optimizer did nothing. time = 0.011ms.\n",
      "  function_optimizer: function_optimizer did nothing. time = 0.004ms.\n",
      "\n"
     ]
    },
    {
     "name": "stdout",
     "output_type": "stream",
     "text": [
      "WARNING:tensorflow:From /home/mdorosan/.conda-envs/msds2022-ml3/lib/python3.9/site-packages/tensorflow/python/ops/nn_ops.py:5063: tensor_shape_from_node_def_name (from tensorflow.python.framework.graph_util_impl) is deprecated and will be removed in a future version.\n",
      "Instructions for updating:\n",
      "Use `tf.compat.v1.graph_util.tensor_shape_from_node_def_name`\n"
     ]
    },
    {
     "name": "stderr",
     "output_type": "stream",
     "text": [
      "2022-11-30 07:48:10.474581: I tensorflow/compiler/mlir/mlir_graph_optimization_pass.cc:185] None of the MLIR Optimization Passes are enabled (registered 2)\n",
      "2022-11-30 07:48:17.775033: I tensorflow/stream_executor/cuda/cuda_dnn.cc:369] Loaded cuDNN version 8400\n",
      "/home/mdorosan/.conda-envs/msds2022-ml3/lib/python3.9/site-packages/keras/utils/generic_utils.py:494: CustomMaskWarning: Custom mask layers require a config and must override get_config. When loading, the custom mask layer must be passed to the custom_objects argument.\n",
      "  warnings.warn('Custom mask layers require a config and must override '\n",
      "2022-11-30 08:03:20.732381: W tensorflow/python/util/util.cc:348] Sets are not currently considered sequences, but this may change in the future, so consider avoiding using them.\n"
     ]
    },
    {
     "name": "stdout",
     "output_type": "stream",
     "text": [
      "INFO:tensorflow:Assets written to: /home/mdorosan/2022/bagls-sh-project/notebooks/wandb/run-20221130_074753-ls0197dz/files/model-best/assets\n"
     ]
    },
    {
     "name": "stderr",
     "output_type": "stream",
     "text": [
      "/home/mdorosan/.conda-envs/msds2022-ml3/lib/python3.9/site-packages/keras/utils/generic_utils.py:494: CustomMaskWarning: Custom mask layers require a config and must override get_config. When loading, the custom mask layer must be passed to the custom_objects argument.\n",
      "  warnings.warn('Custom mask layers require a config and must override '\n"
     ]
    },
    {
     "name": "stdout",
     "output_type": "stream",
     "text": [
      "INFO:tensorflow:Assets written to: /home/mdorosan/2022/bagls-sh-project/notebooks/wandb/run-20221130_074753-ls0197dz/files/model-best/assets\n"
     ]
    },
    {
     "name": "stderr",
     "output_type": "stream",
     "text": [
      "/home/mdorosan/.conda-envs/msds2022-ml3/lib/python3.9/site-packages/keras/utils/generic_utils.py:494: CustomMaskWarning: Custom mask layers require a config and must override get_config. When loading, the custom mask layer must be passed to the custom_objects argument.\n",
      "  warnings.warn('Custom mask layers require a config and must override '\n"
     ]
    },
    {
     "name": "stdout",
     "output_type": "stream",
     "text": [
      "INFO:tensorflow:Assets written to: /home/mdorosan/2022/bagls-sh-project/notebooks/wandb/run-20221130_074753-ls0197dz/files/model-best/assets\n"
     ]
    },
    {
     "name": "stderr",
     "output_type": "stream",
     "text": [
      "/home/mdorosan/.conda-envs/msds2022-ml3/lib/python3.9/site-packages/keras/utils/generic_utils.py:494: CustomMaskWarning: Custom mask layers require a config and must override get_config. When loading, the custom mask layer must be passed to the custom_objects argument.\n",
      "  warnings.warn('Custom mask layers require a config and must override '\n"
     ]
    },
    {
     "name": "stdout",
     "output_type": "stream",
     "text": [
      "INFO:tensorflow:Assets written to: /home/mdorosan/2022/bagls-sh-project/notebooks/wandb/run-20221130_074753-ls0197dz/files/model-best/assets\n"
     ]
    },
    {
     "name": "stderr",
     "output_type": "stream",
     "text": [
      "/home/mdorosan/.conda-envs/msds2022-ml3/lib/python3.9/site-packages/keras/utils/generic_utils.py:494: CustomMaskWarning: Custom mask layers require a config and must override get_config. When loading, the custom mask layer must be passed to the custom_objects argument.\n",
      "  warnings.warn('Custom mask layers require a config and must override '\n"
     ]
    },
    {
     "name": "stdout",
     "output_type": "stream",
     "text": [
      "INFO:tensorflow:Assets written to: /home/mdorosan/2022/bagls-sh-project/notebooks/wandb/run-20221130_074753-ls0197dz/files/model-best/assets\n"
     ]
    },
    {
     "name": "stderr",
     "output_type": "stream",
     "text": [
      "/home/mdorosan/.conda-envs/msds2022-ml3/lib/python3.9/site-packages/keras/utils/generic_utils.py:494: CustomMaskWarning: Custom mask layers require a config and must override get_config. When loading, the custom mask layer must be passed to the custom_objects argument.\n",
      "  warnings.warn('Custom mask layers require a config and must override '\n"
     ]
    }
   ],
   "source": [
    "for model_name in config.pt_models.keys():\n",
    "    print(model_name)\n",
    "    train(model_name)\n",
    "    evaluate(model_name)"
   ]
  },
  {
   "cell_type": "markdown",
   "id": "90b21018",
   "metadata": {},
   "source": [
    "## End"
   ]
  }
 ],
 "metadata": {
  "hide_input": false,
  "kernelspec": {
   "display_name": "Python [conda env:msds2022-ml3]",
   "language": "python",
   "name": "conda-env-msds2022-ml3-py"
  },
  "language_info": {
   "codemirror_mode": {
    "name": "ipython",
    "version": 3
   },
   "file_extension": ".py",
   "mimetype": "text/x-python",
   "name": "python",
   "nbconvert_exporter": "python",
   "pygments_lexer": "ipython3",
   "version": "3.9.6"
  },
  "toc": {
   "base_numbering": 1,
   "nav_menu": {},
   "number_sections": true,
   "sideBar": true,
   "skip_h1_title": false,
   "title_cell": "Table of Contents",
   "title_sidebar": "Contents",
   "toc_cell": false,
   "toc_position": {},
   "toc_section_display": true,
   "toc_window_display": false
  }
 },
 "nbformat": 4,
 "nbformat_minor": 5
}
