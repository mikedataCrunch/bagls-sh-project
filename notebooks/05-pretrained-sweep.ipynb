{
 "cells": [
  {
   "cell_type": "markdown",
   "id": "0dfd5593",
   "metadata": {},
   "source": [
    "# `tensorflow.keras` sweep across pre-trained models\n",
    "\n",
    "\n",
    "This notebook demonstrates the use of (1) well-known CNN architectures, (2) pretrained weights on `RadImageNet` in a multiclassification task, (3) `wandb.ai` sweeps in comparing the pre-trained architectures.\n",
    "\n",
    "References:\n",
    "\n",
    "* The pretrained weights published by [Mei et al (2022)](https://pubs.rsna.org/doi/10.1148/ryai.210315) in their github [link](https://github.com/BMEII-AI/RadImageNet).\n",
    "\n",
    "* The github repository form the BAGLS team contained in this github [link](https://github.com/anki-xyz/bagls/blob/master/Utils/DataGenerator.py#L109)\n"
   ]
  },
  {
   "cell_type": "code",
   "execution_count": 14,
   "id": "760317d5",
   "metadata": {
    "ExecuteTime": {
     "end_time": "2022-11-29T09:34:32.983201Z",
     "start_time": "2022-11-29T09:34:32.566354Z"
    }
   },
   "outputs": [
    {
     "name": "stdout",
     "output_type": "stream",
     "text": [
      "The autoreload extension is already loaded. To reload it, use:\n",
      "  %reload_ext autoreload\n"
     ]
    }
   ],
   "source": [
    "# dev convenience\n",
    "%load_ext autoreload\n",
    "%autoreload 2"
   ]
  },
  {
   "cell_type": "code",
   "execution_count": 15,
   "id": "18a72fdd",
   "metadata": {
    "ExecuteTime": {
     "end_time": "2022-11-29T09:34:33.387359Z",
     "start_time": "2022-11-29T09:34:32.987095Z"
    }
   },
   "outputs": [],
   "source": [
    "import sys\n",
    "sys.path.append(\"..\")\n",
    "import PATHS\n",
    "\n",
    "import os\n",
    "import numpy as np\n",
    "\n",
    "os.environ[\"CUDA_VISIBLE_DEVICES\"] = \"2\"\n",
    "os.environ[\"WANDB_SILENT\"] = \"True\"\n",
    "os.environ[\"WANDB_NOTEBOOK_NAME\"] = \"05-pretrained-sweep.ipynb\"\n",
    "\n",
    "PROJECT_NAME = 'bagls-sh-test'\n",
    "GROUP_NAME = 'pretrained-models-sweep'\n",
    "METRICS_TABLE_NAME = 'metrics_table'"
   ]
  },
  {
   "cell_type": "code",
   "execution_count": 16,
   "id": "264a0fd3",
   "metadata": {
    "ExecuteTime": {
     "end_time": "2022-11-29T09:34:33.805536Z",
     "start_time": "2022-11-29T09:34:33.390999Z"
    }
   },
   "outputs": [
    {
     "name": "stdout",
     "output_type": "stream",
     "text": [
      "W&B:  0.13.5\n"
     ]
    },
    {
     "data": {
      "text/plain": [
       "True"
      ]
     },
     "execution_count": 16,
     "metadata": {},
     "output_type": "execute_result"
    }
   ],
   "source": [
    "import wandb\n",
    "print(\"W&B: \", wandb.__version__)\n",
    "wandb.login()\n",
    "\n",
    "# # manage logs\n",
    "# import logging\n",
    "\n",
    "# logger = logging.getLogger(\"wandb\")\n",
    "# logger.setLevel(logging.ERROR)\n",
    "\n",
    "# logging.getLogger('tensorflow').disabled = True"
   ]
  },
  {
   "cell_type": "code",
   "execution_count": 17,
   "id": "5c55ee0f",
   "metadata": {
    "ExecuteTime": {
     "end_time": "2022-11-29T09:34:34.200162Z",
     "start_time": "2022-11-29T09:34:33.808693Z"
    }
   },
   "outputs": [],
   "source": [
    "# tf loader\n",
    "import tensorflow as tf\n",
    "from tensorflow.keras.models import load_model\n",
    "from tensorflow import keras"
   ]
  },
  {
   "cell_type": "code",
   "execution_count": 18,
   "id": "8d5fa101",
   "metadata": {
    "ExecuteTime": {
     "end_time": "2022-11-29T09:34:34.606589Z",
     "start_time": "2022-11-29T09:34:34.204153Z"
    }
   },
   "outputs": [
    {
     "name": "stdout",
     "output_type": "stream",
     "text": [
      "[name: \"/device:CPU:0\"\n",
      "device_type: \"CPU\"\n",
      "memory_limit: 268435456\n",
      "locality {\n",
      "}\n",
      "incarnation: 9055340085874400362\n",
      ", name: \"/device:GPU:0\"\n",
      "device_type: \"GPU\"\n",
      "memory_limit: 10925703168\n",
      "locality {\n",
      "  bus_id: 2\n",
      "  numa_node: 1\n",
      "  links {\n",
      "  }\n",
      "}\n",
      "incarnation: 6532517587126003743\n",
      "physical_device_desc: \"device: 0, name: NVIDIA GeForce GTX 1080 Ti, pci bus id: 0000:84:00.0, compute capability: 6.1\"\n",
      "]\n"
     ]
    },
    {
     "name": "stderr",
     "output_type": "stream",
     "text": [
      "2022-11-29 09:34:34.277810: I tensorflow/core/common_runtime/gpu/gpu_device.cc:1510] Created device /device:GPU:0 with 10419 MB memory:  -> device: 0, name: NVIDIA GeForce GTX 1080 Ti, pci bus id: 0000:84:00.0, compute capability: 6.1\n"
     ]
    }
   ],
   "source": [
    "from tensorflow.python.client import device_lib\n",
    "\n",
    "print(device_lib.list_local_devices())"
   ]
  },
  {
   "cell_type": "code",
   "execution_count": 19,
   "id": "e0cca18b",
   "metadata": {
    "ExecuteTime": {
     "end_time": "2022-11-29T09:34:35.010440Z",
     "start_time": "2022-11-29T09:34:34.611195Z"
    }
   },
   "outputs": [],
   "source": [
    "import config\n",
    "configs = config.nb_configs\n",
    "configs.update(config.pt_configs)"
   ]
  },
  {
   "cell_type": "code",
   "execution_count": 20,
   "id": "1013d50b",
   "metadata": {
    "ExecuteTime": {
     "end_time": "2022-11-29T09:34:35.406649Z",
     "start_time": "2022-11-29T09:34:35.014783Z"
    }
   },
   "outputs": [],
   "source": [
    "from tensorflow.keras.preprocessing.image import ImageDataGenerator\n",
    "from tensorflow.keras.applications.imagenet_utils import preprocess_input\n",
    "\n",
    "# initialize data generator\n",
    "train_datagen = ImageDataGenerator(\n",
    "    preprocessing_function=preprocess_input,\n",
    "    validation_split=configs[\"validation_split\"],\n",
    "    rescale=configs[\"rescale\"],\n",
    "    width_shift_range=configs[\"width_shift_range\"],\n",
    "    height_shift_range=configs[\"height_shift_range\"],\n",
    "    shear_range=configs[\"shear_range\"],\n",
    "    zoom_range=configs[\"zoom_range\"],\n",
    "    fill_mode=configs[\"fill_mode\"],\n",
    "    horizontal_flip=configs[\"horizontal_flip\"],\n",
    "    rotation_range=configs[\"rotation_range\"],\n",
    ")\n",
    "\n",
    "test_datagen = ImageDataGenerator(\n",
    "    preprocessing_function=preprocess_input, \n",
    "    rescale=configs[\"rescale\"],\n",
    ")"
   ]
  },
  {
   "cell_type": "code",
   "execution_count": 21,
   "id": "abe53015",
   "metadata": {
    "ExecuteTime": {
     "end_time": "2022-11-29T09:34:35.846641Z",
     "start_time": "2022-11-29T09:34:35.409520Z"
    }
   },
   "outputs": [
    {
     "name": "stdout",
     "output_type": "stream",
     "text": [
      "Found 526 images belonging to 2 classes.\n",
      "Found 26 images belonging to 2 classes.\n",
      "Found 33 images belonging to 2 classes.\n"
     ]
    }
   ],
   "source": [
    "train_dir = configs[\"train_dir\"]\n",
    "test_dir = configs[\"test_dir\"]\n",
    "\n",
    "batch_size = configs[\"batch_size\"]\n",
    "class_names = configs[\"class_names\"]\n",
    "interpol = configs[\"interpol\"]\n",
    "cmap = configs[\"cmap\"]\n",
    "label_mode = configs[\"label_mode\"]\n",
    "labels = configs[\"labels\"]\n",
    "image_size = configs[\"image_size\"]\n",
    "\n",
    "\n",
    "train_dataset = train_datagen.flow_from_directory(\n",
    "    directory=train_dir,\n",
    "    target_size=image_size,\n",
    "    color_mode=cmap,\n",
    "    classes=class_names,\n",
    "    class_mode=label_mode,\n",
    "    batch_size=batch_size,\n",
    "    interpolation=interpol,\n",
    "    subset=\"training\",\n",
    ")\n",
    "\n",
    "val_dataset = train_datagen.flow_from_directory(\n",
    "    directory=train_dir,\n",
    "    target_size=image_size,\n",
    "    color_mode=cmap,\n",
    "    classes=class_names,\n",
    "    class_mode=label_mode,\n",
    "    batch_size=batch_size,\n",
    "    interpolation=interpol,\n",
    "    subset=\"validation\",\n",
    ")\n",
    "\n",
    "test_dataset = test_datagen.flow_from_directory(\n",
    "    directory=test_dir,\n",
    "    target_size=image_size,\n",
    "    color_mode=cmap,\n",
    "    classes=class_names,\n",
    "    class_mode=label_mode,\n",
    "    batch_size=batch_size,\n",
    "    interpolation=interpol,\n",
    "    shuffle=False, # do not shuffle for later evaluation, alphanum sort\n",
    ")\n",
    "\n",
    "configs.update({\"val_steps\": val_dataset.samples // configs[\"batch_size\"]})"
   ]
  },
  {
   "cell_type": "code",
   "execution_count": 22,
   "id": "019baf4f",
   "metadata": {
    "ExecuteTime": {
     "end_time": "2022-11-29T09:34:36.256097Z",
     "start_time": "2022-11-29T09:34:35.850151Z"
    }
   },
   "outputs": [],
   "source": [
    "from tensorflow.keras import metrics\n",
    "from tensorflow.keras import optimizers\n",
    "from tensorflow.keras import losses"
   ]
  },
  {
   "cell_type": "code",
   "execution_count": 23,
   "id": "f7fb3ead",
   "metadata": {
    "ExecuteTime": {
     "end_time": "2022-11-29T09:34:36.657961Z",
     "start_time": "2022-11-29T09:34:36.260023Z"
    },
    "scrolled": true
   },
   "outputs": [],
   "source": [
    "def define_model(model_arch, weights):\n",
    "    conv_base = model_arch(\n",
    "        weights=weights,\n",
    "        include_top=configs[\"include_top\"],\n",
    "        input_shape=configs[\"input_shape\"],\n",
    "        pooling=configs[\"pooling\"],\n",
    "    )\n",
    "    # freeze conv base weights\n",
    "    conv_base.trainable = False\n",
    "    x = conv_base.output\n",
    "    \n",
    "    # layers at this stage are arbitrary\n",
    "    # can be subjected to hyperparam tuning\n",
    "    x = keras.layers.Flatten()(x)\n",
    "    x = keras.layers.Dense(units=512, activation='relu')(x)\n",
    "    x = keras.layers.Dropout(configs[\"dropout_rate\"])(x)\n",
    "    outputs = keras.layers.Dense(units=2, activation=\"softmax\")(x)\n",
    "    model = keras.Model(inputs=conv_base.input, outputs=outputs)\n",
    "    return model"
   ]
  },
  {
   "cell_type": "code",
   "execution_count": 24,
   "id": "3fc52a4f",
   "metadata": {
    "ExecuteTime": {
     "end_time": "2022-11-29T09:34:37.217088Z",
     "start_time": "2022-11-29T09:34:36.831686Z"
    }
   },
   "outputs": [],
   "source": [
    "from interpretation import ValLog, GRADCamLogger\n",
    "import utils\n",
    "\n",
    "def train(model_name):\n",
    "    GRADCAM_LAYER_NAME = config.pt_gradcam_layers[model_name]\n",
    "    model_arch = config.pt_models[model_name]\n",
    "    weights = config.pt_weights[model_name]\n",
    "    \n",
    "    tf.keras.backend.clear_session()\n",
    "    \n",
    "    thresh = configs[\"thresh\"]\n",
    "    metrics_dict = {\n",
    "        \"ACC\":  metrics.BinaryAccuracy(name=\"ACC\", threshold=thresh),\n",
    "        \"AUC-ROC\": metrics.AUC(name='ROC', curve='ROC'),\n",
    "        \"AUC-PR\": metrics.AUC(name='PR', curve='PR'),\n",
    "        \"TP\": metrics.TruePositives(name=\"TP\", thresholds=thresh),\n",
    "        \"TN\": metrics.TrueNegatives(name=\"TN\", thresholds=thresh),\n",
    "        \"FP\": metrics.FalsePositives(name=\"FP\", thresholds=thresh),\n",
    "        \"FN\": metrics.FalseNegatives(name=\"FN\", thresholds=thresh),\n",
    "    }\n",
    "\n",
    "    # opt = optimizers.Adam(learning_rate=1e-06)\n",
    "    opt = optimizers.Adam()\n",
    "    met = list(metrics_dict.values())\n",
    "\n",
    "    model = define_model(model_arch, weights)\n",
    "    model.compile(\n",
    "        loss=losses.CategoricalCrossentropy(),\n",
    "        optimizer=opt,\n",
    "        metrics=met,\n",
    "    )\n",
    "    # initialize run\n",
    "    run = wandb.init(\n",
    "        project=PROJECT_NAME, \n",
    "        group=GROUP_NAME,\n",
    "        name=model_name,\n",
    "        job_type='train',\n",
    "        config=configs, \n",
    "    )\n",
    "\n",
    "    wandb_callback = wandb.keras.WandbCallback(\n",
    "        monitor=\"val_ROC\",\n",
    "        mode=\"max\",\n",
    "        save_model=True,\n",
    "        save_graph=True,\n",
    "        compute_flops=True,\n",
    "    )\n",
    "\n",
    "    callbacks = [\n",
    "        wandb_callback,\n",
    "        ValLog(generator=val_dataset, num_log_batches=1),\n",
    "        GRADCamLogger(generator=test_dataset, \n",
    "                      layer_name=GRADCAM_LAYER_NAME, num_log_batches=1)\n",
    "    ]\n",
    "    history = model.fit(\n",
    "        train_dataset,\n",
    "        validation_data=val_dataset,\n",
    "        epochs=configs[\"epochs\"], \n",
    "        shuffle=True,\n",
    "        callbacks=callbacks,\n",
    "    )\n",
    "    run.finish()\n",
    "    \n",
    "def evaluate(model_name):\n",
    "    run = wandb.init(\n",
    "        project=PROJECT_NAME, \n",
    "        group=GROUP_NAME,\n",
    "        name=model_name,\n",
    "        job_type=\"inference-evaluation\", \n",
    "        config=configs, \n",
    "    )\n",
    "    model_at = run.use_artifact(\"model-\" + model_name + \":latest\")\n",
    "    model_dir = model_at.download()\n",
    "    best_model = keras.models.load_model(model_dir)\n",
    "    \n",
    "    metrics_results = best_model.evaluate(test_dataset)\n",
    "    metrics_results = dict(zip([\"loss\"] + list(metrics_dict.keys()), \n",
    "                               metrics_results))\n",
    "    tp, fp, tn, fn = (metrics_results[\"TP\"], metrics_results[\"FP\"], \n",
    "                      metrics_results[\"TN\"], metrics_results[\"FN\"])\n",
    "\n",
    "    add_metrics = {\n",
    "        \"SENSITIVITY\": utils.get_sensitivity(tp, fp, tn, fn),\n",
    "        \"SPECIFICTY\": utils.get_specificity(tp, fp, tn, fn),\n",
    "        \"PPV\": utils.get_ppv(tp, fp, tn, fn),\n",
    "        \"NPV\": utils.get_npv(tp, fp, tn, fn),\n",
    "        \"F1\" : utils.get_fbeta(tp, fp, tn, fn, beta=1),\n",
    "    }\n",
    "    metrics_results.update(add_metrics)\n",
    "\n",
    "    print(f\"Metrics: \\n\", metrics_results)\n",
    "\n",
    "    columns = list(metrics_results.keys())\n",
    "    metrics_table = wandb.Table(columns=columns)\n",
    "    metrics_table.add_data(*metrics_results.values())\n",
    "    wandb.run.log({METRICS_TABLE_NAME : metrics_table})\n",
    "\n",
    "    # add logging of confusion matrix image from matplotlib\n",
    "\n",
    "    # get preds\n",
    "    trained_preds = best_model.predict(test_dataset)\n",
    "    run.finish()"
   ]
  },
  {
   "cell_type": "code",
   "execution_count": 25,
   "id": "17a3adb3",
   "metadata": {
    "ExecuteTime": {
     "end_time": "2022-11-29T09:59:15.622815Z",
     "start_time": "2022-11-29T09:34:37.757407Z"
    }
   },
   "outputs": [
    {
     "name": "stdout",
     "output_type": "stream",
     "text": [
      "ResNet50\n"
     ]
    },
    {
     "data": {
      "application/vnd.jupyter.widget-view+json": {
       "model_id": "efce4d1c15934c6c917eda3f8cdbaca4",
       "version_major": 2,
       "version_minor": 0
      },
      "text/plain": [
       "VBox(children=(Label(value='Waiting for wandb.init()...\\r'), FloatProgress(value=0.01666939412243664, max=1.0)…"
      ]
     },
     "metadata": {},
     "output_type": "display_data"
    },
    {
     "name": "stderr",
     "output_type": "stream",
     "text": [
      "2022-11-29 09:35:01.375037: I tensorflow/core/grappler/devices.cc:66] Number of eligible GPUs (core count >= 8, compute capability >= 0.0): 1\n",
      "2022-11-29 09:35:01.375299: I tensorflow/core/grappler/clusters/single_machine.cc:357] Starting new session\n",
      "2022-11-29 09:35:01.378214: I tensorflow/core/common_runtime/gpu/gpu_device.cc:1510] Created device /job:localhost/replica:0/task:0/device:GPU:0 with 10419 MB memory:  -> device: 0, name: NVIDIA GeForce GTX 1080 Ti, pci bus id: 0000:84:00.0, compute capability: 6.1\n",
      "2022-11-29 09:35:01.393652: I tensorflow/core/grappler/optimizers/meta_optimizer.cc:1137] Optimization results for grappler item: graph_to_optimize\n",
      "  function_optimizer: function_optimizer did nothing. time = 0.008ms.\n",
      "  function_optimizer: function_optimizer did nothing. time = 0.001ms.\n",
      "\n"
     ]
    },
    {
     "name": "stdout",
     "output_type": "stream",
     "text": [
      "Epoch 1/5\n",
      "9/9 [==============================] - 16s 1s/step - loss: 0.6522 - ACC: 0.6388 - ROC: 0.6839 - PR: 0.6556 - TP: 336.0000 - TN: 336.0000 - FP: 190.0000 - FN: 190.0000 - val_loss: 0.5301 - val_ACC: 0.8077 - val_ROC: 0.8447 - val_PR: 0.7956 - val_TP: 21.0000 - val_TN: 21.0000 - val_FP: 5.0000 - val_FN: 5.0000\n"
     ]
    },
    {
     "name": "stderr",
     "output_type": "stream",
     "text": [
      "/home/mdorosan/.conda-envs/msds2022-ml3/lib/python3.9/site-packages/keras/utils/generic_utils.py:494: CustomMaskWarning: Custom mask layers require a config and must override get_config. When loading, the custom mask layer must be passed to the custom_objects argument.\n",
      "  warnings.warn('Custom mask layers require a config and must override '\n"
     ]
    },
    {
     "name": "stdout",
     "output_type": "stream",
     "text": [
      "INFO:tensorflow:Assets written to: /home/mdorosan/2022/bagls-sh-project/notebooks/wandb/run-20221129_093439-1njpxc4s/files/model-best/assets\n"
     ]
    },
    {
     "name": "stderr",
     "output_type": "stream",
     "text": [
      "/home/mdorosan/.conda-envs/msds2022-ml3/lib/python3.9/site-packages/keras/utils/generic_utils.py:494: CustomMaskWarning: Custom mask layers require a config and must override get_config. When loading, the custom mask layer must be passed to the custom_objects argument.\n",
      "  warnings.warn('Custom mask layers require a config and must override '\n"
     ]
    },
    {
     "name": "stdout",
     "output_type": "stream",
     "text": [
      "Epoch 2/5\n",
      "9/9 [==============================] - 10s 1s/step - loss: 0.5954 - ACC: 0.6939 - ROC: 0.7503 - PR: 0.7235 - TP: 365.0000 - TN: 365.0000 - FP: 161.0000 - FN: 161.0000 - val_loss: 0.5828 - val_ACC: 0.7308 - val_ROC: 0.7714 - val_PR: 0.7832 - val_TP: 19.0000 - val_TN: 19.0000 - val_FP: 7.0000 - val_FN: 7.0000\n",
      "Epoch 3/5\n",
      "9/9 [==============================] - 10s 1s/step - loss: 0.5797 - ACC: 0.7148 - ROC: 0.7678 - PR: 0.7498 - TP: 376.0000 - TN: 376.0000 - FP: 150.0000 - FN: 150.0000 - val_loss: 0.5816 - val_ACC: 0.7692 - val_ROC: 0.7700 - val_PR: 0.7469 - val_TP: 20.0000 - val_TN: 20.0000 - val_FP: 6.0000 - val_FN: 6.0000\n",
      "Epoch 4/5\n",
      "9/9 [==============================] - 9s 1s/step - loss: 0.5698 - ACC: 0.7129 - ROC: 0.7740 - PR: 0.7668 - TP: 375.0000 - TN: 375.0000 - FP: 151.0000 - FN: 151.0000 - val_loss: 0.5977 - val_ACC: 0.7308 - val_ROC: 0.7219 - val_PR: 0.7353 - val_TP: 19.0000 - val_TN: 19.0000 - val_FP: 7.0000 - val_FN: 7.0000\n",
      "Epoch 5/5\n",
      "9/9 [==============================] - 10s 1s/step - loss: 0.5520 - ACC: 0.7414 - ROC: 0.7910 - PR: 0.7818 - TP: 390.0000 - TN: 390.0000 - FP: 136.0000 - FN: 136.0000 - val_loss: 0.5556 - val_ACC: 0.7308 - val_ROC: 0.7855 - val_PR: 0.7931 - val_TP: 19.0000 - val_TN: 19.0000 - val_FP: 7.0000 - val_FN: 7.0000\n"
     ]
    },
    {
     "data": {
      "application/vnd.jupyter.widget-view+json": {
       "model_id": "b1ed1bb139f244348dd94ec1a1d12083",
       "version_major": 2,
       "version_minor": 0
      },
      "text/plain": [
       "VBox(children=(Label(value='Waiting for wandb.init()...\\r'), FloatProgress(value=0.016669200205554565, max=1.0…"
      ]
     },
     "metadata": {},
     "output_type": "display_data"
    },
    {
     "name": "stdout",
     "output_type": "stream",
     "text": [
      "WARNING:tensorflow:5 out of the last 13 calls to <function Model.make_test_function.<locals>.test_function at 0x7efc8729cee0> triggered tf.function retracing. Tracing is expensive and the excessive number of tracings could be due to (1) creating @tf.function repeatedly in a loop, (2) passing tensors with different shapes, (3) passing Python objects instead of tensors. For (1), please define your @tf.function outside of the loop. For (2), @tf.function has experimental_relax_shapes=True option that relaxes argument shapes that can avoid unnecessary retracing. For (3), please refer to https://www.tensorflow.org/guide/function#controlling_retracing and https://www.tensorflow.org/api_docs/python/tf/function for  more details.\n",
      "1/1 [==============================] - 2s 2s/step - loss: 0.3959 - ACC: 0.9091 - ROC: 0.9752 - PR: 0.9762 - TP: 30.0000 - TN: 30.0000 - FP: 3.0000 - FN: 3.0000\n",
      "Metrics: \n",
      " {'loss': 0.39585328102111816, 'ACC': 0.9090909361839294, 'AUC-ROC': 0.9752066135406494, 'AUC-PR': 0.9762325286865234, 'TP': 30.0, 'TN': 30.0, 'FP': 3.0, 'FN': 3.0, 'SENSITIVITY': 0.9090909090909091, 'SPECIFICTY': 0.9090909090909091, 'PPV': 0.9090909090909091, 'NPV': 0.9090909090909091, 'F1': 0.9090909090909091}\n",
      "InceptionV3\n"
     ]
    },
    {
     "name": "stderr",
     "output_type": "stream",
     "text": [
      "2022-11-29 09:38:25.095162: I tensorflow/core/grappler/devices.cc:66] Number of eligible GPUs (core count >= 8, compute capability >= 0.0): 1\n",
      "2022-11-29 09:38:25.095459: I tensorflow/core/grappler/clusters/single_machine.cc:357] Starting new session\n",
      "2022-11-29 09:38:25.098692: I tensorflow/core/common_runtime/gpu/gpu_device.cc:1510] Created device /job:localhost/replica:0/task:0/device:GPU:0 with 10419 MB memory:  -> device: 0, name: NVIDIA GeForce GTX 1080 Ti, pci bus id: 0000:84:00.0, compute capability: 6.1\n",
      "2022-11-29 09:38:25.124014: I tensorflow/core/grappler/optimizers/meta_optimizer.cc:1137] Optimization results for grappler item: graph_to_optimize\n",
      "  function_optimizer: function_optimizer did nothing. time = 0.032ms.\n",
      "  function_optimizer: function_optimizer did nothing. time = 0.001ms.\n",
      "\n"
     ]
    },
    {
     "name": "stdout",
     "output_type": "stream",
     "text": [
      "Epoch 1/5\n",
      "9/9 [==============================] - ETA: 0s - loss: 0.6268 - ACC: 0.6578 - ROC: 0.7120 - PR: 0.6888 - TP: 346.0000 - TN: 346.0000 - FP: 180.0000 - FN: 180.0000WARNING:tensorflow:6 out of the last 14 calls to <function Model.make_test_function.<locals>.test_function at 0x7efc9f1743a0> triggered tf.function retracing. Tracing is expensive and the excessive number of tracings could be due to (1) creating @tf.function repeatedly in a loop, (2) passing tensors with different shapes, (3) passing Python objects instead of tensors. For (1), please define your @tf.function outside of the loop. For (2), @tf.function has experimental_relax_shapes=True option that relaxes argument shapes that can avoid unnecessary retracing. For (3), please refer to https://www.tensorflow.org/guide/function#controlling_retracing and https://www.tensorflow.org/api_docs/python/tf/function for  more details.\n",
      "9/9 [==============================] - 18s 1s/step - loss: 0.6268 - ACC: 0.6578 - ROC: 0.7120 - PR: 0.6888 - TP: 346.0000 - TN: 346.0000 - FP: 180.0000 - FN: 180.0000 - val_loss: 0.5706 - val_ACC: 0.6923 - val_ROC: 0.7722 - val_PR: 0.7962 - val_TP: 18.0000 - val_TN: 18.0000 - val_FP: 8.0000 - val_FN: 8.0000\n",
      "INFO:tensorflow:Assets written to: /home/mdorosan/2022/bagls-sh-project/notebooks/wandb/run-20221129_093814-2ipcgn8k/files/model-best/assets\n",
      "Epoch 2/5\n",
      "9/9 [==============================] - 10s 1s/step - loss: 0.5768 - ACC: 0.7110 - ROC: 0.7688 - PR: 0.7550 - TP: 374.0000 - TN: 374.0000 - FP: 152.0000 - FN: 152.0000 - val_loss: 0.6698 - val_ACC: 0.5769 - val_ROC: 0.6790 - val_PR: 0.6441 - val_TP: 15.0000 - val_TN: 15.0000 - val_FP: 11.0000 - val_FN: 11.0000\n",
      "Epoch 3/5\n",
      "9/9 [==============================] - 10s 1s/step - loss: 0.6218 - ACC: 0.6749 - ROC: 0.7332 - PR: 0.7054 - TP: 355.0000 - TN: 355.0000 - FP: 171.0000 - FN: 171.0000 - val_loss: 0.5229 - val_ACC: 0.7692 - val_ROC: 0.8195 - val_PR: 0.7975 - val_TP: 20.0000 - val_TN: 20.0000 - val_FP: 6.0000 - val_FN: 6.0000\n",
      "INFO:tensorflow:Assets written to: /home/mdorosan/2022/bagls-sh-project/notebooks/wandb/run-20221129_093814-2ipcgn8k/files/model-best/assets\n",
      "Epoch 4/5\n",
      "9/9 [==============================] - 10s 1s/step - loss: 0.5635 - ACC: 0.7091 - ROC: 0.7865 - PR: 0.7752 - TP: 373.0000 - TN: 373.0000 - FP: 153.0000 - FN: 153.0000 - val_loss: 0.5212 - val_ACC: 0.8462 - val_ROC: 0.8447 - val_PR: 0.8190 - val_TP: 22.0000 - val_TN: 22.0000 - val_FP: 4.0000 - val_FN: 4.0000\n",
      "INFO:tensorflow:Assets written to: /home/mdorosan/2022/bagls-sh-project/notebooks/wandb/run-20221129_093814-2ipcgn8k/files/model-best/assets\n",
      "Epoch 5/5\n",
      "9/9 [==============================] - 9s 1s/step - loss: 0.5900 - ACC: 0.7072 - ROC: 0.7546 - PR: 0.7408 - TP: 372.0000 - TN: 372.0000 - FP: 154.0000 - FN: 154.0000 - val_loss: 0.5972 - val_ACC: 0.5769 - val_ROC: 0.7204 - val_PR: 0.7472 - val_TP: 15.0000 - val_TN: 15.0000 - val_FP: 11.0000 - val_FN: 11.0000\n"
     ]
    },
    {
     "data": {
      "application/vnd.jupyter.widget-view+json": {
       "model_id": "194c798b398d4edf86278a250d6e0f39",
       "version_major": 2,
       "version_minor": 0
      },
      "text/plain": [
       "VBox(children=(Label(value='Waiting for wandb.init()...\\r'), FloatProgress(value=0.016669653790692487, max=1.0…"
      ]
     },
     "metadata": {},
     "output_type": "display_data"
    },
    {
     "name": "stdout",
     "output_type": "stream",
     "text": [
      "1/1 [==============================] - 4s 4s/step - loss: 0.3687 - ACC: 0.8788 - ROC: 0.9706 - PR: 0.9725 - TP: 29.0000 - TN: 29.0000 - FP: 4.0000 - FN: 4.0000\n",
      "Metrics: \n",
      " {'loss': 0.36867672204971313, 'ACC': 0.8787878751754761, 'AUC-ROC': 0.9706152081489563, 'AUC-PR': 0.9725255966186523, 'TP': 29.0, 'TN': 29.0, 'FP': 4.0, 'FN': 4.0, 'SENSITIVITY': 0.8787878787878788, 'SPECIFICTY': 0.8787878787878788, 'PPV': 0.8787878787878788, 'NPV': 0.8787878787878788, 'F1': 0.8787878787878788}\n",
      "DenseNet121\n"
     ]
    },
    {
     "name": "stderr",
     "output_type": "stream",
     "text": [
      "2022-11-29 09:44:09.238499: I tensorflow/core/grappler/devices.cc:66] Number of eligible GPUs (core count >= 8, compute capability >= 0.0): 1\n",
      "2022-11-29 09:44:09.238847: I tensorflow/core/grappler/clusters/single_machine.cc:357] Starting new session\n",
      "2022-11-29 09:44:09.242334: I tensorflow/core/common_runtime/gpu/gpu_device.cc:1510] Created device /job:localhost/replica:0/task:0/device:GPU:0 with 10419 MB memory:  -> device: 0, name: NVIDIA GeForce GTX 1080 Ti, pci bus id: 0000:84:00.0, compute capability: 6.1\n",
      "2022-11-29 09:44:09.297518: I tensorflow/core/grappler/optimizers/meta_optimizer.cc:1137] Optimization results for grappler item: graph_to_optimize\n",
      "  function_optimizer: function_optimizer did nothing. time = 0.017ms.\n",
      "  function_optimizer: function_optimizer did nothing. time = 0.001ms.\n",
      "\n"
     ]
    },
    {
     "name": "stdout",
     "output_type": "stream",
     "text": [
      "Epoch 1/5\n",
      "9/9 [==============================] - 25s 2s/step - loss: 0.6360 - ACC: 0.6540 - ROC: 0.6946 - PR: 0.6683 - TP: 344.0000 - TN: 344.0000 - FP: 182.0000 - FN: 182.0000 - val_loss: 0.5407 - val_ACC: 0.8077 - val_ROC: 0.7663 - val_PR: 0.7483 - val_TP: 21.0000 - val_TN: 21.0000 - val_FP: 5.0000 - val_FN: 5.0000\n",
      "INFO:tensorflow:Assets written to: /home/mdorosan/2022/bagls-sh-project/notebooks/wandb/run-20221129_094358-y5nb8c9u/files/model-best/assets\n",
      "Epoch 2/5\n",
      "9/9 [==============================] - 9s 1s/step - loss: 0.6103 - ACC: 0.6692 - ROC: 0.7352 - PR: 0.7092 - TP: 352.0000 - TN: 352.0000 - FP: 174.0000 - FN: 174.0000 - val_loss: 0.5825 - val_ACC: 0.7308 - val_ROC: 0.7692 - val_PR: 0.7621 - val_TP: 19.0000 - val_TN: 19.0000 - val_FP: 7.0000 - val_FN: 7.0000\n",
      "INFO:tensorflow:Assets written to: /home/mdorosan/2022/bagls-sh-project/notebooks/wandb/run-20221129_094358-y5nb8c9u/files/model-best/assets\n",
      "Epoch 3/5\n",
      "9/9 [==============================] - 9s 1s/step - loss: 0.5771 - ACC: 0.7129 - ROC: 0.7692 - PR: 0.7612 - TP: 375.0000 - TN: 375.0000 - FP: 151.0000 - FN: 151.0000 - val_loss: 0.5688 - val_ACC: 0.7692 - val_ROC: 0.7818 - val_PR: 0.7038 - val_TP: 20.0000 - val_TN: 20.0000 - val_FP: 6.0000 - val_FN: 6.0000\n",
      "INFO:tensorflow:Assets written to: /home/mdorosan/2022/bagls-sh-project/notebooks/wandb/run-20221129_094358-y5nb8c9u/files/model-best/assets\n",
      "Epoch 4/5\n",
      "9/9 [==============================] - 9s 1s/step - loss: 0.5736 - ACC: 0.7224 - ROC: 0.7715 - PR: 0.7554 - TP: 380.0000 - TN: 380.0000 - FP: 146.0000 - FN: 146.0000 - val_loss: 0.5567 - val_ACC: 0.7692 - val_ROC: 0.7959 - val_PR: 0.7750 - val_TP: 20.0000 - val_TN: 20.0000 - val_FP: 6.0000 - val_FN: 6.0000\n",
      "INFO:tensorflow:Assets written to: /home/mdorosan/2022/bagls-sh-project/notebooks/wandb/run-20221129_094358-y5nb8c9u/files/model-best/assets\n",
      "Epoch 5/5\n",
      "9/9 [==============================] - 10s 1s/step - loss: 0.5885 - ACC: 0.7072 - ROC: 0.7735 - PR: 0.7499 - TP: 372.0000 - TN: 372.0000 - FP: 154.0000 - FN: 154.0000 - val_loss: 0.7041 - val_ACC: 0.5385 - val_ROC: 0.6509 - val_PR: 0.6697 - val_TP: 14.0000 - val_TN: 14.0000 - val_FP: 12.0000 - val_FN: 12.0000\n"
     ]
    },
    {
     "data": {
      "application/vnd.jupyter.widget-view+json": {
       "model_id": "2c395679233248f1a2914ef09882a90a",
       "version_major": 2,
       "version_minor": 0
      },
      "text/plain": [
       "VBox(children=(Label(value='Waiting for wandb.init()...\\r'), FloatProgress(value=0.01666976932125787, max=1.0)…"
      ]
     },
     "metadata": {},
     "output_type": "display_data"
    },
    {
     "name": "stdout",
     "output_type": "stream",
     "text": [
      "1/1 [==============================] - 5s 5s/step - loss: 0.3724 - ACC: 0.8788 - ROC: 0.9679 - PR: 0.9700 - TP: 29.0000 - TN: 29.0000 - FP: 4.0000 - FN: 4.0000\n",
      "Metrics: \n",
      " {'loss': 0.372403085231781, 'ACC': 0.8787878751754761, 'AUC-ROC': 0.9678604602813721, 'AUC-PR': 0.9700316190719604, 'TP': 29.0, 'TN': 29.0, 'FP': 4.0, 'FN': 4.0, 'SENSITIVITY': 0.8787878787878788, 'SPECIFICTY': 0.8787878787878788, 'PPV': 0.8787878787878788, 'NPV': 0.8787878787878788, 'F1': 0.8787878787878788}\n",
      "InceptionResNetV2\n"
     ]
    },
    {
     "name": "stderr",
     "output_type": "stream",
     "text": [
      "2022-11-29 09:52:23.562184: I tensorflow/core/grappler/devices.cc:66] Number of eligible GPUs (core count >= 8, compute capability >= 0.0): 1\n",
      "2022-11-29 09:52:23.562507: I tensorflow/core/grappler/clusters/single_machine.cc:357] Starting new session\n",
      "2022-11-29 09:52:23.565765: I tensorflow/core/common_runtime/gpu/gpu_device.cc:1510] Created device /job:localhost/replica:0/task:0/device:GPU:0 with 10419 MB memory:  -> device: 0, name: NVIDIA GeForce GTX 1080 Ti, pci bus id: 0000:84:00.0, compute capability: 6.1\n",
      "2022-11-29 09:52:23.647589: I tensorflow/core/grappler/optimizers/meta_optimizer.cc:1137] Optimization results for grappler item: graph_to_optimize\n",
      "  function_optimizer: function_optimizer did nothing. time = 0.02ms.\n",
      "  function_optimizer: function_optimizer did nothing. time = 0.001ms.\n",
      "\n"
     ]
    },
    {
     "name": "stdout",
     "output_type": "stream",
     "text": [
      "Epoch 1/5\n",
      "9/9 [==============================] - 30s 2s/step - loss: 0.6448 - ACC: 0.6483 - ROC: 0.6936 - PR: 0.6553 - TP: 341.0000 - TN: 341.0000 - FP: 185.0000 - FN: 185.0000 - val_loss: 0.5419 - val_ACC: 0.7308 - val_ROC: 0.8003 - val_PR: 0.8059 - val_TP: 19.0000 - val_TN: 19.0000 - val_FP: 7.0000 - val_FN: 7.0000\n",
      "INFO:tensorflow:Assets written to: /home/mdorosan/2022/bagls-sh-project/notebooks/wandb/run-20221129_095211-3s6fgb9a/files/model-best/assets\n",
      "Epoch 2/5\n",
      "9/9 [==============================] - 10s 1s/step - loss: 0.6070 - ACC: 0.6977 - ROC: 0.7385 - PR: 0.7066 - TP: 367.0000 - TN: 367.0000 - FP: 159.0000 - FN: 159.0000 - val_loss: 0.5735 - val_ACC: 0.7692 - val_ROC: 0.7589 - val_PR: 0.7226 - val_TP: 20.0000 - val_TN: 20.0000 - val_FP: 6.0000 - val_FN: 6.0000\n",
      "Epoch 3/5\n",
      "9/9 [==============================] - 9s 1s/step - loss: 0.5963 - ACC: 0.7072 - ROC: 0.7510 - PR: 0.7255 - TP: 372.0000 - TN: 372.0000 - FP: 154.0000 - FN: 154.0000 - val_loss: 0.5733 - val_ACC: 0.6923 - val_ROC: 0.7633 - val_PR: 0.7922 - val_TP: 18.0000 - val_TN: 18.0000 - val_FP: 8.0000 - val_FN: 8.0000\n",
      "Epoch 4/5\n",
      "9/9 [==============================] - 9s 1s/step - loss: 0.5758 - ACC: 0.7072 - ROC: 0.7679 - PR: 0.7590 - TP: 372.0000 - TN: 372.0000 - FP: 154.0000 - FN: 154.0000 - val_loss: 0.6177 - val_ACC: 0.6923 - val_ROC: 0.7041 - val_PR: 0.7071 - val_TP: 18.0000 - val_TN: 18.0000 - val_FP: 8.0000 - val_FN: 8.0000\n",
      "Epoch 5/5\n",
      "9/9 [==============================] - 10s 1s/step - loss: 0.5742 - ACC: 0.6996 - ROC: 0.7692 - PR: 0.7604 - TP: 368.0000 - TN: 368.0000 - FP: 158.0000 - FN: 158.0000 - val_loss: 0.5848 - val_ACC: 0.6923 - val_ROC: 0.7574 - val_PR: 0.7562 - val_TP: 18.0000 - val_TN: 18.0000 - val_FP: 8.0000 - val_FN: 8.0000\n"
     ]
    },
    {
     "data": {
      "application/vnd.jupyter.widget-view+json": {
       "model_id": "29272adb34c24026b852c07e2d986840",
       "version_major": 2,
       "version_minor": 0
      },
      "text/plain": [
       "VBox(children=(Label(value='Waiting for wandb.init()...\\r'), FloatProgress(value=0.01667098915204406, max=1.0)…"
      ]
     },
     "metadata": {},
     "output_type": "display_data"
    },
    {
     "name": "stdout",
     "output_type": "stream",
     "text": [
      "1/1 [==============================] - 6s 6s/step - loss: 0.4262 - ACC: 0.8485 - ROC: 0.9403 - PR: 0.9452 - TP: 28.0000 - TN: 28.0000 - FP: 5.0000 - FN: 5.0000\n",
      "Metrics: \n",
      " {'loss': 0.42621949315071106, 'ACC': 0.8484848737716675, 'AUC-ROC': 0.9403122663497925, 'AUC-PR': 0.9452385306358337, 'TP': 28.0, 'TN': 28.0, 'FP': 5.0, 'FN': 5.0, 'SENSITIVITY': 0.8484848484848485, 'SPECIFICTY': 0.8484848484848485, 'PPV': 0.8484848484848485, 'NPV': 0.8484848484848485, 'F1': 0.8484848484848485}\n"
     ]
    }
   ],
   "source": [
    "for model_name in config.pt_models.keys():\n",
    "    print(model_name)\n",
    "    train(model_name)\n",
    "    evaluate(model_name)"
   ]
  },
  {
   "cell_type": "markdown",
   "id": "90b21018",
   "metadata": {},
   "source": [
    "## End"
   ]
  }
 ],
 "metadata": {
  "hide_input": false,
  "kernelspec": {
   "display_name": "Python [conda env:msds2022-ml3]",
   "language": "python",
   "name": "conda-env-msds2022-ml3-py"
  },
  "language_info": {
   "codemirror_mode": {
    "name": "ipython",
    "version": 3
   },
   "file_extension": ".py",
   "mimetype": "text/x-python",
   "name": "python",
   "nbconvert_exporter": "python",
   "pygments_lexer": "ipython3",
   "version": "3.9.6"
  },
  "toc": {
   "base_numbering": 1,
   "nav_menu": {},
   "number_sections": true,
   "sideBar": true,
   "skip_h1_title": false,
   "title_cell": "Table of Contents",
   "title_sidebar": "Contents",
   "toc_cell": false,
   "toc_position": {},
   "toc_section_display": true,
   "toc_window_display": false
  }
 },
 "nbformat": 4,
 "nbformat_minor": 5
}
